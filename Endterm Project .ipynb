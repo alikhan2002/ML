{
 "cells": [
  {
   "cell_type": "markdown",
   "id": "4ea6e0e5",
   "metadata": {},
   "source": [
    "Data Set Information:\n",
    "The dataset contains information about the number of cars parked in 30 parking areas around Birmingham at different times of the day between October to December 2016.\n",
    "\n",
    "The information in the dataset can be used to understand driving patterns of Birmingham with respect to time and date and be used for efficient planning of new parking facilities.\n",
    "\n",
    "Occupancy rates (8:00 to 16:30) from 2016/10/04 to 2016/12/19\n",
    "\n",
    "\n",
    "Attribute Information:\n",
    "\n",
    "SystemCodeNumber: Car park ID\n",
    "\n",
    "Capacity: Car park capacity\n",
    "\n",
    "Occupancy: Car park occupancy rate\n",
    "\n",
    "LastUpdated: Date and Time of the measure"
   ]
  },
  {
   "cell_type": "markdown",
   "id": "ea537610",
   "metadata": {},
   "source": [
    "# Data analysis and cleaning"
   ]
  },
  {
   "cell_type": "code",
   "execution_count": 1,
   "id": "3a3d0c17",
   "metadata": {},
   "outputs": [],
   "source": [
    "import pandas as pd\n",
    "import numpy as np\n",
    "import matplotlib.pyplot as plt\n",
    "import seaborn as sns\n",
    "%matplotlib inline"
   ]
  },
  {
   "cell_type": "code",
   "execution_count": null,
   "id": "9baf6b64",
   "metadata": {},
   "outputs": [],
   "source": []
  },
  {
   "cell_type": "code",
   "execution_count": 2,
   "id": "4bcb7dd6",
   "metadata": {},
   "outputs": [],
   "source": [
    "df = pd.read_csv('dataset.csv')"
   ]
  },
  {
   "cell_type": "code",
   "execution_count": 3,
   "id": "5f35c1db",
   "metadata": {},
   "outputs": [
    {
     "data": {
      "text/html": [
       "<div>\n",
       "<style scoped>\n",
       "    .dataframe tbody tr th:only-of-type {\n",
       "        vertical-align: middle;\n",
       "    }\n",
       "\n",
       "    .dataframe tbody tr th {\n",
       "        vertical-align: top;\n",
       "    }\n",
       "\n",
       "    .dataframe thead th {\n",
       "        text-align: right;\n",
       "    }\n",
       "</style>\n",
       "<table border=\"1\" class=\"dataframe\">\n",
       "  <thead>\n",
       "    <tr style=\"text-align: right;\">\n",
       "      <th></th>\n",
       "      <th>SystemCodeNumber</th>\n",
       "      <th>Capacity</th>\n",
       "      <th>Occupancy</th>\n",
       "      <th>LastUpdated</th>\n",
       "    </tr>\n",
       "  </thead>\n",
       "  <tbody>\n",
       "    <tr>\n",
       "      <th>0</th>\n",
       "      <td>BHMBCCMKT01</td>\n",
       "      <td>577</td>\n",
       "      <td>61</td>\n",
       "      <td>2016-10-04 07:59:42</td>\n",
       "    </tr>\n",
       "    <tr>\n",
       "      <th>1</th>\n",
       "      <td>BHMBCCMKT01</td>\n",
       "      <td>577</td>\n",
       "      <td>64</td>\n",
       "      <td>2016-10-04 08:25:42</td>\n",
       "    </tr>\n",
       "    <tr>\n",
       "      <th>2</th>\n",
       "      <td>BHMBCCMKT01</td>\n",
       "      <td>577</td>\n",
       "      <td>80</td>\n",
       "      <td>2016-10-04 08:59:42</td>\n",
       "    </tr>\n",
       "    <tr>\n",
       "      <th>3</th>\n",
       "      <td>BHMBCCMKT01</td>\n",
       "      <td>577</td>\n",
       "      <td>107</td>\n",
       "      <td>2016-10-04 09:32:46</td>\n",
       "    </tr>\n",
       "    <tr>\n",
       "      <th>4</th>\n",
       "      <td>BHMBCCMKT01</td>\n",
       "      <td>577</td>\n",
       "      <td>150</td>\n",
       "      <td>2016-10-04 09:59:48</td>\n",
       "    </tr>\n",
       "  </tbody>\n",
       "</table>\n",
       "</div>"
      ],
      "text/plain": [
       "  SystemCodeNumber  Capacity  Occupancy          LastUpdated\n",
       "0      BHMBCCMKT01       577         61  2016-10-04 07:59:42\n",
       "1      BHMBCCMKT01       577         64  2016-10-04 08:25:42\n",
       "2      BHMBCCMKT01       577         80  2016-10-04 08:59:42\n",
       "3      BHMBCCMKT01       577        107  2016-10-04 09:32:46\n",
       "4      BHMBCCMKT01       577        150  2016-10-04 09:59:48"
      ]
     },
     "execution_count": 3,
     "metadata": {},
     "output_type": "execute_result"
    }
   ],
   "source": [
    "df.head()"
   ]
  },
  {
   "cell_type": "code",
   "execution_count": 4,
   "id": "8d121f8e",
   "metadata": {},
   "outputs": [
    {
     "data": {
      "text/plain": [
       "array(['BHMBCCMKT01', 'BHMBCCPST01', 'BHMBCCSNH01', 'BHMBCCTHL01',\n",
       "       'BHMBRCBRG01', 'BHMBRCBRG02', 'BHMBRCBRG03', 'BHMBRTARC01',\n",
       "       'BHMEURBRD01', 'BHMEURBRD02', 'BHMMBMMBX01', 'BHMNCPHST01',\n",
       "       'BHMNCPLDH01', 'BHMNCPNHS01', 'BHMNCPNST01', 'BHMNCPPLS01',\n",
       "       'BHMNCPRAN01', 'Broad Street', 'Bull Ring', 'NIA Car Parks',\n",
       "       'NIA North', 'NIA South', 'Others-CCCPS105a', 'Others-CCCPS119a',\n",
       "       'Others-CCCPS133', 'Others-CCCPS135a', 'Others-CCCPS202',\n",
       "       'Others-CCCPS8', 'Others-CCCPS98', 'Shopping'], dtype=object)"
      ]
     },
     "execution_count": 4,
     "metadata": {},
     "output_type": "execute_result"
    }
   ],
   "source": [
    "df['SystemCodeNumber'].unique()"
   ]
  },
  {
   "cell_type": "code",
   "execution_count": 5,
   "id": "d6a5ffa1",
   "metadata": {},
   "outputs": [
    {
     "name": "stdout",
     "output_type": "stream",
     "text": [
      "<class 'pandas.core.frame.DataFrame'>\n",
      "RangeIndex: 35717 entries, 0 to 35716\n",
      "Data columns (total 4 columns):\n",
      " #   Column            Non-Null Count  Dtype \n",
      "---  ------            --------------  ----- \n",
      " 0   SystemCodeNumber  35717 non-null  object\n",
      " 1   Capacity          35717 non-null  int64 \n",
      " 2   Occupancy         35717 non-null  int64 \n",
      " 3   LastUpdated       35717 non-null  object\n",
      "dtypes: int64(2), object(2)\n",
      "memory usage: 1.1+ MB\n"
     ]
    }
   ],
   "source": [
    "df.info()"
   ]
  },
  {
   "cell_type": "markdown",
   "id": "9995520b",
   "metadata": {},
   "source": [
    "у LastUpdated тип объект, но должен был быть datetime "
   ]
  },
  {
   "cell_type": "markdown",
   "id": "fe03f772",
   "metadata": {},
   "source": [
    "PercentOccupied — отношение занятости к вместимости. Мы хотим убедиться, что эти значения находятся в диапазоне от 0% до 100%.\n",
    "\n",
    "date — только компонент даты LastUpdated. Используется для проверки данных.\n",
    "\n",
    "DayOfWeek — целое число, представляющее день недели. (1 = понедельник)\n",
    "\n",
    "Date_Time_HalfHour - это поле будет каждый раз округляться до ближайшего получаса. Это поможет, когда мы агрегируем данные по всем стоянкам.\n",
    "\n",
    "time — только компонент времени Date_Time_HalfHour. Используется для проверки данных."
   ]
  },
  {
   "cell_type": "code",
   "execution_count": 6,
   "id": "9006a9ed",
   "metadata": {},
   "outputs": [],
   "source": [
    "df['LastUpdated'] = df['LastUpdated'].astype('datetime64')\n",
    "df['PercentOccupied'] = df['Occupancy'] / df['Capacity']\n",
    "df['date'] = df['LastUpdated'].dt.date\n",
    "df['DayOfWeek'] = df['LastUpdated'].dt.dayofweek\n",
    "df['date_time_halfhour'] = df['LastUpdated'].dt.round('30min')\n",
    "df['time'] = df['date_time_halfhour'].dt.time"
   ]
  },
  {
   "cell_type": "code",
   "execution_count": 7,
   "id": "e54b9647",
   "metadata": {},
   "outputs": [
    {
     "data": {
      "text/html": [
       "<div>\n",
       "<style scoped>\n",
       "    .dataframe tbody tr th:only-of-type {\n",
       "        vertical-align: middle;\n",
       "    }\n",
       "\n",
       "    .dataframe tbody tr th {\n",
       "        vertical-align: top;\n",
       "    }\n",
       "\n",
       "    .dataframe thead th {\n",
       "        text-align: right;\n",
       "    }\n",
       "</style>\n",
       "<table border=\"1\" class=\"dataframe\">\n",
       "  <thead>\n",
       "    <tr style=\"text-align: right;\">\n",
       "      <th></th>\n",
       "      <th>SystemCodeNumber</th>\n",
       "      <th>Capacity</th>\n",
       "      <th>Occupancy</th>\n",
       "      <th>LastUpdated</th>\n",
       "      <th>PercentOccupied</th>\n",
       "      <th>date</th>\n",
       "      <th>DayOfWeek</th>\n",
       "      <th>date_time_halfhour</th>\n",
       "      <th>time</th>\n",
       "    </tr>\n",
       "  </thead>\n",
       "  <tbody>\n",
       "    <tr>\n",
       "      <th>0</th>\n",
       "      <td>BHMBCCMKT01</td>\n",
       "      <td>577</td>\n",
       "      <td>61</td>\n",
       "      <td>2016-10-04 07:59:42</td>\n",
       "      <td>0.105719</td>\n",
       "      <td>2016-10-04</td>\n",
       "      <td>1</td>\n",
       "      <td>2016-10-04 08:00:00</td>\n",
       "      <td>08:00:00</td>\n",
       "    </tr>\n",
       "    <tr>\n",
       "      <th>1</th>\n",
       "      <td>BHMBCCMKT01</td>\n",
       "      <td>577</td>\n",
       "      <td>64</td>\n",
       "      <td>2016-10-04 08:25:42</td>\n",
       "      <td>0.110919</td>\n",
       "      <td>2016-10-04</td>\n",
       "      <td>1</td>\n",
       "      <td>2016-10-04 08:30:00</td>\n",
       "      <td>08:30:00</td>\n",
       "    </tr>\n",
       "    <tr>\n",
       "      <th>2</th>\n",
       "      <td>BHMBCCMKT01</td>\n",
       "      <td>577</td>\n",
       "      <td>80</td>\n",
       "      <td>2016-10-04 08:59:42</td>\n",
       "      <td>0.138648</td>\n",
       "      <td>2016-10-04</td>\n",
       "      <td>1</td>\n",
       "      <td>2016-10-04 09:00:00</td>\n",
       "      <td>09:00:00</td>\n",
       "    </tr>\n",
       "    <tr>\n",
       "      <th>3</th>\n",
       "      <td>BHMBCCMKT01</td>\n",
       "      <td>577</td>\n",
       "      <td>107</td>\n",
       "      <td>2016-10-04 09:32:46</td>\n",
       "      <td>0.185442</td>\n",
       "      <td>2016-10-04</td>\n",
       "      <td>1</td>\n",
       "      <td>2016-10-04 09:30:00</td>\n",
       "      <td>09:30:00</td>\n",
       "    </tr>\n",
       "    <tr>\n",
       "      <th>4</th>\n",
       "      <td>BHMBCCMKT01</td>\n",
       "      <td>577</td>\n",
       "      <td>150</td>\n",
       "      <td>2016-10-04 09:59:48</td>\n",
       "      <td>0.259965</td>\n",
       "      <td>2016-10-04</td>\n",
       "      <td>1</td>\n",
       "      <td>2016-10-04 10:00:00</td>\n",
       "      <td>10:00:00</td>\n",
       "    </tr>\n",
       "  </tbody>\n",
       "</table>\n",
       "</div>"
      ],
      "text/plain": [
       "  SystemCodeNumber  Capacity  Occupancy         LastUpdated  PercentOccupied  \\\n",
       "0      BHMBCCMKT01       577         61 2016-10-04 07:59:42         0.105719   \n",
       "1      BHMBCCMKT01       577         64 2016-10-04 08:25:42         0.110919   \n",
       "2      BHMBCCMKT01       577         80 2016-10-04 08:59:42         0.138648   \n",
       "3      BHMBCCMKT01       577        107 2016-10-04 09:32:46         0.185442   \n",
       "4      BHMBCCMKT01       577        150 2016-10-04 09:59:48         0.259965   \n",
       "\n",
       "         date  DayOfWeek  date_time_halfhour      time  \n",
       "0  2016-10-04          1 2016-10-04 08:00:00  08:00:00  \n",
       "1  2016-10-04          1 2016-10-04 08:30:00  08:30:00  \n",
       "2  2016-10-04          1 2016-10-04 09:00:00  09:00:00  \n",
       "3  2016-10-04          1 2016-10-04 09:30:00  09:30:00  \n",
       "4  2016-10-04          1 2016-10-04 10:00:00  10:00:00  "
      ]
     },
     "execution_count": 7,
     "metadata": {},
     "output_type": "execute_result"
    }
   ],
   "source": [
    "df.head()"
   ]
  },
  {
   "cell_type": "code",
   "execution_count": 8,
   "id": "af922de9",
   "metadata": {},
   "outputs": [
    {
     "data": {
      "text/html": [
       "<div>\n",
       "<style scoped>\n",
       "    .dataframe tbody tr th:only-of-type {\n",
       "        vertical-align: middle;\n",
       "    }\n",
       "\n",
       "    .dataframe tbody tr th {\n",
       "        vertical-align: top;\n",
       "    }\n",
       "\n",
       "    .dataframe thead th {\n",
       "        text-align: right;\n",
       "    }\n",
       "</style>\n",
       "<table border=\"1\" class=\"dataframe\">\n",
       "  <thead>\n",
       "    <tr style=\"text-align: right;\">\n",
       "      <th></th>\n",
       "      <th>Capacity</th>\n",
       "      <th>Occupancy</th>\n",
       "      <th>PercentOccupied</th>\n",
       "      <th>DayOfWeek</th>\n",
       "    </tr>\n",
       "  </thead>\n",
       "  <tbody>\n",
       "    <tr>\n",
       "      <th>count</th>\n",
       "      <td>35717.000000</td>\n",
       "      <td>35717.000000</td>\n",
       "      <td>35717.000000</td>\n",
       "      <td>35717.000000</td>\n",
       "    </tr>\n",
       "    <tr>\n",
       "      <th>mean</th>\n",
       "      <td>1397.550130</td>\n",
       "      <td>642.228911</td>\n",
       "      <td>0.493338</td>\n",
       "      <td>2.889044</td>\n",
       "    </tr>\n",
       "    <tr>\n",
       "      <th>std</th>\n",
       "      <td>1179.326833</td>\n",
       "      <td>656.955535</td>\n",
       "      <td>0.271353</td>\n",
       "      <td>1.994149</td>\n",
       "    </tr>\n",
       "    <tr>\n",
       "      <th>min</th>\n",
       "      <td>220.000000</td>\n",
       "      <td>-8.000000</td>\n",
       "      <td>-0.016667</td>\n",
       "      <td>0.000000</td>\n",
       "    </tr>\n",
       "    <tr>\n",
       "      <th>25%</th>\n",
       "      <td>500.000000</td>\n",
       "      <td>210.000000</td>\n",
       "      <td>0.255881</td>\n",
       "      <td>1.000000</td>\n",
       "    </tr>\n",
       "    <tr>\n",
       "      <th>50%</th>\n",
       "      <td>849.000000</td>\n",
       "      <td>446.000000</td>\n",
       "      <td>0.471872</td>\n",
       "      <td>3.000000</td>\n",
       "    </tr>\n",
       "    <tr>\n",
       "      <th>75%</th>\n",
       "      <td>2009.000000</td>\n",
       "      <td>798.000000</td>\n",
       "      <td>0.717504</td>\n",
       "      <td>5.000000</td>\n",
       "    </tr>\n",
       "    <tr>\n",
       "      <th>max</th>\n",
       "      <td>4675.000000</td>\n",
       "      <td>4327.000000</td>\n",
       "      <td>1.041344</td>\n",
       "      <td>6.000000</td>\n",
       "    </tr>\n",
       "  </tbody>\n",
       "</table>\n",
       "</div>"
      ],
      "text/plain": [
       "           Capacity     Occupancy  PercentOccupied     DayOfWeek\n",
       "count  35717.000000  35717.000000     35717.000000  35717.000000\n",
       "mean    1397.550130    642.228911         0.493338      2.889044\n",
       "std     1179.326833    656.955535         0.271353      1.994149\n",
       "min      220.000000     -8.000000        -0.016667      0.000000\n",
       "25%      500.000000    210.000000         0.255881      1.000000\n",
       "50%      849.000000    446.000000         0.471872      3.000000\n",
       "75%     2009.000000    798.000000         0.717504      5.000000\n",
       "max     4675.000000   4327.000000         1.041344      6.000000"
      ]
     },
     "execution_count": 8,
     "metadata": {},
     "output_type": "execute_result"
    }
   ],
   "source": [
    "df.describe()"
   ]
  },
  {
   "cell_type": "code",
   "execution_count": 9,
   "id": "edcfb075",
   "metadata": {},
   "outputs": [
    {
     "data": {
      "text/plain": [
       "time\n",
       "07:30:00      30\n",
       "08:00:00    2096\n",
       "08:30:00    1971\n",
       "09:00:00    1953\n",
       "09:30:00    1983\n",
       "10:00:00    1987\n",
       "10:30:00    1985\n",
       "11:00:00    1961\n",
       "11:30:00    1988\n",
       "12:00:00    1976\n",
       "12:30:00    1982\n",
       "13:00:00    1988\n",
       "13:30:00    1958\n",
       "14:00:00    1984\n",
       "14:30:00    1989\n",
       "15:00:00    1986\n",
       "15:30:00    1985\n",
       "16:00:00    1956\n",
       "16:30:00    1959\n",
       "dtype: int64"
      ]
     },
     "execution_count": 9,
     "metadata": {},
     "output_type": "execute_result"
    }
   ],
   "source": [
    "df.groupby('time').size()"
   ]
  },
  {
   "cell_type": "code",
   "execution_count": 10,
   "id": "2cc4dbbe",
   "metadata": {},
   "outputs": [],
   "source": [
    "import datetime"
   ]
  },
  {
   "cell_type": "markdown",
   "id": "69a79e89",
   "metadata": {},
   "source": [
    "Так как нам нужно время с 8:00 до 16:30, мы должны дропнуть время за пределы этого значения"
   ]
  },
  {
   "cell_type": "code",
   "execution_count": 11,
   "id": "d937f90e",
   "metadata": {},
   "outputs": [],
   "source": [
    "df.drop(df[df['time'] == datetime.time(7, 30)].index, inplace = True)"
   ]
  },
  {
   "cell_type": "code",
   "execution_count": 12,
   "id": "ef3fa6e7",
   "metadata": {},
   "outputs": [
    {
     "data": {
      "text/html": [
       "<div>\n",
       "<style scoped>\n",
       "    .dataframe tbody tr th:only-of-type {\n",
       "        vertical-align: middle;\n",
       "    }\n",
       "\n",
       "    .dataframe tbody tr th {\n",
       "        vertical-align: top;\n",
       "    }\n",
       "\n",
       "    .dataframe thead th {\n",
       "        text-align: right;\n",
       "    }\n",
       "</style>\n",
       "<table border=\"1\" class=\"dataframe\">\n",
       "  <thead>\n",
       "    <tr style=\"text-align: right;\">\n",
       "      <th></th>\n",
       "      <th>SystemCodeNumber</th>\n",
       "      <th>Capacity</th>\n",
       "      <th>Occupancy</th>\n",
       "      <th>LastUpdated</th>\n",
       "      <th>PercentOccupied</th>\n",
       "      <th>date</th>\n",
       "      <th>DayOfWeek</th>\n",
       "      <th>date_time_halfhour</th>\n",
       "      <th>time</th>\n",
       "    </tr>\n",
       "  </thead>\n",
       "  <tbody>\n",
       "    <tr>\n",
       "      <th>397</th>\n",
       "      <td>BHMBCCMKT01</td>\n",
       "      <td>577</td>\n",
       "      <td>57</td>\n",
       "      <td>2016-10-28 08:16:41</td>\n",
       "      <td>0.098787</td>\n",
       "      <td>2016-10-28</td>\n",
       "      <td>4</td>\n",
       "      <td>2016-10-28 08:30:00</td>\n",
       "      <td>08:30:00</td>\n",
       "    </tr>\n",
       "    <tr>\n",
       "      <th>433</th>\n",
       "      <td>BHMBCCMKT01</td>\n",
       "      <td>577</td>\n",
       "      <td>43</td>\n",
       "      <td>2016-10-30 07:59:55</td>\n",
       "      <td>0.074523</td>\n",
       "      <td>2016-10-30</td>\n",
       "      <td>6</td>\n",
       "      <td>2016-10-30 08:00:00</td>\n",
       "      <td>08:00:00</td>\n",
       "    </tr>\n",
       "    <tr>\n",
       "      <th>434</th>\n",
       "      <td>BHMBCCMKT01</td>\n",
       "      <td>577</td>\n",
       "      <td>43</td>\n",
       "      <td>2016-10-30 07:59:55</td>\n",
       "      <td>0.074523</td>\n",
       "      <td>2016-10-30</td>\n",
       "      <td>6</td>\n",
       "      <td>2016-10-30 08:00:00</td>\n",
       "      <td>08:00:00</td>\n",
       "    </tr>\n",
       "    <tr>\n",
       "      <th>775</th>\n",
       "      <td>BHMBCCMKT01</td>\n",
       "      <td>577</td>\n",
       "      <td>35</td>\n",
       "      <td>2016-11-18 08:01:05</td>\n",
       "      <td>0.060659</td>\n",
       "      <td>2016-11-18</td>\n",
       "      <td>4</td>\n",
       "      <td>2016-11-18 08:00:00</td>\n",
       "      <td>08:00:00</td>\n",
       "    </tr>\n",
       "    <tr>\n",
       "      <th>901</th>\n",
       "      <td>BHMBCCMKT01</td>\n",
       "      <td>577</td>\n",
       "      <td>44</td>\n",
       "      <td>2016-11-25 08:00:57</td>\n",
       "      <td>0.076256</td>\n",
       "      <td>2016-11-25</td>\n",
       "      <td>4</td>\n",
       "      <td>2016-11-25 08:00:00</td>\n",
       "      <td>08:00:00</td>\n",
       "    </tr>\n",
       "    <tr>\n",
       "      <th>...</th>\n",
       "      <td>...</td>\n",
       "      <td>...</td>\n",
       "      <td>...</td>\n",
       "      <td>...</td>\n",
       "      <td>...</td>\n",
       "      <td>...</td>\n",
       "      <td>...</td>\n",
       "      <td>...</td>\n",
       "      <td>...</td>\n",
       "    </tr>\n",
       "    <tr>\n",
       "      <th>34802</th>\n",
       "      <td>Shopping</td>\n",
       "      <td>1920</td>\n",
       "      <td>559</td>\n",
       "      <td>2016-10-28 08:16:41</td>\n",
       "      <td>0.291146</td>\n",
       "      <td>2016-10-28</td>\n",
       "      <td>4</td>\n",
       "      <td>2016-10-28 08:30:00</td>\n",
       "      <td>08:30:00</td>\n",
       "    </tr>\n",
       "    <tr>\n",
       "      <th>34838</th>\n",
       "      <td>Shopping</td>\n",
       "      <td>1920</td>\n",
       "      <td>275</td>\n",
       "      <td>2016-10-30 07:59:55</td>\n",
       "      <td>0.143229</td>\n",
       "      <td>2016-10-30</td>\n",
       "      <td>6</td>\n",
       "      <td>2016-10-30 08:00:00</td>\n",
       "      <td>08:00:00</td>\n",
       "    </tr>\n",
       "    <tr>\n",
       "      <th>34839</th>\n",
       "      <td>Shopping</td>\n",
       "      <td>1920</td>\n",
       "      <td>275</td>\n",
       "      <td>2016-10-30 07:59:55</td>\n",
       "      <td>0.143229</td>\n",
       "      <td>2016-10-30</td>\n",
       "      <td>6</td>\n",
       "      <td>2016-10-30 08:00:00</td>\n",
       "      <td>08:00:00</td>\n",
       "    </tr>\n",
       "    <tr>\n",
       "      <th>35180</th>\n",
       "      <td>Shopping</td>\n",
       "      <td>1920</td>\n",
       "      <td>592</td>\n",
       "      <td>2016-11-18 08:01:05</td>\n",
       "      <td>0.308333</td>\n",
       "      <td>2016-11-18</td>\n",
       "      <td>4</td>\n",
       "      <td>2016-11-18 08:00:00</td>\n",
       "      <td>08:00:00</td>\n",
       "    </tr>\n",
       "    <tr>\n",
       "      <th>35306</th>\n",
       "      <td>Shopping</td>\n",
       "      <td>1920</td>\n",
       "      <td>594</td>\n",
       "      <td>2016-11-25 08:00:57</td>\n",
       "      <td>0.309375</td>\n",
       "      <td>2016-11-25</td>\n",
       "      <td>4</td>\n",
       "      <td>2016-11-25 08:00:00</td>\n",
       "      <td>08:00:00</td>\n",
       "    </tr>\n",
       "  </tbody>\n",
       "</table>\n",
       "<p>207 rows × 9 columns</p>\n",
       "</div>"
      ],
      "text/plain": [
       "      SystemCodeNumber  Capacity  Occupancy         LastUpdated  \\\n",
       "397        BHMBCCMKT01       577         57 2016-10-28 08:16:41   \n",
       "433        BHMBCCMKT01       577         43 2016-10-30 07:59:55   \n",
       "434        BHMBCCMKT01       577         43 2016-10-30 07:59:55   \n",
       "775        BHMBCCMKT01       577         35 2016-11-18 08:01:05   \n",
       "901        BHMBCCMKT01       577         44 2016-11-25 08:00:57   \n",
       "...                ...       ...        ...                 ...   \n",
       "34802         Shopping      1920        559 2016-10-28 08:16:41   \n",
       "34838         Shopping      1920        275 2016-10-30 07:59:55   \n",
       "34839         Shopping      1920        275 2016-10-30 07:59:55   \n",
       "35180         Shopping      1920        592 2016-11-18 08:01:05   \n",
       "35306         Shopping      1920        594 2016-11-25 08:00:57   \n",
       "\n",
       "       PercentOccupied        date  DayOfWeek  date_time_halfhour      time  \n",
       "397           0.098787  2016-10-28          4 2016-10-28 08:30:00  08:30:00  \n",
       "433           0.074523  2016-10-30          6 2016-10-30 08:00:00  08:00:00  \n",
       "434           0.074523  2016-10-30          6 2016-10-30 08:00:00  08:00:00  \n",
       "775           0.060659  2016-11-18          4 2016-11-18 08:00:00  08:00:00  \n",
       "901           0.076256  2016-11-25          4 2016-11-25 08:00:00  08:00:00  \n",
       "...                ...         ...        ...                 ...       ...  \n",
       "34802         0.291146  2016-10-28          4 2016-10-28 08:30:00  08:30:00  \n",
       "34838         0.143229  2016-10-30          6 2016-10-30 08:00:00  08:00:00  \n",
       "34839         0.143229  2016-10-30          6 2016-10-30 08:00:00  08:00:00  \n",
       "35180         0.308333  2016-11-18          4 2016-11-18 08:00:00  08:00:00  \n",
       "35306         0.309375  2016-11-25          4 2016-11-25 08:00:00  08:00:00  \n",
       "\n",
       "[207 rows x 9 columns]"
      ]
     },
     "execution_count": 12,
     "metadata": {},
     "output_type": "execute_result"
    }
   ],
   "source": [
    "df[df.duplicated()]"
   ]
  },
  {
   "cell_type": "code",
   "execution_count": 13,
   "id": "e5a81792",
   "metadata": {},
   "outputs": [],
   "source": [
    "df.drop_duplicates(inplace=True)"
   ]
  },
  {
   "cell_type": "code",
   "execution_count": 14,
   "id": "d0d419d2",
   "metadata": {},
   "outputs": [
    {
     "name": "stdout",
     "output_type": "stream",
     "text": [
      "-0.016666666666666666\n",
      "1.041343669250646\n"
     ]
    }
   ],
   "source": [
    "print(df['PercentOccupied'].min())\n",
    "print(df['PercentOccupied'].max())\n"
   ]
  },
  {
   "cell_type": "code",
   "execution_count": 15,
   "id": "f8637186",
   "metadata": {},
   "outputs": [],
   "source": [
    "df['PercentOccupied']=df['PercentOccupied'].apply(lambda x: x if x > 0 else 0)\n",
    "df['PercentOccupied']=df['PercentOccupied'].apply(lambda x: x if x < 1 else 1)\n"
   ]
  },
  {
   "cell_type": "code",
   "execution_count": 16,
   "id": "f2cf78f4",
   "metadata": {},
   "outputs": [
    {
     "name": "stdout",
     "output_type": "stream",
     "text": [
      "0.0\n",
      "1.0\n"
     ]
    }
   ],
   "source": [
    "print(df['PercentOccupied'].min())\n",
    "print(df['PercentOccupied'].max())\n"
   ]
  },
  {
   "cell_type": "code",
   "execution_count": 17,
   "id": "7419cf10",
   "metadata": {},
   "outputs": [
    {
     "data": {
      "text/plain": [
       "<seaborn.axisgrid.FacetGrid at 0x11685883460>"
      ]
     },
     "execution_count": 17,
     "metadata": {},
     "output_type": "execute_result"
    },
    {
     "data": {
      "image/png": "[encoded data removed]",
      "text/plain": [
       "<Figure size 360x360 with 1 Axes>"
      ]
     },
     "metadata": {
      "needs_background": "light"
     },
     "output_type": "display_data"
    }
   ],
   "source": [
    "ax = sns.catplot(x='DayOfWeek',kind='count',data=df,orient=\"h\")\n",
    "ax.set(xlabel=\"Week Days\", ylabel = \"Count\")"
   ]
  },
  {
   "cell_type": "code",
   "execution_count": 18,
   "id": "46f764b8",
   "metadata": {},
   "outputs": [
    {
     "data": {
      "text/plain": [
       "<seaborn.axisgrid.FacetGrid at 0x1168ad20130>"
      ]
     },
     "execution_count": 18,
     "metadata": {},
     "output_type": "execute_result"
    },
    {
     "data": {
      "image/png": "[encoded data removed]",
      "text/plain": [
       "<Figure size 360x360 with 1 Axes>"
      ]
     },
     "metadata": {
      "needs_background": "light"
     },
     "output_type": "display_data"
    }
   ],
   "source": [
    "ax = sns.catplot(x = \"DayOfWeek\",y=\"PercentOccupied\",kind='box',data=df)\n",
    "ax.set(xlabel=\"Week Days\", ylabel = \"Occupancy Rate\")\n"
   ]
  },
  {
   "cell_type": "code",
   "execution_count": 19,
   "id": "4bfb9e42",
   "metadata": {},
   "outputs": [],
   "source": [
    "occ = []\n",
    "for i in df['PercentOccupied']:\n",
    "    if i <= 0.25:\n",
    "        occ.append(0)\n",
    "    elif i > 0.25 and i < 0.75:\n",
    "        occ.append(1)\n",
    "    else:\n",
    "        occ.append(2)\n",
    "        \n",
    "        \n",
    "df['Occ_cat'] = occ\n"
   ]
  },
  {
   "cell_type": "code",
   "execution_count": 20,
   "id": "c466d306",
   "metadata": {},
   "outputs": [
    {
     "data": {
      "text/html": [
       "<div>\n",
       "<style scoped>\n",
       "    .dataframe tbody tr th:only-of-type {\n",
       "        vertical-align: middle;\n",
       "    }\n",
       "\n",
       "    .dataframe tbody tr th {\n",
       "        vertical-align: top;\n",
       "    }\n",
       "\n",
       "    .dataframe thead th {\n",
       "        text-align: right;\n",
       "    }\n",
       "</style>\n",
       "<table border=\"1\" class=\"dataframe\">\n",
       "  <thead>\n",
       "    <tr style=\"text-align: right;\">\n",
       "      <th></th>\n",
       "      <th>SystemCodeNumber</th>\n",
       "      <th>Capacity</th>\n",
       "      <th>Occupancy</th>\n",
       "      <th>LastUpdated</th>\n",
       "      <th>PercentOccupied</th>\n",
       "      <th>date</th>\n",
       "      <th>DayOfWeek</th>\n",
       "      <th>date_time_halfhour</th>\n",
       "      <th>time</th>\n",
       "      <th>Occ_cat</th>\n",
       "    </tr>\n",
       "  </thead>\n",
       "  <tbody>\n",
       "    <tr>\n",
       "      <th>0</th>\n",
       "      <td>BHMBCCMKT01</td>\n",
       "      <td>577</td>\n",
       "      <td>61</td>\n",
       "      <td>2016-10-04 07:59:42</td>\n",
       "      <td>0.105719</td>\n",
       "      <td>2016-10-04</td>\n",
       "      <td>1</td>\n",
       "      <td>2016-10-04 08:00:00</td>\n",
       "      <td>08:00:00</td>\n",
       "      <td>0</td>\n",
       "    </tr>\n",
       "    <tr>\n",
       "      <th>1</th>\n",
       "      <td>BHMBCCMKT01</td>\n",
       "      <td>577</td>\n",
       "      <td>64</td>\n",
       "      <td>2016-10-04 08:25:42</td>\n",
       "      <td>0.110919</td>\n",
       "      <td>2016-10-04</td>\n",
       "      <td>1</td>\n",
       "      <td>2016-10-04 08:30:00</td>\n",
       "      <td>08:30:00</td>\n",
       "      <td>0</td>\n",
       "    </tr>\n",
       "    <tr>\n",
       "      <th>2</th>\n",
       "      <td>BHMBCCMKT01</td>\n",
       "      <td>577</td>\n",
       "      <td>80</td>\n",
       "      <td>2016-10-04 08:59:42</td>\n",
       "      <td>0.138648</td>\n",
       "      <td>2016-10-04</td>\n",
       "      <td>1</td>\n",
       "      <td>2016-10-04 09:00:00</td>\n",
       "      <td>09:00:00</td>\n",
       "      <td>0</td>\n",
       "    </tr>\n",
       "    <tr>\n",
       "      <th>3</th>\n",
       "      <td>BHMBCCMKT01</td>\n",
       "      <td>577</td>\n",
       "      <td>107</td>\n",
       "      <td>2016-10-04 09:32:46</td>\n",
       "      <td>0.185442</td>\n",
       "      <td>2016-10-04</td>\n",
       "      <td>1</td>\n",
       "      <td>2016-10-04 09:30:00</td>\n",
       "      <td>09:30:00</td>\n",
       "      <td>0</td>\n",
       "    </tr>\n",
       "    <tr>\n",
       "      <th>4</th>\n",
       "      <td>BHMBCCMKT01</td>\n",
       "      <td>577</td>\n",
       "      <td>150</td>\n",
       "      <td>2016-10-04 09:59:48</td>\n",
       "      <td>0.259965</td>\n",
       "      <td>2016-10-04</td>\n",
       "      <td>1</td>\n",
       "      <td>2016-10-04 10:00:00</td>\n",
       "      <td>10:00:00</td>\n",
       "      <td>1</td>\n",
       "    </tr>\n",
       "  </tbody>\n",
       "</table>\n",
       "</div>"
      ],
      "text/plain": [
       "  SystemCodeNumber  Capacity  Occupancy         LastUpdated  PercentOccupied  \\\n",
       "0      BHMBCCMKT01       577         61 2016-10-04 07:59:42         0.105719   \n",
       "1      BHMBCCMKT01       577         64 2016-10-04 08:25:42         0.110919   \n",
       "2      BHMBCCMKT01       577         80 2016-10-04 08:59:42         0.138648   \n",
       "3      BHMBCCMKT01       577        107 2016-10-04 09:32:46         0.185442   \n",
       "4      BHMBCCMKT01       577        150 2016-10-04 09:59:48         0.259965   \n",
       "\n",
       "         date  DayOfWeek  date_time_halfhour      time  Occ_cat  \n",
       "0  2016-10-04          1 2016-10-04 08:00:00  08:00:00        0  \n",
       "1  2016-10-04          1 2016-10-04 08:30:00  08:30:00        0  \n",
       "2  2016-10-04          1 2016-10-04 09:00:00  09:00:00        0  \n",
       "3  2016-10-04          1 2016-10-04 09:30:00  09:30:00        0  \n",
       "4  2016-10-04          1 2016-10-04 10:00:00  10:00:00        1  "
      ]
     },
     "execution_count": 20,
     "metadata": {},
     "output_type": "execute_result"
    }
   ],
   "source": [
    "df.head()"
   ]
  },
  {
   "cell_type": "code",
   "execution_count": 21,
   "id": "23be82d0",
   "metadata": {},
   "outputs": [],
   "source": [
    "from sklearn.preprocessing import LabelEncoder\n",
    "df['SystemCodeNumber'] = LabelEncoder().fit_transform(df['SystemCodeNumber'])\n",
    "df['time'] = LabelEncoder().fit_transform(df['time'])"
   ]
  },
  {
   "cell_type": "markdown",
   "id": "eefa90ee",
   "metadata": {},
   "source": [
    "## Train Test Split and Evaluation of models"
   ]
  },
  {
   "cell_type": "code",
   "execution_count": 22,
   "id": "51d24b6a",
   "metadata": {},
   "outputs": [],
   "source": [
    "dropped = ['Capacity', 'Occupancy', 'LastUpdated','PercentOccupied', 'date_time_halfhour', 'date']\n",
    "X = df.drop(dropped ,axis=1)\n",
    "y = df['Occ_cat']"
   ]
  },
  {
   "cell_type": "code",
   "execution_count": 23,
   "id": "73a536e4",
   "metadata": {},
   "outputs": [
    {
     "data": {
      "text/html": [
       "<div>\n",
       "<style scoped>\n",
       "    .dataframe tbody tr th:only-of-type {\n",
       "        vertical-align: middle;\n",
       "    }\n",
       "\n",
       "    .dataframe tbody tr th {\n",
       "        vertical-align: top;\n",
       "    }\n",
       "\n",
       "    .dataframe thead th {\n",
       "        text-align: right;\n",
       "    }\n",
       "</style>\n",
       "<table border=\"1\" class=\"dataframe\">\n",
       "  <thead>\n",
       "    <tr style=\"text-align: right;\">\n",
       "      <th></th>\n",
       "      <th>SystemCodeNumber</th>\n",
       "      <th>DayOfWeek</th>\n",
       "      <th>time</th>\n",
       "      <th>Occ_cat</th>\n",
       "    </tr>\n",
       "  </thead>\n",
       "  <tbody>\n",
       "    <tr>\n",
       "      <th>0</th>\n",
       "      <td>0</td>\n",
       "      <td>1</td>\n",
       "      <td>0</td>\n",
       "      <td>0</td>\n",
       "    </tr>\n",
       "    <tr>\n",
       "      <th>1</th>\n",
       "      <td>0</td>\n",
       "      <td>1</td>\n",
       "      <td>1</td>\n",
       "      <td>0</td>\n",
       "    </tr>\n",
       "    <tr>\n",
       "      <th>2</th>\n",
       "      <td>0</td>\n",
       "      <td>1</td>\n",
       "      <td>2</td>\n",
       "      <td>0</td>\n",
       "    </tr>\n",
       "    <tr>\n",
       "      <th>3</th>\n",
       "      <td>0</td>\n",
       "      <td>1</td>\n",
       "      <td>3</td>\n",
       "      <td>0</td>\n",
       "    </tr>\n",
       "    <tr>\n",
       "      <th>4</th>\n",
       "      <td>0</td>\n",
       "      <td>1</td>\n",
       "      <td>4</td>\n",
       "      <td>1</td>\n",
       "    </tr>\n",
       "    <tr>\n",
       "      <th>...</th>\n",
       "      <td>...</td>\n",
       "      <td>...</td>\n",
       "      <td>...</td>\n",
       "      <td>...</td>\n",
       "    </tr>\n",
       "    <tr>\n",
       "      <th>35712</th>\n",
       "      <td>29</td>\n",
       "      <td>0</td>\n",
       "      <td>13</td>\n",
       "      <td>2</td>\n",
       "    </tr>\n",
       "    <tr>\n",
       "      <th>35713</th>\n",
       "      <td>29</td>\n",
       "      <td>0</td>\n",
       "      <td>14</td>\n",
       "      <td>2</td>\n",
       "    </tr>\n",
       "    <tr>\n",
       "      <th>35714</th>\n",
       "      <td>29</td>\n",
       "      <td>0</td>\n",
       "      <td>15</td>\n",
       "      <td>1</td>\n",
       "    </tr>\n",
       "    <tr>\n",
       "      <th>35715</th>\n",
       "      <td>29</td>\n",
       "      <td>0</td>\n",
       "      <td>16</td>\n",
       "      <td>1</td>\n",
       "    </tr>\n",
       "    <tr>\n",
       "      <th>35716</th>\n",
       "      <td>29</td>\n",
       "      <td>0</td>\n",
       "      <td>17</td>\n",
       "      <td>1</td>\n",
       "    </tr>\n",
       "  </tbody>\n",
       "</table>\n",
       "<p>35480 rows × 4 columns</p>\n",
       "</div>"
      ],
      "text/plain": [
       "       SystemCodeNumber  DayOfWeek  time  Occ_cat\n",
       "0                     0          1     0        0\n",
       "1                     0          1     1        0\n",
       "2                     0          1     2        0\n",
       "3                     0          1     3        0\n",
       "4                     0          1     4        1\n",
       "...                 ...        ...   ...      ...\n",
       "35712                29          0    13        2\n",
       "35713                29          0    14        2\n",
       "35714                29          0    15        1\n",
       "35715                29          0    16        1\n",
       "35716                29          0    17        1\n",
       "\n",
       "[35480 rows x 4 columns]"
      ]
     },
     "execution_count": 23,
     "metadata": {},
     "output_type": "execute_result"
    }
   ],
   "source": [
    "X"
   ]
  },
  {
   "cell_type": "code",
   "execution_count": 24,
   "id": "b89b279d",
   "metadata": {},
   "outputs": [],
   "source": [
    "from sklearn.model_selection import train_test_split"
   ]
  },
  {
   "cell_type": "code",
   "execution_count": 25,
   "id": "9d4aee48",
   "metadata": {},
   "outputs": [],
   "source": [
    "X_train, X_test, y_train, y_test = train_test_split(X, y, random_state=42, test_size=0.3)"
   ]
  },
  {
   "cell_type": "code",
   "execution_count": 26,
   "id": "87d75258",
   "metadata": {},
   "outputs": [],
   "source": [
    "from sklearn.linear_model import LogisticRegression\n",
    "from sklearn.svm import SVC\n",
    "from sklearn.neighbors import KNeighborsClassifier\n",
    "from sklearn.tree import DecisionTreeClassifier\n",
    "from sklearn.ensemble import RandomForestClassifier"
   ]
  },
  {
   "cell_type": "code",
   "execution_count": 27,
   "id": "c32cec4e",
   "metadata": {},
   "outputs": [
    {
     "name": "stderr",
     "output_type": "stream",
     "text": [
      "C:\\Users\\aliha\\anaconda3\\lib\\site-packages\\sklearn\\linear_model\\_logistic.py:763: ConvergenceWarning: lbfgs failed to converge (status=1):\n",
      "STOP: TOTAL NO. of ITERATIONS REACHED LIMIT.\n",
      "\n",
      "Increase the number of iterations (max_iter) or scale the data as shown in:\n",
      "    https://scikit-learn.org/stable/modules/preprocessing.html\n",
      "Please also refer to the documentation for alternative solver options:\n",
      "    https://scikit-learn.org/stable/modules/linear_model.html#logistic-regression\n",
      "  n_iter_i = _check_optimize_result(\n"
     ]
    },
    {
     "name": "stdout",
     "output_type": "stream",
     "text": [
      "Classifiers:  LogisticRegression Has a training score of 100 % accuracy score\n",
      "Classifiers:  KNeighborsClassifier Has a training score of 98 % accuracy score\n",
      "Classifiers:  SVC Has a training score of 100 % accuracy score\n",
      "Classifiers:  DecisionTreeClassifier Has a training score of 100 % accuracy score\n",
      "Classifiers:  RandomForestClassifier Has a training score of 100 % accuracy score\n"
     ]
    }
   ],
   "source": [
    "classifiers = {\"LogisiticRegression\": LogisticRegression(),\n",
    "               \"KNearest\": KNeighborsClassifier(),\n",
    "               \"Support Vector Classifier\": SVC(),\n",
    "               \"DecisionTreeClassifier\": DecisionTreeClassifier(), \n",
    "               \"RandomForest\": RandomForestClassifier()}\n",
    "\n",
    "for key, classifier in classifiers.items():\n",
    "    classifier.fit(X_train, y_train)\n",
    "    print(\"Classifiers: \", classifier.__class__.__name__, \"Has a training score of\", round(classifier.score(X_test, y_test)*100), \"% accuracy score\")"
   ]
  },
  {
   "cell_type": "markdown",
   "id": "320ed4b4",
   "metadata": {},
   "source": [
    "# Finding the best hyperparameters of models"
   ]
  },
  {
   "cell_type": "markdown",
   "id": "a54de768",
   "metadata": {},
   "source": [
    "## Logistic regression"
   ]
  },
  {
   "cell_type": "code",
   "execution_count": 28,
   "id": "e3fe3e43",
   "metadata": {},
   "outputs": [],
   "source": [
    "from sklearn.model_selection import GridSearchCV\n",
    "from sklearn.metrics import classification_report\n",
    "from sklearn.metrics import confusion_matrix\n",
    "\n",
    "from sklearn.pipeline import Pipeline\n",
    "from sklearn.preprocessing import StandardScaler\n",
    "from sklearn.pipeline import make_pipeline"
   ]
  },
  {
   "cell_type": "code",
   "execution_count": 29,
   "id": "08a22d0e",
   "metadata": {},
   "outputs": [],
   "source": [
    "lr_param_grid = {\n",
    "    'C': [0.001, 0.01, 0.05, 0.1, 0.5, 1.0, 10.0]\n",
    "}\n"
   ]
  },
  {
   "cell_type": "code",
   "execution_count": 30,
   "id": "5c79009a",
   "metadata": {},
   "outputs": [],
   "source": [
    "lr_grid= GridSearchCV(LogisticRegression(), lr_param_grid)"
   ]
  },
  {
   "cell_type": "code",
   "execution_count": 31,
   "id": "926e0bba",
   "metadata": {
    "scrolled": true
   },
   "outputs": [
    {
     "name": "stderr",
     "output_type": "stream",
     "text": [
      "C:\\Users\\aliha\\anaconda3\\lib\\site-packages\\sklearn\\linear_model\\_logistic.py:763: ConvergenceWarning: lbfgs failed to converge (status=1):\n",
      "STOP: TOTAL NO. of ITERATIONS REACHED LIMIT.\n",
      "\n",
      "Increase the number of iterations (max_iter) or scale the data as shown in:\n",
      "    https://scikit-learn.org/stable/modules/preprocessing.html\n",
      "Please also refer to the documentation for alternative solver options:\n",
      "    https://scikit-learn.org/stable/modules/linear_model.html#logistic-regression\n",
      "  n_iter_i = _check_optimize_result(\n",
      "C:\\Users\\aliha\\anaconda3\\lib\\site-packages\\sklearn\\linear_model\\_logistic.py:763: ConvergenceWarning: lbfgs failed to converge (status=1):\n",
      "STOP: TOTAL NO. of ITERATIONS REACHED LIMIT.\n",
      "\n",
      "Increase the number of iterations (max_iter) or scale the data as shown in:\n",
      "    https://scikit-learn.org/stable/modules/preprocessing.html\n",
      "Please also refer to the documentation for alternative solver options:\n",
      "    https://scikit-learn.org/stable/modules/linear_model.html#logistic-regression\n",
      "  n_iter_i = _check_optimize_result(\n",
      "C:\\Users\\aliha\\anaconda3\\lib\\site-packages\\sklearn\\linear_model\\_logistic.py:763: ConvergenceWarning: lbfgs failed to converge (status=1):\n",
      "STOP: TOTAL NO. of ITERATIONS REACHED LIMIT.\n",
      "\n",
      "Increase the number of iterations (max_iter) or scale the data as shown in:\n",
      "    https://scikit-learn.org/stable/modules/preprocessing.html\n",
      "Please also refer to the documentation for alternative solver options:\n",
      "    https://scikit-learn.org/stable/modules/linear_model.html#logistic-regression\n",
      "  n_iter_i = _check_optimize_result(\n",
      "C:\\Users\\aliha\\anaconda3\\lib\\site-packages\\sklearn\\linear_model\\_logistic.py:763: ConvergenceWarning: lbfgs failed to converge (status=1):\n",
      "STOP: TOTAL NO. of ITERATIONS REACHED LIMIT.\n",
      "\n",
      "Increase the number of iterations (max_iter) or scale the data as shown in:\n",
      "    https://scikit-learn.org/stable/modules/preprocessing.html\n",
      "Please also refer to the documentation for alternative solver options:\n",
      "    https://scikit-learn.org/stable/modules/linear_model.html#logistic-regression\n",
      "  n_iter_i = _check_optimize_result(\n",
      "C:\\Users\\aliha\\anaconda3\\lib\\site-packages\\sklearn\\linear_model\\_logistic.py:763: ConvergenceWarning: lbfgs failed to converge (status=1):\n",
      "STOP: TOTAL NO. of ITERATIONS REACHED LIMIT.\n",
      "\n",
      "Increase the number of iterations (max_iter) or scale the data as shown in:\n",
      "    https://scikit-learn.org/stable/modules/preprocessing.html\n",
      "Please also refer to the documentation for alternative solver options:\n",
      "    https://scikit-learn.org/stable/modules/linear_model.html#logistic-regression\n",
      "  n_iter_i = _check_optimize_result(\n",
      "C:\\Users\\aliha\\anaconda3\\lib\\site-packages\\sklearn\\linear_model\\_logistic.py:763: ConvergenceWarning: lbfgs failed to converge (status=1):\n",
      "STOP: TOTAL NO. of ITERATIONS REACHED LIMIT.\n",
      "\n",
      "Increase the number of iterations (max_iter) or scale the data as shown in:\n",
      "    https://scikit-learn.org/stable/modules/preprocessing.html\n",
      "Please also refer to the documentation for alternative solver options:\n",
      "    https://scikit-learn.org/stable/modules/linear_model.html#logistic-regression\n",
      "  n_iter_i = _check_optimize_result(\n",
      "C:\\Users\\aliha\\anaconda3\\lib\\site-packages\\sklearn\\linear_model\\_logistic.py:763: ConvergenceWarning: lbfgs failed to converge (status=1):\n",
      "STOP: TOTAL NO. of ITERATIONS REACHED LIMIT.\n",
      "\n",
      "Increase the number of iterations (max_iter) or scale the data as shown in:\n",
      "    https://scikit-learn.org/stable/modules/preprocessing.html\n",
      "Please also refer to the documentation for alternative solver options:\n",
      "    https://scikit-learn.org/stable/modules/linear_model.html#logistic-regression\n",
      "  n_iter_i = _check_optimize_result(\n",
      "C:\\Users\\aliha\\anaconda3\\lib\\site-packages\\sklearn\\linear_model\\_logistic.py:763: ConvergenceWarning: lbfgs failed to converge (status=1):\n",
      "STOP: TOTAL NO. of ITERATIONS REACHED LIMIT.\n",
      "\n",
      "Increase the number of iterations (max_iter) or scale the data as shown in:\n",
      "    https://scikit-learn.org/stable/modules/preprocessing.html\n",
      "Please also refer to the documentation for alternative solver options:\n",
      "    https://scikit-learn.org/stable/modules/linear_model.html#logistic-regression\n",
      "  n_iter_i = _check_optimize_result(\n",
      "C:\\Users\\aliha\\anaconda3\\lib\\site-packages\\sklearn\\linear_model\\_logistic.py:763: ConvergenceWarning: lbfgs failed to converge (status=1):\n",
      "STOP: TOTAL NO. of ITERATIONS REACHED LIMIT.\n",
      "\n",
      "Increase the number of iterations (max_iter) or scale the data as shown in:\n",
      "    https://scikit-learn.org/stable/modules/preprocessing.html\n",
      "Please also refer to the documentation for alternative solver options:\n",
      "    https://scikit-learn.org/stable/modules/linear_model.html#logistic-regression\n",
      "  n_iter_i = _check_optimize_result(\n",
      "C:\\Users\\aliha\\anaconda3\\lib\\site-packages\\sklearn\\linear_model\\_logistic.py:763: ConvergenceWarning: lbfgs failed to converge (status=1):\n",
      "STOP: TOTAL NO. of ITERATIONS REACHED LIMIT.\n",
      "\n",
      "Increase the number of iterations (max_iter) or scale the data as shown in:\n",
      "    https://scikit-learn.org/stable/modules/preprocessing.html\n",
      "Please also refer to the documentation for alternative solver options:\n",
      "    https://scikit-learn.org/stable/modules/linear_model.html#logistic-regression\n",
      "  n_iter_i = _check_optimize_result(\n",
      "C:\\Users\\aliha\\anaconda3\\lib\\site-packages\\sklearn\\linear_model\\_logistic.py:763: ConvergenceWarning: lbfgs failed to converge (status=1):\n",
      "STOP: TOTAL NO. of ITERATIONS REACHED LIMIT.\n",
      "\n",
      "Increase the number of iterations (max_iter) or scale the data as shown in:\n",
      "    https://scikit-learn.org/stable/modules/preprocessing.html\n",
      "Please also refer to the documentation for alternative solver options:\n",
      "    https://scikit-learn.org/stable/modules/linear_model.html#logistic-regression\n",
      "  n_iter_i = _check_optimize_result(\n",
      "C:\\Users\\aliha\\anaconda3\\lib\\site-packages\\sklearn\\linear_model\\_logistic.py:763: ConvergenceWarning: lbfgs failed to converge (status=1):\n",
      "STOP: TOTAL NO. of ITERATIONS REACHED LIMIT.\n",
      "\n",
      "Increase the number of iterations (max_iter) or scale the data as shown in:\n",
      "    https://scikit-learn.org/stable/modules/preprocessing.html\n",
      "Please also refer to the documentation for alternative solver options:\n",
      "    https://scikit-learn.org/stable/modules/linear_model.html#logistic-regression\n",
      "  n_iter_i = _check_optimize_result(\n",
      "C:\\Users\\aliha\\anaconda3\\lib\\site-packages\\sklearn\\linear_model\\_logistic.py:763: ConvergenceWarning: lbfgs failed to converge (status=1):\n",
      "STOP: TOTAL NO. of ITERATIONS REACHED LIMIT.\n",
      "\n",
      "Increase the number of iterations (max_iter) or scale the data as shown in:\n",
      "    https://scikit-learn.org/stable/modules/preprocessing.html\n",
      "Please also refer to the documentation for alternative solver options:\n",
      "    https://scikit-learn.org/stable/modules/linear_model.html#logistic-regression\n",
      "  n_iter_i = _check_optimize_result(\n",
      "C:\\Users\\aliha\\anaconda3\\lib\\site-packages\\sklearn\\linear_model\\_logistic.py:763: ConvergenceWarning: lbfgs failed to converge (status=1):\n",
      "STOP: TOTAL NO. of ITERATIONS REACHED LIMIT.\n",
      "\n",
      "Increase the number of iterations (max_iter) or scale the data as shown in:\n",
      "    https://scikit-learn.org/stable/modules/preprocessing.html\n",
      "Please also refer to the documentation for alternative solver options:\n",
      "    https://scikit-learn.org/stable/modules/linear_model.html#logistic-regression\n",
      "  n_iter_i = _check_optimize_result(\n",
      "C:\\Users\\aliha\\anaconda3\\lib\\site-packages\\sklearn\\linear_model\\_logistic.py:763: ConvergenceWarning: lbfgs failed to converge (status=1):\n",
      "STOP: TOTAL NO. of ITERATIONS REACHED LIMIT.\n",
      "\n",
      "Increase the number of iterations (max_iter) or scale the data as shown in:\n",
      "    https://scikit-learn.org/stable/modules/preprocessing.html\n",
      "Please also refer to the documentation for alternative solver options:\n",
      "    https://scikit-learn.org/stable/modules/linear_model.html#logistic-regression\n",
      "  n_iter_i = _check_optimize_result(\n",
      "C:\\Users\\aliha\\anaconda3\\lib\\site-packages\\sklearn\\linear_model\\_logistic.py:763: ConvergenceWarning: lbfgs failed to converge (status=1):\n",
      "STOP: TOTAL NO. of ITERATIONS REACHED LIMIT.\n",
      "\n",
      "Increase the number of iterations (max_iter) or scale the data as shown in:\n",
      "    https://scikit-learn.org/stable/modules/preprocessing.html\n",
      "Please also refer to the documentation for alternative solver options:\n",
      "    https://scikit-learn.org/stable/modules/linear_model.html#logistic-regression\n",
      "  n_iter_i = _check_optimize_result(\n"
     ]
    },
    {
     "name": "stderr",
     "output_type": "stream",
     "text": [
      "C:\\Users\\aliha\\anaconda3\\lib\\site-packages\\sklearn\\linear_model\\_logistic.py:763: ConvergenceWarning: lbfgs failed to converge (status=1):\n",
      "STOP: TOTAL NO. of ITERATIONS REACHED LIMIT.\n",
      "\n",
      "Increase the number of iterations (max_iter) or scale the data as shown in:\n",
      "    https://scikit-learn.org/stable/modules/preprocessing.html\n",
      "Please also refer to the documentation for alternative solver options:\n",
      "    https://scikit-learn.org/stable/modules/linear_model.html#logistic-regression\n",
      "  n_iter_i = _check_optimize_result(\n",
      "C:\\Users\\aliha\\anaconda3\\lib\\site-packages\\sklearn\\linear_model\\_logistic.py:763: ConvergenceWarning: lbfgs failed to converge (status=1):\n",
      "STOP: TOTAL NO. of ITERATIONS REACHED LIMIT.\n",
      "\n",
      "Increase the number of iterations (max_iter) or scale the data as shown in:\n",
      "    https://scikit-learn.org/stable/modules/preprocessing.html\n",
      "Please also refer to the documentation for alternative solver options:\n",
      "    https://scikit-learn.org/stable/modules/linear_model.html#logistic-regression\n",
      "  n_iter_i = _check_optimize_result(\n",
      "C:\\Users\\aliha\\anaconda3\\lib\\site-packages\\sklearn\\linear_model\\_logistic.py:763: ConvergenceWarning: lbfgs failed to converge (status=1):\n",
      "STOP: TOTAL NO. of ITERATIONS REACHED LIMIT.\n",
      "\n",
      "Increase the number of iterations (max_iter) or scale the data as shown in:\n",
      "    https://scikit-learn.org/stable/modules/preprocessing.html\n",
      "Please also refer to the documentation for alternative solver options:\n",
      "    https://scikit-learn.org/stable/modules/linear_model.html#logistic-regression\n",
      "  n_iter_i = _check_optimize_result(\n",
      "C:\\Users\\aliha\\anaconda3\\lib\\site-packages\\sklearn\\linear_model\\_logistic.py:763: ConvergenceWarning: lbfgs failed to converge (status=1):\n",
      "STOP: TOTAL NO. of ITERATIONS REACHED LIMIT.\n",
      "\n",
      "Increase the number of iterations (max_iter) or scale the data as shown in:\n",
      "    https://scikit-learn.org/stable/modules/preprocessing.html\n",
      "Please also refer to the documentation for alternative solver options:\n",
      "    https://scikit-learn.org/stable/modules/linear_model.html#logistic-regression\n",
      "  n_iter_i = _check_optimize_result(\n",
      "C:\\Users\\aliha\\anaconda3\\lib\\site-packages\\sklearn\\linear_model\\_logistic.py:763: ConvergenceWarning: lbfgs failed to converge (status=1):\n",
      "STOP: TOTAL NO. of ITERATIONS REACHED LIMIT.\n",
      "\n",
      "Increase the number of iterations (max_iter) or scale the data as shown in:\n",
      "    https://scikit-learn.org/stable/modules/preprocessing.html\n",
      "Please also refer to the documentation for alternative solver options:\n",
      "    https://scikit-learn.org/stable/modules/linear_model.html#logistic-regression\n",
      "  n_iter_i = _check_optimize_result(\n",
      "C:\\Users\\aliha\\anaconda3\\lib\\site-packages\\sklearn\\linear_model\\_logistic.py:763: ConvergenceWarning: lbfgs failed to converge (status=1):\n",
      "STOP: TOTAL NO. of ITERATIONS REACHED LIMIT.\n",
      "\n",
      "Increase the number of iterations (max_iter) or scale the data as shown in:\n",
      "    https://scikit-learn.org/stable/modules/preprocessing.html\n",
      "Please also refer to the documentation for alternative solver options:\n",
      "    https://scikit-learn.org/stable/modules/linear_model.html#logistic-regression\n",
      "  n_iter_i = _check_optimize_result(\n",
      "C:\\Users\\aliha\\anaconda3\\lib\\site-packages\\sklearn\\linear_model\\_logistic.py:763: ConvergenceWarning: lbfgs failed to converge (status=1):\n",
      "STOP: TOTAL NO. of ITERATIONS REACHED LIMIT.\n",
      "\n",
      "Increase the number of iterations (max_iter) or scale the data as shown in:\n",
      "    https://scikit-learn.org/stable/modules/preprocessing.html\n",
      "Please also refer to the documentation for alternative solver options:\n",
      "    https://scikit-learn.org/stable/modules/linear_model.html#logistic-regression\n",
      "  n_iter_i = _check_optimize_result(\n",
      "C:\\Users\\aliha\\anaconda3\\lib\\site-packages\\sklearn\\linear_model\\_logistic.py:763: ConvergenceWarning: lbfgs failed to converge (status=1):\n",
      "STOP: TOTAL NO. of ITERATIONS REACHED LIMIT.\n",
      "\n",
      "Increase the number of iterations (max_iter) or scale the data as shown in:\n",
      "    https://scikit-learn.org/stable/modules/preprocessing.html\n",
      "Please also refer to the documentation for alternative solver options:\n",
      "    https://scikit-learn.org/stable/modules/linear_model.html#logistic-regression\n",
      "  n_iter_i = _check_optimize_result(\n",
      "C:\\Users\\aliha\\anaconda3\\lib\\site-packages\\sklearn\\linear_model\\_logistic.py:763: ConvergenceWarning: lbfgs failed to converge (status=1):\n",
      "STOP: TOTAL NO. of ITERATIONS REACHED LIMIT.\n",
      "\n",
      "Increase the number of iterations (max_iter) or scale the data as shown in:\n",
      "    https://scikit-learn.org/stable/modules/preprocessing.html\n",
      "Please also refer to the documentation for alternative solver options:\n",
      "    https://scikit-learn.org/stable/modules/linear_model.html#logistic-regression\n",
      "  n_iter_i = _check_optimize_result(\n",
      "C:\\Users\\aliha\\anaconda3\\lib\\site-packages\\sklearn\\linear_model\\_logistic.py:763: ConvergenceWarning: lbfgs failed to converge (status=1):\n",
      "STOP: TOTAL NO. of ITERATIONS REACHED LIMIT.\n",
      "\n",
      "Increase the number of iterations (max_iter) or scale the data as shown in:\n",
      "    https://scikit-learn.org/stable/modules/preprocessing.html\n",
      "Please also refer to the documentation for alternative solver options:\n",
      "    https://scikit-learn.org/stable/modules/linear_model.html#logistic-regression\n",
      "  n_iter_i = _check_optimize_result(\n",
      "C:\\Users\\aliha\\anaconda3\\lib\\site-packages\\sklearn\\linear_model\\_logistic.py:763: ConvergenceWarning: lbfgs failed to converge (status=1):\n",
      "STOP: TOTAL NO. of ITERATIONS REACHED LIMIT.\n",
      "\n",
      "Increase the number of iterations (max_iter) or scale the data as shown in:\n",
      "    https://scikit-learn.org/stable/modules/preprocessing.html\n",
      "Please also refer to the documentation for alternative solver options:\n",
      "    https://scikit-learn.org/stable/modules/linear_model.html#logistic-regression\n",
      "  n_iter_i = _check_optimize_result(\n",
      "C:\\Users\\aliha\\anaconda3\\lib\\site-packages\\sklearn\\linear_model\\_logistic.py:763: ConvergenceWarning: lbfgs failed to converge (status=1):\n",
      "STOP: TOTAL NO. of ITERATIONS REACHED LIMIT.\n",
      "\n",
      "Increase the number of iterations (max_iter) or scale the data as shown in:\n",
      "    https://scikit-learn.org/stable/modules/preprocessing.html\n",
      "Please also refer to the documentation for alternative solver options:\n",
      "    https://scikit-learn.org/stable/modules/linear_model.html#logistic-regression\n",
      "  n_iter_i = _check_optimize_result(\n",
      "C:\\Users\\aliha\\anaconda3\\lib\\site-packages\\sklearn\\linear_model\\_logistic.py:763: ConvergenceWarning: lbfgs failed to converge (status=1):\n",
      "STOP: TOTAL NO. of ITERATIONS REACHED LIMIT.\n",
      "\n",
      "Increase the number of iterations (max_iter) or scale the data as shown in:\n",
      "    https://scikit-learn.org/stable/modules/preprocessing.html\n",
      "Please also refer to the documentation for alternative solver options:\n",
      "    https://scikit-learn.org/stable/modules/linear_model.html#logistic-regression\n",
      "  n_iter_i = _check_optimize_result(\n"
     ]
    },
    {
     "data": {
      "text/plain": [
       "GridSearchCV(estimator=LogisticRegression(),\n",
       "             param_grid={'C': [0.001, 0.01, 0.05, 0.1, 0.5, 1.0, 10.0]})"
      ]
     },
     "execution_count": 31,
     "metadata": {},
     "output_type": "execute_result"
    }
   ],
   "source": [
    "lr_grid.fit(X_train, y_train)"
   ]
  },
  {
   "cell_type": "code",
   "execution_count": 32,
   "id": "7219a919",
   "metadata": {},
   "outputs": [
    {
     "data": {
      "text/plain": [
       "LogisticRegression(C=0.01)"
      ]
     },
     "execution_count": 32,
     "metadata": {},
     "output_type": "execute_result"
    }
   ],
   "source": [
    "lr_grid.best_estimator_"
   ]
  },
  {
   "cell_type": "code",
   "execution_count": 33,
   "id": "a75a5aaa",
   "metadata": {},
   "outputs": [],
   "source": [
    "lr_grid_pred = lr_grid.predict(X_test)"
   ]
  },
  {
   "cell_type": "code",
   "execution_count": 34,
   "id": "8698c83a",
   "metadata": {},
   "outputs": [
    {
     "name": "stdout",
     "output_type": "stream",
     "text": [
      "[[2581    0    0]\n",
      " [   0 5730    0]\n",
      " [   0    0 2333]]\n"
     ]
    }
   ],
   "source": [
    "print(confusion_matrix(y_test, lr_grid_pred))"
   ]
  },
  {
   "cell_type": "code",
   "execution_count": 35,
   "id": "dc2733b4",
   "metadata": {},
   "outputs": [
    {
     "name": "stdout",
     "output_type": "stream",
     "text": [
      "              precision    recall  f1-score   support\n",
      "\n",
      "           0       1.00      1.00      1.00      2581\n",
      "           1       1.00      1.00      1.00      5730\n",
      "           2       1.00      1.00      1.00      2333\n",
      "\n",
      "    accuracy                           1.00     10644\n",
      "   macro avg       1.00      1.00      1.00     10644\n",
      "weighted avg       1.00      1.00      1.00     10644\n",
      "\n"
     ]
    }
   ],
   "source": [
    "print(classification_report(y_test, lr_grid_pred))"
   ]
  },
  {
   "cell_type": "markdown",
   "id": "3e129420",
   "metadata": {},
   "source": [
    "## SVC"
   ]
  },
  {
   "cell_type": "code",
   "execution_count": 36,
   "id": "989b3178",
   "metadata": {
    "scrolled": false
   },
   "outputs": [],
   "source": [
    "svc_param_grid = [{\n",
    "                    'svc__C': [0.001, 0.01, 0.05, 0.1, 0.5, 1.0, 10.0],\n",
    "                    'svc__kernel': ['linear']\n",
    "                  },\n",
    "                \n",
    "                    ]"
   ]
  },
  {
   "cell_type": "code",
   "execution_count": 37,
   "id": "697f378e",
   "metadata": {},
   "outputs": [],
   "source": [
    "svc_clf = make_pipeline(StandardScaler(), SVC(random_state=1))\n",
    "\n"
   ]
  },
  {
   "cell_type": "code",
   "execution_count": 38,
   "id": "25c4e803",
   "metadata": {},
   "outputs": [],
   "source": [
    "svc_grid = GridSearchCV(estimator=svc_clf, param_grid=svc_param_grid, verbose=3)"
   ]
  },
  {
   "cell_type": "code",
   "execution_count": 39,
   "id": "0a2bf2f9",
   "metadata": {
    "scrolled": true
   },
   "outputs": [
    {
     "name": "stdout",
     "output_type": "stream",
     "text": [
      "Fitting 5 folds for each of 7 candidates, totalling 35 fits\n",
      "[CV 1/5] END ..svc__C=0.001, svc__kernel=linear;, score=1.000 total time=   2.0s\n",
      "[CV 2/5] END ..svc__C=0.001, svc__kernel=linear;, score=1.000 total time=   2.0s\n",
      "[CV 3/5] END ..svc__C=0.001, svc__kernel=linear;, score=1.000 total time=   2.0s\n",
      "[CV 4/5] END ..svc__C=0.001, svc__kernel=linear;, score=1.000 total time=   2.0s\n",
      "[CV 5/5] END ..svc__C=0.001, svc__kernel=linear;, score=1.000 total time=   2.0s\n",
      "[CV 1/5] END ...svc__C=0.01, svc__kernel=linear;, score=1.000 total time=   0.1s\n",
      "[CV 2/5] END ...svc__C=0.01, svc__kernel=linear;, score=1.000 total time=   0.1s\n",
      "[CV 3/5] END ...svc__C=0.01, svc__kernel=linear;, score=1.000 total time=   0.1s\n",
      "[CV 4/5] END ...svc__C=0.01, svc__kernel=linear;, score=1.000 total time=   0.1s\n",
      "[CV 5/5] END ...svc__C=0.01, svc__kernel=linear;, score=1.000 total time=   0.1s\n",
      "[CV 1/5] END ...svc__C=0.05, svc__kernel=linear;, score=1.000 total time=   0.0s\n",
      "[CV 2/5] END ...svc__C=0.05, svc__kernel=linear;, score=1.000 total time=   0.0s\n",
      "[CV 3/5] END ...svc__C=0.05, svc__kernel=linear;, score=1.000 total time=   0.0s\n",
      "[CV 4/5] END ...svc__C=0.05, svc__kernel=linear;, score=1.000 total time=   0.0s\n",
      "[CV 5/5] END ...svc__C=0.05, svc__kernel=linear;, score=1.000 total time=   0.0s\n",
      "[CV 1/5] END ....svc__C=0.1, svc__kernel=linear;, score=1.000 total time=   0.0s\n",
      "[CV 2/5] END ....svc__C=0.1, svc__kernel=linear;, score=1.000 total time=   0.0s\n",
      "[CV 3/5] END ....svc__C=0.1, svc__kernel=linear;, score=1.000 total time=   0.0s\n",
      "[CV 4/5] END ....svc__C=0.1, svc__kernel=linear;, score=1.000 total time=   0.0s\n",
      "[CV 5/5] END ....svc__C=0.1, svc__kernel=linear;, score=1.000 total time=   0.0s\n",
      "[CV 1/5] END ....svc__C=0.5, svc__kernel=linear;, score=1.000 total time=   0.0s\n",
      "[CV 2/5] END ....svc__C=0.5, svc__kernel=linear;, score=1.000 total time=   0.0s\n",
      "[CV 3/5] END ....svc__C=0.5, svc__kernel=linear;, score=1.000 total time=   0.0s\n",
      "[CV 4/5] END ....svc__C=0.5, svc__kernel=linear;, score=1.000 total time=   0.0s\n",
      "[CV 5/5] END ....svc__C=0.5, svc__kernel=linear;, score=1.000 total time=   0.0s\n",
      "[CV 1/5] END ....svc__C=1.0, svc__kernel=linear;, score=1.000 total time=   0.0s\n",
      "[CV 2/5] END ....svc__C=1.0, svc__kernel=linear;, score=1.000 total time=   0.0s\n",
      "[CV 3/5] END ....svc__C=1.0, svc__kernel=linear;, score=1.000 total time=   0.0s\n",
      "[CV 4/5] END ....svc__C=1.0, svc__kernel=linear;, score=1.000 total time=   0.0s\n",
      "[CV 5/5] END ....svc__C=1.0, svc__kernel=linear;, score=1.000 total time=   0.0s\n",
      "[CV 1/5] END ...svc__C=10.0, svc__kernel=linear;, score=1.000 total time=   0.0s\n",
      "[CV 2/5] END ...svc__C=10.0, svc__kernel=linear;, score=1.000 total time=   0.0s\n",
      "[CV 3/5] END ...svc__C=10.0, svc__kernel=linear;, score=1.000 total time=   0.0s\n",
      "[CV 4/5] END ...svc__C=10.0, svc__kernel=linear;, score=1.000 total time=   0.0s\n",
      "[CV 5/5] END ...svc__C=10.0, svc__kernel=linear;, score=1.000 total time=   0.0s\n"
     ]
    },
    {
     "data": {
      "text/plain": [
       "GridSearchCV(estimator=Pipeline(steps=[('standardscaler', StandardScaler()),\n",
       "                                       ('svc', SVC(random_state=1))]),\n",
       "             param_grid=[{'svc__C': [0.001, 0.01, 0.05, 0.1, 0.5, 1.0, 10.0],\n",
       "                          'svc__kernel': ['linear']}],\n",
       "             verbose=3)"
      ]
     },
     "execution_count": 39,
     "metadata": {},
     "output_type": "execute_result"
    }
   ],
   "source": [
    "svc_grid.fit(X_train, y_train)"
   ]
  },
  {
   "cell_type": "code",
   "execution_count": 40,
   "id": "cc04edce",
   "metadata": {},
   "outputs": [
    {
     "data": {
      "text/plain": [
       "{'svc__C': 0.001, 'svc__kernel': 'linear'}"
      ]
     },
     "execution_count": 40,
     "metadata": {},
     "output_type": "execute_result"
    }
   ],
   "source": [
    "svc_grid.best_params_"
   ]
  },
  {
   "cell_type": "code",
   "execution_count": 41,
   "id": "7b50801f",
   "metadata": {},
   "outputs": [],
   "source": [
    "svc_grid_pred = svc_grid.predict(X_test)"
   ]
  },
  {
   "cell_type": "code",
   "execution_count": 42,
   "id": "8b76e4f4",
   "metadata": {},
   "outputs": [
    {
     "name": "stdout",
     "output_type": "stream",
     "text": [
      "[[2581    0    0]\n",
      " [   0 5730    0]\n",
      " [   0    0 2333]]\n"
     ]
    }
   ],
   "source": [
    "print(confusion_matrix(y_test, svc_grid_pred))"
   ]
  },
  {
   "cell_type": "code",
   "execution_count": 43,
   "id": "4dd8373a",
   "metadata": {},
   "outputs": [
    {
     "name": "stdout",
     "output_type": "stream",
     "text": [
      "              precision    recall  f1-score   support\n",
      "\n",
      "           0       1.00      1.00      1.00      2581\n",
      "           1       1.00      1.00      1.00      5730\n",
      "           2       1.00      1.00      1.00      2333\n",
      "\n",
      "    accuracy                           1.00     10644\n",
      "   macro avg       1.00      1.00      1.00     10644\n",
      "weighted avg       1.00      1.00      1.00     10644\n",
      "\n"
     ]
    }
   ],
   "source": [
    "print(classification_report(y_test, svc_grid_pred))"
   ]
  },
  {
   "cell_type": "markdown",
   "id": "71feb355",
   "metadata": {},
   "source": [
    "## Decision Tree"
   ]
  },
  {
   "cell_type": "code",
   "execution_count": 44,
   "id": "b0a9a743",
   "metadata": {},
   "outputs": [],
   "source": [
    "pipe = Pipeline((\n",
    "    ('std_sc', StandardScaler()), \n",
    "    ('dec_tree', DecisionTreeClassifier())\n",
    "))"
   ]
  },
  {
   "cell_type": "code",
   "execution_count": 45,
   "id": "cece7c4b",
   "metadata": {},
   "outputs": [],
   "source": [
    "criterion = ['gini', 'entropy']"
   ]
  },
  {
   "cell_type": "code",
   "execution_count": 46,
   "id": "8670a334",
   "metadata": {},
   "outputs": [],
   "source": [
    "dec_tree_param = [{\n",
    "    'dec_tree__criterion': criterion, \n",
    "    'dec_tree__max_depth': [2, 4, 6, 8, 10]\n",
    "}]"
   ]
  },
  {
   "cell_type": "code",
   "execution_count": 47,
   "id": "503bd945",
   "metadata": {},
   "outputs": [],
   "source": [
    "dec_tree_grid = GridSearchCV(pipe, dec_tree_param)"
   ]
  },
  {
   "cell_type": "code",
   "execution_count": 48,
   "id": "6e7981a2",
   "metadata": {},
   "outputs": [
    {
     "data": {
      "text/plain": [
       "GridSearchCV(estimator=Pipeline(steps=(('std_sc', StandardScaler()),\n",
       "                                       ('dec_tree', DecisionTreeClassifier()))),\n",
       "             param_grid=[{'dec_tree__criterion': ['gini', 'entropy'],\n",
       "                          'dec_tree__max_depth': [2, 4, 6, 8, 10]}])"
      ]
     },
     "execution_count": 48,
     "metadata": {},
     "output_type": "execute_result"
    }
   ],
   "source": [
    "dec_tree_grid.fit(X_train, y_train)"
   ]
  },
  {
   "cell_type": "code",
   "execution_count": 49,
   "id": "28ed7cad",
   "metadata": {},
   "outputs": [
    {
     "data": {
      "text/plain": [
       "Pipeline(steps=[('std_sc', StandardScaler()),\n",
       "                ('dec_tree', DecisionTreeClassifier(max_depth=2))])"
      ]
     },
     "execution_count": 49,
     "metadata": {},
     "output_type": "execute_result"
    }
   ],
   "source": [
    "dec_tree_grid.best_estimator_"
   ]
  },
  {
   "cell_type": "code",
   "execution_count": 50,
   "id": "dd07774d",
   "metadata": {},
   "outputs": [],
   "source": [
    "dec_tree_grid_pred = dec_tree_grid.predict(X_test)"
   ]
  },
  {
   "cell_type": "code",
   "execution_count": 51,
   "id": "9052f9b6",
   "metadata": {},
   "outputs": [
    {
     "name": "stdout",
     "output_type": "stream",
     "text": [
      "[[2581    0    0]\n",
      " [   0 5730    0]\n",
      " [   0    0 2333]]\n"
     ]
    }
   ],
   "source": [
    "print(confusion_matrix(y_test, dec_tree_grid_pred))"
   ]
  },
  {
   "cell_type": "code",
   "execution_count": 52,
   "id": "14f1ccc0",
   "metadata": {},
   "outputs": [
    {
     "name": "stdout",
     "output_type": "stream",
     "text": [
      "              precision    recall  f1-score   support\n",
      "\n",
      "           0       1.00      1.00      1.00      2581\n",
      "           1       1.00      1.00      1.00      5730\n",
      "           2       1.00      1.00      1.00      2333\n",
      "\n",
      "    accuracy                           1.00     10644\n",
      "   macro avg       1.00      1.00      1.00     10644\n",
      "weighted avg       1.00      1.00      1.00     10644\n",
      "\n"
     ]
    }
   ],
   "source": [
    "print(classification_report(y_test, dec_tree_grid_pred))"
   ]
  },
  {
   "cell_type": "markdown",
   "id": "cf0b9a27",
   "metadata": {},
   "source": [
    "## RandomForestClassifier"
   ]
  },
  {
   "cell_type": "code",
   "execution_count": null,
   "id": "f3b5c022",
   "metadata": {
    "scrolled": true
   },
   "outputs": [],
   "source": [
    "RF = make_pipeline(RandomForestClassifier())\n",
    "param_grid_rfc = [{\n",
    "    'randomforestclassifier__max_depth':[2, 4, 6, 8, 10],\n",
    "    'randomforestclassifier__max_features':[2, 3, 4, 5]\n",
    "}]\n",
    "rf_grid = GridSearchCV(estimator=RF,\n",
    "                     param_grid = param_grid_rfc,\n",
    "                     n_jobs=-1)\n",
    "rf_grid.fit(X_train, y_train)"
   ]
  },
  {
   "cell_type": "code",
   "execution_count": null,
   "id": "9a07e71e",
   "metadata": {
    "scrolled": true
   },
   "outputs": [],
   "source": [
    "rf_grid.best_estimator_"
   ]
  },
  {
   "cell_type": "code",
   "execution_count": null,
   "id": "a0175d5c",
   "metadata": {
    "scrolled": true
   },
   "outputs": [],
   "source": [
    "rf_pred = rf_grid.predict(X_test)\n",
    "print(confusion_matrix(y_test, rf_pred))\n",
    "print(classification_report(y_test, rf_pred))"
   ]
  },
  {
   "cell_type": "code",
   "execution_count": null,
   "id": "f14f72ee",
   "metadata": {},
   "outputs": [],
   "source": []
  }
 ],
 "metadata": {
  "kernelspec": {
   "display_name": "Python 3 (ipykernel)",
   "language": "python",
   "name": "python3"
  },
  "language_info": {
   "codemirror_mode": {
    "name": "ipython",
    "version": 3
   },
   "file_extension": ".py",
   "mimetype": "text/x-python",
   "name": "python",
   "nbconvert_exporter": "python",
   "pygments_lexer": "ipython3",
   "version": "3.9.7"
  }
 },
 "nbformat": 4,
 "nbformat_minor": 5
}
