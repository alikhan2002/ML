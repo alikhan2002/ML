{
 "cells": [
  {
   "cell_type": "markdown",
   "metadata": {},
   "source": [
    "\n",
    "# Plotly and Cufflinks"
   ]
  },
  {
   "cell_type": "markdown",
   "metadata": {},
   "source": [
    "Plotly is a library that allows you to create interactive plots that you can use in dashboards or websites (you can save them as html files or static images).\n",
    "\n",
    "## Installation\n",
    "\n",
    "In order for this all to work, you'll need to install plotly and cufflinks to call plots directly off of a pandas dataframe. These libraries are not currently available through **conda** but are available through **pip**. Install the libraries at your command line/terminal using:\n",
    "\n",
    "    pip install plotly\n",
    "    pip install cufflinks\n",
    "\n",
    "** NOTE: Make sure you only have one installation of Python on your computer when you do this, otherwise the installation may not work. **\n",
    "\n",
    "## Imports and Set-up"
   ]
  },
  {
   "cell_type": "code",
   "execution_count": 4,
   "metadata": {},
   "outputs": [],
   "source": [
    "import pandas as pd\n",
    "import numpy as np\n",
    "%matplotlib inline"
   ]
  },
  {
   "cell_type": "code",
   "execution_count": 5,
   "metadata": {},
   "outputs": [
    {
     "name": "stdout",
     "output_type": "stream",
     "text": [
      "5.10.0\n"
     ]
    }
   ],
   "source": [
    "from plotly import __version__\n",
    "from plotly.offline import download_plotlyjs, init_notebook_mode, plot, iplot\n",
    "\n",
    "print(__version__) # requires version >= 1.9.0"
   ]
  },
  {
   "cell_type": "code",
   "execution_count": 6,
   "metadata": {},
   "outputs": [],
   "source": [
    "import cufflinks as cf"
   ]
  },
  {
   "cell_type": "code",
   "execution_count": 7,
   "metadata": {},
   "outputs": [
    {
     "data": {
      "text/html": [
       "        <script type=\"text/javascript\">\n",
       "        window.PlotlyConfig = {MathJaxConfig: 'local'};\n",
       "        if (window.MathJax && window.MathJax.Hub && window.MathJax.Hub.Config) {window.MathJax.Hub.Config({SVG: {font: \"STIX-Web\"}});}\n",
       "        if (typeof require !== 'undefined') {\n",
       "        require.undef(\"plotly\");\n",
       "        requirejs.config({\n",
       "            paths: {\n",
       "                'plotly': ['https://cdn.plot.ly/plotly-2.14.0.min']\n",
       "            }\n",
       "        });\n",
       "        require(['plotly'], function(Plotly) {\n",
       "            window._Plotly = Plotly;\n",
       "        });\n",
       "        }\n",
       "        </script>\n",
       "        "
      ]
     },
     "metadata": {},
     "output_type": "display_data"
    }
   ],
   "source": [
    "# For Notebooks\n",
    "init_notebook_mode(connected=True)"
   ]
  },
  {
   "cell_type": "code",
   "execution_count": 8,
   "metadata": {},
   "outputs": [
    {
     "data": {
      "text/html": [
       "        <script type=\"text/javascript\">\n",
       "        window.PlotlyConfig = {MathJaxConfig: 'local'};\n",
       "        if (window.MathJax && window.MathJax.Hub && window.MathJax.Hub.Config) {window.MathJax.Hub.Config({SVG: {font: \"STIX-Web\"}});}\n",
       "        if (typeof require !== 'undefined') {\n",
       "        require.undef(\"plotly\");\n",
       "        requirejs.config({\n",
       "            paths: {\n",
       "                'plotly': ['https://cdn.plot.ly/plotly-2.14.0.min']\n",
       "            }\n",
       "        });\n",
       "        require(['plotly'], function(Plotly) {\n",
       "            window._Plotly = Plotly;\n",
       "        });\n",
       "        }\n",
       "        </script>\n",
       "        "
      ]
     },
     "metadata": {},
     "output_type": "display_data"
    }
   ],
   "source": [
    "# For offline use\n",
    "cf.go_offline()"
   ]
  },
  {
   "cell_type": "markdown",
   "metadata": {},
   "source": [
    "### Fake Data"
   ]
  },
  {
   "cell_type": "code",
   "execution_count": 9,
   "metadata": {},
   "outputs": [],
   "source": [
    "df = pd.DataFrame(np.random.randn(100,4),columns='A B C D'.split())"
   ]
  },
  {
   "cell_type": "code",
   "execution_count": 10,
   "metadata": {},
   "outputs": [
    {
     "data": {
      "text/html": [
       "<div>\n",
       "<style scoped>\n",
       "    .dataframe tbody tr th:only-of-type {\n",
       "        vertical-align: middle;\n",
       "    }\n",
       "\n",
       "    .dataframe tbody tr th {\n",
       "        vertical-align: top;\n",
       "    }\n",
       "\n",
       "    .dataframe thead th {\n",
       "        text-align: right;\n",
       "    }\n",
       "</style>\n",
       "<table border=\"1\" class=\"dataframe\">\n",
       "  <thead>\n",
       "    <tr style=\"text-align: right;\">\n",
       "      <th></th>\n",
       "      <th>A</th>\n",
       "      <th>B</th>\n",
       "      <th>C</th>\n",
       "      <th>D</th>\n",
       "    </tr>\n",
       "  </thead>\n",
       "  <tbody>\n",
       "    <tr>\n",
       "      <th>0</th>\n",
       "      <td>-1.016121</td>\n",
       "      <td>0.049462</td>\n",
       "      <td>0.291288</td>\n",
       "      <td>2.508540</td>\n",
       "    </tr>\n",
       "    <tr>\n",
       "      <th>1</th>\n",
       "      <td>-0.735036</td>\n",
       "      <td>-0.211326</td>\n",
       "      <td>-0.346752</td>\n",
       "      <td>1.362053</td>\n",
       "    </tr>\n",
       "    <tr>\n",
       "      <th>2</th>\n",
       "      <td>-0.612234</td>\n",
       "      <td>0.631565</td>\n",
       "      <td>-0.823952</td>\n",
       "      <td>1.203794</td>\n",
       "    </tr>\n",
       "    <tr>\n",
       "      <th>3</th>\n",
       "      <td>-1.002713</td>\n",
       "      <td>-0.258415</td>\n",
       "      <td>0.932591</td>\n",
       "      <td>0.539070</td>\n",
       "    </tr>\n",
       "    <tr>\n",
       "      <th>4</th>\n",
       "      <td>0.641162</td>\n",
       "      <td>-0.752378</td>\n",
       "      <td>0.045560</td>\n",
       "      <td>-0.489375</td>\n",
       "    </tr>\n",
       "  </tbody>\n",
       "</table>\n",
       "</div>"
      ],
      "text/plain": [
       "          A         B         C         D\n",
       "0 -1.016121  0.049462  0.291288  2.508540\n",
       "1 -0.735036 -0.211326 -0.346752  1.362053\n",
       "2 -0.612234  0.631565 -0.823952  1.203794\n",
       "3 -1.002713 -0.258415  0.932591  0.539070\n",
       "4  0.641162 -0.752378  0.045560 -0.489375"
      ]
     },
     "execution_count": 10,
     "metadata": {},
     "output_type": "execute_result"
    }
   ],
   "source": [
    "df.head()"
   ]
  },
  {
   "cell_type": "code",
   "execution_count": 11,
   "metadata": {},
   "outputs": [],
   "source": [
    "df2 = pd.DataFrame({'Category':['A','B','C'],'Values':[32,43,50]})"
   ]
  },
  {
   "cell_type": "code",
   "execution_count": 12,
   "metadata": {},
   "outputs": [
    {
     "data": {
      "text/html": [
       "<div>\n",
       "<style scoped>\n",
       "    .dataframe tbody tr th:only-of-type {\n",
       "        vertical-align: middle;\n",
       "    }\n",
       "\n",
       "    .dataframe tbody tr th {\n",
       "        vertical-align: top;\n",
       "    }\n",
       "\n",
       "    .dataframe thead th {\n",
       "        text-align: right;\n",
       "    }\n",
       "</style>\n",
       "<table border=\"1\" class=\"dataframe\">\n",
       "  <thead>\n",
       "    <tr style=\"text-align: right;\">\n",
       "      <th></th>\n",
       "      <th>Category</th>\n",
       "      <th>Values</th>\n",
       "    </tr>\n",
       "  </thead>\n",
       "  <tbody>\n",
       "    <tr>\n",
       "      <th>0</th>\n",
       "      <td>A</td>\n",
       "      <td>32</td>\n",
       "    </tr>\n",
       "    <tr>\n",
       "      <th>1</th>\n",
       "      <td>B</td>\n",
       "      <td>43</td>\n",
       "    </tr>\n",
       "    <tr>\n",
       "      <th>2</th>\n",
       "      <td>C</td>\n",
       "      <td>50</td>\n",
       "    </tr>\n",
       "  </tbody>\n",
       "</table>\n",
       "</div>"
      ],
      "text/plain": [
       "  Category  Values\n",
       "0        A      32\n",
       "1        B      43\n",
       "2        C      50"
      ]
     },
     "execution_count": 12,
     "metadata": {},
     "output_type": "execute_result"
    }
   ],
   "source": [
    "df2.head()"
   ]
  },
  {
   "cell_type": "markdown",
   "metadata": {},
   "source": [
    "## Using Cufflinks and iplot()\n",
    "\n",
    "* scatter\n",
    "* bar\n",
    "* box\n",
    "* spread\n",
    "* ratio\n",
    "* heatmap\n",
    "* surface\n",
    "* histogram\n",
    "* bubble"
   ]
  },
  {
   "cell_type": "markdown",
   "metadata": {},
   "source": [
    "## Scatter"
   ]
  },
  {
   "cell_type": "code",
   "execution_count": 16,
   "metadata": {},
   "outputs": [
    {
     "data": {
      "application/vnd.plotly.v1+json": {
       "config": {
        "linkText": "Export to plot.ly",
        "plotlyServerURL": "https://plot.ly",
        "showLink": true
       },
       "data": [
        {
         "line": {
          "color": "rgba(255, 153, 51, 1.0)",
          "dash": "solid",
          "shape": "linear",
          "width": 1.3
         },
         "marker": {
          "size": 10,
          "symbol": "circle"
         },
         "mode": "markers",
         "name": "B",
         "text": "",
         "type": "scatter",
         "x": [
          -1.01612056617424,
          -0.7350362729323395,
          -0.6122344159390835,
          -1.0027127217759482,
          0.6411615685148131,
          0.47054386141649224,
          -0.3547328503486203,
          0.5313897386555986,
          0.04005341849319595,
          0.4423853922330872,
          1.3453508268296637,
          0.46001510288976716,
          -1.0939154713762969,
          -0.9852507089728771,
          1.1842337940231193,
          0.035400627751505785,
          -0.8882653234232453,
          -1.5314639222981914,
          -0.5498478145222545,
          -1.1084877212359212,
          0.3566775880042968,
          -1.7659823693479608,
          0.6590213829373882,
          0.5101739140474232,
          1.0131382954891477,
          0.46360951537076245,
          -2.2895716540127333,
          0.922733121512306,
          -2.557030031114763,
          1.128622390956555,
          1.1549251499099884,
          2.01391053886995,
          -0.2611627431791524,
          -0.5147868612849658,
          -2.431060922279289,
          -0.7672583181291373,
          -2.298902785100592,
          -0.8083345255784181,
          0.2687189200294319,
          -2.4985563849216605,
          -1.2763984060165428,
          0.14579832380677238,
          2.315288436192335,
          -0.3540222252792673,
          0.29763132128657227,
          -1.1886877350578477,
          0.017012621121949425,
          -0.6808860648653475,
          0.757493784133554,
          0.9915664549970045,
          -0.6397343935683023,
          0.3180139455896008,
          -0.35297824713507286,
          0.6286073348907657,
          -1.6798064798568504,
          -0.4133960959978084,
          1.5336438528557266,
          1.342908308677851,
          -1.995429266989642,
          -2.0367965458065433,
          0.9181910529018176,
          0.14209313446350563,
          2.4097474856859527,
          -0.6500226963721444,
          -0.8030245972209434,
          0.4116989497641564,
          -1.6143766990106465,
          -1.3296246735863992,
          0.9626011835038869,
          -0.3121778998549928,
          1.2895010214892222,
          -1.0644429806679216,
          -0.43004607122671684,
          0.31809623885438454,
          0.20556538045975117,
          0.04770613444546337,
          -0.13348555070784276,
          0.6252789967721484,
          -0.9167494564573351,
          -0.5693928827515384,
          1.6882142715481718,
          -0.6760197956265165,
          0.5898625141551448,
          -0.3019476665041306,
          0.8194331535066512,
          -0.7596131374449068,
          -0.8442062612221812,
          0.854585534391039,
          0.7623074263995253,
          0.10715856200218632,
          0.15854307897790754,
          0.057867767618876104,
          -1.4590132144587633,
          -0.48774141554444655,
          -0.3489465166930348,
          -0.06395183331789477,
          -0.7910192977047932,
          1.1702435224480037,
          0.5174062815181917,
          1.7966086539091877
         ],
         "y": [
          0.04946243330921958,
          -0.21132604191476,
          0.6315648277657439,
          -0.2584149395608338,
          -0.7523781847700044,
          1.2036525985939475,
          1.5495270140700883,
          0.09388496280413158,
          0.6997786499037146,
          -0.3630767395314691,
          1.8035882864392776,
          -0.6165594656592737,
          -0.9133420425190572,
          -0.07494822915660578,
          1.6863632081187285,
          -0.8135841746988001,
          -2.2015339463447927,
          -0.5210705046298467,
          0.9931310157868933,
          -1.1788053040677775,
          0.4226878840678489,
          0.7620650913636373,
          0.4989719487748791,
          -0.29798089927771654,
          0.2771439125581732,
          -0.5030937366783972,
          0.7034719713030996,
          -0.20973141098206116,
          -0.4412309369018713,
          -0.7485023553513923,
          0.19238228302486748,
          -0.3708395873401066,
          -0.25058735661040316,
          1.036202159912558,
          0.8898810118851016,
          -1.7452658734895148,
          -1.4235741391628185,
          -0.09207445941181541,
          0.05841692620138342,
          0.46591123520293437,
          -0.1524612274278734,
          0.7233984671915831,
          -0.357923332044167,
          -1.1153763934433358,
          -0.2223040125890945,
          0.6595987896207895,
          0.5275433167892178,
          0.6584811824382639,
          2.2224229570487117,
          -1.3022257562225927,
          0.6056946733996742,
          0.24738080469115548,
          1.0835798935157153,
          -0.34865061041761286,
          -0.14303663912040115,
          -0.5147841826477608,
          -1.5812753045414707,
          -0.9095389887382777,
          1.5473046018191206,
          0.08122797413360627,
          0.47490406799778706,
          -0.0774872345388296,
          0.4187426230132602,
          -0.44390492481183186,
          0.14871712550684457,
          0.17021161666783424,
          -0.9966266046835445,
          0.46425669947797965,
          -0.5295787352175079,
          -0.10922776874770161,
          0.05944356627727255,
          -0.9970150259075684,
          0.016713690916964615,
          -0.05186881568918861,
          -0.14750481876005553,
          1.1531289175785948,
          0.12147888548895808,
          1.4102170667598528,
          0.6486462127483743,
          2.4073582123624764,
          0.0050238434293378475,
          2.2466453680516745,
          1.3731646950215053,
          0.0481656177837051,
          0.4885989141516805,
          -1.1003903195942977,
          0.9872266674469901,
          -1.306625795959791,
          -0.9450950182267314,
          1.3020625393122665,
          1.1061683763695591,
          -1.3645015526517559,
          -0.19503219559189425,
          0.08502098989088742,
          -1.3047539944220343,
          -1.1268790001891036,
          0.05680571626761626,
          -0.2607909597711796,
          0.4579837458629166,
          0.8708816973815268
         ]
        }
       ],
       "layout": {
        "legend": {
         "bgcolor": "#F5F6F9",
         "font": {
          "color": "#4D5663"
         }
        },
        "paper_bgcolor": "#F5F6F9",
        "plot_bgcolor": "#F5F6F9",
        "template": {
         "data": {
          "bar": [
           {
            "error_x": {
             "color": "#2a3f5f"
            },
            "error_y": {
             "color": "#2a3f5f"
            },
            "marker": {
             "line": {
              "color": "#E5ECF6",
              "width": 0.5
             },
             "pattern": {
              "fillmode": "overlay",
              "size": 10,
              "solidity": 0.2
             }
            },
            "type": "bar"
           }
          ],
          "barpolar": [
           {
            "marker": {
             "line": {
              "color": "#E5ECF6",
              "width": 0.5
             },
             "pattern": {
              "fillmode": "overlay",
              "size": 10,
              "solidity": 0.2
             }
            },
            "type": "barpolar"
           }
          ],
          "carpet": [
           {
            "aaxis": {
             "endlinecolor": "#2a3f5f",
             "gridcolor": "white",
             "linecolor": "white",
             "minorgridcolor": "white",
             "startlinecolor": "#2a3f5f"
            },
            "baxis": {
             "endlinecolor": "#2a3f5f",
             "gridcolor": "white",
             "linecolor": "white",
             "minorgridcolor": "white",
             "startlinecolor": "#2a3f5f"
            },
            "type": "carpet"
           }
          ],
          "choropleth": [
           {
            "colorbar": {
             "outlinewidth": 0,
             "ticks": ""
            },
            "type": "choropleth"
           }
          ],
          "contour": [
           {
            "colorbar": {
             "outlinewidth": 0,
             "ticks": ""
            },
            "colorscale": [
             [
              0,
              "#0d0887"
             ],
             [
              0.1111111111111111,
              "#46039f"
             ],
             [
              0.2222222222222222,
              "#7201a8"
             ],
             [
              0.3333333333333333,
              "#9c179e"
             ],
             [
              0.4444444444444444,
              "#bd3786"
             ],
             [
              0.5555555555555556,
              "#d8576b"
             ],
             [
              0.6666666666666666,
              "#ed7953"
             ],
             [
              0.7777777777777778,
              "#fb9f3a"
             ],
             [
              0.8888888888888888,
              "#fdca26"
             ],
             [
              1,
              "#f0f921"
             ]
            ],
            "type": "contour"
           }
          ],
          "contourcarpet": [
           {
            "colorbar": {
             "outlinewidth": 0,
             "ticks": ""
            },
            "type": "contourcarpet"
           }
          ],
          "heatmap": [
           {
            "colorbar": {
             "outlinewidth": 0,
             "ticks": ""
            },
            "colorscale": [
             [
              0,
              "#0d0887"
             ],
             [
              0.1111111111111111,
              "#46039f"
             ],
             [
              0.2222222222222222,
              "#7201a8"
             ],
             [
              0.3333333333333333,
              "#9c179e"
             ],
             [
              0.4444444444444444,
              "#bd3786"
             ],
             [
              0.5555555555555556,
              "#d8576b"
             ],
             [
              0.6666666666666666,
              "#ed7953"
             ],
             [
              0.7777777777777778,
              "#fb9f3a"
             ],
             [
              0.8888888888888888,
              "#fdca26"
             ],
             [
              1,
              "#f0f921"
             ]
            ],
            "type": "heatmap"
           }
          ],
          "heatmapgl": [
           {
            "colorbar": {
             "outlinewidth": 0,
             "ticks": ""
            },
            "colorscale": [
             [
              0,
              "#0d0887"
             ],
             [
              0.1111111111111111,
              "#46039f"
             ],
             [
              0.2222222222222222,
              "#7201a8"
             ],
             [
              0.3333333333333333,
              "#9c179e"
             ],
             [
              0.4444444444444444,
              "#bd3786"
             ],
             [
              0.5555555555555556,
              "#d8576b"
             ],
             [
              0.6666666666666666,
              "#ed7953"
             ],
             [
              0.7777777777777778,
              "#fb9f3a"
             ],
             [
              0.8888888888888888,
              "#fdca26"
             ],
             [
              1,
              "#f0f921"
             ]
            ],
            "type": "heatmapgl"
           }
          ],
          "histogram": [
           {
            "marker": {
             "pattern": {
              "fillmode": "overlay",
              "size": 10,
              "solidity": 0.2
             }
            },
            "type": "histogram"
           }
          ],
          "histogram2d": [
           {
            "colorbar": {
             "outlinewidth": 0,
             "ticks": ""
            },
            "colorscale": [
             [
              0,
              "#0d0887"
             ],
             [
              0.1111111111111111,
              "#46039f"
             ],
             [
              0.2222222222222222,
              "#7201a8"
             ],
             [
              0.3333333333333333,
              "#9c179e"
             ],
             [
              0.4444444444444444,
              "#bd3786"
             ],
             [
              0.5555555555555556,
              "#d8576b"
             ],
             [
              0.6666666666666666,
              "#ed7953"
             ],
             [
              0.7777777777777778,
              "#fb9f3a"
             ],
             [
              0.8888888888888888,
              "#fdca26"
             ],
             [
              1,
              "#f0f921"
             ]
            ],
            "type": "histogram2d"
           }
          ],
          "histogram2dcontour": [
           {
            "colorbar": {
             "outlinewidth": 0,
             "ticks": ""
            },
            "colorscale": [
             [
              0,
              "#0d0887"
             ],
             [
              0.1111111111111111,
              "#46039f"
             ],
             [
              0.2222222222222222,
              "#7201a8"
             ],
             [
              0.3333333333333333,
              "#9c179e"
             ],
             [
              0.4444444444444444,
              "#bd3786"
             ],
             [
              0.5555555555555556,
              "#d8576b"
             ],
             [
              0.6666666666666666,
              "#ed7953"
             ],
             [
              0.7777777777777778,
              "#fb9f3a"
             ],
             [
              0.8888888888888888,
              "#fdca26"
             ],
             [
              1,
              "#f0f921"
             ]
            ],
            "type": "histogram2dcontour"
           }
          ],
          "mesh3d": [
           {
            "colorbar": {
             "outlinewidth": 0,
             "ticks": ""
            },
            "type": "mesh3d"
           }
          ],
          "parcoords": [
           {
            "line": {
             "colorbar": {
              "outlinewidth": 0,
              "ticks": ""
             }
            },
            "type": "parcoords"
           }
          ],
          "pie": [
           {
            "automargin": true,
            "type": "pie"
           }
          ],
          "scatter": [
           {
            "fillpattern": {
             "fillmode": "overlay",
             "size": 10,
             "solidity": 0.2
            },
            "type": "scatter"
           }
          ],
          "scatter3d": [
           {
            "line": {
             "colorbar": {
              "outlinewidth": 0,
              "ticks": ""
             }
            },
            "marker": {
             "colorbar": {
              "outlinewidth": 0,
              "ticks": ""
             }
            },
            "type": "scatter3d"
           }
          ],
          "scattercarpet": [
           {
            "marker": {
             "colorbar": {
              "outlinewidth": 0,
              "ticks": ""
             }
            },
            "type": "scattercarpet"
           }
          ],
          "scattergeo": [
           {
            "marker": {
             "colorbar": {
              "outlinewidth": 0,
              "ticks": ""
             }
            },
            "type": "scattergeo"
           }
          ],
          "scattergl": [
           {
            "marker": {
             "colorbar": {
              "outlinewidth": 0,
              "ticks": ""
             }
            },
            "type": "scattergl"
           }
          ],
          "scattermapbox": [
           {
            "marker": {
             "colorbar": {
              "outlinewidth": 0,
              "ticks": ""
             }
            },
            "type": "scattermapbox"
           }
          ],
          "scatterpolar": [
           {
            "marker": {
             "colorbar": {
              "outlinewidth": 0,
              "ticks": ""
             }
            },
            "type": "scatterpolar"
           }
          ],
          "scatterpolargl": [
           {
            "marker": {
             "colorbar": {
              "outlinewidth": 0,
              "ticks": ""
             }
            },
            "type": "scatterpolargl"
           }
          ],
          "scatterternary": [
           {
            "marker": {
             "colorbar": {
              "outlinewidth": 0,
              "ticks": ""
             }
            },
            "type": "scatterternary"
           }
          ],
          "surface": [
           {
            "colorbar": {
             "outlinewidth": 0,
             "ticks": ""
            },
            "colorscale": [
             [
              0,
              "#0d0887"
             ],
             [
              0.1111111111111111,
              "#46039f"
             ],
             [
              0.2222222222222222,
              "#7201a8"
             ],
             [
              0.3333333333333333,
              "#9c179e"
             ],
             [
              0.4444444444444444,
              "#bd3786"
             ],
             [
              0.5555555555555556,
              "#d8576b"
             ],
             [
              0.6666666666666666,
              "#ed7953"
             ],
             [
              0.7777777777777778,
              "#fb9f3a"
             ],
             [
              0.8888888888888888,
              "#fdca26"
             ],
             [
              1,
              "#f0f921"
             ]
            ],
            "type": "surface"
           }
          ],
          "table": [
           {
            "cells": {
             "fill": {
              "color": "#EBF0F8"
             },
             "line": {
              "color": "white"
             }
            },
            "header": {
             "fill": {
              "color": "#C8D4E3"
             },
             "line": {
              "color": "white"
             }
            },
            "type": "table"
           }
          ]
         },
         "layout": {
          "annotationdefaults": {
           "arrowcolor": "#2a3f5f",
           "arrowhead": 0,
           "arrowwidth": 1
          },
          "autotypenumbers": "strict",
          "coloraxis": {
           "colorbar": {
            "outlinewidth": 0,
            "ticks": ""
           }
          },
          "colorscale": {
           "diverging": [
            [
             0,
             "#8e0152"
            ],
            [
             0.1,
             "#c51b7d"
            ],
            [
             0.2,
             "#de77ae"
            ],
            [
             0.3,
             "#f1b6da"
            ],
            [
             0.4,
             "#fde0ef"
            ],
            [
             0.5,
             "#f7f7f7"
            ],
            [
             0.6,
             "#e6f5d0"
            ],
            [
             0.7,
             "#b8e186"
            ],
            [
             0.8,
             "#7fbc41"
            ],
            [
             0.9,
             "#4d9221"
            ],
            [
             1,
             "#276419"
            ]
           ],
           "sequential": [
            [
             0,
             "#0d0887"
            ],
            [
             0.1111111111111111,
             "#46039f"
            ],
            [
             0.2222222222222222,
             "#7201a8"
            ],
            [
             0.3333333333333333,
             "#9c179e"
            ],
            [
             0.4444444444444444,
             "#bd3786"
            ],
            [
             0.5555555555555556,
             "#d8576b"
            ],
            [
             0.6666666666666666,
             "#ed7953"
            ],
            [
             0.7777777777777778,
             "#fb9f3a"
            ],
            [
             0.8888888888888888,
             "#fdca26"
            ],
            [
             1,
             "#f0f921"
            ]
           ],
           "sequentialminus": [
            [
             0,
             "#0d0887"
            ],
            [
             0.1111111111111111,
             "#46039f"
            ],
            [
             0.2222222222222222,
             "#7201a8"
            ],
            [
             0.3333333333333333,
             "#9c179e"
            ],
            [
             0.4444444444444444,
             "#bd3786"
            ],
            [
             0.5555555555555556,
             "#d8576b"
            ],
            [
             0.6666666666666666,
             "#ed7953"
            ],
            [
             0.7777777777777778,
             "#fb9f3a"
            ],
            [
             0.8888888888888888,
             "#fdca26"
            ],
            [
             1,
             "#f0f921"
            ]
           ]
          },
          "colorway": [
           "#636efa",
           "#EF553B",
           "#00cc96",
           "#ab63fa",
           "#FFA15A",
           "#19d3f3",
           "#FF6692",
           "#B6E880",
           "#FF97FF",
           "#FECB52"
          ],
          "font": {
           "color": "#2a3f5f"
          },
          "geo": {
           "bgcolor": "white",
           "lakecolor": "white",
           "landcolor": "#E5ECF6",
           "showlakes": true,
           "showland": true,
           "subunitcolor": "white"
          },
          "hoverlabel": {
           "align": "left"
          },
          "hovermode": "closest",
          "mapbox": {
           "style": "light"
          },
          "paper_bgcolor": "white",
          "plot_bgcolor": "#E5ECF6",
          "polar": {
           "angularaxis": {
            "gridcolor": "white",
            "linecolor": "white",
            "ticks": ""
           },
           "bgcolor": "#E5ECF6",
           "radialaxis": {
            "gridcolor": "white",
            "linecolor": "white",
            "ticks": ""
           }
          },
          "scene": {
           "xaxis": {
            "backgroundcolor": "#E5ECF6",
            "gridcolor": "white",
            "gridwidth": 2,
            "linecolor": "white",
            "showbackground": true,
            "ticks": "",
            "zerolinecolor": "white"
           },
           "yaxis": {
            "backgroundcolor": "#E5ECF6",
            "gridcolor": "white",
            "gridwidth": 2,
            "linecolor": "white",
            "showbackground": true,
            "ticks": "",
            "zerolinecolor": "white"
           },
           "zaxis": {
            "backgroundcolor": "#E5ECF6",
            "gridcolor": "white",
            "gridwidth": 2,
            "linecolor": "white",
            "showbackground": true,
            "ticks": "",
            "zerolinecolor": "white"
           }
          },
          "shapedefaults": {
           "line": {
            "color": "#2a3f5f"
           }
          },
          "ternary": {
           "aaxis": {
            "gridcolor": "white",
            "linecolor": "white",
            "ticks": ""
           },
           "baxis": {
            "gridcolor": "white",
            "linecolor": "white",
            "ticks": ""
           },
           "bgcolor": "#E5ECF6",
           "caxis": {
            "gridcolor": "white",
            "linecolor": "white",
            "ticks": ""
           }
          },
          "title": {
           "x": 0.05
          },
          "xaxis": {
           "automargin": true,
           "gridcolor": "white",
           "linecolor": "white",
           "ticks": "",
           "title": {
            "standoff": 15
           },
           "zerolinecolor": "white",
           "zerolinewidth": 2
          },
          "yaxis": {
           "automargin": true,
           "gridcolor": "white",
           "linecolor": "white",
           "ticks": "",
           "title": {
            "standoff": 15
           },
           "zerolinecolor": "white",
           "zerolinewidth": 2
          }
         }
        },
        "title": {
         "font": {
          "color": "#4D5663"
         }
        },
        "xaxis": {
         "gridcolor": "#E1E5ED",
         "showgrid": true,
         "tickfont": {
          "color": "#4D5663"
         },
         "title": {
          "font": {
           "color": "#4D5663"
          },
          "text": ""
         },
         "zerolinecolor": "#E1E5ED"
        },
        "yaxis": {
         "gridcolor": "#E1E5ED",
         "showgrid": true,
         "tickfont": {
          "color": "#4D5663"
         },
         "title": {
          "font": {
           "color": "#4D5663"
          },
          "text": ""
         },
         "zerolinecolor": "#E1E5ED"
        }
       }
      },
      "text/html": [
       "<div>                            <div id=\"cbcfd3e2-17af-47b3-8c44-348fae3b0b95\" class=\"plotly-graph-div\" style=\"height:525px; width:100%;\"></div>            <script type=\"text/javascript\">                require([\"plotly\"], function(Plotly) {                    window.PLOTLYENV=window.PLOTLYENV || {};\n",
       "                    window.PLOTLYENV.BASE_URL='https://plot.ly';                                    if (document.getElementById(\"cbcfd3e2-17af-47b3-8c44-348fae3b0b95\")) {                    Plotly.newPlot(                        \"cbcfd3e2-17af-47b3-8c44-348fae3b0b95\",                        [{\"line\":{\"color\":\"rgba(255, 153, 51, 1.0)\",\"dash\":\"solid\",\"shape\":\"linear\",\"width\":1.3},\"marker\":{\"size\":10,\"symbol\":\"circle\"},\"mode\":\"markers\",\"name\":\"B\",\"text\":\"\",\"x\":[-1.01612056617424,-0.7350362729323395,-0.6122344159390835,-1.0027127217759482,0.6411615685148131,0.47054386141649224,-0.3547328503486203,0.5313897386555986,0.04005341849319595,0.4423853922330872,1.3453508268296637,0.46001510288976716,-1.0939154713762969,-0.9852507089728771,1.1842337940231193,0.035400627751505785,-0.8882653234232453,-1.5314639222981914,-0.5498478145222545,-1.1084877212359212,0.3566775880042968,-1.7659823693479608,0.6590213829373882,0.5101739140474232,1.0131382954891477,0.46360951537076245,-2.2895716540127333,0.922733121512306,-2.557030031114763,1.128622390956555,1.1549251499099884,2.01391053886995,-0.2611627431791524,-0.5147868612849658,-2.431060922279289,-0.7672583181291373,-2.298902785100592,-0.8083345255784181,0.2687189200294319,-2.4985563849216605,-1.2763984060165428,0.14579832380677238,2.315288436192335,-0.3540222252792673,0.29763132128657227,-1.1886877350578477,0.017012621121949425,-0.6808860648653475,0.757493784133554,0.9915664549970045,-0.6397343935683023,0.3180139455896008,-0.35297824713507286,0.6286073348907657,-1.6798064798568504,-0.4133960959978084,1.5336438528557266,1.342908308677851,-1.995429266989642,-2.0367965458065433,0.9181910529018176,0.14209313446350563,2.4097474856859527,-0.6500226963721444,-0.8030245972209434,0.4116989497641564,-1.6143766990106465,-1.3296246735863992,0.9626011835038869,-0.3121778998549928,1.2895010214892222,-1.0644429806679216,-0.43004607122671684,0.31809623885438454,0.20556538045975117,0.04770613444546337,-0.13348555070784276,0.6252789967721484,-0.9167494564573351,-0.5693928827515384,1.6882142715481718,-0.6760197956265165,0.5898625141551448,-0.3019476665041306,0.8194331535066512,-0.7596131374449068,-0.8442062612221812,0.854585534391039,0.7623074263995253,0.10715856200218632,0.15854307897790754,0.057867767618876104,-1.4590132144587633,-0.48774141554444655,-0.3489465166930348,-0.06395183331789477,-0.7910192977047932,1.1702435224480037,0.5174062815181917,1.7966086539091877],\"y\":[0.04946243330921958,-0.21132604191476,0.6315648277657439,-0.2584149395608338,-0.7523781847700044,1.2036525985939475,1.5495270140700883,0.09388496280413158,0.6997786499037146,-0.3630767395314691,1.8035882864392776,-0.6165594656592737,-0.9133420425190572,-0.07494822915660578,1.6863632081187285,-0.8135841746988001,-2.2015339463447927,-0.5210705046298467,0.9931310157868933,-1.1788053040677775,0.4226878840678489,0.7620650913636373,0.4989719487748791,-0.29798089927771654,0.2771439125581732,-0.5030937366783972,0.7034719713030996,-0.20973141098206116,-0.4412309369018713,-0.7485023553513923,0.19238228302486748,-0.3708395873401066,-0.25058735661040316,1.036202159912558,0.8898810118851016,-1.7452658734895148,-1.4235741391628185,-0.09207445941181541,0.05841692620138342,0.46591123520293437,-0.1524612274278734,0.7233984671915831,-0.357923332044167,-1.1153763934433358,-0.2223040125890945,0.6595987896207895,0.5275433167892178,0.6584811824382639,2.2224229570487117,-1.3022257562225927,0.6056946733996742,0.24738080469115548,1.0835798935157153,-0.34865061041761286,-0.14303663912040115,-0.5147841826477608,-1.5812753045414707,-0.9095389887382777,1.5473046018191206,0.08122797413360627,0.47490406799778706,-0.0774872345388296,0.4187426230132602,-0.44390492481183186,0.14871712550684457,0.17021161666783424,-0.9966266046835445,0.46425669947797965,-0.5295787352175079,-0.10922776874770161,0.05944356627727255,-0.9970150259075684,0.016713690916964615,-0.05186881568918861,-0.14750481876005553,1.1531289175785948,0.12147888548895808,1.4102170667598528,0.6486462127483743,2.4073582123624764,0.0050238434293378475,2.2466453680516745,1.3731646950215053,0.0481656177837051,0.4885989141516805,-1.1003903195942977,0.9872266674469901,-1.306625795959791,-0.9450950182267314,1.3020625393122665,1.1061683763695591,-1.3645015526517559,-0.19503219559189425,0.08502098989088742,-1.3047539944220343,-1.1268790001891036,0.05680571626761626,-0.2607909597711796,0.4579837458629166,0.8708816973815268],\"type\":\"scatter\"}],                        {\"legend\":{\"bgcolor\":\"#F5F6F9\",\"font\":{\"color\":\"#4D5663\"}},\"paper_bgcolor\":\"#F5F6F9\",\"plot_bgcolor\":\"#F5F6F9\",\"template\":{\"data\":{\"barpolar\":[{\"marker\":{\"line\":{\"color\":\"#E5ECF6\",\"width\":0.5},\"pattern\":{\"fillmode\":\"overlay\",\"size\":10,\"solidity\":0.2}},\"type\":\"barpolar\"}],\"bar\":[{\"error_x\":{\"color\":\"#2a3f5f\"},\"error_y\":{\"color\":\"#2a3f5f\"},\"marker\":{\"line\":{\"color\":\"#E5ECF6\",\"width\":0.5},\"pattern\":{\"fillmode\":\"overlay\",\"size\":10,\"solidity\":0.2}},\"type\":\"bar\"}],\"carpet\":[{\"aaxis\":{\"endlinecolor\":\"#2a3f5f\",\"gridcolor\":\"white\",\"linecolor\":\"white\",\"minorgridcolor\":\"white\",\"startlinecolor\":\"#2a3f5f\"},\"baxis\":{\"endlinecolor\":\"#2a3f5f\",\"gridcolor\":\"white\",\"linecolor\":\"white\",\"minorgridcolor\":\"white\",\"startlinecolor\":\"#2a3f5f\"},\"type\":\"carpet\"}],\"choropleth\":[{\"colorbar\":{\"outlinewidth\":0,\"ticks\":\"\"},\"type\":\"choropleth\"}],\"contourcarpet\":[{\"colorbar\":{\"outlinewidth\":0,\"ticks\":\"\"},\"type\":\"contourcarpet\"}],\"contour\":[{\"colorbar\":{\"outlinewidth\":0,\"ticks\":\"\"},\"colorscale\":[[0.0,\"#0d0887\"],[0.1111111111111111,\"#46039f\"],[0.2222222222222222,\"#7201a8\"],[0.3333333333333333,\"#9c179e\"],[0.4444444444444444,\"#bd3786\"],[0.5555555555555556,\"#d8576b\"],[0.6666666666666666,\"#ed7953\"],[0.7777777777777778,\"#fb9f3a\"],[0.8888888888888888,\"#fdca26\"],[1.0,\"#f0f921\"]],\"type\":\"contour\"}],\"heatmapgl\":[{\"colorbar\":{\"outlinewidth\":0,\"ticks\":\"\"},\"colorscale\":[[0.0,\"#0d0887\"],[0.1111111111111111,\"#46039f\"],[0.2222222222222222,\"#7201a8\"],[0.3333333333333333,\"#9c179e\"],[0.4444444444444444,\"#bd3786\"],[0.5555555555555556,\"#d8576b\"],[0.6666666666666666,\"#ed7953\"],[0.7777777777777778,\"#fb9f3a\"],[0.8888888888888888,\"#fdca26\"],[1.0,\"#f0f921\"]],\"type\":\"heatmapgl\"}],\"heatmap\":[{\"colorbar\":{\"outlinewidth\":0,\"ticks\":\"\"},\"colorscale\":[[0.0,\"#0d0887\"],[0.1111111111111111,\"#46039f\"],[0.2222222222222222,\"#7201a8\"],[0.3333333333333333,\"#9c179e\"],[0.4444444444444444,\"#bd3786\"],[0.5555555555555556,\"#d8576b\"],[0.6666666666666666,\"#ed7953\"],[0.7777777777777778,\"#fb9f3a\"],[0.8888888888888888,\"#fdca26\"],[1.0,\"#f0f921\"]],\"type\":\"heatmap\"}],\"histogram2dcontour\":[{\"colorbar\":{\"outlinewidth\":0,\"ticks\":\"\"},\"colorscale\":[[0.0,\"#0d0887\"],[0.1111111111111111,\"#46039f\"],[0.2222222222222222,\"#7201a8\"],[0.3333333333333333,\"#9c179e\"],[0.4444444444444444,\"#bd3786\"],[0.5555555555555556,\"#d8576b\"],[0.6666666666666666,\"#ed7953\"],[0.7777777777777778,\"#fb9f3a\"],[0.8888888888888888,\"#fdca26\"],[1.0,\"#f0f921\"]],\"type\":\"histogram2dcontour\"}],\"histogram2d\":[{\"colorbar\":{\"outlinewidth\":0,\"ticks\":\"\"},\"colorscale\":[[0.0,\"#0d0887\"],[0.1111111111111111,\"#46039f\"],[0.2222222222222222,\"#7201a8\"],[0.3333333333333333,\"#9c179e\"],[0.4444444444444444,\"#bd3786\"],[0.5555555555555556,\"#d8576b\"],[0.6666666666666666,\"#ed7953\"],[0.7777777777777778,\"#fb9f3a\"],[0.8888888888888888,\"#fdca26\"],[1.0,\"#f0f921\"]],\"type\":\"histogram2d\"}],\"histogram\":[{\"marker\":{\"pattern\":{\"fillmode\":\"overlay\",\"size\":10,\"solidity\":0.2}},\"type\":\"histogram\"}],\"mesh3d\":[{\"colorbar\":{\"outlinewidth\":0,\"ticks\":\"\"},\"type\":\"mesh3d\"}],\"parcoords\":[{\"line\":{\"colorbar\":{\"outlinewidth\":0,\"ticks\":\"\"}},\"type\":\"parcoords\"}],\"pie\":[{\"automargin\":true,\"type\":\"pie\"}],\"scatter3d\":[{\"line\":{\"colorbar\":{\"outlinewidth\":0,\"ticks\":\"\"}},\"marker\":{\"colorbar\":{\"outlinewidth\":0,\"ticks\":\"\"}},\"type\":\"scatter3d\"}],\"scattercarpet\":[{\"marker\":{\"colorbar\":{\"outlinewidth\":0,\"ticks\":\"\"}},\"type\":\"scattercarpet\"}],\"scattergeo\":[{\"marker\":{\"colorbar\":{\"outlinewidth\":0,\"ticks\":\"\"}},\"type\":\"scattergeo\"}],\"scattergl\":[{\"marker\":{\"colorbar\":{\"outlinewidth\":0,\"ticks\":\"\"}},\"type\":\"scattergl\"}],\"scattermapbox\":[{\"marker\":{\"colorbar\":{\"outlinewidth\":0,\"ticks\":\"\"}},\"type\":\"scattermapbox\"}],\"scatterpolargl\":[{\"marker\":{\"colorbar\":{\"outlinewidth\":0,\"ticks\":\"\"}},\"type\":\"scatterpolargl\"}],\"scatterpolar\":[{\"marker\":{\"colorbar\":{\"outlinewidth\":0,\"ticks\":\"\"}},\"type\":\"scatterpolar\"}],\"scatter\":[{\"fillpattern\":{\"fillmode\":\"overlay\",\"size\":10,\"solidity\":0.2},\"type\":\"scatter\"}],\"scatterternary\":[{\"marker\":{\"colorbar\":{\"outlinewidth\":0,\"ticks\":\"\"}},\"type\":\"scatterternary\"}],\"surface\":[{\"colorbar\":{\"outlinewidth\":0,\"ticks\":\"\"},\"colorscale\":[[0.0,\"#0d0887\"],[0.1111111111111111,\"#46039f\"],[0.2222222222222222,\"#7201a8\"],[0.3333333333333333,\"#9c179e\"],[0.4444444444444444,\"#bd3786\"],[0.5555555555555556,\"#d8576b\"],[0.6666666666666666,\"#ed7953\"],[0.7777777777777778,\"#fb9f3a\"],[0.8888888888888888,\"#fdca26\"],[1.0,\"#f0f921\"]],\"type\":\"surface\"}],\"table\":[{\"cells\":{\"fill\":{\"color\":\"#EBF0F8\"},\"line\":{\"color\":\"white\"}},\"header\":{\"fill\":{\"color\":\"#C8D4E3\"},\"line\":{\"color\":\"white\"}},\"type\":\"table\"}]},\"layout\":{\"annotationdefaults\":{\"arrowcolor\":\"#2a3f5f\",\"arrowhead\":0,\"arrowwidth\":1},\"autotypenumbers\":\"strict\",\"coloraxis\":{\"colorbar\":{\"outlinewidth\":0,\"ticks\":\"\"}},\"colorscale\":{\"diverging\":[[0,\"#8e0152\"],[0.1,\"#c51b7d\"],[0.2,\"#de77ae\"],[0.3,\"#f1b6da\"],[0.4,\"#fde0ef\"],[0.5,\"#f7f7f7\"],[0.6,\"#e6f5d0\"],[0.7,\"#b8e186\"],[0.8,\"#7fbc41\"],[0.9,\"#4d9221\"],[1,\"#276419\"]],\"sequential\":[[0.0,\"#0d0887\"],[0.1111111111111111,\"#46039f\"],[0.2222222222222222,\"#7201a8\"],[0.3333333333333333,\"#9c179e\"],[0.4444444444444444,\"#bd3786\"],[0.5555555555555556,\"#d8576b\"],[0.6666666666666666,\"#ed7953\"],[0.7777777777777778,\"#fb9f3a\"],[0.8888888888888888,\"#fdca26\"],[1.0,\"#f0f921\"]],\"sequentialminus\":[[0.0,\"#0d0887\"],[0.1111111111111111,\"#46039f\"],[0.2222222222222222,\"#7201a8\"],[0.3333333333333333,\"#9c179e\"],[0.4444444444444444,\"#bd3786\"],[0.5555555555555556,\"#d8576b\"],[0.6666666666666666,\"#ed7953\"],[0.7777777777777778,\"#fb9f3a\"],[0.8888888888888888,\"#fdca26\"],[1.0,\"#f0f921\"]]},\"colorway\":[\"#636efa\",\"#EF553B\",\"#00cc96\",\"#ab63fa\",\"#FFA15A\",\"#19d3f3\",\"#FF6692\",\"#B6E880\",\"#FF97FF\",\"#FECB52\"],\"font\":{\"color\":\"#2a3f5f\"},\"geo\":{\"bgcolor\":\"white\",\"lakecolor\":\"white\",\"landcolor\":\"#E5ECF6\",\"showlakes\":true,\"showland\":true,\"subunitcolor\":\"white\"},\"hoverlabel\":{\"align\":\"left\"},\"hovermode\":\"closest\",\"mapbox\":{\"style\":\"light\"},\"paper_bgcolor\":\"white\",\"plot_bgcolor\":\"#E5ECF6\",\"polar\":{\"angularaxis\":{\"gridcolor\":\"white\",\"linecolor\":\"white\",\"ticks\":\"\"},\"bgcolor\":\"#E5ECF6\",\"radialaxis\":{\"gridcolor\":\"white\",\"linecolor\":\"white\",\"ticks\":\"\"}},\"scene\":{\"xaxis\":{\"backgroundcolor\":\"#E5ECF6\",\"gridcolor\":\"white\",\"gridwidth\":2,\"linecolor\":\"white\",\"showbackground\":true,\"ticks\":\"\",\"zerolinecolor\":\"white\"},\"yaxis\":{\"backgroundcolor\":\"#E5ECF6\",\"gridcolor\":\"white\",\"gridwidth\":2,\"linecolor\":\"white\",\"showbackground\":true,\"ticks\":\"\",\"zerolinecolor\":\"white\"},\"zaxis\":{\"backgroundcolor\":\"#E5ECF6\",\"gridcolor\":\"white\",\"gridwidth\":2,\"linecolor\":\"white\",\"showbackground\":true,\"ticks\":\"\",\"zerolinecolor\":\"white\"}},\"shapedefaults\":{\"line\":{\"color\":\"#2a3f5f\"}},\"ternary\":{\"aaxis\":{\"gridcolor\":\"white\",\"linecolor\":\"white\",\"ticks\":\"\"},\"baxis\":{\"gridcolor\":\"white\",\"linecolor\":\"white\",\"ticks\":\"\"},\"bgcolor\":\"#E5ECF6\",\"caxis\":{\"gridcolor\":\"white\",\"linecolor\":\"white\",\"ticks\":\"\"}},\"title\":{\"x\":0.05},\"xaxis\":{\"automargin\":true,\"gridcolor\":\"white\",\"linecolor\":\"white\",\"ticks\":\"\",\"title\":{\"standoff\":15},\"zerolinecolor\":\"white\",\"zerolinewidth\":2},\"yaxis\":{\"automargin\":true,\"gridcolor\":\"white\",\"linecolor\":\"white\",\"ticks\":\"\",\"title\":{\"standoff\":15},\"zerolinecolor\":\"white\",\"zerolinewidth\":2}}},\"title\":{\"font\":{\"color\":\"#4D5663\"}},\"xaxis\":{\"gridcolor\":\"#E1E5ED\",\"showgrid\":true,\"tickfont\":{\"color\":\"#4D5663\"},\"title\":{\"font\":{\"color\":\"#4D5663\"},\"text\":\"\"},\"zerolinecolor\":\"#E1E5ED\"},\"yaxis\":{\"gridcolor\":\"#E1E5ED\",\"showgrid\":true,\"tickfont\":{\"color\":\"#4D5663\"},\"title\":{\"font\":{\"color\":\"#4D5663\"},\"text\":\"\"},\"zerolinecolor\":\"#E1E5ED\"}},                        {\"showLink\": true, \"linkText\": \"Export to plot.ly\", \"plotlyServerURL\": \"https://plot.ly\", \"responsive\": true}                    ).then(function(){\n",
       "                            \n",
       "var gd = document.getElementById('cbcfd3e2-17af-47b3-8c44-348fae3b0b95');\n",
       "var x = new MutationObserver(function (mutations, observer) {{\n",
       "        var display = window.getComputedStyle(gd).display;\n",
       "        if (!display || display === 'none') {{\n",
       "            console.log([gd, 'removed!']);\n",
       "            Plotly.purge(gd);\n",
       "            observer.disconnect();\n",
       "        }}\n",
       "}});\n",
       "\n",
       "// Listen for the removal of the full notebook cells\n",
       "var notebookContainer = gd.closest('#notebook-container');\n",
       "if (notebookContainer) {{\n",
       "    x.observe(notebookContainer, {childList: true});\n",
       "}}\n",
       "\n",
       "// Listen for the clearing of the current output cell\n",
       "var outputEl = gd.closest('.output');\n",
       "if (outputEl) {{\n",
       "    x.observe(outputEl, {childList: true});\n",
       "}}\n",
       "\n",
       "                        })                };                });            </script>        </div>"
      ]
     },
     "metadata": {},
     "output_type": "display_data"
    }
   ],
   "source": [
    "df.iplot(kind='scatter',x='A',y='B', mode='markers',size=10)"
   ]
  },
  {
   "cell_type": "markdown",
   "metadata": {},
   "source": [
    "## Bar Plots"
   ]
  },
  {
   "cell_type": "code",
   "execution_count": 14,
   "metadata": {},
   "outputs": [
    {
     "data": {
      "application/vnd.plotly.v1+json": {
       "config": {
        "linkText": "Export to plot.ly",
        "plotlyServerURL": "https://plot.ly",
        "showLink": true
       },
       "data": [
        {
         "marker": {
          "color": "rgba(255, 153, 51, 0.6)",
          "line": {
           "color": "rgba(255, 153, 51, 1.0)",
           "width": 1
          }
         },
         "name": "Values",
         "orientation": "v",
         "text": "",
         "type": "bar",
         "x": [
          "A",
          "B",
          "C"
         ],
         "y": [
          32,
          43,
          50
         ]
        }
       ],
       "layout": {
        "legend": {
         "bgcolor": "#F5F6F9",
         "font": {
          "color": "#4D5663"
         }
        },
        "paper_bgcolor": "#F5F6F9",
        "plot_bgcolor": "#F5F6F9",
        "template": {
         "data": {
          "bar": [
           {
            "error_x": {
             "color": "#2a3f5f"
            },
            "error_y": {
             "color": "#2a3f5f"
            },
            "marker": {
             "line": {
              "color": "#E5ECF6",
              "width": 0.5
             },
             "pattern": {
              "fillmode": "overlay",
              "size": 10,
              "solidity": 0.2
             }
            },
            "type": "bar"
           }
          ],
          "barpolar": [
           {
            "marker": {
             "line": {
              "color": "#E5ECF6",
              "width": 0.5
             },
             "pattern": {
              "fillmode": "overlay",
              "size": 10,
              "solidity": 0.2
             }
            },
            "type": "barpolar"
           }
          ],
          "carpet": [
           {
            "aaxis": {
             "endlinecolor": "#2a3f5f",
             "gridcolor": "white",
             "linecolor": "white",
             "minorgridcolor": "white",
             "startlinecolor": "#2a3f5f"
            },
            "baxis": {
             "endlinecolor": "#2a3f5f",
             "gridcolor": "white",
             "linecolor": "white",
             "minorgridcolor": "white",
             "startlinecolor": "#2a3f5f"
            },
            "type": "carpet"
           }
          ],
          "choropleth": [
           {
            "colorbar": {
             "outlinewidth": 0,
             "ticks": ""
            },
            "type": "choropleth"
           }
          ],
          "contour": [
           {
            "colorbar": {
             "outlinewidth": 0,
             "ticks": ""
            },
            "colorscale": [
             [
              0,
              "#0d0887"
             ],
             [
              0.1111111111111111,
              "#46039f"
             ],
             [
              0.2222222222222222,
              "#7201a8"
             ],
             [
              0.3333333333333333,
              "#9c179e"
             ],
             [
              0.4444444444444444,
              "#bd3786"
             ],
             [
              0.5555555555555556,
              "#d8576b"
             ],
             [
              0.6666666666666666,
              "#ed7953"
             ],
             [
              0.7777777777777778,
              "#fb9f3a"
             ],
             [
              0.8888888888888888,
              "#fdca26"
             ],
             [
              1,
              "#f0f921"
             ]
            ],
            "type": "contour"
           }
          ],
          "contourcarpet": [
           {
            "colorbar": {
             "outlinewidth": 0,
             "ticks": ""
            },
            "type": "contourcarpet"
           }
          ],
          "heatmap": [
           {
            "colorbar": {
             "outlinewidth": 0,
             "ticks": ""
            },
            "colorscale": [
             [
              0,
              "#0d0887"
             ],
             [
              0.1111111111111111,
              "#46039f"
             ],
             [
              0.2222222222222222,
              "#7201a8"
             ],
             [
              0.3333333333333333,
              "#9c179e"
             ],
             [
              0.4444444444444444,
              "#bd3786"
             ],
             [
              0.5555555555555556,
              "#d8576b"
             ],
             [
              0.6666666666666666,
              "#ed7953"
             ],
             [
              0.7777777777777778,
              "#fb9f3a"
             ],
             [
              0.8888888888888888,
              "#fdca26"
             ],
             [
              1,
              "#f0f921"
             ]
            ],
            "type": "heatmap"
           }
          ],
          "heatmapgl": [
           {
            "colorbar": {
             "outlinewidth": 0,
             "ticks": ""
            },
            "colorscale": [
             [
              0,
              "#0d0887"
             ],
             [
              0.1111111111111111,
              "#46039f"
             ],
             [
              0.2222222222222222,
              "#7201a8"
             ],
             [
              0.3333333333333333,
              "#9c179e"
             ],
             [
              0.4444444444444444,
              "#bd3786"
             ],
             [
              0.5555555555555556,
              "#d8576b"
             ],
             [
              0.6666666666666666,
              "#ed7953"
             ],
             [
              0.7777777777777778,
              "#fb9f3a"
             ],
             [
              0.8888888888888888,
              "#fdca26"
             ],
             [
              1,
              "#f0f921"
             ]
            ],
            "type": "heatmapgl"
           }
          ],
          "histogram": [
           {
            "marker": {
             "pattern": {
              "fillmode": "overlay",
              "size": 10,
              "solidity": 0.2
             }
            },
            "type": "histogram"
           }
          ],
          "histogram2d": [
           {
            "colorbar": {
             "outlinewidth": 0,
             "ticks": ""
            },
            "colorscale": [
             [
              0,
              "#0d0887"
             ],
             [
              0.1111111111111111,
              "#46039f"
             ],
             [
              0.2222222222222222,
              "#7201a8"
             ],
             [
              0.3333333333333333,
              "#9c179e"
             ],
             [
              0.4444444444444444,
              "#bd3786"
             ],
             [
              0.5555555555555556,
              "#d8576b"
             ],
             [
              0.6666666666666666,
              "#ed7953"
             ],
             [
              0.7777777777777778,
              "#fb9f3a"
             ],
             [
              0.8888888888888888,
              "#fdca26"
             ],
             [
              1,
              "#f0f921"
             ]
            ],
            "type": "histogram2d"
           }
          ],
          "histogram2dcontour": [
           {
            "colorbar": {
             "outlinewidth": 0,
             "ticks": ""
            },
            "colorscale": [
             [
              0,
              "#0d0887"
             ],
             [
              0.1111111111111111,
              "#46039f"
             ],
             [
              0.2222222222222222,
              "#7201a8"
             ],
             [
              0.3333333333333333,
              "#9c179e"
             ],
             [
              0.4444444444444444,
              "#bd3786"
             ],
             [
              0.5555555555555556,
              "#d8576b"
             ],
             [
              0.6666666666666666,
              "#ed7953"
             ],
             [
              0.7777777777777778,
              "#fb9f3a"
             ],
             [
              0.8888888888888888,
              "#fdca26"
             ],
             [
              1,
              "#f0f921"
             ]
            ],
            "type": "histogram2dcontour"
           }
          ],
          "mesh3d": [
           {
            "colorbar": {
             "outlinewidth": 0,
             "ticks": ""
            },
            "type": "mesh3d"
           }
          ],
          "parcoords": [
           {
            "line": {
             "colorbar": {
              "outlinewidth": 0,
              "ticks": ""
             }
            },
            "type": "parcoords"
           }
          ],
          "pie": [
           {
            "automargin": true,
            "type": "pie"
           }
          ],
          "scatter": [
           {
            "fillpattern": {
             "fillmode": "overlay",
             "size": 10,
             "solidity": 0.2
            },
            "type": "scatter"
           }
          ],
          "scatter3d": [
           {
            "line": {
             "colorbar": {
              "outlinewidth": 0,
              "ticks": ""
             }
            },
            "marker": {
             "colorbar": {
              "outlinewidth": 0,
              "ticks": ""
             }
            },
            "type": "scatter3d"
           }
          ],
          "scattercarpet": [
           {
            "marker": {
             "colorbar": {
              "outlinewidth": 0,
              "ticks": ""
             }
            },
            "type": "scattercarpet"
           }
          ],
          "scattergeo": [
           {
            "marker": {
             "colorbar": {
              "outlinewidth": 0,
              "ticks": ""
             }
            },
            "type": "scattergeo"
           }
          ],
          "scattergl": [
           {
            "marker": {
             "colorbar": {
              "outlinewidth": 0,
              "ticks": ""
             }
            },
            "type": "scattergl"
           }
          ],
          "scattermapbox": [
           {
            "marker": {
             "colorbar": {
              "outlinewidth": 0,
              "ticks": ""
             }
            },
            "type": "scattermapbox"
           }
          ],
          "scatterpolar": [
           {
            "marker": {
             "colorbar": {
              "outlinewidth": 0,
              "ticks": ""
             }
            },
            "type": "scatterpolar"
           }
          ],
          "scatterpolargl": [
           {
            "marker": {
             "colorbar": {
              "outlinewidth": 0,
              "ticks": ""
             }
            },
            "type": "scatterpolargl"
           }
          ],
          "scatterternary": [
           {
            "marker": {
             "colorbar": {
              "outlinewidth": 0,
              "ticks": ""
             }
            },
            "type": "scatterternary"
           }
          ],
          "surface": [
           {
            "colorbar": {
             "outlinewidth": 0,
             "ticks": ""
            },
            "colorscale": [
             [
              0,
              "#0d0887"
             ],
             [
              0.1111111111111111,
              "#46039f"
             ],
             [
              0.2222222222222222,
              "#7201a8"
             ],
             [
              0.3333333333333333,
              "#9c179e"
             ],
             [
              0.4444444444444444,
              "#bd3786"
             ],
             [
              0.5555555555555556,
              "#d8576b"
             ],
             [
              0.6666666666666666,
              "#ed7953"
             ],
             [
              0.7777777777777778,
              "#fb9f3a"
             ],
             [
              0.8888888888888888,
              "#fdca26"
             ],
             [
              1,
              "#f0f921"
             ]
            ],
            "type": "surface"
           }
          ],
          "table": [
           {
            "cells": {
             "fill": {
              "color": "#EBF0F8"
             },
             "line": {
              "color": "white"
             }
            },
            "header": {
             "fill": {
              "color": "#C8D4E3"
             },
             "line": {
              "color": "white"
             }
            },
            "type": "table"
           }
          ]
         },
         "layout": {
          "annotationdefaults": {
           "arrowcolor": "#2a3f5f",
           "arrowhead": 0,
           "arrowwidth": 1
          },
          "autotypenumbers": "strict",
          "coloraxis": {
           "colorbar": {
            "outlinewidth": 0,
            "ticks": ""
           }
          },
          "colorscale": {
           "diverging": [
            [
             0,
             "#8e0152"
            ],
            [
             0.1,
             "#c51b7d"
            ],
            [
             0.2,
             "#de77ae"
            ],
            [
             0.3,
             "#f1b6da"
            ],
            [
             0.4,
             "#fde0ef"
            ],
            [
             0.5,
             "#f7f7f7"
            ],
            [
             0.6,
             "#e6f5d0"
            ],
            [
             0.7,
             "#b8e186"
            ],
            [
             0.8,
             "#7fbc41"
            ],
            [
             0.9,
             "#4d9221"
            ],
            [
             1,
             "#276419"
            ]
           ],
           "sequential": [
            [
             0,
             "#0d0887"
            ],
            [
             0.1111111111111111,
             "#46039f"
            ],
            [
             0.2222222222222222,
             "#7201a8"
            ],
            [
             0.3333333333333333,
             "#9c179e"
            ],
            [
             0.4444444444444444,
             "#bd3786"
            ],
            [
             0.5555555555555556,
             "#d8576b"
            ],
            [
             0.6666666666666666,
             "#ed7953"
            ],
            [
             0.7777777777777778,
             "#fb9f3a"
            ],
            [
             0.8888888888888888,
             "#fdca26"
            ],
            [
             1,
             "#f0f921"
            ]
           ],
           "sequentialminus": [
            [
             0,
             "#0d0887"
            ],
            [
             0.1111111111111111,
             "#46039f"
            ],
            [
             0.2222222222222222,
             "#7201a8"
            ],
            [
             0.3333333333333333,
             "#9c179e"
            ],
            [
             0.4444444444444444,
             "#bd3786"
            ],
            [
             0.5555555555555556,
             "#d8576b"
            ],
            [
             0.6666666666666666,
             "#ed7953"
            ],
            [
             0.7777777777777778,
             "#fb9f3a"
            ],
            [
             0.8888888888888888,
             "#fdca26"
            ],
            [
             1,
             "#f0f921"
            ]
           ]
          },
          "colorway": [
           "#636efa",
           "#EF553B",
           "#00cc96",
           "#ab63fa",
           "#FFA15A",
           "#19d3f3",
           "#FF6692",
           "#B6E880",
           "#FF97FF",
           "#FECB52"
          ],
          "font": {
           "color": "#2a3f5f"
          },
          "geo": {
           "bgcolor": "white",
           "lakecolor": "white",
           "landcolor": "#E5ECF6",
           "showlakes": true,
           "showland": true,
           "subunitcolor": "white"
          },
          "hoverlabel": {
           "align": "left"
          },
          "hovermode": "closest",
          "mapbox": {
           "style": "light"
          },
          "paper_bgcolor": "white",
          "plot_bgcolor": "#E5ECF6",
          "polar": {
           "angularaxis": {
            "gridcolor": "white",
            "linecolor": "white",
            "ticks": ""
           },
           "bgcolor": "#E5ECF6",
           "radialaxis": {
            "gridcolor": "white",
            "linecolor": "white",
            "ticks": ""
           }
          },
          "scene": {
           "xaxis": {
            "backgroundcolor": "#E5ECF6",
            "gridcolor": "white",
            "gridwidth": 2,
            "linecolor": "white",
            "showbackground": true,
            "ticks": "",
            "zerolinecolor": "white"
           },
           "yaxis": {
            "backgroundcolor": "#E5ECF6",
            "gridcolor": "white",
            "gridwidth": 2,
            "linecolor": "white",
            "showbackground": true,
            "ticks": "",
            "zerolinecolor": "white"
           },
           "zaxis": {
            "backgroundcolor": "#E5ECF6",
            "gridcolor": "white",
            "gridwidth": 2,
            "linecolor": "white",
            "showbackground": true,
            "ticks": "",
            "zerolinecolor": "white"
           }
          },
          "shapedefaults": {
           "line": {
            "color": "#2a3f5f"
           }
          },
          "ternary": {
           "aaxis": {
            "gridcolor": "white",
            "linecolor": "white",
            "ticks": ""
           },
           "baxis": {
            "gridcolor": "white",
            "linecolor": "white",
            "ticks": ""
           },
           "bgcolor": "#E5ECF6",
           "caxis": {
            "gridcolor": "white",
            "linecolor": "white",
            "ticks": ""
           }
          },
          "title": {
           "x": 0.05
          },
          "xaxis": {
           "automargin": true,
           "gridcolor": "white",
           "linecolor": "white",
           "ticks": "",
           "title": {
            "standoff": 15
           },
           "zerolinecolor": "white",
           "zerolinewidth": 2
          },
          "yaxis": {
           "automargin": true,
           "gridcolor": "white",
           "linecolor": "white",
           "ticks": "",
           "title": {
            "standoff": 15
           },
           "zerolinecolor": "white",
           "zerolinewidth": 2
          }
         }
        },
        "title": {
         "font": {
          "color": "#4D5663"
         }
        },
        "xaxis": {
         "gridcolor": "#E1E5ED",
         "showgrid": true,
         "tickfont": {
          "color": "#4D5663"
         },
         "title": {
          "font": {
           "color": "#4D5663"
          },
          "text": ""
         },
         "zerolinecolor": "#E1E5ED"
        },
        "yaxis": {
         "gridcolor": "#E1E5ED",
         "showgrid": true,
         "tickfont": {
          "color": "#4D5663"
         },
         "title": {
          "font": {
           "color": "#4D5663"
          },
          "text": ""
         },
         "zerolinecolor": "#E1E5ED"
        }
       }
      },
      "text/html": [
       "<div>                            <div id=\"3144fffa-d11b-4967-bea4-e6c0e43dfae9\" class=\"plotly-graph-div\" style=\"height:525px; width:100%;\"></div>            <script type=\"text/javascript\">                require([\"plotly\"], function(Plotly) {                    window.PLOTLYENV=window.PLOTLYENV || {};\n",
       "                    window.PLOTLYENV.BASE_URL='https://plot.ly';                                    if (document.getElementById(\"3144fffa-d11b-4967-bea4-e6c0e43dfae9\")) {                    Plotly.newPlot(                        \"3144fffa-d11b-4967-bea4-e6c0e43dfae9\",                        [{\"marker\":{\"color\":\"rgba(255, 153, 51, 0.6)\",\"line\":{\"color\":\"rgba(255, 153, 51, 1.0)\",\"width\":1}},\"name\":\"Values\",\"orientation\":\"v\",\"text\":\"\",\"x\":[\"A\",\"B\",\"C\"],\"y\":[32,43,50],\"type\":\"bar\"}],                        {\"legend\":{\"bgcolor\":\"#F5F6F9\",\"font\":{\"color\":\"#4D5663\"}},\"paper_bgcolor\":\"#F5F6F9\",\"plot_bgcolor\":\"#F5F6F9\",\"template\":{\"data\":{\"barpolar\":[{\"marker\":{\"line\":{\"color\":\"#E5ECF6\",\"width\":0.5},\"pattern\":{\"fillmode\":\"overlay\",\"size\":10,\"solidity\":0.2}},\"type\":\"barpolar\"}],\"bar\":[{\"error_x\":{\"color\":\"#2a3f5f\"},\"error_y\":{\"color\":\"#2a3f5f\"},\"marker\":{\"line\":{\"color\":\"#E5ECF6\",\"width\":0.5},\"pattern\":{\"fillmode\":\"overlay\",\"size\":10,\"solidity\":0.2}},\"type\":\"bar\"}],\"carpet\":[{\"aaxis\":{\"endlinecolor\":\"#2a3f5f\",\"gridcolor\":\"white\",\"linecolor\":\"white\",\"minorgridcolor\":\"white\",\"startlinecolor\":\"#2a3f5f\"},\"baxis\":{\"endlinecolor\":\"#2a3f5f\",\"gridcolor\":\"white\",\"linecolor\":\"white\",\"minorgridcolor\":\"white\",\"startlinecolor\":\"#2a3f5f\"},\"type\":\"carpet\"}],\"choropleth\":[{\"colorbar\":{\"outlinewidth\":0,\"ticks\":\"\"},\"type\":\"choropleth\"}],\"contourcarpet\":[{\"colorbar\":{\"outlinewidth\":0,\"ticks\":\"\"},\"type\":\"contourcarpet\"}],\"contour\":[{\"colorbar\":{\"outlinewidth\":0,\"ticks\":\"\"},\"colorscale\":[[0.0,\"#0d0887\"],[0.1111111111111111,\"#46039f\"],[0.2222222222222222,\"#7201a8\"],[0.3333333333333333,\"#9c179e\"],[0.4444444444444444,\"#bd3786\"],[0.5555555555555556,\"#d8576b\"],[0.6666666666666666,\"#ed7953\"],[0.7777777777777778,\"#fb9f3a\"],[0.8888888888888888,\"#fdca26\"],[1.0,\"#f0f921\"]],\"type\":\"contour\"}],\"heatmapgl\":[{\"colorbar\":{\"outlinewidth\":0,\"ticks\":\"\"},\"colorscale\":[[0.0,\"#0d0887\"],[0.1111111111111111,\"#46039f\"],[0.2222222222222222,\"#7201a8\"],[0.3333333333333333,\"#9c179e\"],[0.4444444444444444,\"#bd3786\"],[0.5555555555555556,\"#d8576b\"],[0.6666666666666666,\"#ed7953\"],[0.7777777777777778,\"#fb9f3a\"],[0.8888888888888888,\"#fdca26\"],[1.0,\"#f0f921\"]],\"type\":\"heatmapgl\"}],\"heatmap\":[{\"colorbar\":{\"outlinewidth\":0,\"ticks\":\"\"},\"colorscale\":[[0.0,\"#0d0887\"],[0.1111111111111111,\"#46039f\"],[0.2222222222222222,\"#7201a8\"],[0.3333333333333333,\"#9c179e\"],[0.4444444444444444,\"#bd3786\"],[0.5555555555555556,\"#d8576b\"],[0.6666666666666666,\"#ed7953\"],[0.7777777777777778,\"#fb9f3a\"],[0.8888888888888888,\"#fdca26\"],[1.0,\"#f0f921\"]],\"type\":\"heatmap\"}],\"histogram2dcontour\":[{\"colorbar\":{\"outlinewidth\":0,\"ticks\":\"\"},\"colorscale\":[[0.0,\"#0d0887\"],[0.1111111111111111,\"#46039f\"],[0.2222222222222222,\"#7201a8\"],[0.3333333333333333,\"#9c179e\"],[0.4444444444444444,\"#bd3786\"],[0.5555555555555556,\"#d8576b\"],[0.6666666666666666,\"#ed7953\"],[0.7777777777777778,\"#fb9f3a\"],[0.8888888888888888,\"#fdca26\"],[1.0,\"#f0f921\"]],\"type\":\"histogram2dcontour\"}],\"histogram2d\":[{\"colorbar\":{\"outlinewidth\":0,\"ticks\":\"\"},\"colorscale\":[[0.0,\"#0d0887\"],[0.1111111111111111,\"#46039f\"],[0.2222222222222222,\"#7201a8\"],[0.3333333333333333,\"#9c179e\"],[0.4444444444444444,\"#bd3786\"],[0.5555555555555556,\"#d8576b\"],[0.6666666666666666,\"#ed7953\"],[0.7777777777777778,\"#fb9f3a\"],[0.8888888888888888,\"#fdca26\"],[1.0,\"#f0f921\"]],\"type\":\"histogram2d\"}],\"histogram\":[{\"marker\":{\"pattern\":{\"fillmode\":\"overlay\",\"size\":10,\"solidity\":0.2}},\"type\":\"histogram\"}],\"mesh3d\":[{\"colorbar\":{\"outlinewidth\":0,\"ticks\":\"\"},\"type\":\"mesh3d\"}],\"parcoords\":[{\"line\":{\"colorbar\":{\"outlinewidth\":0,\"ticks\":\"\"}},\"type\":\"parcoords\"}],\"pie\":[{\"automargin\":true,\"type\":\"pie\"}],\"scatter3d\":[{\"line\":{\"colorbar\":{\"outlinewidth\":0,\"ticks\":\"\"}},\"marker\":{\"colorbar\":{\"outlinewidth\":0,\"ticks\":\"\"}},\"type\":\"scatter3d\"}],\"scattercarpet\":[{\"marker\":{\"colorbar\":{\"outlinewidth\":0,\"ticks\":\"\"}},\"type\":\"scattercarpet\"}],\"scattergeo\":[{\"marker\":{\"colorbar\":{\"outlinewidth\":0,\"ticks\":\"\"}},\"type\":\"scattergeo\"}],\"scattergl\":[{\"marker\":{\"colorbar\":{\"outlinewidth\":0,\"ticks\":\"\"}},\"type\":\"scattergl\"}],\"scattermapbox\":[{\"marker\":{\"colorbar\":{\"outlinewidth\":0,\"ticks\":\"\"}},\"type\":\"scattermapbox\"}],\"scatterpolargl\":[{\"marker\":{\"colorbar\":{\"outlinewidth\":0,\"ticks\":\"\"}},\"type\":\"scatterpolargl\"}],\"scatterpolar\":[{\"marker\":{\"colorbar\":{\"outlinewidth\":0,\"ticks\":\"\"}},\"type\":\"scatterpolar\"}],\"scatter\":[{\"fillpattern\":{\"fillmode\":\"overlay\",\"size\":10,\"solidity\":0.2},\"type\":\"scatter\"}],\"scatterternary\":[{\"marker\":{\"colorbar\":{\"outlinewidth\":0,\"ticks\":\"\"}},\"type\":\"scatterternary\"}],\"surface\":[{\"colorbar\":{\"outlinewidth\":0,\"ticks\":\"\"},\"colorscale\":[[0.0,\"#0d0887\"],[0.1111111111111111,\"#46039f\"],[0.2222222222222222,\"#7201a8\"],[0.3333333333333333,\"#9c179e\"],[0.4444444444444444,\"#bd3786\"],[0.5555555555555556,\"#d8576b\"],[0.6666666666666666,\"#ed7953\"],[0.7777777777777778,\"#fb9f3a\"],[0.8888888888888888,\"#fdca26\"],[1.0,\"#f0f921\"]],\"type\":\"surface\"}],\"table\":[{\"cells\":{\"fill\":{\"color\":\"#EBF0F8\"},\"line\":{\"color\":\"white\"}},\"header\":{\"fill\":{\"color\":\"#C8D4E3\"},\"line\":{\"color\":\"white\"}},\"type\":\"table\"}]},\"layout\":{\"annotationdefaults\":{\"arrowcolor\":\"#2a3f5f\",\"arrowhead\":0,\"arrowwidth\":1},\"autotypenumbers\":\"strict\",\"coloraxis\":{\"colorbar\":{\"outlinewidth\":0,\"ticks\":\"\"}},\"colorscale\":{\"diverging\":[[0,\"#8e0152\"],[0.1,\"#c51b7d\"],[0.2,\"#de77ae\"],[0.3,\"#f1b6da\"],[0.4,\"#fde0ef\"],[0.5,\"#f7f7f7\"],[0.6,\"#e6f5d0\"],[0.7,\"#b8e186\"],[0.8,\"#7fbc41\"],[0.9,\"#4d9221\"],[1,\"#276419\"]],\"sequential\":[[0.0,\"#0d0887\"],[0.1111111111111111,\"#46039f\"],[0.2222222222222222,\"#7201a8\"],[0.3333333333333333,\"#9c179e\"],[0.4444444444444444,\"#bd3786\"],[0.5555555555555556,\"#d8576b\"],[0.6666666666666666,\"#ed7953\"],[0.7777777777777778,\"#fb9f3a\"],[0.8888888888888888,\"#fdca26\"],[1.0,\"#f0f921\"]],\"sequentialminus\":[[0.0,\"#0d0887\"],[0.1111111111111111,\"#46039f\"],[0.2222222222222222,\"#7201a8\"],[0.3333333333333333,\"#9c179e\"],[0.4444444444444444,\"#bd3786\"],[0.5555555555555556,\"#d8576b\"],[0.6666666666666666,\"#ed7953\"],[0.7777777777777778,\"#fb9f3a\"],[0.8888888888888888,\"#fdca26\"],[1.0,\"#f0f921\"]]},\"colorway\":[\"#636efa\",\"#EF553B\",\"#00cc96\",\"#ab63fa\",\"#FFA15A\",\"#19d3f3\",\"#FF6692\",\"#B6E880\",\"#FF97FF\",\"#FECB52\"],\"font\":{\"color\":\"#2a3f5f\"},\"geo\":{\"bgcolor\":\"white\",\"lakecolor\":\"white\",\"landcolor\":\"#E5ECF6\",\"showlakes\":true,\"showland\":true,\"subunitcolor\":\"white\"},\"hoverlabel\":{\"align\":\"left\"},\"hovermode\":\"closest\",\"mapbox\":{\"style\":\"light\"},\"paper_bgcolor\":\"white\",\"plot_bgcolor\":\"#E5ECF6\",\"polar\":{\"angularaxis\":{\"gridcolor\":\"white\",\"linecolor\":\"white\",\"ticks\":\"\"},\"bgcolor\":\"#E5ECF6\",\"radialaxis\":{\"gridcolor\":\"white\",\"linecolor\":\"white\",\"ticks\":\"\"}},\"scene\":{\"xaxis\":{\"backgroundcolor\":\"#E5ECF6\",\"gridcolor\":\"white\",\"gridwidth\":2,\"linecolor\":\"white\",\"showbackground\":true,\"ticks\":\"\",\"zerolinecolor\":\"white\"},\"yaxis\":{\"backgroundcolor\":\"#E5ECF6\",\"gridcolor\":\"white\",\"gridwidth\":2,\"linecolor\":\"white\",\"showbackground\":true,\"ticks\":\"\",\"zerolinecolor\":\"white\"},\"zaxis\":{\"backgroundcolor\":\"#E5ECF6\",\"gridcolor\":\"white\",\"gridwidth\":2,\"linecolor\":\"white\",\"showbackground\":true,\"ticks\":\"\",\"zerolinecolor\":\"white\"}},\"shapedefaults\":{\"line\":{\"color\":\"#2a3f5f\"}},\"ternary\":{\"aaxis\":{\"gridcolor\":\"white\",\"linecolor\":\"white\",\"ticks\":\"\"},\"baxis\":{\"gridcolor\":\"white\",\"linecolor\":\"white\",\"ticks\":\"\"},\"bgcolor\":\"#E5ECF6\",\"caxis\":{\"gridcolor\":\"white\",\"linecolor\":\"white\",\"ticks\":\"\"}},\"title\":{\"x\":0.05},\"xaxis\":{\"automargin\":true,\"gridcolor\":\"white\",\"linecolor\":\"white\",\"ticks\":\"\",\"title\":{\"standoff\":15},\"zerolinecolor\":\"white\",\"zerolinewidth\":2},\"yaxis\":{\"automargin\":true,\"gridcolor\":\"white\",\"linecolor\":\"white\",\"ticks\":\"\",\"title\":{\"standoff\":15},\"zerolinecolor\":\"white\",\"zerolinewidth\":2}}},\"title\":{\"font\":{\"color\":\"#4D5663\"}},\"xaxis\":{\"gridcolor\":\"#E1E5ED\",\"showgrid\":true,\"tickfont\":{\"color\":\"#4D5663\"},\"title\":{\"font\":{\"color\":\"#4D5663\"},\"text\":\"\"},\"zerolinecolor\":\"#E1E5ED\"},\"yaxis\":{\"gridcolor\":\"#E1E5ED\",\"showgrid\":true,\"tickfont\":{\"color\":\"#4D5663\"},\"title\":{\"font\":{\"color\":\"#4D5663\"},\"text\":\"\"},\"zerolinecolor\":\"#E1E5ED\"}},                        {\"showLink\": true, \"linkText\": \"Export to plot.ly\", \"plotlyServerURL\": \"https://plot.ly\", \"responsive\": true}                    ).then(function(){\n",
       "                            \n",
       "var gd = document.getElementById('3144fffa-d11b-4967-bea4-e6c0e43dfae9');\n",
       "var x = new MutationObserver(function (mutations, observer) {{\n",
       "        var display = window.getComputedStyle(gd).display;\n",
       "        if (!display || display === 'none') {{\n",
       "            console.log([gd, 'removed!']);\n",
       "            Plotly.purge(gd);\n",
       "            observer.disconnect();\n",
       "        }}\n",
       "}});\n",
       "\n",
       "// Listen for the removal of the full notebook cells\n",
       "var notebookContainer = gd.closest('#notebook-container');\n",
       "if (notebookContainer) {{\n",
       "    x.observe(notebookContainer, {childList: true});\n",
       "}}\n",
       "\n",
       "// Listen for the clearing of the current output cell\n",
       "var outputEl = gd.closest('.output');\n",
       "if (outputEl) {{\n",
       "    x.observe(outputEl, {childList: true});\n",
       "}}\n",
       "\n",
       "                        })                };                });            </script>        </div>"
      ]
     },
     "metadata": {},
     "output_type": "display_data"
    }
   ],
   "source": [
    "df2.iplot(kind='bar',x='Category',y='Values')"
   ]
  },
  {
   "cell_type": "code",
   "execution_count": 33,
   "metadata": {},
   "outputs": [
    {
     "data": {
      "text/html": [
       "<div id=\"0f3d8847-73f9-4d83-a41a-ea5e36c6d128\" style=\"height: 525px; width: 100%;\" class=\"plotly-graph-div\"></div><script type=\"text/javascript\">require([\"plotly\"], function(Plotly) { window.PLOTLYENV=window.PLOTLYENV || {};window.PLOTLYENV.BASE_URL=\"https://plot.ly\";Plotly.newPlot(\"0f3d8847-73f9-4d83-a41a-ea5e36c6d128\", [{\"x\": [\"A\", \"B\", \"C\", \"D\"], \"text\": \"\", \"orientation\": \"v\", \"name\": \"None\", \"type\": \"bar\", \"marker\": {\"line\": {\"width\": 1, \"color\": \"rgba(226, 74, 51, 1.0)\"}, \"color\": \"rgba(226, 74, 51, 0.6)\"}, \"y\": [100, 100, 100, 100]}], {\"legend\": {\"font\": {\"color\": \"#666666\"}, \"bgcolor\": \"#FFFFFF\"}, \"titlefont\": {\"color\": \"#151516\"}, \"xaxis1\": {\"titlefont\": {\"color\": \"#666666\"}, \"zerolinecolor\": \"#F6F6F6\", \"title\": \"\", \"tickfont\": {\"color\": \"#666666\"}, \"showgrid\": true, \"gridcolor\": \"#F6F6F6\"}, \"paper_bgcolor\": \"#FFFFFF\", \"plot_bgcolor\": \"#E5E5E5\", \"yaxis1\": {\"titlefont\": {\"color\": \"#666666\"}, \"zerolinecolor\": \"#F6F6F6\", \"title\": \"\", \"tickfont\": {\"color\": \"#666666\"}, \"showgrid\": true, \"gridcolor\": \"#F6F6F6\"}}, {\"showLink\": true, \"linkText\": \"Export to plot.ly\"})});</script>"
      ],
      "text/plain": [
       "<IPython.core.display.HTML object>"
      ]
     },
     "metadata": {},
     "output_type": "display_data"
    }
   ],
   "source": [
    "df.count().iplot(kind='bar')"
   ]
  },
  {
   "cell_type": "markdown",
   "metadata": {},
   "source": [
    "## Boxplots"
   ]
  },
  {
   "cell_type": "code",
   "execution_count": 12,
   "metadata": {},
   "outputs": [
    {
     "data": {
      "application/vnd.plotly.v1+json": {
       "config": {
        "linkText": "Export to plot.ly",
        "plotlyServerURL": "https://plot.ly",
        "showLink": true
       },
       "data": [
        {
         "boxpoints": false,
         "line": {
          "width": 1.3
         },
         "marker": {
          "color": "rgba(255, 153, 51, 1.0)"
         },
         "name": "A",
         "orientation": "v",
         "type": "box",
         "y": [
          -0.08893430066700733,
          -1.530793803616406,
          1.4022283529567559,
          0.10380175842844097,
          1.6446987470379033,
          1.6009611530125167,
          0.00774344468876891,
          0.5857500026444299,
          0.8921874962125124,
          -0.3714142459414146,
          -1.284958286511187,
          -0.24215025816373534,
          0.9842991258635806,
          1.3596809803294037,
          1.2115327956327384,
          0.10458370871289996,
          -0.6699770071697903,
          -0.5422452281543697,
          0.26286008966371194,
          -0.6611323567211135,
          -0.825237696204878,
          -1.2744354335529195,
          -1.1181128928147313,
          0.46048949245049303,
          0.9474500833455818,
          1.3603233636369392,
          -1.048289924428033,
          0.9518820137969386,
          -1.0851256376468226,
          2.1912347131344028,
          -1.1239647022738095,
          -0.8809030584706307,
          0.7503525724658474,
          -1.1997283289702174,
          0.39292790201132377,
          0.712593936951921,
          -0.4283001360932249,
          0.6057662054012113,
          0.7091437252786819,
          -0.11253819239255546,
          -0.048357810852428657,
          1.5158854683797716,
          -0.043527700009674423,
          0.3625615423477482,
          0.28698219068582914,
          -0.9905912547500801,
          0.34508425617541955,
          0.3791387020855131,
          -0.9372357355200094,
          -1.7326696905378687,
          -1.181288048222621,
          0.39673293703454915,
          2.0322867529457533,
          1.4097092737941057,
          -0.37828512763282546,
          0.2902184430931464,
          0.6599854087961049,
          -1.2347830008617997,
          0.43529156831669574,
          0.35054498468942735,
          0.43106108543460975,
          -0.9018736554157926,
          -2.1908855968464955,
          0.7268925656775508,
          1.843236606409594,
          0.11711454912586924,
          -2.1343101945021727,
          -2.566390680701744,
          1.39723315014168,
          -1.6868966361213904,
          0.25891375775567294,
          -1.8476276218216485,
          0.060801578129424216,
          -0.32444509657185233,
          0.9034146308854638,
          0.9527921451645874,
          1.5590297677265115,
          0.22662422342131114,
          1.8174692951158593,
          0.24157231387714495,
          -0.5613011834598247,
          -1.4004607335568215,
          0.8397267469113284,
          2.15633257991484,
          -0.3670068715126209,
          0.9460511051570021,
          -0.7390229166009238,
          -0.24783633807570382,
          -1.559575877169512,
          -0.44472251409504304,
          -0.16380050575227698,
          -1.0872102972342443,
          -0.08689380175447012,
          -0.857330443197401,
          -0.9355233455081855,
          0.5372487305358994,
          -0.7317482108729401,
          -1.7665359789080612,
          0.26352711040509,
          -0.08381436451797764
         ]
        },
        {
         "boxpoints": false,
         "line": {
          "width": 1.3
         },
         "marker": {
          "color": "rgba(55, 128, 191, 1.0)"
         },
         "name": "B",
         "orientation": "v",
         "type": "box",
         "y": [
          -1.9224285630363485,
          -1.0124608425368875,
          0.18095362496976197,
          1.3591725263553749,
          -0.7498074163859819,
          -1.3012939393234522,
          0.3487848479203314,
          -1.446795445584749,
          0.7154246652155809,
          1.0666990435595929,
          -0.2385786267696256,
          -0.11207096061485147,
          0.6993076981167586,
          -1.102629756623049,
          0.7450955666264655,
          0.6659865577610825,
          -1.192058263651559,
          0.6475951299856293,
          0.014710179055356949,
          0.29010213597854295,
          -0.6878905621040587,
          2.2653998740826538,
          0.8111323073273894,
          1.4816704014833086,
          -0.17606909603889756,
          -0.09816907675581583,
          -1.258220404275382,
          0.317916394727699,
          -0.05663701680462178,
          2.46581170593983,
          -0.40487800669439866,
          1.0064485967826775,
          0.37097825479725705,
          1.3247051907911083,
          -0.03155513748874507,
          2.0063758429316305,
          0.6852465269000101,
          1.523063623403747,
          -0.03176603098347815,
          2.239142494115922,
          0.632300422180512,
          -0.808718000457468,
          0.8353529878211118,
          0.16832073705556871,
          -1.0072154440756902,
          0.17866753853682876,
          -0.6427795033197844,
          -1.0307985011194902,
          -0.7890302905538885,
          0.7261134743774267,
          -0.8987948576923095,
          1.0666283952355062,
          0.24161857776750134,
          0.9197310797088607,
          -0.4594645900519763,
          0.29840238290963933,
          -0.6077087037087059,
          -0.6153561397197203,
          -0.051557686415771374,
          -0.824627425475895,
          0.28023022556077515,
          0.5149065732591335,
          -0.33311868694173924,
          0.6090790441586061,
          -2.138088066537148,
          -0.8078241923428517,
          -0.1745408451276256,
          -0.9769192540546153,
          0.010676125021501462,
          -0.28094984193423467,
          1.4040101050454006,
          0.3535857274582312,
          0.19731253214517575,
          0.2518474522232607,
          -0.39149649082618126,
          -0.8282116283923412,
          0.8442838545958213,
          1.1269319790269279,
          -2.292785254296643,
          -1.3323417399827384,
          0.14757362736297752,
          1.442479986990051,
          -0.26045842077751385,
          1.1790915256223529,
          0.8298835626719493,
          0.782182379449884,
          -0.8436863084006954,
          0.7431285970777042,
          1.3870298922162956,
          -1.13043532674045,
          0.18910463869843055,
          -1.975423774476238,
          0.2978519762358128,
          1.5718500031706442,
          0.4214304979790725,
          1.3680450379210738,
          1.3446563484361238,
          -0.7523353427918362,
          0.9033378363928152,
          -0.25802750827548004
         ]
        },
        {
         "boxpoints": false,
         "line": {
          "width": 1.3
         },
         "marker": {
          "color": "rgba(50, 171, 96, 1.0)"
         },
         "name": "C",
         "orientation": "v",
         "type": "box",
         "y": [
          -1.1002879495288032,
          -1.678695427841744,
          -0.6520823552590043,
          -1.4758623546188743,
          0.8582808400143955,
          0.8638517364283563,
          -0.2024139899510832,
          1.8704280707446592,
          0.3403814013373178,
          0.6304840166509764,
          -0.6437905465612515,
          0.3528080942256307,
          -0.3878193075322341,
          -1.2033914824277012,
          -1.6999525667739448,
          1.228934868274682,
          0.588840258093762,
          -0.042132734676084804,
          0.4112968110222388,
          -0.11287655665377759,
          0.05111234751638484,
          -0.18130798567939757,
          1.427359395208565,
          -0.5444212818306988,
          -1.7743501710089324,
          0.5386804269117764,
          0.7591545601650277,
          1.4729029886993463,
          1.2061095146620813,
          -0.9302496865208317,
          -2.021260874065568,
          -0.5307011369615006,
          0.38249398574588617,
          0.1759154997638632,
          -0.42876887884040893,
          -0.6810129042480657,
          0.38503755510744403,
          -0.3755795831857023,
          1.412391139668463,
          0.3526787631649789,
          -0.5402109564110283,
          -0.39154231299282455,
          0.29607182959957756,
          -0.133396434549219,
          0.6946186225030787,
          0.08912695389287721,
          0.003793953047542428,
          1.8877849347634135,
          -0.7320450492036907,
          -0.3793723578871825,
          0.6153823120094655,
          -0.23193035289957448,
          -1.539888683696906,
          -1.5277508172679868,
          -0.08466089623774167,
          1.491988691586267,
          -1.554110231442145,
          0.17050753799216262,
          -0.029553294900473127,
          0.10620423837405943,
          -1.1778831959039673,
          0.36263747119487544,
          0.643740674961685,
          -0.6684815389958627,
          0.7601834339740059,
          0.5415706336320221,
          -0.7778852097538249,
          1.361897002891516,
          -1.8453826951446,
          -1.188382977349172,
          0.5553540286194381,
          -0.6262072954656174,
          0.4732708026558728,
          -1.0529620090964449,
          -1.3983392717308898,
          0.502474607003626,
          0.47679684371420716,
          -0.2654664409544419,
          -0.0706278309574321,
          -0.949697401533426,
          -1.020921103915723,
          0.46278122517201836,
          -1.5796123531196395,
          1.0911610499743016,
          -0.039579327082922514,
          1.7277177329354123,
          0.6160494844854708,
          1.0251654934030054,
          0.21586339479226155,
          -0.22931961044257174,
          -1.4013863686348103,
          0.14544626930953158,
          0.8499865230760776,
          1.0074317694952741,
          -0.058620941966162465,
          0.9402166318938625,
          0.08011187584510658,
          -0.7453342591056883,
          0.28872076628608406,
          -1.170008674431204
         ]
        },
        {
         "boxpoints": false,
         "line": {
          "width": 1.3
         },
         "marker": {
          "color": "rgba(128, 0, 128, 1.0)"
         },
         "name": "D",
         "orientation": "v",
         "type": "box",
         "y": [
          -0.6745179563241509,
          -0.305337319745553,
          -1.4396688135602278,
          -0.9458695347506668,
          0.9598580136168454,
          0.6945316979294206,
          0.7614704597105977,
          -0.9968206640275523,
          -0.4683569046587126,
          -0.436255319069942,
          0.24199763870896554,
          -0.25460978668657663,
          -1.0090631882276233,
          0.09301295806553563,
          0.2501251913551327,
          0.10031289124905407,
          0.6318556050529324,
          0.3139085114051246,
          -0.5868771567944571,
          0.47245492102392783,
          0.7416429813747087,
          -0.23970342914521556,
          0.6931069988291024,
          -0.8121315775718592,
          2.2912823292501585,
          1.093766279500276,
          -0.5820234596032913,
          -0.23107499703737586,
          0.8059711595033127,
          1.2795133497891413,
          1.0509028433727867,
          0.111329460729242,
          -1.467915940965347,
          0.4063646895245335,
          0.4154472622454204,
          -0.3732372782871882,
          -1.6586915936226765,
          -0.40778686041820483,
          1.5714455114215284,
          0.6470174126627746,
          -0.06076216168744168,
          1.66158533867257,
          0.10405699496477167,
          0.1772052051506847,
          0.45767212266820895,
          0.8762246256733512,
          1.6217922002160436,
          -1.3318298422849002,
          1.3266789238553858,
          0.4497587151707263,
          0.15477641396398234,
          1.6508624141685355,
          -0.4748073828536715,
          1.4546922291316269,
          -0.1818862207919638,
          0.8888611408889617,
          0.11031390929866239,
          0.5812601863858678,
          -0.1723294229874893,
          0.4472265195081527,
          -0.18577380818015418,
          -0.3012574430077975,
          -0.40863372623220584,
          0.018938837901347014,
          0.4204766771253885,
          -0.9496020293170352,
          -0.34473128386407653,
          -1.7994617873157974,
          -2.133182787798934,
          -1.222568309055484,
          -1.6527725360343402,
          0.4582012984241709,
          0.7733319346814168,
          -0.6746165399114347,
          -0.6418379829114549,
          1.9201126341659434,
          1.28541378185201,
          0.3613951676877247,
          -1.5980992492838317,
          1.3636241677833671,
          -0.17733072275362158,
          -1.3443587296480517,
          0.10293036287661841,
          0.3061412102870317,
          -1.1086608514725835,
          -0.35284299267696245,
          -0.03357697945672768,
          -0.05257089161095568,
          0.46272186515923913,
          -1.064392594022742,
          0.18627401157474352,
          -0.3940454861468218,
          -0.7342286617212285,
          -0.9732947393897053,
          -0.8727026906773996,
          -0.7811795996630403,
          -0.590379517318408,
          -0.8609849807501909,
          1.6723022428808652,
          0.7054558468267359
         ]
        }
       ],
       "layout": {
        "legend": {
         "bgcolor": "#F5F6F9",
         "font": {
          "color": "#4D5663"
         }
        },
        "paper_bgcolor": "#F5F6F9",
        "plot_bgcolor": "#F5F6F9",
        "template": {
         "data": {
          "bar": [
           {
            "error_x": {
             "color": "#2a3f5f"
            },
            "error_y": {
             "color": "#2a3f5f"
            },
            "marker": {
             "line": {
              "color": "#E5ECF6",
              "width": 0.5
             }
            },
            "type": "bar"
           }
          ],
          "barpolar": [
           {
            "marker": {
             "line": {
              "color": "#E5ECF6",
              "width": 0.5
             }
            },
            "type": "barpolar"
           }
          ],
          "carpet": [
           {
            "aaxis": {
             "endlinecolor": "#2a3f5f",
             "gridcolor": "white",
             "linecolor": "white",
             "minorgridcolor": "white",
             "startlinecolor": "#2a3f5f"
            },
            "baxis": {
             "endlinecolor": "#2a3f5f",
             "gridcolor": "white",
             "linecolor": "white",
             "minorgridcolor": "white",
             "startlinecolor": "#2a3f5f"
            },
            "type": "carpet"
           }
          ],
          "choropleth": [
           {
            "colorbar": {
             "outlinewidth": 0,
             "ticks": ""
            },
            "type": "choropleth"
           }
          ],
          "contour": [
           {
            "colorbar": {
             "outlinewidth": 0,
             "ticks": ""
            },
            "colorscale": [
             [
              0,
              "#0d0887"
             ],
             [
              0.1111111111111111,
              "#46039f"
             ],
             [
              0.2222222222222222,
              "#7201a8"
             ],
             [
              0.3333333333333333,
              "#9c179e"
             ],
             [
              0.4444444444444444,
              "#bd3786"
             ],
             [
              0.5555555555555556,
              "#d8576b"
             ],
             [
              0.6666666666666666,
              "#ed7953"
             ],
             [
              0.7777777777777778,
              "#fb9f3a"
             ],
             [
              0.8888888888888888,
              "#fdca26"
             ],
             [
              1,
              "#f0f921"
             ]
            ],
            "type": "contour"
           }
          ],
          "contourcarpet": [
           {
            "colorbar": {
             "outlinewidth": 0,
             "ticks": ""
            },
            "type": "contourcarpet"
           }
          ],
          "heatmap": [
           {
            "colorbar": {
             "outlinewidth": 0,
             "ticks": ""
            },
            "colorscale": [
             [
              0,
              "#0d0887"
             ],
             [
              0.1111111111111111,
              "#46039f"
             ],
             [
              0.2222222222222222,
              "#7201a8"
             ],
             [
              0.3333333333333333,
              "#9c179e"
             ],
             [
              0.4444444444444444,
              "#bd3786"
             ],
             [
              0.5555555555555556,
              "#d8576b"
             ],
             [
              0.6666666666666666,
              "#ed7953"
             ],
             [
              0.7777777777777778,
              "#fb9f3a"
             ],
             [
              0.8888888888888888,
              "#fdca26"
             ],
             [
              1,
              "#f0f921"
             ]
            ],
            "type": "heatmap"
           }
          ],
          "heatmapgl": [
           {
            "colorbar": {
             "outlinewidth": 0,
             "ticks": ""
            },
            "colorscale": [
             [
              0,
              "#0d0887"
             ],
             [
              0.1111111111111111,
              "#46039f"
             ],
             [
              0.2222222222222222,
              "#7201a8"
             ],
             [
              0.3333333333333333,
              "#9c179e"
             ],
             [
              0.4444444444444444,
              "#bd3786"
             ],
             [
              0.5555555555555556,
              "#d8576b"
             ],
             [
              0.6666666666666666,
              "#ed7953"
             ],
             [
              0.7777777777777778,
              "#fb9f3a"
             ],
             [
              0.8888888888888888,
              "#fdca26"
             ],
             [
              1,
              "#f0f921"
             ]
            ],
            "type": "heatmapgl"
           }
          ],
          "histogram": [
           {
            "marker": {
             "colorbar": {
              "outlinewidth": 0,
              "ticks": ""
             }
            },
            "type": "histogram"
           }
          ],
          "histogram2d": [
           {
            "colorbar": {
             "outlinewidth": 0,
             "ticks": ""
            },
            "colorscale": [
             [
              0,
              "#0d0887"
             ],
             [
              0.1111111111111111,
              "#46039f"
             ],
             [
              0.2222222222222222,
              "#7201a8"
             ],
             [
              0.3333333333333333,
              "#9c179e"
             ],
             [
              0.4444444444444444,
              "#bd3786"
             ],
             [
              0.5555555555555556,
              "#d8576b"
             ],
             [
              0.6666666666666666,
              "#ed7953"
             ],
             [
              0.7777777777777778,
              "#fb9f3a"
             ],
             [
              0.8888888888888888,
              "#fdca26"
             ],
             [
              1,
              "#f0f921"
             ]
            ],
            "type": "histogram2d"
           }
          ],
          "histogram2dcontour": [
           {
            "colorbar": {
             "outlinewidth": 0,
             "ticks": ""
            },
            "colorscale": [
             [
              0,
              "#0d0887"
             ],
             [
              0.1111111111111111,
              "#46039f"
             ],
             [
              0.2222222222222222,
              "#7201a8"
             ],
             [
              0.3333333333333333,
              "#9c179e"
             ],
             [
              0.4444444444444444,
              "#bd3786"
             ],
             [
              0.5555555555555556,
              "#d8576b"
             ],
             [
              0.6666666666666666,
              "#ed7953"
             ],
             [
              0.7777777777777778,
              "#fb9f3a"
             ],
             [
              0.8888888888888888,
              "#fdca26"
             ],
             [
              1,
              "#f0f921"
             ]
            ],
            "type": "histogram2dcontour"
           }
          ],
          "mesh3d": [
           {
            "colorbar": {
             "outlinewidth": 0,
             "ticks": ""
            },
            "type": "mesh3d"
           }
          ],
          "parcoords": [
           {
            "line": {
             "colorbar": {
              "outlinewidth": 0,
              "ticks": ""
             }
            },
            "type": "parcoords"
           }
          ],
          "pie": [
           {
            "automargin": true,
            "type": "pie"
           }
          ],
          "scatter": [
           {
            "marker": {
             "colorbar": {
              "outlinewidth": 0,
              "ticks": ""
             }
            },
            "type": "scatter"
           }
          ],
          "scatter3d": [
           {
            "line": {
             "colorbar": {
              "outlinewidth": 0,
              "ticks": ""
             }
            },
            "marker": {
             "colorbar": {
              "outlinewidth": 0,
              "ticks": ""
             }
            },
            "type": "scatter3d"
           }
          ],
          "scattercarpet": [
           {
            "marker": {
             "colorbar": {
              "outlinewidth": 0,
              "ticks": ""
             }
            },
            "type": "scattercarpet"
           }
          ],
          "scattergeo": [
           {
            "marker": {
             "colorbar": {
              "outlinewidth": 0,
              "ticks": ""
             }
            },
            "type": "scattergeo"
           }
          ],
          "scattergl": [
           {
            "marker": {
             "colorbar": {
              "outlinewidth": 0,
              "ticks": ""
             }
            },
            "type": "scattergl"
           }
          ],
          "scattermapbox": [
           {
            "marker": {
             "colorbar": {
              "outlinewidth": 0,
              "ticks": ""
             }
            },
            "type": "scattermapbox"
           }
          ],
          "scatterpolar": [
           {
            "marker": {
             "colorbar": {
              "outlinewidth": 0,
              "ticks": ""
             }
            },
            "type": "scatterpolar"
           }
          ],
          "scatterpolargl": [
           {
            "marker": {
             "colorbar": {
              "outlinewidth": 0,
              "ticks": ""
             }
            },
            "type": "scatterpolargl"
           }
          ],
          "scatterternary": [
           {
            "marker": {
             "colorbar": {
              "outlinewidth": 0,
              "ticks": ""
             }
            },
            "type": "scatterternary"
           }
          ],
          "surface": [
           {
            "colorbar": {
             "outlinewidth": 0,
             "ticks": ""
            },
            "colorscale": [
             [
              0,
              "#0d0887"
             ],
             [
              0.1111111111111111,
              "#46039f"
             ],
             [
              0.2222222222222222,
              "#7201a8"
             ],
             [
              0.3333333333333333,
              "#9c179e"
             ],
             [
              0.4444444444444444,
              "#bd3786"
             ],
             [
              0.5555555555555556,
              "#d8576b"
             ],
             [
              0.6666666666666666,
              "#ed7953"
             ],
             [
              0.7777777777777778,
              "#fb9f3a"
             ],
             [
              0.8888888888888888,
              "#fdca26"
             ],
             [
              1,
              "#f0f921"
             ]
            ],
            "type": "surface"
           }
          ],
          "table": [
           {
            "cells": {
             "fill": {
              "color": "#EBF0F8"
             },
             "line": {
              "color": "white"
             }
            },
            "header": {
             "fill": {
              "color": "#C8D4E3"
             },
             "line": {
              "color": "white"
             }
            },
            "type": "table"
           }
          ]
         },
         "layout": {
          "annotationdefaults": {
           "arrowcolor": "#2a3f5f",
           "arrowhead": 0,
           "arrowwidth": 1
          },
          "coloraxis": {
           "colorbar": {
            "outlinewidth": 0,
            "ticks": ""
           }
          },
          "colorscale": {
           "diverging": [
            [
             0,
             "#8e0152"
            ],
            [
             0.1,
             "#c51b7d"
            ],
            [
             0.2,
             "#de77ae"
            ],
            [
             0.3,
             "#f1b6da"
            ],
            [
             0.4,
             "#fde0ef"
            ],
            [
             0.5,
             "#f7f7f7"
            ],
            [
             0.6,
             "#e6f5d0"
            ],
            [
             0.7,
             "#b8e186"
            ],
            [
             0.8,
             "#7fbc41"
            ],
            [
             0.9,
             "#4d9221"
            ],
            [
             1,
             "#276419"
            ]
           ],
           "sequential": [
            [
             0,
             "#0d0887"
            ],
            [
             0.1111111111111111,
             "#46039f"
            ],
            [
             0.2222222222222222,
             "#7201a8"
            ],
            [
             0.3333333333333333,
             "#9c179e"
            ],
            [
             0.4444444444444444,
             "#bd3786"
            ],
            [
             0.5555555555555556,
             "#d8576b"
            ],
            [
             0.6666666666666666,
             "#ed7953"
            ],
            [
             0.7777777777777778,
             "#fb9f3a"
            ],
            [
             0.8888888888888888,
             "#fdca26"
            ],
            [
             1,
             "#f0f921"
            ]
           ],
           "sequentialminus": [
            [
             0,
             "#0d0887"
            ],
            [
             0.1111111111111111,
             "#46039f"
            ],
            [
             0.2222222222222222,
             "#7201a8"
            ],
            [
             0.3333333333333333,
             "#9c179e"
            ],
            [
             0.4444444444444444,
             "#bd3786"
            ],
            [
             0.5555555555555556,
             "#d8576b"
            ],
            [
             0.6666666666666666,
             "#ed7953"
            ],
            [
             0.7777777777777778,
             "#fb9f3a"
            ],
            [
             0.8888888888888888,
             "#fdca26"
            ],
            [
             1,
             "#f0f921"
            ]
           ]
          },
          "colorway": [
           "#636efa",
           "#EF553B",
           "#00cc96",
           "#ab63fa",
           "#FFA15A",
           "#19d3f3",
           "#FF6692",
           "#B6E880",
           "#FF97FF",
           "#FECB52"
          ],
          "font": {
           "color": "#2a3f5f"
          },
          "geo": {
           "bgcolor": "white",
           "lakecolor": "white",
           "landcolor": "#E5ECF6",
           "showlakes": true,
           "showland": true,
           "subunitcolor": "white"
          },
          "hoverlabel": {
           "align": "left"
          },
          "hovermode": "closest",
          "mapbox": {
           "style": "light"
          },
          "paper_bgcolor": "white",
          "plot_bgcolor": "#E5ECF6",
          "polar": {
           "angularaxis": {
            "gridcolor": "white",
            "linecolor": "white",
            "ticks": ""
           },
           "bgcolor": "#E5ECF6",
           "radialaxis": {
            "gridcolor": "white",
            "linecolor": "white",
            "ticks": ""
           }
          },
          "scene": {
           "xaxis": {
            "backgroundcolor": "#E5ECF6",
            "gridcolor": "white",
            "gridwidth": 2,
            "linecolor": "white",
            "showbackground": true,
            "ticks": "",
            "zerolinecolor": "white"
           },
           "yaxis": {
            "backgroundcolor": "#E5ECF6",
            "gridcolor": "white",
            "gridwidth": 2,
            "linecolor": "white",
            "showbackground": true,
            "ticks": "",
            "zerolinecolor": "white"
           },
           "zaxis": {
            "backgroundcolor": "#E5ECF6",
            "gridcolor": "white",
            "gridwidth": 2,
            "linecolor": "white",
            "showbackground": true,
            "ticks": "",
            "zerolinecolor": "white"
           }
          },
          "shapedefaults": {
           "line": {
            "color": "#2a3f5f"
           }
          },
          "ternary": {
           "aaxis": {
            "gridcolor": "white",
            "linecolor": "white",
            "ticks": ""
           },
           "baxis": {
            "gridcolor": "white",
            "linecolor": "white",
            "ticks": ""
           },
           "bgcolor": "#E5ECF6",
           "caxis": {
            "gridcolor": "white",
            "linecolor": "white",
            "ticks": ""
           }
          },
          "title": {
           "x": 0.05
          },
          "xaxis": {
           "automargin": true,
           "gridcolor": "white",
           "linecolor": "white",
           "ticks": "",
           "title": {
            "standoff": 15
           },
           "zerolinecolor": "white",
           "zerolinewidth": 2
          },
          "yaxis": {
           "automargin": true,
           "gridcolor": "white",
           "linecolor": "white",
           "ticks": "",
           "title": {
            "standoff": 15
           },
           "zerolinecolor": "white",
           "zerolinewidth": 2
          }
         }
        },
        "title": {
         "font": {
          "color": "#4D5663"
         }
        },
        "xaxis": {
         "gridcolor": "#E1E5ED",
         "showgrid": true,
         "tickfont": {
          "color": "#4D5663"
         },
         "title": {
          "font": {
           "color": "#4D5663"
          },
          "text": ""
         },
         "zerolinecolor": "#E1E5ED"
        },
        "yaxis": {
         "gridcolor": "#E1E5ED",
         "showgrid": true,
         "tickfont": {
          "color": "#4D5663"
         },
         "title": {
          "font": {
           "color": "#4D5663"
          },
          "text": ""
         },
         "zerolinecolor": "#E1E5ED"
        }
       }
      },
      "text/html": [
       "<div>\n",
       "        \n",
       "        \n",
       "            <div id=\"8944d8f7-298c-4cb6-a574-d0333ef434ed\" class=\"plotly-graph-div\" style=\"height:525px; width:100%;\"></div>\n",
       "            <script type=\"text/javascript\">\n",
       "                require([\"plotly\"], function(Plotly) {\n",
       "                    window.PLOTLYENV=window.PLOTLYENV || {};\n",
       "                    window.PLOTLYENV.BASE_URL='https://plot.ly';\n",
       "                    \n",
       "                if (document.getElementById(\"8944d8f7-298c-4cb6-a574-d0333ef434ed\")) {\n",
       "                    Plotly.newPlot(\n",
       "                        '8944d8f7-298c-4cb6-a574-d0333ef434ed',\n",
       "                        [{\"boxpoints\": false, \"line\": {\"width\": 1.3}, \"marker\": {\"color\": \"rgba(255, 153, 51, 1.0)\"}, \"name\": \"A\", \"orientation\": \"v\", \"type\": \"box\", \"y\": [-0.08893430066700733, -1.530793803616406, 1.4022283529567559, 0.10380175842844097, 1.6446987470379033, 1.6009611530125167, 0.00774344468876891, 0.5857500026444299, 0.8921874962125124, -0.3714142459414146, -1.284958286511187, -0.24215025816373534, 0.9842991258635806, 1.3596809803294037, 1.2115327956327384, 0.10458370871289996, -0.6699770071697903, -0.5422452281543697, 0.26286008966371194, -0.6611323567211135, -0.825237696204878, -1.2744354335529195, -1.1181128928147313, 0.46048949245049303, 0.9474500833455818, 1.3603233636369392, -1.048289924428033, 0.9518820137969386, -1.0851256376468226, 2.1912347131344028, -1.1239647022738095, -0.8809030584706307, 0.7503525724658474, -1.1997283289702174, 0.39292790201132377, 0.712593936951921, -0.4283001360932249, 0.6057662054012113, 0.7091437252786819, -0.11253819239255546, -0.048357810852428657, 1.5158854683797716, -0.043527700009674423, 0.3625615423477482, 0.28698219068582914, -0.9905912547500801, 0.34508425617541955, 0.3791387020855131, -0.9372357355200094, -1.7326696905378687, -1.181288048222621, 0.39673293703454915, 2.0322867529457533, 1.4097092737941057, -0.37828512763282546, 0.2902184430931464, 0.6599854087961049, -1.2347830008617997, 0.43529156831669574, 0.35054498468942735, 0.43106108543460975, -0.9018736554157926, -2.1908855968464955, 0.7268925656775508, 1.843236606409594, 0.11711454912586924, -2.1343101945021727, -2.566390680701744, 1.39723315014168, -1.6868966361213904, 0.25891375775567294, -1.8476276218216485, 0.060801578129424216, -0.32444509657185233, 0.9034146308854638, 0.9527921451645874, 1.5590297677265115, 0.22662422342131114, 1.8174692951158593, 0.24157231387714495, -0.5613011834598247, -1.4004607335568215, 0.8397267469113284, 2.15633257991484, -0.3670068715126209, 0.9460511051570021, -0.7390229166009238, -0.24783633807570382, -1.559575877169512, -0.44472251409504304, -0.16380050575227698, -1.0872102972342443, -0.08689380175447012, -0.857330443197401, -0.9355233455081855, 0.5372487305358994, -0.7317482108729401, -1.7665359789080612, 0.26352711040509, -0.08381436451797764]}, {\"boxpoints\": false, \"line\": {\"width\": 1.3}, \"marker\": {\"color\": \"rgba(55, 128, 191, 1.0)\"}, \"name\": \"B\", \"orientation\": \"v\", \"type\": \"box\", \"y\": [-1.9224285630363485, -1.0124608425368875, 0.18095362496976197, 1.3591725263553749, -0.7498074163859819, -1.3012939393234522, 0.3487848479203314, -1.446795445584749, 0.7154246652155809, 1.0666990435595929, -0.2385786267696256, -0.11207096061485147, 0.6993076981167586, -1.102629756623049, 0.7450955666264655, 0.6659865577610825, -1.192058263651559, 0.6475951299856293, 0.014710179055356949, 0.29010213597854295, -0.6878905621040587, 2.2653998740826538, 0.8111323073273894, 1.4816704014833086, -0.17606909603889756, -0.09816907675581583, -1.258220404275382, 0.317916394727699, -0.05663701680462178, 2.46581170593983, -0.40487800669439866, 1.0064485967826775, 0.37097825479725705, 1.3247051907911083, -0.03155513748874507, 2.0063758429316305, 0.6852465269000101, 1.523063623403747, -0.03176603098347815, 2.239142494115922, 0.632300422180512, -0.808718000457468, 0.8353529878211118, 0.16832073705556871, -1.0072154440756902, 0.17866753853682876, -0.6427795033197844, -1.0307985011194902, -0.7890302905538885, 0.7261134743774267, -0.8987948576923095, 1.0666283952355062, 0.24161857776750134, 0.9197310797088607, -0.4594645900519763, 0.29840238290963933, -0.6077087037087059, -0.6153561397197203, -0.051557686415771374, -0.824627425475895, 0.28023022556077515, 0.5149065732591335, -0.33311868694173924, 0.6090790441586061, -2.138088066537148, -0.8078241923428517, -0.1745408451276256, -0.9769192540546153, 0.010676125021501462, -0.28094984193423467, 1.4040101050454006, 0.3535857274582312, 0.19731253214517575, 0.2518474522232607, -0.39149649082618126, -0.8282116283923412, 0.8442838545958213, 1.1269319790269279, -2.292785254296643, -1.3323417399827384, 0.14757362736297752, 1.442479986990051, -0.26045842077751385, 1.1790915256223529, 0.8298835626719493, 0.782182379449884, -0.8436863084006954, 0.7431285970777042, 1.3870298922162956, -1.13043532674045, 0.18910463869843055, -1.975423774476238, 0.2978519762358128, 1.5718500031706442, 0.4214304979790725, 1.3680450379210738, 1.3446563484361238, -0.7523353427918362, 0.9033378363928152, -0.25802750827548004]}, {\"boxpoints\": false, \"line\": {\"width\": 1.3}, \"marker\": {\"color\": \"rgba(50, 171, 96, 1.0)\"}, \"name\": \"C\", \"orientation\": \"v\", \"type\": \"box\", \"y\": [-1.1002879495288032, -1.678695427841744, -0.6520823552590043, -1.4758623546188743, 0.8582808400143955, 0.8638517364283563, -0.2024139899510832, 1.8704280707446592, 0.3403814013373178, 0.6304840166509764, -0.6437905465612515, 0.3528080942256307, -0.3878193075322341, -1.2033914824277012, -1.6999525667739448, 1.228934868274682, 0.588840258093762, -0.042132734676084804, 0.4112968110222388, -0.11287655665377759, 0.05111234751638484, -0.18130798567939757, 1.427359395208565, -0.5444212818306988, -1.7743501710089324, 0.5386804269117764, 0.7591545601650277, 1.4729029886993463, 1.2061095146620813, -0.9302496865208317, -2.021260874065568, -0.5307011369615006, 0.38249398574588617, 0.1759154997638632, -0.42876887884040893, -0.6810129042480657, 0.38503755510744403, -0.3755795831857023, 1.412391139668463, 0.3526787631649789, -0.5402109564110283, -0.39154231299282455, 0.29607182959957756, -0.133396434549219, 0.6946186225030787, 0.08912695389287721, 0.003793953047542428, 1.8877849347634135, -0.7320450492036907, -0.3793723578871825, 0.6153823120094655, -0.23193035289957448, -1.539888683696906, -1.5277508172679868, -0.08466089623774167, 1.491988691586267, -1.554110231442145, 0.17050753799216262, -0.029553294900473127, 0.10620423837405943, -1.1778831959039673, 0.36263747119487544, 0.643740674961685, -0.6684815389958627, 0.7601834339740059, 0.5415706336320221, -0.7778852097538249, 1.361897002891516, -1.8453826951446, -1.188382977349172, 0.5553540286194381, -0.6262072954656174, 0.4732708026558728, -1.0529620090964449, -1.3983392717308898, 0.502474607003626, 0.47679684371420716, -0.2654664409544419, -0.0706278309574321, -0.949697401533426, -1.020921103915723, 0.46278122517201836, -1.5796123531196395, 1.0911610499743016, -0.039579327082922514, 1.7277177329354123, 0.6160494844854708, 1.0251654934030054, 0.21586339479226155, -0.22931961044257174, -1.4013863686348103, 0.14544626930953158, 0.8499865230760776, 1.0074317694952741, -0.058620941966162465, 0.9402166318938625, 0.08011187584510658, -0.7453342591056883, 0.28872076628608406, -1.170008674431204]}, {\"boxpoints\": false, \"line\": {\"width\": 1.3}, \"marker\": {\"color\": \"rgba(128, 0, 128, 1.0)\"}, \"name\": \"D\", \"orientation\": \"v\", \"type\": \"box\", \"y\": [-0.6745179563241509, -0.305337319745553, -1.4396688135602278, -0.9458695347506668, 0.9598580136168454, 0.6945316979294206, 0.7614704597105977, -0.9968206640275523, -0.4683569046587126, -0.436255319069942, 0.24199763870896554, -0.25460978668657663, -1.0090631882276233, 0.09301295806553563, 0.2501251913551327, 0.10031289124905407, 0.6318556050529324, 0.3139085114051246, -0.5868771567944571, 0.47245492102392783, 0.7416429813747087, -0.23970342914521556, 0.6931069988291024, -0.8121315775718592, 2.2912823292501585, 1.093766279500276, -0.5820234596032913, -0.23107499703737586, 0.8059711595033127, 1.2795133497891413, 1.0509028433727867, 0.111329460729242, -1.467915940965347, 0.4063646895245335, 0.4154472622454204, -0.3732372782871882, -1.6586915936226765, -0.40778686041820483, 1.5714455114215284, 0.6470174126627746, -0.06076216168744168, 1.66158533867257, 0.10405699496477167, 0.1772052051506847, 0.45767212266820895, 0.8762246256733512, 1.6217922002160436, -1.3318298422849002, 1.3266789238553858, 0.4497587151707263, 0.15477641396398234, 1.6508624141685355, -0.4748073828536715, 1.4546922291316269, -0.1818862207919638, 0.8888611408889617, 0.11031390929866239, 0.5812601863858678, -0.1723294229874893, 0.4472265195081527, -0.18577380818015418, -0.3012574430077975, -0.40863372623220584, 0.018938837901347014, 0.4204766771253885, -0.9496020293170352, -0.34473128386407653, -1.7994617873157974, -2.133182787798934, -1.222568309055484, -1.6527725360343402, 0.4582012984241709, 0.7733319346814168, -0.6746165399114347, -0.6418379829114549, 1.9201126341659434, 1.28541378185201, 0.3613951676877247, -1.5980992492838317, 1.3636241677833671, -0.17733072275362158, -1.3443587296480517, 0.10293036287661841, 0.3061412102870317, -1.1086608514725835, -0.35284299267696245, -0.03357697945672768, -0.05257089161095568, 0.46272186515923913, -1.064392594022742, 0.18627401157474352, -0.3940454861468218, -0.7342286617212285, -0.9732947393897053, -0.8727026906773996, -0.7811795996630403, -0.590379517318408, -0.8609849807501909, 1.6723022428808652, 0.7054558468267359]}],\n",
       "                        {\"legend\": {\"bgcolor\": \"#F5F6F9\", \"font\": {\"color\": \"#4D5663\"}}, \"paper_bgcolor\": \"#F5F6F9\", \"plot_bgcolor\": \"#F5F6F9\", \"template\": {\"data\": {\"bar\": [{\"error_x\": {\"color\": \"#2a3f5f\"}, \"error_y\": {\"color\": \"#2a3f5f\"}, \"marker\": {\"line\": {\"color\": \"#E5ECF6\", \"width\": 0.5}}, \"type\": \"bar\"}], \"barpolar\": [{\"marker\": {\"line\": {\"color\": \"#E5ECF6\", \"width\": 0.5}}, \"type\": \"barpolar\"}], \"carpet\": [{\"aaxis\": {\"endlinecolor\": \"#2a3f5f\", \"gridcolor\": \"white\", \"linecolor\": \"white\", \"minorgridcolor\": \"white\", \"startlinecolor\": \"#2a3f5f\"}, \"baxis\": {\"endlinecolor\": \"#2a3f5f\", \"gridcolor\": \"white\", \"linecolor\": \"white\", \"minorgridcolor\": \"white\", \"startlinecolor\": \"#2a3f5f\"}, \"type\": \"carpet\"}], \"choropleth\": [{\"colorbar\": {\"outlinewidth\": 0, \"ticks\": \"\"}, \"type\": \"choropleth\"}], \"contour\": [{\"colorbar\": {\"outlinewidth\": 0, \"ticks\": \"\"}, \"colorscale\": [[0.0, \"#0d0887\"], [0.1111111111111111, \"#46039f\"], [0.2222222222222222, \"#7201a8\"], [0.3333333333333333, \"#9c179e\"], [0.4444444444444444, \"#bd3786\"], [0.5555555555555556, \"#d8576b\"], [0.6666666666666666, \"#ed7953\"], [0.7777777777777778, \"#fb9f3a\"], [0.8888888888888888, \"#fdca26\"], [1.0, \"#f0f921\"]], \"type\": \"contour\"}], \"contourcarpet\": [{\"colorbar\": {\"outlinewidth\": 0, \"ticks\": \"\"}, \"type\": \"contourcarpet\"}], \"heatmap\": [{\"colorbar\": {\"outlinewidth\": 0, \"ticks\": \"\"}, \"colorscale\": [[0.0, \"#0d0887\"], [0.1111111111111111, \"#46039f\"], [0.2222222222222222, \"#7201a8\"], [0.3333333333333333, \"#9c179e\"], [0.4444444444444444, \"#bd3786\"], [0.5555555555555556, \"#d8576b\"], [0.6666666666666666, \"#ed7953\"], [0.7777777777777778, \"#fb9f3a\"], [0.8888888888888888, \"#fdca26\"], [1.0, \"#f0f921\"]], \"type\": \"heatmap\"}], \"heatmapgl\": [{\"colorbar\": {\"outlinewidth\": 0, \"ticks\": \"\"}, \"colorscale\": [[0.0, \"#0d0887\"], [0.1111111111111111, \"#46039f\"], [0.2222222222222222, \"#7201a8\"], [0.3333333333333333, \"#9c179e\"], [0.4444444444444444, \"#bd3786\"], [0.5555555555555556, \"#d8576b\"], [0.6666666666666666, \"#ed7953\"], [0.7777777777777778, \"#fb9f3a\"], [0.8888888888888888, \"#fdca26\"], [1.0, \"#f0f921\"]], \"type\": \"heatmapgl\"}], \"histogram\": [{\"marker\": {\"colorbar\": {\"outlinewidth\": 0, \"ticks\": \"\"}}, \"type\": \"histogram\"}], \"histogram2d\": [{\"colorbar\": {\"outlinewidth\": 0, \"ticks\": \"\"}, \"colorscale\": [[0.0, \"#0d0887\"], [0.1111111111111111, \"#46039f\"], [0.2222222222222222, \"#7201a8\"], [0.3333333333333333, \"#9c179e\"], [0.4444444444444444, \"#bd3786\"], [0.5555555555555556, \"#d8576b\"], [0.6666666666666666, \"#ed7953\"], [0.7777777777777778, \"#fb9f3a\"], [0.8888888888888888, \"#fdca26\"], [1.0, \"#f0f921\"]], \"type\": \"histogram2d\"}], \"histogram2dcontour\": [{\"colorbar\": {\"outlinewidth\": 0, \"ticks\": \"\"}, \"colorscale\": [[0.0, \"#0d0887\"], [0.1111111111111111, \"#46039f\"], [0.2222222222222222, \"#7201a8\"], [0.3333333333333333, \"#9c179e\"], [0.4444444444444444, \"#bd3786\"], [0.5555555555555556, \"#d8576b\"], [0.6666666666666666, \"#ed7953\"], [0.7777777777777778, \"#fb9f3a\"], [0.8888888888888888, \"#fdca26\"], [1.0, \"#f0f921\"]], \"type\": \"histogram2dcontour\"}], \"mesh3d\": [{\"colorbar\": {\"outlinewidth\": 0, \"ticks\": \"\"}, \"type\": \"mesh3d\"}], \"parcoords\": [{\"line\": {\"colorbar\": {\"outlinewidth\": 0, \"ticks\": \"\"}}, \"type\": \"parcoords\"}], \"pie\": [{\"automargin\": true, \"type\": \"pie\"}], \"scatter\": [{\"marker\": {\"colorbar\": {\"outlinewidth\": 0, \"ticks\": \"\"}}, \"type\": \"scatter\"}], \"scatter3d\": [{\"line\": {\"colorbar\": {\"outlinewidth\": 0, \"ticks\": \"\"}}, \"marker\": {\"colorbar\": {\"outlinewidth\": 0, \"ticks\": \"\"}}, \"type\": \"scatter3d\"}], \"scattercarpet\": [{\"marker\": {\"colorbar\": {\"outlinewidth\": 0, \"ticks\": \"\"}}, \"type\": \"scattercarpet\"}], \"scattergeo\": [{\"marker\": {\"colorbar\": {\"outlinewidth\": 0, \"ticks\": \"\"}}, \"type\": \"scattergeo\"}], \"scattergl\": [{\"marker\": {\"colorbar\": {\"outlinewidth\": 0, \"ticks\": \"\"}}, \"type\": \"scattergl\"}], \"scattermapbox\": [{\"marker\": {\"colorbar\": {\"outlinewidth\": 0, \"ticks\": \"\"}}, \"type\": \"scattermapbox\"}], \"scatterpolar\": [{\"marker\": {\"colorbar\": {\"outlinewidth\": 0, \"ticks\": \"\"}}, \"type\": \"scatterpolar\"}], \"scatterpolargl\": [{\"marker\": {\"colorbar\": {\"outlinewidth\": 0, \"ticks\": \"\"}}, \"type\": \"scatterpolargl\"}], \"scatterternary\": [{\"marker\": {\"colorbar\": {\"outlinewidth\": 0, \"ticks\": \"\"}}, \"type\": \"scatterternary\"}], \"surface\": [{\"colorbar\": {\"outlinewidth\": 0, \"ticks\": \"\"}, \"colorscale\": [[0.0, \"#0d0887\"], [0.1111111111111111, \"#46039f\"], [0.2222222222222222, \"#7201a8\"], [0.3333333333333333, \"#9c179e\"], [0.4444444444444444, \"#bd3786\"], [0.5555555555555556, \"#d8576b\"], [0.6666666666666666, \"#ed7953\"], [0.7777777777777778, \"#fb9f3a\"], [0.8888888888888888, \"#fdca26\"], [1.0, \"#f0f921\"]], \"type\": \"surface\"}], \"table\": [{\"cells\": {\"fill\": {\"color\": \"#EBF0F8\"}, \"line\": {\"color\": \"white\"}}, \"header\": {\"fill\": {\"color\": \"#C8D4E3\"}, \"line\": {\"color\": \"white\"}}, \"type\": \"table\"}]}, \"layout\": {\"annotationdefaults\": {\"arrowcolor\": \"#2a3f5f\", \"arrowhead\": 0, \"arrowwidth\": 1}, \"coloraxis\": {\"colorbar\": {\"outlinewidth\": 0, \"ticks\": \"\"}}, \"colorscale\": {\"diverging\": [[0, \"#8e0152\"], [0.1, \"#c51b7d\"], [0.2, \"#de77ae\"], [0.3, \"#f1b6da\"], [0.4, \"#fde0ef\"], [0.5, \"#f7f7f7\"], [0.6, \"#e6f5d0\"], [0.7, \"#b8e186\"], [0.8, \"#7fbc41\"], [0.9, \"#4d9221\"], [1, \"#276419\"]], \"sequential\": [[0.0, \"#0d0887\"], [0.1111111111111111, \"#46039f\"], [0.2222222222222222, \"#7201a8\"], [0.3333333333333333, \"#9c179e\"], [0.4444444444444444, \"#bd3786\"], [0.5555555555555556, \"#d8576b\"], [0.6666666666666666, \"#ed7953\"], [0.7777777777777778, \"#fb9f3a\"], [0.8888888888888888, \"#fdca26\"], [1.0, \"#f0f921\"]], \"sequentialminus\": [[0.0, \"#0d0887\"], [0.1111111111111111, \"#46039f\"], [0.2222222222222222, \"#7201a8\"], [0.3333333333333333, \"#9c179e\"], [0.4444444444444444, \"#bd3786\"], [0.5555555555555556, \"#d8576b\"], [0.6666666666666666, \"#ed7953\"], [0.7777777777777778, \"#fb9f3a\"], [0.8888888888888888, \"#fdca26\"], [1.0, \"#f0f921\"]]}, \"colorway\": [\"#636efa\", \"#EF553B\", \"#00cc96\", \"#ab63fa\", \"#FFA15A\", \"#19d3f3\", \"#FF6692\", \"#B6E880\", \"#FF97FF\", \"#FECB52\"], \"font\": {\"color\": \"#2a3f5f\"}, \"geo\": {\"bgcolor\": \"white\", \"lakecolor\": \"white\", \"landcolor\": \"#E5ECF6\", \"showlakes\": true, \"showland\": true, \"subunitcolor\": \"white\"}, \"hoverlabel\": {\"align\": \"left\"}, \"hovermode\": \"closest\", \"mapbox\": {\"style\": \"light\"}, \"paper_bgcolor\": \"white\", \"plot_bgcolor\": \"#E5ECF6\", \"polar\": {\"angularaxis\": {\"gridcolor\": \"white\", \"linecolor\": \"white\", \"ticks\": \"\"}, \"bgcolor\": \"#E5ECF6\", \"radialaxis\": {\"gridcolor\": \"white\", \"linecolor\": \"white\", \"ticks\": \"\"}}, \"scene\": {\"xaxis\": {\"backgroundcolor\": \"#E5ECF6\", \"gridcolor\": \"white\", \"gridwidth\": 2, \"linecolor\": \"white\", \"showbackground\": true, \"ticks\": \"\", \"zerolinecolor\": \"white\"}, \"yaxis\": {\"backgroundcolor\": \"#E5ECF6\", \"gridcolor\": \"white\", \"gridwidth\": 2, \"linecolor\": \"white\", \"showbackground\": true, \"ticks\": \"\", \"zerolinecolor\": \"white\"}, \"zaxis\": {\"backgroundcolor\": \"#E5ECF6\", \"gridcolor\": \"white\", \"gridwidth\": 2, \"linecolor\": \"white\", \"showbackground\": true, \"ticks\": \"\", \"zerolinecolor\": \"white\"}}, \"shapedefaults\": {\"line\": {\"color\": \"#2a3f5f\"}}, \"ternary\": {\"aaxis\": {\"gridcolor\": \"white\", \"linecolor\": \"white\", \"ticks\": \"\"}, \"baxis\": {\"gridcolor\": \"white\", \"linecolor\": \"white\", \"ticks\": \"\"}, \"bgcolor\": \"#E5ECF6\", \"caxis\": {\"gridcolor\": \"white\", \"linecolor\": \"white\", \"ticks\": \"\"}}, \"title\": {\"x\": 0.05}, \"xaxis\": {\"automargin\": true, \"gridcolor\": \"white\", \"linecolor\": \"white\", \"ticks\": \"\", \"title\": {\"standoff\": 15}, \"zerolinecolor\": \"white\", \"zerolinewidth\": 2}, \"yaxis\": {\"automargin\": true, \"gridcolor\": \"white\", \"linecolor\": \"white\", \"ticks\": \"\", \"title\": {\"standoff\": 15}, \"zerolinecolor\": \"white\", \"zerolinewidth\": 2}}}, \"title\": {\"font\": {\"color\": \"#4D5663\"}}, \"xaxis\": {\"gridcolor\": \"#E1E5ED\", \"showgrid\": true, \"tickfont\": {\"color\": \"#4D5663\"}, \"title\": {\"font\": {\"color\": \"#4D5663\"}, \"text\": \"\"}, \"zerolinecolor\": \"#E1E5ED\"}, \"yaxis\": {\"gridcolor\": \"#E1E5ED\", \"showgrid\": true, \"tickfont\": {\"color\": \"#4D5663\"}, \"title\": {\"font\": {\"color\": \"#4D5663\"}, \"text\": \"\"}, \"zerolinecolor\": \"#E1E5ED\"}},\n",
       "                        {\"showLink\": true, \"linkText\": \"Export to plot.ly\", \"plotlyServerURL\": \"https://plot.ly\", \"responsive\": true}\n",
       "                    ).then(function(){\n",
       "                            \n",
       "var gd = document.getElementById('8944d8f7-298c-4cb6-a574-d0333ef434ed');\n",
       "var x = new MutationObserver(function (mutations, observer) {{\n",
       "        var display = window.getComputedStyle(gd).display;\n",
       "        if (!display || display === 'none') {{\n",
       "            console.log([gd, 'removed!']);\n",
       "            Plotly.purge(gd);\n",
       "            observer.disconnect();\n",
       "        }}\n",
       "}});\n",
       "\n",
       "// Listen for the removal of the full notebook cells\n",
       "var notebookContainer = gd.closest('#notebook-container');\n",
       "if (notebookContainer) {{\n",
       "    x.observe(notebookContainer, {childList: true});\n",
       "}}\n",
       "\n",
       "// Listen for the clearing of the current output cell\n",
       "var outputEl = gd.closest('.output');\n",
       "if (outputEl) {{\n",
       "    x.observe(outputEl, {childList: true});\n",
       "}}\n",
       "\n",
       "                        })\n",
       "                };\n",
       "                });\n",
       "            </script>\n",
       "        </div>"
      ]
     },
     "metadata": {},
     "output_type": "display_data"
    }
   ],
   "source": [
    "df.iplot(kind='box')"
   ]
  },
  {
   "cell_type": "markdown",
   "metadata": {},
   "source": [
    "## 3d Surface"
   ]
  },
  {
   "cell_type": "code",
   "execution_count": 17,
   "metadata": {},
   "outputs": [
    {
     "data": {
      "application/vnd.plotly.v1+json": {
       "config": {
        "linkText": "Export to plot.ly",
        "plotlyServerURL": "https://plot.ly",
        "showLink": true
       },
       "data": [
        {
         "colorscale": [
          [
           0,
           "rgb(165,0,38)"
          ],
          [
           0.1,
           "rgb(215,48,39)"
          ],
          [
           0.2,
           "rgb(244,109,67)"
          ],
          [
           0.3,
           "rgb(253,174,97)"
          ],
          [
           0.4,
           "rgb(254,224,144)"
          ],
          [
           0.5,
           "rgb(255,255,191)"
          ],
          [
           0.6,
           "rgb(224,243,248)"
          ],
          [
           0.7,
           "rgb(171,217,233)"
          ],
          [
           0.8,
           "rgb(116,173,209)"
          ],
          [
           0.9,
           "rgb(69,117,180)"
          ],
          [
           1,
           "rgb(49,54,149)"
          ]
         ],
         "type": "surface",
         "x": [
          0,
          1,
          2,
          3,
          4
         ],
         "y": [
          "x",
          "y",
          "z"
         ],
         "z": [
          [
           1,
           2,
           3,
           4,
           5
          ],
          [
           10,
           20,
           30,
           20,
           10
          ],
          [
           5,
           4,
           3,
           2,
           1
          ]
         ]
        }
       ],
       "layout": {
        "legend": {
         "bgcolor": "#F5F6F9",
         "font": {
          "color": "#4D5663"
         }
        },
        "paper_bgcolor": "#F5F6F9",
        "plot_bgcolor": "#F5F6F9",
        "template": {
         "data": {
          "bar": [
           {
            "error_x": {
             "color": "#2a3f5f"
            },
            "error_y": {
             "color": "#2a3f5f"
            },
            "marker": {
             "line": {
              "color": "#E5ECF6",
              "width": 0.5
             },
             "pattern": {
              "fillmode": "overlay",
              "size": 10,
              "solidity": 0.2
             }
            },
            "type": "bar"
           }
          ],
          "barpolar": [
           {
            "marker": {
             "line": {
              "color": "#E5ECF6",
              "width": 0.5
             },
             "pattern": {
              "fillmode": "overlay",
              "size": 10,
              "solidity": 0.2
             }
            },
            "type": "barpolar"
           }
          ],
          "carpet": [
           {
            "aaxis": {
             "endlinecolor": "#2a3f5f",
             "gridcolor": "white",
             "linecolor": "white",
             "minorgridcolor": "white",
             "startlinecolor": "#2a3f5f"
            },
            "baxis": {
             "endlinecolor": "#2a3f5f",
             "gridcolor": "white",
             "linecolor": "white",
             "minorgridcolor": "white",
             "startlinecolor": "#2a3f5f"
            },
            "type": "carpet"
           }
          ],
          "choropleth": [
           {
            "colorbar": {
             "outlinewidth": 0,
             "ticks": ""
            },
            "type": "choropleth"
           }
          ],
          "contour": [
           {
            "colorbar": {
             "outlinewidth": 0,
             "ticks": ""
            },
            "colorscale": [
             [
              0,
              "#0d0887"
             ],
             [
              0.1111111111111111,
              "#46039f"
             ],
             [
              0.2222222222222222,
              "#7201a8"
             ],
             [
              0.3333333333333333,
              "#9c179e"
             ],
             [
              0.4444444444444444,
              "#bd3786"
             ],
             [
              0.5555555555555556,
              "#d8576b"
             ],
             [
              0.6666666666666666,
              "#ed7953"
             ],
             [
              0.7777777777777778,
              "#fb9f3a"
             ],
             [
              0.8888888888888888,
              "#fdca26"
             ],
             [
              1,
              "#f0f921"
             ]
            ],
            "type": "contour"
           }
          ],
          "contourcarpet": [
           {
            "colorbar": {
             "outlinewidth": 0,
             "ticks": ""
            },
            "type": "contourcarpet"
           }
          ],
          "heatmap": [
           {
            "colorbar": {
             "outlinewidth": 0,
             "ticks": ""
            },
            "colorscale": [
             [
              0,
              "#0d0887"
             ],
             [
              0.1111111111111111,
              "#46039f"
             ],
             [
              0.2222222222222222,
              "#7201a8"
             ],
             [
              0.3333333333333333,
              "#9c179e"
             ],
             [
              0.4444444444444444,
              "#bd3786"
             ],
             [
              0.5555555555555556,
              "#d8576b"
             ],
             [
              0.6666666666666666,
              "#ed7953"
             ],
             [
              0.7777777777777778,
              "#fb9f3a"
             ],
             [
              0.8888888888888888,
              "#fdca26"
             ],
             [
              1,
              "#f0f921"
             ]
            ],
            "type": "heatmap"
           }
          ],
          "heatmapgl": [
           {
            "colorbar": {
             "outlinewidth": 0,
             "ticks": ""
            },
            "colorscale": [
             [
              0,
              "#0d0887"
             ],
             [
              0.1111111111111111,
              "#46039f"
             ],
             [
              0.2222222222222222,
              "#7201a8"
             ],
             [
              0.3333333333333333,
              "#9c179e"
             ],
             [
              0.4444444444444444,
              "#bd3786"
             ],
             [
              0.5555555555555556,
              "#d8576b"
             ],
             [
              0.6666666666666666,
              "#ed7953"
             ],
             [
              0.7777777777777778,
              "#fb9f3a"
             ],
             [
              0.8888888888888888,
              "#fdca26"
             ],
             [
              1,
              "#f0f921"
             ]
            ],
            "type": "heatmapgl"
           }
          ],
          "histogram": [
           {
            "marker": {
             "pattern": {
              "fillmode": "overlay",
              "size": 10,
              "solidity": 0.2
             }
            },
            "type": "histogram"
           }
          ],
          "histogram2d": [
           {
            "colorbar": {
             "outlinewidth": 0,
             "ticks": ""
            },
            "colorscale": [
             [
              0,
              "#0d0887"
             ],
             [
              0.1111111111111111,
              "#46039f"
             ],
             [
              0.2222222222222222,
              "#7201a8"
             ],
             [
              0.3333333333333333,
              "#9c179e"
             ],
             [
              0.4444444444444444,
              "#bd3786"
             ],
             [
              0.5555555555555556,
              "#d8576b"
             ],
             [
              0.6666666666666666,
              "#ed7953"
             ],
             [
              0.7777777777777778,
              "#fb9f3a"
             ],
             [
              0.8888888888888888,
              "#fdca26"
             ],
             [
              1,
              "#f0f921"
             ]
            ],
            "type": "histogram2d"
           }
          ],
          "histogram2dcontour": [
           {
            "colorbar": {
             "outlinewidth": 0,
             "ticks": ""
            },
            "colorscale": [
             [
              0,
              "#0d0887"
             ],
             [
              0.1111111111111111,
              "#46039f"
             ],
             [
              0.2222222222222222,
              "#7201a8"
             ],
             [
              0.3333333333333333,
              "#9c179e"
             ],
             [
              0.4444444444444444,
              "#bd3786"
             ],
             [
              0.5555555555555556,
              "#d8576b"
             ],
             [
              0.6666666666666666,
              "#ed7953"
             ],
             [
              0.7777777777777778,
              "#fb9f3a"
             ],
             [
              0.8888888888888888,
              "#fdca26"
             ],
             [
              1,
              "#f0f921"
             ]
            ],
            "type": "histogram2dcontour"
           }
          ],
          "mesh3d": [
           {
            "colorbar": {
             "outlinewidth": 0,
             "ticks": ""
            },
            "type": "mesh3d"
           }
          ],
          "parcoords": [
           {
            "line": {
             "colorbar": {
              "outlinewidth": 0,
              "ticks": ""
             }
            },
            "type": "parcoords"
           }
          ],
          "pie": [
           {
            "automargin": true,
            "type": "pie"
           }
          ],
          "scatter": [
           {
            "fillpattern": {
             "fillmode": "overlay",
             "size": 10,
             "solidity": 0.2
            },
            "type": "scatter"
           }
          ],
          "scatter3d": [
           {
            "line": {
             "colorbar": {
              "outlinewidth": 0,
              "ticks": ""
             }
            },
            "marker": {
             "colorbar": {
              "outlinewidth": 0,
              "ticks": ""
             }
            },
            "type": "scatter3d"
           }
          ],
          "scattercarpet": [
           {
            "marker": {
             "colorbar": {
              "outlinewidth": 0,
              "ticks": ""
             }
            },
            "type": "scattercarpet"
           }
          ],
          "scattergeo": [
           {
            "marker": {
             "colorbar": {
              "outlinewidth": 0,
              "ticks": ""
             }
            },
            "type": "scattergeo"
           }
          ],
          "scattergl": [
           {
            "marker": {
             "colorbar": {
              "outlinewidth": 0,
              "ticks": ""
             }
            },
            "type": "scattergl"
           }
          ],
          "scattermapbox": [
           {
            "marker": {
             "colorbar": {
              "outlinewidth": 0,
              "ticks": ""
             }
            },
            "type": "scattermapbox"
           }
          ],
          "scatterpolar": [
           {
            "marker": {
             "colorbar": {
              "outlinewidth": 0,
              "ticks": ""
             }
            },
            "type": "scatterpolar"
           }
          ],
          "scatterpolargl": [
           {
            "marker": {
             "colorbar": {
              "outlinewidth": 0,
              "ticks": ""
             }
            },
            "type": "scatterpolargl"
           }
          ],
          "scatterternary": [
           {
            "marker": {
             "colorbar": {
              "outlinewidth": 0,
              "ticks": ""
             }
            },
            "type": "scatterternary"
           }
          ],
          "surface": [
           {
            "colorbar": {
             "outlinewidth": 0,
             "ticks": ""
            },
            "colorscale": [
             [
              0,
              "#0d0887"
             ],
             [
              0.1111111111111111,
              "#46039f"
             ],
             [
              0.2222222222222222,
              "#7201a8"
             ],
             [
              0.3333333333333333,
              "#9c179e"
             ],
             [
              0.4444444444444444,
              "#bd3786"
             ],
             [
              0.5555555555555556,
              "#d8576b"
             ],
             [
              0.6666666666666666,
              "#ed7953"
             ],
             [
              0.7777777777777778,
              "#fb9f3a"
             ],
             [
              0.8888888888888888,
              "#fdca26"
             ],
             [
              1,
              "#f0f921"
             ]
            ],
            "type": "surface"
           }
          ],
          "table": [
           {
            "cells": {
             "fill": {
              "color": "#EBF0F8"
             },
             "line": {
              "color": "white"
             }
            },
            "header": {
             "fill": {
              "color": "#C8D4E3"
             },
             "line": {
              "color": "white"
             }
            },
            "type": "table"
           }
          ]
         },
         "layout": {
          "annotationdefaults": {
           "arrowcolor": "#2a3f5f",
           "arrowhead": 0,
           "arrowwidth": 1
          },
          "autotypenumbers": "strict",
          "coloraxis": {
           "colorbar": {
            "outlinewidth": 0,
            "ticks": ""
           }
          },
          "colorscale": {
           "diverging": [
            [
             0,
             "#8e0152"
            ],
            [
             0.1,
             "#c51b7d"
            ],
            [
             0.2,
             "#de77ae"
            ],
            [
             0.3,
             "#f1b6da"
            ],
            [
             0.4,
             "#fde0ef"
            ],
            [
             0.5,
             "#f7f7f7"
            ],
            [
             0.6,
             "#e6f5d0"
            ],
            [
             0.7,
             "#b8e186"
            ],
            [
             0.8,
             "#7fbc41"
            ],
            [
             0.9,
             "#4d9221"
            ],
            [
             1,
             "#276419"
            ]
           ],
           "sequential": [
            [
             0,
             "#0d0887"
            ],
            [
             0.1111111111111111,
             "#46039f"
            ],
            [
             0.2222222222222222,
             "#7201a8"
            ],
            [
             0.3333333333333333,
             "#9c179e"
            ],
            [
             0.4444444444444444,
             "#bd3786"
            ],
            [
             0.5555555555555556,
             "#d8576b"
            ],
            [
             0.6666666666666666,
             "#ed7953"
            ],
            [
             0.7777777777777778,
             "#fb9f3a"
            ],
            [
             0.8888888888888888,
             "#fdca26"
            ],
            [
             1,
             "#f0f921"
            ]
           ],
           "sequentialminus": [
            [
             0,
             "#0d0887"
            ],
            [
             0.1111111111111111,
             "#46039f"
            ],
            [
             0.2222222222222222,
             "#7201a8"
            ],
            [
             0.3333333333333333,
             "#9c179e"
            ],
            [
             0.4444444444444444,
             "#bd3786"
            ],
            [
             0.5555555555555556,
             "#d8576b"
            ],
            [
             0.6666666666666666,
             "#ed7953"
            ],
            [
             0.7777777777777778,
             "#fb9f3a"
            ],
            [
             0.8888888888888888,
             "#fdca26"
            ],
            [
             1,
             "#f0f921"
            ]
           ]
          },
          "colorway": [
           "#636efa",
           "#EF553B",
           "#00cc96",
           "#ab63fa",
           "#FFA15A",
           "#19d3f3",
           "#FF6692",
           "#B6E880",
           "#FF97FF",
           "#FECB52"
          ],
          "font": {
           "color": "#2a3f5f"
          },
          "geo": {
           "bgcolor": "white",
           "lakecolor": "white",
           "landcolor": "#E5ECF6",
           "showlakes": true,
           "showland": true,
           "subunitcolor": "white"
          },
          "hoverlabel": {
           "align": "left"
          },
          "hovermode": "closest",
          "mapbox": {
           "style": "light"
          },
          "paper_bgcolor": "white",
          "plot_bgcolor": "#E5ECF6",
          "polar": {
           "angularaxis": {
            "gridcolor": "white",
            "linecolor": "white",
            "ticks": ""
           },
           "bgcolor": "#E5ECF6",
           "radialaxis": {
            "gridcolor": "white",
            "linecolor": "white",
            "ticks": ""
           }
          },
          "scene": {
           "xaxis": {
            "backgroundcolor": "#E5ECF6",
            "gridcolor": "white",
            "gridwidth": 2,
            "linecolor": "white",
            "showbackground": true,
            "ticks": "",
            "zerolinecolor": "white"
           },
           "yaxis": {
            "backgroundcolor": "#E5ECF6",
            "gridcolor": "white",
            "gridwidth": 2,
            "linecolor": "white",
            "showbackground": true,
            "ticks": "",
            "zerolinecolor": "white"
           },
           "zaxis": {
            "backgroundcolor": "#E5ECF6",
            "gridcolor": "white",
            "gridwidth": 2,
            "linecolor": "white",
            "showbackground": true,
            "ticks": "",
            "zerolinecolor": "white"
           }
          },
          "shapedefaults": {
           "line": {
            "color": "#2a3f5f"
           }
          },
          "ternary": {
           "aaxis": {
            "gridcolor": "white",
            "linecolor": "white",
            "ticks": ""
           },
           "baxis": {
            "gridcolor": "white",
            "linecolor": "white",
            "ticks": ""
           },
           "bgcolor": "#E5ECF6",
           "caxis": {
            "gridcolor": "white",
            "linecolor": "white",
            "ticks": ""
           }
          },
          "title": {
           "x": 0.05
          },
          "xaxis": {
           "automargin": true,
           "gridcolor": "white",
           "linecolor": "white",
           "ticks": "",
           "title": {
            "standoff": 15
           },
           "zerolinecolor": "white",
           "zerolinewidth": 2
          },
          "yaxis": {
           "automargin": true,
           "gridcolor": "white",
           "linecolor": "white",
           "ticks": "",
           "title": {
            "standoff": 15
           },
           "zerolinecolor": "white",
           "zerolinewidth": 2
          }
         }
        },
        "title": {
         "font": {
          "color": "#4D5663"
         }
        },
        "xaxis": {
         "gridcolor": "#E1E5ED",
         "showgrid": true,
         "tickfont": {
          "color": "#4D5663"
         },
         "title": {
          "font": {
           "color": "#4D5663"
          },
          "text": ""
         },
         "zerolinecolor": "#E1E5ED"
        },
        "yaxis": {
         "gridcolor": "#E1E5ED",
         "showgrid": true,
         "tickfont": {
          "color": "#4D5663"
         },
         "title": {
          "font": {
           "color": "#4D5663"
          },
          "text": ""
         },
         "zerolinecolor": "#E1E5ED"
        }
       }
      },
      "text/html": [
       "<div>                            <div id=\"bc2df9dc-7f60-45a9-859b-003b8ece2625\" class=\"plotly-graph-div\" style=\"height:525px; width:100%;\"></div>            <script type=\"text/javascript\">                require([\"plotly\"], function(Plotly) {                    window.PLOTLYENV=window.PLOTLYENV || {};\n",
       "                    window.PLOTLYENV.BASE_URL='https://plot.ly';                                    if (document.getElementById(\"bc2df9dc-7f60-45a9-859b-003b8ece2625\")) {                    Plotly.newPlot(                        \"bc2df9dc-7f60-45a9-859b-003b8ece2625\",                        [{\"colorscale\":[[0.0,\"rgb(165,0,38)\"],[0.1,\"rgb(215,48,39)\"],[0.2,\"rgb(244,109,67)\"],[0.3,\"rgb(253,174,97)\"],[0.4,\"rgb(254,224,144)\"],[0.5,\"rgb(255,255,191)\"],[0.6,\"rgb(224,243,248)\"],[0.7,\"rgb(171,217,233)\"],[0.8,\"rgb(116,173,209)\"],[0.9,\"rgb(69,117,180)\"],[1.0,\"rgb(49,54,149)\"]],\"x\":[0,1,2,3,4],\"y\":[\"x\",\"y\",\"z\"],\"z\":[[1,2,3,4,5],[10,20,30,20,10],[5,4,3,2,1]],\"type\":\"surface\"}],                        {\"legend\":{\"bgcolor\":\"#F5F6F9\",\"font\":{\"color\":\"#4D5663\"}},\"paper_bgcolor\":\"#F5F6F9\",\"plot_bgcolor\":\"#F5F6F9\",\"template\":{\"data\":{\"barpolar\":[{\"marker\":{\"line\":{\"color\":\"#E5ECF6\",\"width\":0.5},\"pattern\":{\"fillmode\":\"overlay\",\"size\":10,\"solidity\":0.2}},\"type\":\"barpolar\"}],\"bar\":[{\"error_x\":{\"color\":\"#2a3f5f\"},\"error_y\":{\"color\":\"#2a3f5f\"},\"marker\":{\"line\":{\"color\":\"#E5ECF6\",\"width\":0.5},\"pattern\":{\"fillmode\":\"overlay\",\"size\":10,\"solidity\":0.2}},\"type\":\"bar\"}],\"carpet\":[{\"aaxis\":{\"endlinecolor\":\"#2a3f5f\",\"gridcolor\":\"white\",\"linecolor\":\"white\",\"minorgridcolor\":\"white\",\"startlinecolor\":\"#2a3f5f\"},\"baxis\":{\"endlinecolor\":\"#2a3f5f\",\"gridcolor\":\"white\",\"linecolor\":\"white\",\"minorgridcolor\":\"white\",\"startlinecolor\":\"#2a3f5f\"},\"type\":\"carpet\"}],\"choropleth\":[{\"colorbar\":{\"outlinewidth\":0,\"ticks\":\"\"},\"type\":\"choropleth\"}],\"contourcarpet\":[{\"colorbar\":{\"outlinewidth\":0,\"ticks\":\"\"},\"type\":\"contourcarpet\"}],\"contour\":[{\"colorbar\":{\"outlinewidth\":0,\"ticks\":\"\"},\"colorscale\":[[0.0,\"#0d0887\"],[0.1111111111111111,\"#46039f\"],[0.2222222222222222,\"#7201a8\"],[0.3333333333333333,\"#9c179e\"],[0.4444444444444444,\"#bd3786\"],[0.5555555555555556,\"#d8576b\"],[0.6666666666666666,\"#ed7953\"],[0.7777777777777778,\"#fb9f3a\"],[0.8888888888888888,\"#fdca26\"],[1.0,\"#f0f921\"]],\"type\":\"contour\"}],\"heatmapgl\":[{\"colorbar\":{\"outlinewidth\":0,\"ticks\":\"\"},\"colorscale\":[[0.0,\"#0d0887\"],[0.1111111111111111,\"#46039f\"],[0.2222222222222222,\"#7201a8\"],[0.3333333333333333,\"#9c179e\"],[0.4444444444444444,\"#bd3786\"],[0.5555555555555556,\"#d8576b\"],[0.6666666666666666,\"#ed7953\"],[0.7777777777777778,\"#fb9f3a\"],[0.8888888888888888,\"#fdca26\"],[1.0,\"#f0f921\"]],\"type\":\"heatmapgl\"}],\"heatmap\":[{\"colorbar\":{\"outlinewidth\":0,\"ticks\":\"\"},\"colorscale\":[[0.0,\"#0d0887\"],[0.1111111111111111,\"#46039f\"],[0.2222222222222222,\"#7201a8\"],[0.3333333333333333,\"#9c179e\"],[0.4444444444444444,\"#bd3786\"],[0.5555555555555556,\"#d8576b\"],[0.6666666666666666,\"#ed7953\"],[0.7777777777777778,\"#fb9f3a\"],[0.8888888888888888,\"#fdca26\"],[1.0,\"#f0f921\"]],\"type\":\"heatmap\"}],\"histogram2dcontour\":[{\"colorbar\":{\"outlinewidth\":0,\"ticks\":\"\"},\"colorscale\":[[0.0,\"#0d0887\"],[0.1111111111111111,\"#46039f\"],[0.2222222222222222,\"#7201a8\"],[0.3333333333333333,\"#9c179e\"],[0.4444444444444444,\"#bd3786\"],[0.5555555555555556,\"#d8576b\"],[0.6666666666666666,\"#ed7953\"],[0.7777777777777778,\"#fb9f3a\"],[0.8888888888888888,\"#fdca26\"],[1.0,\"#f0f921\"]],\"type\":\"histogram2dcontour\"}],\"histogram2d\":[{\"colorbar\":{\"outlinewidth\":0,\"ticks\":\"\"},\"colorscale\":[[0.0,\"#0d0887\"],[0.1111111111111111,\"#46039f\"],[0.2222222222222222,\"#7201a8\"],[0.3333333333333333,\"#9c179e\"],[0.4444444444444444,\"#bd3786\"],[0.5555555555555556,\"#d8576b\"],[0.6666666666666666,\"#ed7953\"],[0.7777777777777778,\"#fb9f3a\"],[0.8888888888888888,\"#fdca26\"],[1.0,\"#f0f921\"]],\"type\":\"histogram2d\"}],\"histogram\":[{\"marker\":{\"pattern\":{\"fillmode\":\"overlay\",\"size\":10,\"solidity\":0.2}},\"type\":\"histogram\"}],\"mesh3d\":[{\"colorbar\":{\"outlinewidth\":0,\"ticks\":\"\"},\"type\":\"mesh3d\"}],\"parcoords\":[{\"line\":{\"colorbar\":{\"outlinewidth\":0,\"ticks\":\"\"}},\"type\":\"parcoords\"}],\"pie\":[{\"automargin\":true,\"type\":\"pie\"}],\"scatter3d\":[{\"line\":{\"colorbar\":{\"outlinewidth\":0,\"ticks\":\"\"}},\"marker\":{\"colorbar\":{\"outlinewidth\":0,\"ticks\":\"\"}},\"type\":\"scatter3d\"}],\"scattercarpet\":[{\"marker\":{\"colorbar\":{\"outlinewidth\":0,\"ticks\":\"\"}},\"type\":\"scattercarpet\"}],\"scattergeo\":[{\"marker\":{\"colorbar\":{\"outlinewidth\":0,\"ticks\":\"\"}},\"type\":\"scattergeo\"}],\"scattergl\":[{\"marker\":{\"colorbar\":{\"outlinewidth\":0,\"ticks\":\"\"}},\"type\":\"scattergl\"}],\"scattermapbox\":[{\"marker\":{\"colorbar\":{\"outlinewidth\":0,\"ticks\":\"\"}},\"type\":\"scattermapbox\"}],\"scatterpolargl\":[{\"marker\":{\"colorbar\":{\"outlinewidth\":0,\"ticks\":\"\"}},\"type\":\"scatterpolargl\"}],\"scatterpolar\":[{\"marker\":{\"colorbar\":{\"outlinewidth\":0,\"ticks\":\"\"}},\"type\":\"scatterpolar\"}],\"scatter\":[{\"fillpattern\":{\"fillmode\":\"overlay\",\"size\":10,\"solidity\":0.2},\"type\":\"scatter\"}],\"scatterternary\":[{\"marker\":{\"colorbar\":{\"outlinewidth\":0,\"ticks\":\"\"}},\"type\":\"scatterternary\"}],\"surface\":[{\"colorbar\":{\"outlinewidth\":0,\"ticks\":\"\"},\"colorscale\":[[0.0,\"#0d0887\"],[0.1111111111111111,\"#46039f\"],[0.2222222222222222,\"#7201a8\"],[0.3333333333333333,\"#9c179e\"],[0.4444444444444444,\"#bd3786\"],[0.5555555555555556,\"#d8576b\"],[0.6666666666666666,\"#ed7953\"],[0.7777777777777778,\"#fb9f3a\"],[0.8888888888888888,\"#fdca26\"],[1.0,\"#f0f921\"]],\"type\":\"surface\"}],\"table\":[{\"cells\":{\"fill\":{\"color\":\"#EBF0F8\"},\"line\":{\"color\":\"white\"}},\"header\":{\"fill\":{\"color\":\"#C8D4E3\"},\"line\":{\"color\":\"white\"}},\"type\":\"table\"}]},\"layout\":{\"annotationdefaults\":{\"arrowcolor\":\"#2a3f5f\",\"arrowhead\":0,\"arrowwidth\":1},\"autotypenumbers\":\"strict\",\"coloraxis\":{\"colorbar\":{\"outlinewidth\":0,\"ticks\":\"\"}},\"colorscale\":{\"diverging\":[[0,\"#8e0152\"],[0.1,\"#c51b7d\"],[0.2,\"#de77ae\"],[0.3,\"#f1b6da\"],[0.4,\"#fde0ef\"],[0.5,\"#f7f7f7\"],[0.6,\"#e6f5d0\"],[0.7,\"#b8e186\"],[0.8,\"#7fbc41\"],[0.9,\"#4d9221\"],[1,\"#276419\"]],\"sequential\":[[0.0,\"#0d0887\"],[0.1111111111111111,\"#46039f\"],[0.2222222222222222,\"#7201a8\"],[0.3333333333333333,\"#9c179e\"],[0.4444444444444444,\"#bd3786\"],[0.5555555555555556,\"#d8576b\"],[0.6666666666666666,\"#ed7953\"],[0.7777777777777778,\"#fb9f3a\"],[0.8888888888888888,\"#fdca26\"],[1.0,\"#f0f921\"]],\"sequentialminus\":[[0.0,\"#0d0887\"],[0.1111111111111111,\"#46039f\"],[0.2222222222222222,\"#7201a8\"],[0.3333333333333333,\"#9c179e\"],[0.4444444444444444,\"#bd3786\"],[0.5555555555555556,\"#d8576b\"],[0.6666666666666666,\"#ed7953\"],[0.7777777777777778,\"#fb9f3a\"],[0.8888888888888888,\"#fdca26\"],[1.0,\"#f0f921\"]]},\"colorway\":[\"#636efa\",\"#EF553B\",\"#00cc96\",\"#ab63fa\",\"#FFA15A\",\"#19d3f3\",\"#FF6692\",\"#B6E880\",\"#FF97FF\",\"#FECB52\"],\"font\":{\"color\":\"#2a3f5f\"},\"geo\":{\"bgcolor\":\"white\",\"lakecolor\":\"white\",\"landcolor\":\"#E5ECF6\",\"showlakes\":true,\"showland\":true,\"subunitcolor\":\"white\"},\"hoverlabel\":{\"align\":\"left\"},\"hovermode\":\"closest\",\"mapbox\":{\"style\":\"light\"},\"paper_bgcolor\":\"white\",\"plot_bgcolor\":\"#E5ECF6\",\"polar\":{\"angularaxis\":{\"gridcolor\":\"white\",\"linecolor\":\"white\",\"ticks\":\"\"},\"bgcolor\":\"#E5ECF6\",\"radialaxis\":{\"gridcolor\":\"white\",\"linecolor\":\"white\",\"ticks\":\"\"}},\"scene\":{\"xaxis\":{\"backgroundcolor\":\"#E5ECF6\",\"gridcolor\":\"white\",\"gridwidth\":2,\"linecolor\":\"white\",\"showbackground\":true,\"ticks\":\"\",\"zerolinecolor\":\"white\"},\"yaxis\":{\"backgroundcolor\":\"#E5ECF6\",\"gridcolor\":\"white\",\"gridwidth\":2,\"linecolor\":\"white\",\"showbackground\":true,\"ticks\":\"\",\"zerolinecolor\":\"white\"},\"zaxis\":{\"backgroundcolor\":\"#E5ECF6\",\"gridcolor\":\"white\",\"gridwidth\":2,\"linecolor\":\"white\",\"showbackground\":true,\"ticks\":\"\",\"zerolinecolor\":\"white\"}},\"shapedefaults\":{\"line\":{\"color\":\"#2a3f5f\"}},\"ternary\":{\"aaxis\":{\"gridcolor\":\"white\",\"linecolor\":\"white\",\"ticks\":\"\"},\"baxis\":{\"gridcolor\":\"white\",\"linecolor\":\"white\",\"ticks\":\"\"},\"bgcolor\":\"#E5ECF6\",\"caxis\":{\"gridcolor\":\"white\",\"linecolor\":\"white\",\"ticks\":\"\"}},\"title\":{\"x\":0.05},\"xaxis\":{\"automargin\":true,\"gridcolor\":\"white\",\"linecolor\":\"white\",\"ticks\":\"\",\"title\":{\"standoff\":15},\"zerolinecolor\":\"white\",\"zerolinewidth\":2},\"yaxis\":{\"automargin\":true,\"gridcolor\":\"white\",\"linecolor\":\"white\",\"ticks\":\"\",\"title\":{\"standoff\":15},\"zerolinecolor\":\"white\",\"zerolinewidth\":2}}},\"title\":{\"font\":{\"color\":\"#4D5663\"}},\"xaxis\":{\"gridcolor\":\"#E1E5ED\",\"showgrid\":true,\"tickfont\":{\"color\":\"#4D5663\"},\"title\":{\"font\":{\"color\":\"#4D5663\"},\"text\":\"\"},\"zerolinecolor\":\"#E1E5ED\"},\"yaxis\":{\"gridcolor\":\"#E1E5ED\",\"showgrid\":true,\"tickfont\":{\"color\":\"#4D5663\"},\"title\":{\"font\":{\"color\":\"#4D5663\"},\"text\":\"\"},\"zerolinecolor\":\"#E1E5ED\"}},                        {\"showLink\": true, \"linkText\": \"Export to plot.ly\", \"plotlyServerURL\": \"https://plot.ly\", \"responsive\": true}                    ).then(function(){\n",
       "                            \n",
       "var gd = document.getElementById('bc2df9dc-7f60-45a9-859b-003b8ece2625');\n",
       "var x = new MutationObserver(function (mutations, observer) {{\n",
       "        var display = window.getComputedStyle(gd).display;\n",
       "        if (!display || display === 'none') {{\n",
       "            console.log([gd, 'removed!']);\n",
       "            Plotly.purge(gd);\n",
       "            observer.disconnect();\n",
       "        }}\n",
       "}});\n",
       "\n",
       "// Listen for the removal of the full notebook cells\n",
       "var notebookContainer = gd.closest('#notebook-container');\n",
       "if (notebookContainer) {{\n",
       "    x.observe(notebookContainer, {childList: true});\n",
       "}}\n",
       "\n",
       "// Listen for the clearing of the current output cell\n",
       "var outputEl = gd.closest('.output');\n",
       "if (outputEl) {{\n",
       "    x.observe(outputEl, {childList: true});\n",
       "}}\n",
       "\n",
       "                        })                };                });            </script>        </div>"
      ]
     },
     "metadata": {},
     "output_type": "display_data"
    }
   ],
   "source": [
    "df3 = pd.DataFrame({'x':[1,2,3,4,5],'y':[10,20,30,20,10],'z':[5,4,3,2,1]})\n",
    "df3.iplot(kind='surface',colorscale='rdylbu')"
   ]
  },
  {
   "cell_type": "markdown",
   "metadata": {},
   "source": [
    "## Spread"
   ]
  },
  {
   "cell_type": "code",
   "execution_count": 18,
   "metadata": {},
   "outputs": [
    {
     "name": "stderr",
     "output_type": "stream",
     "text": [
      "C:\\Users\\aliha\\anaconda3\\lib\\site-packages\\cufflinks\\plotlytools.py:849: FutureWarning:\n",
      "\n",
      "The pandas.np module is deprecated and will be removed from pandas in a future version. Import numpy directly instead\n",
      "\n",
      "C:\\Users\\aliha\\anaconda3\\lib\\site-packages\\cufflinks\\plotlytools.py:850: FutureWarning:\n",
      "\n",
      "The pandas.np module is deprecated and will be removed from pandas in a future version. Import numpy directly instead\n",
      "\n"
     ]
    },
    {
     "data": {
      "application/vnd.plotly.v1+json": {
       "config": {
        "linkText": "Export to plot.ly",
        "plotlyServerURL": "https://plot.ly",
        "showLink": true
       },
       "data": [
        {
         "line": {
          "color": "rgba(255, 153, 51, 1.0)",
          "dash": "solid",
          "shape": "linear",
          "width": 1.3
         },
         "mode": "lines",
         "name": "A",
         "text": "",
         "type": "scatter",
         "x": [
          0,
          1,
          2,
          3,
          4,
          5,
          6,
          7,
          8,
          9,
          10,
          11,
          12,
          13,
          14,
          15,
          16,
          17,
          18,
          19,
          20,
          21,
          22,
          23,
          24,
          25,
          26,
          27,
          28,
          29,
          30,
          31,
          32,
          33,
          34,
          35,
          36,
          37,
          38,
          39,
          40,
          41,
          42,
          43,
          44,
          45,
          46,
          47,
          48,
          49,
          50,
          51,
          52,
          53,
          54,
          55,
          56,
          57,
          58,
          59,
          60,
          61,
          62,
          63,
          64,
          65,
          66,
          67,
          68,
          69,
          70,
          71,
          72,
          73,
          74,
          75,
          76,
          77,
          78,
          79,
          80,
          81,
          82,
          83,
          84,
          85,
          86,
          87,
          88,
          89,
          90,
          91,
          92,
          93,
          94,
          95,
          96,
          97,
          98,
          99
         ],
         "y": [
          -1.01612056617424,
          -0.7350362729323395,
          -0.6122344159390835,
          -1.0027127217759482,
          0.6411615685148131,
          0.47054386141649224,
          -0.3547328503486203,
          0.5313897386555986,
          0.04005341849319595,
          0.4423853922330872,
          1.3453508268296637,
          0.46001510288976716,
          -1.0939154713762969,
          -0.9852507089728771,
          1.1842337940231193,
          0.035400627751505785,
          -0.8882653234232453,
          -1.5314639222981914,
          -0.5498478145222545,
          -1.1084877212359212,
          0.3566775880042968,
          -1.7659823693479608,
          0.6590213829373882,
          0.5101739140474232,
          1.0131382954891477,
          0.46360951537076245,
          -2.2895716540127333,
          0.922733121512306,
          -2.557030031114763,
          1.128622390956555,
          1.1549251499099884,
          2.01391053886995,
          -0.2611627431791524,
          -0.5147868612849658,
          -2.431060922279289,
          -0.7672583181291373,
          -2.298902785100592,
          -0.8083345255784181,
          0.2687189200294319,
          -2.4985563849216605,
          -1.2763984060165428,
          0.14579832380677238,
          2.315288436192335,
          -0.3540222252792673,
          0.29763132128657227,
          -1.1886877350578477,
          0.017012621121949425,
          -0.6808860648653475,
          0.757493784133554,
          0.9915664549970045,
          -0.6397343935683023,
          0.3180139455896008,
          -0.35297824713507286,
          0.6286073348907657,
          -1.6798064798568504,
          -0.4133960959978084,
          1.5336438528557266,
          1.342908308677851,
          -1.995429266989642,
          -2.0367965458065433,
          0.9181910529018176,
          0.14209313446350563,
          2.4097474856859527,
          -0.6500226963721444,
          -0.8030245972209434,
          0.4116989497641564,
          -1.6143766990106465,
          -1.3296246735863992,
          0.9626011835038869,
          -0.3121778998549928,
          1.2895010214892222,
          -1.0644429806679216,
          -0.43004607122671684,
          0.31809623885438454,
          0.20556538045975117,
          0.04770613444546337,
          -0.13348555070784276,
          0.6252789967721484,
          -0.9167494564573351,
          -0.5693928827515384,
          1.6882142715481718,
          -0.6760197956265165,
          0.5898625141551448,
          -0.3019476665041306,
          0.8194331535066512,
          -0.7596131374449068,
          -0.8442062612221812,
          0.854585534391039,
          0.7623074263995253,
          0.10715856200218632,
          0.15854307897790754,
          0.057867767618876104,
          -1.4590132144587633,
          -0.48774141554444655,
          -0.3489465166930348,
          -0.06395183331789477,
          -0.7910192977047932,
          1.1702435224480037,
          0.5174062815181917,
          1.7966086539091877
         ]
        },
        {
         "line": {
          "color": "rgba(55, 128, 191, 1.0)",
          "dash": "solid",
          "shape": "linear",
          "width": 1.3
         },
         "mode": "lines",
         "name": "B",
         "text": "",
         "type": "scatter",
         "x": [
          0,
          1,
          2,
          3,
          4,
          5,
          6,
          7,
          8,
          9,
          10,
          11,
          12,
          13,
          14,
          15,
          16,
          17,
          18,
          19,
          20,
          21,
          22,
          23,
          24,
          25,
          26,
          27,
          28,
          29,
          30,
          31,
          32,
          33,
          34,
          35,
          36,
          37,
          38,
          39,
          40,
          41,
          42,
          43,
          44,
          45,
          46,
          47,
          48,
          49,
          50,
          51,
          52,
          53,
          54,
          55,
          56,
          57,
          58,
          59,
          60,
          61,
          62,
          63,
          64,
          65,
          66,
          67,
          68,
          69,
          70,
          71,
          72,
          73,
          74,
          75,
          76,
          77,
          78,
          79,
          80,
          81,
          82,
          83,
          84,
          85,
          86,
          87,
          88,
          89,
          90,
          91,
          92,
          93,
          94,
          95,
          96,
          97,
          98,
          99
         ],
         "y": [
          0.04946243330921958,
          -0.21132604191476,
          0.6315648277657439,
          -0.2584149395608338,
          -0.7523781847700044,
          1.2036525985939475,
          1.5495270140700883,
          0.09388496280413158,
          0.6997786499037146,
          -0.3630767395314691,
          1.8035882864392776,
          -0.6165594656592737,
          -0.9133420425190572,
          -0.07494822915660578,
          1.6863632081187285,
          -0.8135841746988001,
          -2.2015339463447927,
          -0.5210705046298467,
          0.9931310157868933,
          -1.1788053040677775,
          0.4226878840678489,
          0.7620650913636373,
          0.4989719487748791,
          -0.29798089927771654,
          0.2771439125581732,
          -0.5030937366783972,
          0.7034719713030996,
          -0.20973141098206116,
          -0.4412309369018713,
          -0.7485023553513923,
          0.19238228302486748,
          -0.3708395873401066,
          -0.25058735661040316,
          1.036202159912558,
          0.8898810118851016,
          -1.7452658734895148,
          -1.4235741391628185,
          -0.09207445941181541,
          0.05841692620138342,
          0.46591123520293437,
          -0.1524612274278734,
          0.7233984671915831,
          -0.357923332044167,
          -1.1153763934433358,
          -0.2223040125890945,
          0.6595987896207895,
          0.5275433167892178,
          0.6584811824382639,
          2.2224229570487117,
          -1.3022257562225927,
          0.6056946733996742,
          0.24738080469115548,
          1.0835798935157153,
          -0.34865061041761286,
          -0.14303663912040115,
          -0.5147841826477608,
          -1.5812753045414707,
          -0.9095389887382777,
          1.5473046018191206,
          0.08122797413360627,
          0.47490406799778706,
          -0.0774872345388296,
          0.4187426230132602,
          -0.44390492481183186,
          0.14871712550684457,
          0.17021161666783424,
          -0.9966266046835445,
          0.46425669947797965,
          -0.5295787352175079,
          -0.10922776874770161,
          0.05944356627727255,
          -0.9970150259075684,
          0.016713690916964615,
          -0.05186881568918861,
          -0.14750481876005553,
          1.1531289175785948,
          0.12147888548895808,
          1.4102170667598528,
          0.6486462127483743,
          2.4073582123624764,
          0.0050238434293378475,
          2.2466453680516745,
          1.3731646950215053,
          0.0481656177837051,
          0.4885989141516805,
          -1.1003903195942977,
          0.9872266674469901,
          -1.306625795959791,
          -0.9450950182267314,
          1.3020625393122665,
          1.1061683763695591,
          -1.3645015526517559,
          -0.19503219559189425,
          0.08502098989088742,
          -1.3047539944220343,
          -1.1268790001891036,
          0.05680571626761626,
          -0.2607909597711796,
          0.4579837458629166,
          0.8708816973815268
         ]
        },
        {
         "connectgaps": false,
         "fill": "tozeroy",
         "line": {
          "color": "green",
          "dash": "solid",
          "shape": "linear",
          "width": 0.5
         },
         "mode": "lines",
         "name": "Spread",
         "showlegend": false,
         "type": "scatter",
         "x": [
          0,
          1,
          2,
          3,
          4,
          5,
          6,
          7,
          8,
          9,
          10,
          11,
          12,
          13,
          14,
          15,
          16,
          17,
          18,
          19,
          20,
          21,
          22,
          23,
          24,
          25,
          26,
          27,
          28,
          29,
          30,
          31,
          32,
          33,
          34,
          35,
          36,
          37,
          38,
          39,
          40,
          41,
          42,
          43,
          44,
          45,
          46,
          47,
          48,
          49,
          50,
          51,
          52,
          53,
          54,
          55,
          56,
          57,
          58,
          59,
          60,
          61,
          62,
          63,
          64,
          65,
          66,
          67,
          68,
          69,
          70,
          71,
          72,
          73,
          74,
          75,
          76,
          77,
          78,
          79,
          80,
          81,
          82,
          83,
          84,
          85,
          86,
          87,
          88,
          89,
          90,
          91,
          92,
          93,
          94,
          95,
          96,
          97,
          98,
          99
         ],
         "xaxis": "x2",
         "y": [
          "",
          "",
          "",
          "",
          1.3935397532848175,
          "",
          "",
          0.43750477585146696,
          "",
          0.8054621317645563,
          "",
          1.0765745685490409,
          "",
          "",
          "",
          0.8489848024503058,
          1.3132686229215476,
          "",
          "",
          0.0703175828318563,
          "",
          "",
          0.1600494341625091,
          0.8081548133251397,
          0.7359943829309745,
          0.9667032520491596,
          "",
          1.1324645324943672,
          "",
          1.8771247463079472,
          0.9625428668851209,
          2.3847501262100566,
          "",
          "",
          "",
          0.9780075553603775,
          "",
          "",
          0.21030199382804846,
          "",
          "",
          "",
          2.6732117682365018,
          0.7613541681640685,
          0.5199353338756667,
          "",
          "",
          "",
          "",
          2.293792211219597,
          "",
          0.0706331408984453,
          "",
          0.9772579453083785,
          "",
          0.10138808664995241,
          3.114919157397197,
          2.2524472974161287,
          "",
          "",
          0.4432869849040305,
          0.21958036900233524,
          1.9910048626726924,
          "",
          "",
          0.24148733309632214,
          "",
          "",
          1.4921799187213947,
          "",
          1.2300574552119496,
          "",
          "",
          0.36996505454357315,
          0.3530701992198067,
          "",
          "",
          "",
          "",
          "",
          1.683190428118834,
          "",
          "",
          "",
          0.33083423935497075,
          0.3407771821493909,
          "",
          2.16121133035083,
          1.7074024446262568,
          "",
          "",
          1.422369320270632,
          "",
          "",
          0.9558074777289995,
          1.0629271668712088,
          "",
          1.4310344822191832,
          0.059422535655275055,
          0.9257269565276609
         ],
         "yaxis": "y2"
        },
        {
         "connectgaps": false,
         "fill": "tozeroy",
         "line": {
          "color": "red",
          "dash": "solid",
          "shape": "linear",
          "width": 0.5
         },
         "mode": "lines",
         "name": "Spread",
         "showlegend": false,
         "type": "scatter",
         "x": [
          0,
          1,
          2,
          3,
          4,
          5,
          6,
          7,
          8,
          9,
          10,
          11,
          12,
          13,
          14,
          15,
          16,
          17,
          18,
          19,
          20,
          21,
          22,
          23,
          24,
          25,
          26,
          27,
          28,
          29,
          30,
          31,
          32,
          33,
          34,
          35,
          36,
          37,
          38,
          39,
          40,
          41,
          42,
          43,
          44,
          45,
          46,
          47,
          48,
          49,
          50,
          51,
          52,
          53,
          54,
          55,
          56,
          57,
          58,
          59,
          60,
          61,
          62,
          63,
          64,
          65,
          66,
          67,
          68,
          69,
          70,
          71,
          72,
          73,
          74,
          75,
          76,
          77,
          78,
          79,
          80,
          81,
          82,
          83,
          84,
          85,
          86,
          87,
          88,
          89,
          90,
          91,
          92,
          93,
          94,
          95,
          96,
          97,
          98,
          99
         ],
         "xaxis": "x2",
         "y": [
          -1.0655829994834596,
          -0.5237102310175795,
          -1.2437992437048273,
          -0.7442977822151144,
          "",
          -0.7331087371774552,
          -1.9042598644187085,
          "",
          -0.6597252314105186,
          "",
          -0.45823745960961393,
          "",
          -0.1805734288572397,
          -0.9103024798162713,
          -0.5021294140956092,
          "",
          "",
          -1.0103934176683447,
          -1.5429788303091478,
          "",
          -0.06601029606355213,
          -2.528047460711598,
          "",
          "",
          "",
          "",
          -2.993043625315833,
          "",
          -2.1157990942128917,
          "",
          "",
          "",
          -0.010575386568749234,
          -1.5509890211975237,
          -3.3209419341643907,
          "",
          -0.8753286459377736,
          -0.7162600661666028,
          "",
          -2.9644676201245947,
          -1.1239371785886694,
          -0.5776001433848107,
          "",
          "",
          "",
          -1.8482865246786373,
          -0.5105306956672684,
          -1.3393672473036116,
          -1.464929172915158,
          "",
          -1.2454290669679766,
          "",
          -1.4365581406507881,
          "",
          -1.5367698407364492,
          "",
          "",
          "",
          -3.542733868808763,
          -2.1180245199401497,
          "",
          "",
          "",
          -0.20611777156031252,
          -0.951741722727788,
          "",
          -0.617750094327102,
          -1.7938813730643788,
          "",
          -0.20295013110729115,
          "",
          -0.06742795476035324,
          -0.44675976214368146,
          "",
          "",
          -1.1054227831331314,
          -0.25496443619680087,
          -0.7849380699877044,
          -1.5653956692057094,
          -2.9767510951140146,
          "",
          -2.922665163678191,
          -0.7833021808663605,
          -0.35011328428783567,
          "",
          "",
          -1.8314329286691713,
          "",
          "",
          -1.19490397731008,
          -0.9476252973916516,
          "",
          -1.263981018866869,
          -0.572762405435334,
          "",
          "",
          -0.8478250139724094,
          "",
          "",
          ""
         ],
         "yaxis": "y2"
        }
       ],
       "layout": {
        "hovermode": "x",
        "legend": {
         "bgcolor": "#F5F6F9",
         "font": {
          "color": "#4D5663"
         }
        },
        "paper_bgcolor": "#F5F6F9",
        "plot_bgcolor": "#F5F6F9",
        "template": {
         "data": {
          "bar": [
           {
            "error_x": {
             "color": "#2a3f5f"
            },
            "error_y": {
             "color": "#2a3f5f"
            },
            "marker": {
             "line": {
              "color": "#E5ECF6",
              "width": 0.5
             },
             "pattern": {
              "fillmode": "overlay",
              "size": 10,
              "solidity": 0.2
             }
            },
            "type": "bar"
           }
          ],
          "barpolar": [
           {
            "marker": {
             "line": {
              "color": "#E5ECF6",
              "width": 0.5
             },
             "pattern": {
              "fillmode": "overlay",
              "size": 10,
              "solidity": 0.2
             }
            },
            "type": "barpolar"
           }
          ],
          "carpet": [
           {
            "aaxis": {
             "endlinecolor": "#2a3f5f",
             "gridcolor": "white",
             "linecolor": "white",
             "minorgridcolor": "white",
             "startlinecolor": "#2a3f5f"
            },
            "baxis": {
             "endlinecolor": "#2a3f5f",
             "gridcolor": "white",
             "linecolor": "white",
             "minorgridcolor": "white",
             "startlinecolor": "#2a3f5f"
            },
            "type": "carpet"
           }
          ],
          "choropleth": [
           {
            "colorbar": {
             "outlinewidth": 0,
             "ticks": ""
            },
            "type": "choropleth"
           }
          ],
          "contour": [
           {
            "colorbar": {
             "outlinewidth": 0,
             "ticks": ""
            },
            "colorscale": [
             [
              0,
              "#0d0887"
             ],
             [
              0.1111111111111111,
              "#46039f"
             ],
             [
              0.2222222222222222,
              "#7201a8"
             ],
             [
              0.3333333333333333,
              "#9c179e"
             ],
             [
              0.4444444444444444,
              "#bd3786"
             ],
             [
              0.5555555555555556,
              "#d8576b"
             ],
             [
              0.6666666666666666,
              "#ed7953"
             ],
             [
              0.7777777777777778,
              "#fb9f3a"
             ],
             [
              0.8888888888888888,
              "#fdca26"
             ],
             [
              1,
              "#f0f921"
             ]
            ],
            "type": "contour"
           }
          ],
          "contourcarpet": [
           {
            "colorbar": {
             "outlinewidth": 0,
             "ticks": ""
            },
            "type": "contourcarpet"
           }
          ],
          "heatmap": [
           {
            "colorbar": {
             "outlinewidth": 0,
             "ticks": ""
            },
            "colorscale": [
             [
              0,
              "#0d0887"
             ],
             [
              0.1111111111111111,
              "#46039f"
             ],
             [
              0.2222222222222222,
              "#7201a8"
             ],
             [
              0.3333333333333333,
              "#9c179e"
             ],
             [
              0.4444444444444444,
              "#bd3786"
             ],
             [
              0.5555555555555556,
              "#d8576b"
             ],
             [
              0.6666666666666666,
              "#ed7953"
             ],
             [
              0.7777777777777778,
              "#fb9f3a"
             ],
             [
              0.8888888888888888,
              "#fdca26"
             ],
             [
              1,
              "#f0f921"
             ]
            ],
            "type": "heatmap"
           }
          ],
          "heatmapgl": [
           {
            "colorbar": {
             "outlinewidth": 0,
             "ticks": ""
            },
            "colorscale": [
             [
              0,
              "#0d0887"
             ],
             [
              0.1111111111111111,
              "#46039f"
             ],
             [
              0.2222222222222222,
              "#7201a8"
             ],
             [
              0.3333333333333333,
              "#9c179e"
             ],
             [
              0.4444444444444444,
              "#bd3786"
             ],
             [
              0.5555555555555556,
              "#d8576b"
             ],
             [
              0.6666666666666666,
              "#ed7953"
             ],
             [
              0.7777777777777778,
              "#fb9f3a"
             ],
             [
              0.8888888888888888,
              "#fdca26"
             ],
             [
              1,
              "#f0f921"
             ]
            ],
            "type": "heatmapgl"
           }
          ],
          "histogram": [
           {
            "marker": {
             "pattern": {
              "fillmode": "overlay",
              "size": 10,
              "solidity": 0.2
             }
            },
            "type": "histogram"
           }
          ],
          "histogram2d": [
           {
            "colorbar": {
             "outlinewidth": 0,
             "ticks": ""
            },
            "colorscale": [
             [
              0,
              "#0d0887"
             ],
             [
              0.1111111111111111,
              "#46039f"
             ],
             [
              0.2222222222222222,
              "#7201a8"
             ],
             [
              0.3333333333333333,
              "#9c179e"
             ],
             [
              0.4444444444444444,
              "#bd3786"
             ],
             [
              0.5555555555555556,
              "#d8576b"
             ],
             [
              0.6666666666666666,
              "#ed7953"
             ],
             [
              0.7777777777777778,
              "#fb9f3a"
             ],
             [
              0.8888888888888888,
              "#fdca26"
             ],
             [
              1,
              "#f0f921"
             ]
            ],
            "type": "histogram2d"
           }
          ],
          "histogram2dcontour": [
           {
            "colorbar": {
             "outlinewidth": 0,
             "ticks": ""
            },
            "colorscale": [
             [
              0,
              "#0d0887"
             ],
             [
              0.1111111111111111,
              "#46039f"
             ],
             [
              0.2222222222222222,
              "#7201a8"
             ],
             [
              0.3333333333333333,
              "#9c179e"
             ],
             [
              0.4444444444444444,
              "#bd3786"
             ],
             [
              0.5555555555555556,
              "#d8576b"
             ],
             [
              0.6666666666666666,
              "#ed7953"
             ],
             [
              0.7777777777777778,
              "#fb9f3a"
             ],
             [
              0.8888888888888888,
              "#fdca26"
             ],
             [
              1,
              "#f0f921"
             ]
            ],
            "type": "histogram2dcontour"
           }
          ],
          "mesh3d": [
           {
            "colorbar": {
             "outlinewidth": 0,
             "ticks": ""
            },
            "type": "mesh3d"
           }
          ],
          "parcoords": [
           {
            "line": {
             "colorbar": {
              "outlinewidth": 0,
              "ticks": ""
             }
            },
            "type": "parcoords"
           }
          ],
          "pie": [
           {
            "automargin": true,
            "type": "pie"
           }
          ],
          "scatter": [
           {
            "fillpattern": {
             "fillmode": "overlay",
             "size": 10,
             "solidity": 0.2
            },
            "type": "scatter"
           }
          ],
          "scatter3d": [
           {
            "line": {
             "colorbar": {
              "outlinewidth": 0,
              "ticks": ""
             }
            },
            "marker": {
             "colorbar": {
              "outlinewidth": 0,
              "ticks": ""
             }
            },
            "type": "scatter3d"
           }
          ],
          "scattercarpet": [
           {
            "marker": {
             "colorbar": {
              "outlinewidth": 0,
              "ticks": ""
             }
            },
            "type": "scattercarpet"
           }
          ],
          "scattergeo": [
           {
            "marker": {
             "colorbar": {
              "outlinewidth": 0,
              "ticks": ""
             }
            },
            "type": "scattergeo"
           }
          ],
          "scattergl": [
           {
            "marker": {
             "colorbar": {
              "outlinewidth": 0,
              "ticks": ""
             }
            },
            "type": "scattergl"
           }
          ],
          "scattermapbox": [
           {
            "marker": {
             "colorbar": {
              "outlinewidth": 0,
              "ticks": ""
             }
            },
            "type": "scattermapbox"
           }
          ],
          "scatterpolar": [
           {
            "marker": {
             "colorbar": {
              "outlinewidth": 0,
              "ticks": ""
             }
            },
            "type": "scatterpolar"
           }
          ],
          "scatterpolargl": [
           {
            "marker": {
             "colorbar": {
              "outlinewidth": 0,
              "ticks": ""
             }
            },
            "type": "scatterpolargl"
           }
          ],
          "scatterternary": [
           {
            "marker": {
             "colorbar": {
              "outlinewidth": 0,
              "ticks": ""
             }
            },
            "type": "scatterternary"
           }
          ],
          "surface": [
           {
            "colorbar": {
             "outlinewidth": 0,
             "ticks": ""
            },
            "colorscale": [
             [
              0,
              "#0d0887"
             ],
             [
              0.1111111111111111,
              "#46039f"
             ],
             [
              0.2222222222222222,
              "#7201a8"
             ],
             [
              0.3333333333333333,
              "#9c179e"
             ],
             [
              0.4444444444444444,
              "#bd3786"
             ],
             [
              0.5555555555555556,
              "#d8576b"
             ],
             [
              0.6666666666666666,
              "#ed7953"
             ],
             [
              0.7777777777777778,
              "#fb9f3a"
             ],
             [
              0.8888888888888888,
              "#fdca26"
             ],
             [
              1,
              "#f0f921"
             ]
            ],
            "type": "surface"
           }
          ],
          "table": [
           {
            "cells": {
             "fill": {
              "color": "#EBF0F8"
             },
             "line": {
              "color": "white"
             }
            },
            "header": {
             "fill": {
              "color": "#C8D4E3"
             },
             "line": {
              "color": "white"
             }
            },
            "type": "table"
           }
          ]
         },
         "layout": {
          "annotationdefaults": {
           "arrowcolor": "#2a3f5f",
           "arrowhead": 0,
           "arrowwidth": 1
          },
          "autotypenumbers": "strict",
          "coloraxis": {
           "colorbar": {
            "outlinewidth": 0,
            "ticks": ""
           }
          },
          "colorscale": {
           "diverging": [
            [
             0,
             "#8e0152"
            ],
            [
             0.1,
             "#c51b7d"
            ],
            [
             0.2,
             "#de77ae"
            ],
            [
             0.3,
             "#f1b6da"
            ],
            [
             0.4,
             "#fde0ef"
            ],
            [
             0.5,
             "#f7f7f7"
            ],
            [
             0.6,
             "#e6f5d0"
            ],
            [
             0.7,
             "#b8e186"
            ],
            [
             0.8,
             "#7fbc41"
            ],
            [
             0.9,
             "#4d9221"
            ],
            [
             1,
             "#276419"
            ]
           ],
           "sequential": [
            [
             0,
             "#0d0887"
            ],
            [
             0.1111111111111111,
             "#46039f"
            ],
            [
             0.2222222222222222,
             "#7201a8"
            ],
            [
             0.3333333333333333,
             "#9c179e"
            ],
            [
             0.4444444444444444,
             "#bd3786"
            ],
            [
             0.5555555555555556,
             "#d8576b"
            ],
            [
             0.6666666666666666,
             "#ed7953"
            ],
            [
             0.7777777777777778,
             "#fb9f3a"
            ],
            [
             0.8888888888888888,
             "#fdca26"
            ],
            [
             1,
             "#f0f921"
            ]
           ],
           "sequentialminus": [
            [
             0,
             "#0d0887"
            ],
            [
             0.1111111111111111,
             "#46039f"
            ],
            [
             0.2222222222222222,
             "#7201a8"
            ],
            [
             0.3333333333333333,
             "#9c179e"
            ],
            [
             0.4444444444444444,
             "#bd3786"
            ],
            [
             0.5555555555555556,
             "#d8576b"
            ],
            [
             0.6666666666666666,
             "#ed7953"
            ],
            [
             0.7777777777777778,
             "#fb9f3a"
            ],
            [
             0.8888888888888888,
             "#fdca26"
            ],
            [
             1,
             "#f0f921"
            ]
           ]
          },
          "colorway": [
           "#636efa",
           "#EF553B",
           "#00cc96",
           "#ab63fa",
           "#FFA15A",
           "#19d3f3",
           "#FF6692",
           "#B6E880",
           "#FF97FF",
           "#FECB52"
          ],
          "font": {
           "color": "#2a3f5f"
          },
          "geo": {
           "bgcolor": "white",
           "lakecolor": "white",
           "landcolor": "#E5ECF6",
           "showlakes": true,
           "showland": true,
           "subunitcolor": "white"
          },
          "hoverlabel": {
           "align": "left"
          },
          "hovermode": "closest",
          "mapbox": {
           "style": "light"
          },
          "paper_bgcolor": "white",
          "plot_bgcolor": "#E5ECF6",
          "polar": {
           "angularaxis": {
            "gridcolor": "white",
            "linecolor": "white",
            "ticks": ""
           },
           "bgcolor": "#E5ECF6",
           "radialaxis": {
            "gridcolor": "white",
            "linecolor": "white",
            "ticks": ""
           }
          },
          "scene": {
           "xaxis": {
            "backgroundcolor": "#E5ECF6",
            "gridcolor": "white",
            "gridwidth": 2,
            "linecolor": "white",
            "showbackground": true,
            "ticks": "",
            "zerolinecolor": "white"
           },
           "yaxis": {
            "backgroundcolor": "#E5ECF6",
            "gridcolor": "white",
            "gridwidth": 2,
            "linecolor": "white",
            "showbackground": true,
            "ticks": "",
            "zerolinecolor": "white"
           },
           "zaxis": {
            "backgroundcolor": "#E5ECF6",
            "gridcolor": "white",
            "gridwidth": 2,
            "linecolor": "white",
            "showbackground": true,
            "ticks": "",
            "zerolinecolor": "white"
           }
          },
          "shapedefaults": {
           "line": {
            "color": "#2a3f5f"
           }
          },
          "ternary": {
           "aaxis": {
            "gridcolor": "white",
            "linecolor": "white",
            "ticks": ""
           },
           "baxis": {
            "gridcolor": "white",
            "linecolor": "white",
            "ticks": ""
           },
           "bgcolor": "#E5ECF6",
           "caxis": {
            "gridcolor": "white",
            "linecolor": "white",
            "ticks": ""
           }
          },
          "title": {
           "x": 0.05
          },
          "xaxis": {
           "automargin": true,
           "gridcolor": "white",
           "linecolor": "white",
           "ticks": "",
           "title": {
            "standoff": 15
           },
           "zerolinecolor": "white",
           "zerolinewidth": 2
          },
          "yaxis": {
           "automargin": true,
           "gridcolor": "white",
           "linecolor": "white",
           "ticks": "",
           "title": {
            "standoff": 15
           },
           "zerolinecolor": "white",
           "zerolinewidth": 2
          }
         }
        },
        "title": {
         "font": {
          "color": "#4D5663"
         }
        },
        "xaxis": {
         "gridcolor": "#E1E5ED",
         "showgrid": true,
         "tickfont": {
          "color": "#4D5663"
         },
         "title": {
          "font": {
           "color": "#4D5663"
          },
          "text": ""
         },
         "zerolinecolor": "#E1E5ED"
        },
        "xaxis2": {
         "anchor": "y2",
         "gridcolor": "#E1E5ED",
         "showgrid": true,
         "showticklabels": false,
         "tickfont": {
          "color": "#4D5663"
         },
         "title": {
          "font": {
           "color": "#4D5663"
          },
          "text": ""
         },
         "zerolinecolor": "#E1E5ED"
        },
        "yaxis": {
         "domain": [
          0.3,
          1
         ],
         "gridcolor": "#E1E5ED",
         "showgrid": true,
         "tickfont": {
          "color": "#4D5663"
         },
         "title": {
          "font": {
           "color": "#4D5663"
          },
          "text": ""
         },
         "zerolinecolor": "#E1E5ED"
        },
        "yaxis2": {
         "domain": [
          0,
          0.25
         ],
         "gridcolor": "#E1E5ED",
         "showgrid": true,
         "tickfont": {
          "color": "#4D5663"
         },
         "title": {
          "font": {
           "color": "#4D5663"
          },
          "text": "Spread"
         },
         "zerolinecolor": "#E1E5ED"
        }
       }
      },
      "text/html": [
       "<div>                            <div id=\"c1f56f05-a8c8-4517-a9ca-0ca09f9f8ccd\" class=\"plotly-graph-div\" style=\"height:525px; width:100%;\"></div>            <script type=\"text/javascript\">                require([\"plotly\"], function(Plotly) {                    window.PLOTLYENV=window.PLOTLYENV || {};\n",
       "                    window.PLOTLYENV.BASE_URL='https://plot.ly';                                    if (document.getElementById(\"c1f56f05-a8c8-4517-a9ca-0ca09f9f8ccd\")) {                    Plotly.newPlot(                        \"c1f56f05-a8c8-4517-a9ca-0ca09f9f8ccd\",                        [{\"line\":{\"color\":\"rgba(255, 153, 51, 1.0)\",\"dash\":\"solid\",\"shape\":\"linear\",\"width\":1.3},\"mode\":\"lines\",\"name\":\"A\",\"text\":\"\",\"x\":[0,1,2,3,4,5,6,7,8,9,10,11,12,13,14,15,16,17,18,19,20,21,22,23,24,25,26,27,28,29,30,31,32,33,34,35,36,37,38,39,40,41,42,43,44,45,46,47,48,49,50,51,52,53,54,55,56,57,58,59,60,61,62,63,64,65,66,67,68,69,70,71,72,73,74,75,76,77,78,79,80,81,82,83,84,85,86,87,88,89,90,91,92,93,94,95,96,97,98,99],\"y\":[-1.01612056617424,-0.7350362729323395,-0.6122344159390835,-1.0027127217759482,0.6411615685148131,0.47054386141649224,-0.3547328503486203,0.5313897386555986,0.04005341849319595,0.4423853922330872,1.3453508268296637,0.46001510288976716,-1.0939154713762969,-0.9852507089728771,1.1842337940231193,0.035400627751505785,-0.8882653234232453,-1.5314639222981914,-0.5498478145222545,-1.1084877212359212,0.3566775880042968,-1.7659823693479608,0.6590213829373882,0.5101739140474232,1.0131382954891477,0.46360951537076245,-2.2895716540127333,0.922733121512306,-2.557030031114763,1.128622390956555,1.1549251499099884,2.01391053886995,-0.2611627431791524,-0.5147868612849658,-2.431060922279289,-0.7672583181291373,-2.298902785100592,-0.8083345255784181,0.2687189200294319,-2.4985563849216605,-1.2763984060165428,0.14579832380677238,2.315288436192335,-0.3540222252792673,0.29763132128657227,-1.1886877350578477,0.017012621121949425,-0.6808860648653475,0.757493784133554,0.9915664549970045,-0.6397343935683023,0.3180139455896008,-0.35297824713507286,0.6286073348907657,-1.6798064798568504,-0.4133960959978084,1.5336438528557266,1.342908308677851,-1.995429266989642,-2.0367965458065433,0.9181910529018176,0.14209313446350563,2.4097474856859527,-0.6500226963721444,-0.8030245972209434,0.4116989497641564,-1.6143766990106465,-1.3296246735863992,0.9626011835038869,-0.3121778998549928,1.2895010214892222,-1.0644429806679216,-0.43004607122671684,0.31809623885438454,0.20556538045975117,0.04770613444546337,-0.13348555070784276,0.6252789967721484,-0.9167494564573351,-0.5693928827515384,1.6882142715481718,-0.6760197956265165,0.5898625141551448,-0.3019476665041306,0.8194331535066512,-0.7596131374449068,-0.8442062612221812,0.854585534391039,0.7623074263995253,0.10715856200218632,0.15854307897790754,0.057867767618876104,-1.4590132144587633,-0.48774141554444655,-0.3489465166930348,-0.06395183331789477,-0.7910192977047932,1.1702435224480037,0.5174062815181917,1.7966086539091877],\"type\":\"scatter\"},{\"line\":{\"color\":\"rgba(55, 128, 191, 1.0)\",\"dash\":\"solid\",\"shape\":\"linear\",\"width\":1.3},\"mode\":\"lines\",\"name\":\"B\",\"text\":\"\",\"x\":[0,1,2,3,4,5,6,7,8,9,10,11,12,13,14,15,16,17,18,19,20,21,22,23,24,25,26,27,28,29,30,31,32,33,34,35,36,37,38,39,40,41,42,43,44,45,46,47,48,49,50,51,52,53,54,55,56,57,58,59,60,61,62,63,64,65,66,67,68,69,70,71,72,73,74,75,76,77,78,79,80,81,82,83,84,85,86,87,88,89,90,91,92,93,94,95,96,97,98,99],\"y\":[0.04946243330921958,-0.21132604191476,0.6315648277657439,-0.2584149395608338,-0.7523781847700044,1.2036525985939475,1.5495270140700883,0.09388496280413158,0.6997786499037146,-0.3630767395314691,1.8035882864392776,-0.6165594656592737,-0.9133420425190572,-0.07494822915660578,1.6863632081187285,-0.8135841746988001,-2.2015339463447927,-0.5210705046298467,0.9931310157868933,-1.1788053040677775,0.4226878840678489,0.7620650913636373,0.4989719487748791,-0.29798089927771654,0.2771439125581732,-0.5030937366783972,0.7034719713030996,-0.20973141098206116,-0.4412309369018713,-0.7485023553513923,0.19238228302486748,-0.3708395873401066,-0.25058735661040316,1.036202159912558,0.8898810118851016,-1.7452658734895148,-1.4235741391628185,-0.09207445941181541,0.05841692620138342,0.46591123520293437,-0.1524612274278734,0.7233984671915831,-0.357923332044167,-1.1153763934433358,-0.2223040125890945,0.6595987896207895,0.5275433167892178,0.6584811824382639,2.2224229570487117,-1.3022257562225927,0.6056946733996742,0.24738080469115548,1.0835798935157153,-0.34865061041761286,-0.14303663912040115,-0.5147841826477608,-1.5812753045414707,-0.9095389887382777,1.5473046018191206,0.08122797413360627,0.47490406799778706,-0.0774872345388296,0.4187426230132602,-0.44390492481183186,0.14871712550684457,0.17021161666783424,-0.9966266046835445,0.46425669947797965,-0.5295787352175079,-0.10922776874770161,0.05944356627727255,-0.9970150259075684,0.016713690916964615,-0.05186881568918861,-0.14750481876005553,1.1531289175785948,0.12147888548895808,1.4102170667598528,0.6486462127483743,2.4073582123624764,0.0050238434293378475,2.2466453680516745,1.3731646950215053,0.0481656177837051,0.4885989141516805,-1.1003903195942977,0.9872266674469901,-1.306625795959791,-0.9450950182267314,1.3020625393122665,1.1061683763695591,-1.3645015526517559,-0.19503219559189425,0.08502098989088742,-1.3047539944220343,-1.1268790001891036,0.05680571626761626,-0.2607909597711796,0.4579837458629166,0.8708816973815268],\"type\":\"scatter\"},{\"connectgaps\":false,\"fill\":\"tozeroy\",\"line\":{\"color\":\"green\",\"dash\":\"solid\",\"shape\":\"linear\",\"width\":0.5},\"mode\":\"lines\",\"name\":\"Spread\",\"showlegend\":false,\"x\":[0,1,2,3,4,5,6,7,8,9,10,11,12,13,14,15,16,17,18,19,20,21,22,23,24,25,26,27,28,29,30,31,32,33,34,35,36,37,38,39,40,41,42,43,44,45,46,47,48,49,50,51,52,53,54,55,56,57,58,59,60,61,62,63,64,65,66,67,68,69,70,71,72,73,74,75,76,77,78,79,80,81,82,83,84,85,86,87,88,89,90,91,92,93,94,95,96,97,98,99],\"xaxis\":\"x2\",\"y\":[\"\",\"\",\"\",\"\",1.3935397532848175,\"\",\"\",0.43750477585146696,\"\",0.8054621317645563,\"\",1.0765745685490409,\"\",\"\",\"\",0.8489848024503058,1.3132686229215476,\"\",\"\",0.0703175828318563,\"\",\"\",0.1600494341625091,0.8081548133251397,0.7359943829309745,0.9667032520491596,\"\",1.1324645324943672,\"\",1.8771247463079472,0.9625428668851209,2.3847501262100566,\"\",\"\",\"\",0.9780075553603775,\"\",\"\",0.21030199382804846,\"\",\"\",\"\",2.6732117682365018,0.7613541681640685,0.5199353338756667,\"\",\"\",\"\",\"\",2.293792211219597,\"\",0.0706331408984453,\"\",0.9772579453083785,\"\",0.10138808664995241,3.114919157397197,2.2524472974161287,\"\",\"\",0.4432869849040305,0.21958036900233524,1.9910048626726924,\"\",\"\",0.24148733309632214,\"\",\"\",1.4921799187213947,\"\",1.2300574552119496,\"\",\"\",0.36996505454357315,0.3530701992198067,\"\",\"\",\"\",\"\",\"\",1.683190428118834,\"\",\"\",\"\",0.33083423935497075,0.3407771821493909,\"\",2.16121133035083,1.7074024446262568,\"\",\"\",1.422369320270632,\"\",\"\",0.9558074777289995,1.0629271668712088,\"\",1.4310344822191832,0.059422535655275055,0.9257269565276609],\"yaxis\":\"y2\",\"type\":\"scatter\"},{\"connectgaps\":false,\"fill\":\"tozeroy\",\"line\":{\"color\":\"red\",\"dash\":\"solid\",\"shape\":\"linear\",\"width\":0.5},\"mode\":\"lines\",\"name\":\"Spread\",\"showlegend\":false,\"x\":[0,1,2,3,4,5,6,7,8,9,10,11,12,13,14,15,16,17,18,19,20,21,22,23,24,25,26,27,28,29,30,31,32,33,34,35,36,37,38,39,40,41,42,43,44,45,46,47,48,49,50,51,52,53,54,55,56,57,58,59,60,61,62,63,64,65,66,67,68,69,70,71,72,73,74,75,76,77,78,79,80,81,82,83,84,85,86,87,88,89,90,91,92,93,94,95,96,97,98,99],\"xaxis\":\"x2\",\"y\":[-1.0655829994834596,-0.5237102310175795,-1.2437992437048273,-0.7442977822151144,\"\",-0.7331087371774552,-1.9042598644187085,\"\",-0.6597252314105186,\"\",-0.45823745960961393,\"\",-0.1805734288572397,-0.9103024798162713,-0.5021294140956092,\"\",\"\",-1.0103934176683447,-1.5429788303091478,\"\",-0.06601029606355213,-2.528047460711598,\"\",\"\",\"\",\"\",-2.993043625315833,\"\",-2.1157990942128917,\"\",\"\",\"\",-0.010575386568749234,-1.5509890211975237,-3.3209419341643907,\"\",-0.8753286459377736,-0.7162600661666028,\"\",-2.9644676201245947,-1.1239371785886694,-0.5776001433848107,\"\",\"\",\"\",-1.8482865246786373,-0.5105306956672684,-1.3393672473036116,-1.464929172915158,\"\",-1.2454290669679766,\"\",-1.4365581406507881,\"\",-1.5367698407364492,\"\",\"\",\"\",-3.542733868808763,-2.1180245199401497,\"\",\"\",\"\",-0.20611777156031252,-0.951741722727788,\"\",-0.617750094327102,-1.7938813730643788,\"\",-0.20295013110729115,\"\",-0.06742795476035324,-0.44675976214368146,\"\",\"\",-1.1054227831331314,-0.25496443619680087,-0.7849380699877044,-1.5653956692057094,-2.9767510951140146,\"\",-2.922665163678191,-0.7833021808663605,-0.35011328428783567,\"\",\"\",-1.8314329286691713,\"\",\"\",-1.19490397731008,-0.9476252973916516,\"\",-1.263981018866869,-0.572762405435334,\"\",\"\",-0.8478250139724094,\"\",\"\",\"\"],\"yaxis\":\"y2\",\"type\":\"scatter\"}],                        {\"hovermode\":\"x\",\"legend\":{\"bgcolor\":\"#F5F6F9\",\"font\":{\"color\":\"#4D5663\"}},\"paper_bgcolor\":\"#F5F6F9\",\"plot_bgcolor\":\"#F5F6F9\",\"template\":{\"data\":{\"barpolar\":[{\"marker\":{\"line\":{\"color\":\"#E5ECF6\",\"width\":0.5},\"pattern\":{\"fillmode\":\"overlay\",\"size\":10,\"solidity\":0.2}},\"type\":\"barpolar\"}],\"bar\":[{\"error_x\":{\"color\":\"#2a3f5f\"},\"error_y\":{\"color\":\"#2a3f5f\"},\"marker\":{\"line\":{\"color\":\"#E5ECF6\",\"width\":0.5},\"pattern\":{\"fillmode\":\"overlay\",\"size\":10,\"solidity\":0.2}},\"type\":\"bar\"}],\"carpet\":[{\"aaxis\":{\"endlinecolor\":\"#2a3f5f\",\"gridcolor\":\"white\",\"linecolor\":\"white\",\"minorgridcolor\":\"white\",\"startlinecolor\":\"#2a3f5f\"},\"baxis\":{\"endlinecolor\":\"#2a3f5f\",\"gridcolor\":\"white\",\"linecolor\":\"white\",\"minorgridcolor\":\"white\",\"startlinecolor\":\"#2a3f5f\"},\"type\":\"carpet\"}],\"choropleth\":[{\"colorbar\":{\"outlinewidth\":0,\"ticks\":\"\"},\"type\":\"choropleth\"}],\"contourcarpet\":[{\"colorbar\":{\"outlinewidth\":0,\"ticks\":\"\"},\"type\":\"contourcarpet\"}],\"contour\":[{\"colorbar\":{\"outlinewidth\":0,\"ticks\":\"\"},\"colorscale\":[[0.0,\"#0d0887\"],[0.1111111111111111,\"#46039f\"],[0.2222222222222222,\"#7201a8\"],[0.3333333333333333,\"#9c179e\"],[0.4444444444444444,\"#bd3786\"],[0.5555555555555556,\"#d8576b\"],[0.6666666666666666,\"#ed7953\"],[0.7777777777777778,\"#fb9f3a\"],[0.8888888888888888,\"#fdca26\"],[1.0,\"#f0f921\"]],\"type\":\"contour\"}],\"heatmapgl\":[{\"colorbar\":{\"outlinewidth\":0,\"ticks\":\"\"},\"colorscale\":[[0.0,\"#0d0887\"],[0.1111111111111111,\"#46039f\"],[0.2222222222222222,\"#7201a8\"],[0.3333333333333333,\"#9c179e\"],[0.4444444444444444,\"#bd3786\"],[0.5555555555555556,\"#d8576b\"],[0.6666666666666666,\"#ed7953\"],[0.7777777777777778,\"#fb9f3a\"],[0.8888888888888888,\"#fdca26\"],[1.0,\"#f0f921\"]],\"type\":\"heatmapgl\"}],\"heatmap\":[{\"colorbar\":{\"outlinewidth\":0,\"ticks\":\"\"},\"colorscale\":[[0.0,\"#0d0887\"],[0.1111111111111111,\"#46039f\"],[0.2222222222222222,\"#7201a8\"],[0.3333333333333333,\"#9c179e\"],[0.4444444444444444,\"#bd3786\"],[0.5555555555555556,\"#d8576b\"],[0.6666666666666666,\"#ed7953\"],[0.7777777777777778,\"#fb9f3a\"],[0.8888888888888888,\"#fdca26\"],[1.0,\"#f0f921\"]],\"type\":\"heatmap\"}],\"histogram2dcontour\":[{\"colorbar\":{\"outlinewidth\":0,\"ticks\":\"\"},\"colorscale\":[[0.0,\"#0d0887\"],[0.1111111111111111,\"#46039f\"],[0.2222222222222222,\"#7201a8\"],[0.3333333333333333,\"#9c179e\"],[0.4444444444444444,\"#bd3786\"],[0.5555555555555556,\"#d8576b\"],[0.6666666666666666,\"#ed7953\"],[0.7777777777777778,\"#fb9f3a\"],[0.8888888888888888,\"#fdca26\"],[1.0,\"#f0f921\"]],\"type\":\"histogram2dcontour\"}],\"histogram2d\":[{\"colorbar\":{\"outlinewidth\":0,\"ticks\":\"\"},\"colorscale\":[[0.0,\"#0d0887\"],[0.1111111111111111,\"#46039f\"],[0.2222222222222222,\"#7201a8\"],[0.3333333333333333,\"#9c179e\"],[0.4444444444444444,\"#bd3786\"],[0.5555555555555556,\"#d8576b\"],[0.6666666666666666,\"#ed7953\"],[0.7777777777777778,\"#fb9f3a\"],[0.8888888888888888,\"#fdca26\"],[1.0,\"#f0f921\"]],\"type\":\"histogram2d\"}],\"histogram\":[{\"marker\":{\"pattern\":{\"fillmode\":\"overlay\",\"size\":10,\"solidity\":0.2}},\"type\":\"histogram\"}],\"mesh3d\":[{\"colorbar\":{\"outlinewidth\":0,\"ticks\":\"\"},\"type\":\"mesh3d\"}],\"parcoords\":[{\"line\":{\"colorbar\":{\"outlinewidth\":0,\"ticks\":\"\"}},\"type\":\"parcoords\"}],\"pie\":[{\"automargin\":true,\"type\":\"pie\"}],\"scatter3d\":[{\"line\":{\"colorbar\":{\"outlinewidth\":0,\"ticks\":\"\"}},\"marker\":{\"colorbar\":{\"outlinewidth\":0,\"ticks\":\"\"}},\"type\":\"scatter3d\"}],\"scattercarpet\":[{\"marker\":{\"colorbar\":{\"outlinewidth\":0,\"ticks\":\"\"}},\"type\":\"scattercarpet\"}],\"scattergeo\":[{\"marker\":{\"colorbar\":{\"outlinewidth\":0,\"ticks\":\"\"}},\"type\":\"scattergeo\"}],\"scattergl\":[{\"marker\":{\"colorbar\":{\"outlinewidth\":0,\"ticks\":\"\"}},\"type\":\"scattergl\"}],\"scattermapbox\":[{\"marker\":{\"colorbar\":{\"outlinewidth\":0,\"ticks\":\"\"}},\"type\":\"scattermapbox\"}],\"scatterpolargl\":[{\"marker\":{\"colorbar\":{\"outlinewidth\":0,\"ticks\":\"\"}},\"type\":\"scatterpolargl\"}],\"scatterpolar\":[{\"marker\":{\"colorbar\":{\"outlinewidth\":0,\"ticks\":\"\"}},\"type\":\"scatterpolar\"}],\"scatter\":[{\"fillpattern\":{\"fillmode\":\"overlay\",\"size\":10,\"solidity\":0.2},\"type\":\"scatter\"}],\"scatterternary\":[{\"marker\":{\"colorbar\":{\"outlinewidth\":0,\"ticks\":\"\"}},\"type\":\"scatterternary\"}],\"surface\":[{\"colorbar\":{\"outlinewidth\":0,\"ticks\":\"\"},\"colorscale\":[[0.0,\"#0d0887\"],[0.1111111111111111,\"#46039f\"],[0.2222222222222222,\"#7201a8\"],[0.3333333333333333,\"#9c179e\"],[0.4444444444444444,\"#bd3786\"],[0.5555555555555556,\"#d8576b\"],[0.6666666666666666,\"#ed7953\"],[0.7777777777777778,\"#fb9f3a\"],[0.8888888888888888,\"#fdca26\"],[1.0,\"#f0f921\"]],\"type\":\"surface\"}],\"table\":[{\"cells\":{\"fill\":{\"color\":\"#EBF0F8\"},\"line\":{\"color\":\"white\"}},\"header\":{\"fill\":{\"color\":\"#C8D4E3\"},\"line\":{\"color\":\"white\"}},\"type\":\"table\"}]},\"layout\":{\"annotationdefaults\":{\"arrowcolor\":\"#2a3f5f\",\"arrowhead\":0,\"arrowwidth\":1},\"autotypenumbers\":\"strict\",\"coloraxis\":{\"colorbar\":{\"outlinewidth\":0,\"ticks\":\"\"}},\"colorscale\":{\"diverging\":[[0,\"#8e0152\"],[0.1,\"#c51b7d\"],[0.2,\"#de77ae\"],[0.3,\"#f1b6da\"],[0.4,\"#fde0ef\"],[0.5,\"#f7f7f7\"],[0.6,\"#e6f5d0\"],[0.7,\"#b8e186\"],[0.8,\"#7fbc41\"],[0.9,\"#4d9221\"],[1,\"#276419\"]],\"sequential\":[[0.0,\"#0d0887\"],[0.1111111111111111,\"#46039f\"],[0.2222222222222222,\"#7201a8\"],[0.3333333333333333,\"#9c179e\"],[0.4444444444444444,\"#bd3786\"],[0.5555555555555556,\"#d8576b\"],[0.6666666666666666,\"#ed7953\"],[0.7777777777777778,\"#fb9f3a\"],[0.8888888888888888,\"#fdca26\"],[1.0,\"#f0f921\"]],\"sequentialminus\":[[0.0,\"#0d0887\"],[0.1111111111111111,\"#46039f\"],[0.2222222222222222,\"#7201a8\"],[0.3333333333333333,\"#9c179e\"],[0.4444444444444444,\"#bd3786\"],[0.5555555555555556,\"#d8576b\"],[0.6666666666666666,\"#ed7953\"],[0.7777777777777778,\"#fb9f3a\"],[0.8888888888888888,\"#fdca26\"],[1.0,\"#f0f921\"]]},\"colorway\":[\"#636efa\",\"#EF553B\",\"#00cc96\",\"#ab63fa\",\"#FFA15A\",\"#19d3f3\",\"#FF6692\",\"#B6E880\",\"#FF97FF\",\"#FECB52\"],\"font\":{\"color\":\"#2a3f5f\"},\"geo\":{\"bgcolor\":\"white\",\"lakecolor\":\"white\",\"landcolor\":\"#E5ECF6\",\"showlakes\":true,\"showland\":true,\"subunitcolor\":\"white\"},\"hoverlabel\":{\"align\":\"left\"},\"hovermode\":\"closest\",\"mapbox\":{\"style\":\"light\"},\"paper_bgcolor\":\"white\",\"plot_bgcolor\":\"#E5ECF6\",\"polar\":{\"angularaxis\":{\"gridcolor\":\"white\",\"linecolor\":\"white\",\"ticks\":\"\"},\"bgcolor\":\"#E5ECF6\",\"radialaxis\":{\"gridcolor\":\"white\",\"linecolor\":\"white\",\"ticks\":\"\"}},\"scene\":{\"xaxis\":{\"backgroundcolor\":\"#E5ECF6\",\"gridcolor\":\"white\",\"gridwidth\":2,\"linecolor\":\"white\",\"showbackground\":true,\"ticks\":\"\",\"zerolinecolor\":\"white\"},\"yaxis\":{\"backgroundcolor\":\"#E5ECF6\",\"gridcolor\":\"white\",\"gridwidth\":2,\"linecolor\":\"white\",\"showbackground\":true,\"ticks\":\"\",\"zerolinecolor\":\"white\"},\"zaxis\":{\"backgroundcolor\":\"#E5ECF6\",\"gridcolor\":\"white\",\"gridwidth\":2,\"linecolor\":\"white\",\"showbackground\":true,\"ticks\":\"\",\"zerolinecolor\":\"white\"}},\"shapedefaults\":{\"line\":{\"color\":\"#2a3f5f\"}},\"ternary\":{\"aaxis\":{\"gridcolor\":\"white\",\"linecolor\":\"white\",\"ticks\":\"\"},\"baxis\":{\"gridcolor\":\"white\",\"linecolor\":\"white\",\"ticks\":\"\"},\"bgcolor\":\"#E5ECF6\",\"caxis\":{\"gridcolor\":\"white\",\"linecolor\":\"white\",\"ticks\":\"\"}},\"title\":{\"x\":0.05},\"xaxis\":{\"automargin\":true,\"gridcolor\":\"white\",\"linecolor\":\"white\",\"ticks\":\"\",\"title\":{\"standoff\":15},\"zerolinecolor\":\"white\",\"zerolinewidth\":2},\"yaxis\":{\"automargin\":true,\"gridcolor\":\"white\",\"linecolor\":\"white\",\"ticks\":\"\",\"title\":{\"standoff\":15},\"zerolinecolor\":\"white\",\"zerolinewidth\":2}}},\"title\":{\"font\":{\"color\":\"#4D5663\"}},\"xaxis\":{\"gridcolor\":\"#E1E5ED\",\"showgrid\":true,\"tickfont\":{\"color\":\"#4D5663\"},\"title\":{\"font\":{\"color\":\"#4D5663\"},\"text\":\"\"},\"zerolinecolor\":\"#E1E5ED\"},\"yaxis\":{\"domain\":[0.3,1],\"gridcolor\":\"#E1E5ED\",\"showgrid\":true,\"tickfont\":{\"color\":\"#4D5663\"},\"title\":{\"font\":{\"color\":\"#4D5663\"},\"text\":\"\"},\"zerolinecolor\":\"#E1E5ED\"},\"yaxis2\":{\"domain\":[0,0.25],\"gridcolor\":\"#E1E5ED\",\"showgrid\":true,\"tickfont\":{\"color\":\"#4D5663\"},\"title\":{\"font\":{\"color\":\"#4D5663\"},\"text\":\"Spread\"},\"zerolinecolor\":\"#E1E5ED\"},\"xaxis2\":{\"anchor\":\"y2\",\"gridcolor\":\"#E1E5ED\",\"showgrid\":true,\"showticklabels\":false,\"tickfont\":{\"color\":\"#4D5663\"},\"title\":{\"font\":{\"color\":\"#4D5663\"},\"text\":\"\"},\"zerolinecolor\":\"#E1E5ED\"}},                        {\"showLink\": true, \"linkText\": \"Export to plot.ly\", \"plotlyServerURL\": \"https://plot.ly\", \"responsive\": true}                    ).then(function(){\n",
       "                            \n",
       "var gd = document.getElementById('c1f56f05-a8c8-4517-a9ca-0ca09f9f8ccd');\n",
       "var x = new MutationObserver(function (mutations, observer) {{\n",
       "        var display = window.getComputedStyle(gd).display;\n",
       "        if (!display || display === 'none') {{\n",
       "            console.log([gd, 'removed!']);\n",
       "            Plotly.purge(gd);\n",
       "            observer.disconnect();\n",
       "        }}\n",
       "}});\n",
       "\n",
       "// Listen for the removal of the full notebook cells\n",
       "var notebookContainer = gd.closest('#notebook-container');\n",
       "if (notebookContainer) {{\n",
       "    x.observe(notebookContainer, {childList: true});\n",
       "}}\n",
       "\n",
       "// Listen for the clearing of the current output cell\n",
       "var outputEl = gd.closest('.output');\n",
       "if (outputEl) {{\n",
       "    x.observe(outputEl, {childList: true});\n",
       "}}\n",
       "\n",
       "                        })                };                });            </script>        </div>"
      ]
     },
     "metadata": {},
     "output_type": "display_data"
    }
   ],
   "source": [
    "df[['A','B']].iplot(kind='spread')"
   ]
  },
  {
   "cell_type": "markdown",
   "metadata": {},
   "source": [
    "## histogram"
   ]
  },
  {
   "cell_type": "code",
   "execution_count": 20,
   "metadata": {},
   "outputs": [
    {
     "data": {
      "application/vnd.plotly.v1+json": {
       "config": {
        "linkText": "Export to plot.ly",
        "plotlyServerURL": "https://plot.ly",
        "showLink": true
       },
       "data": [
        {
         "histfunc": "count",
         "histnorm": "",
         "marker": {
          "color": "rgba(255, 153, 51, 1.0)",
          "line": {
           "color": "#4D5663",
           "width": 1.3
          }
         },
         "name": "A",
         "nbinsx": 25,
         "opacity": 0.8,
         "orientation": "v",
         "type": "histogram",
         "x": [
          -1.01612056617424,
          -0.7350362729323395,
          -0.6122344159390835,
          -1.0027127217759482,
          0.6411615685148131,
          0.47054386141649224,
          -0.3547328503486203,
          0.5313897386555986,
          0.04005341849319595,
          0.4423853922330872,
          1.3453508268296637,
          0.46001510288976716,
          -1.0939154713762969,
          -0.9852507089728771,
          1.1842337940231193,
          0.035400627751505785,
          -0.8882653234232453,
          -1.5314639222981914,
          -0.5498478145222545,
          -1.1084877212359212,
          0.3566775880042968,
          -1.7659823693479608,
          0.6590213829373882,
          0.5101739140474232,
          1.0131382954891477,
          0.46360951537076245,
          -2.2895716540127333,
          0.922733121512306,
          -2.557030031114763,
          1.128622390956555,
          1.1549251499099884,
          2.01391053886995,
          -0.2611627431791524,
          -0.5147868612849658,
          -2.431060922279289,
          -0.7672583181291373,
          -2.298902785100592,
          -0.8083345255784181,
          0.2687189200294319,
          -2.4985563849216605,
          -1.2763984060165428,
          0.14579832380677238,
          2.315288436192335,
          -0.3540222252792673,
          0.29763132128657227,
          -1.1886877350578477,
          0.017012621121949425,
          -0.6808860648653475,
          0.757493784133554,
          0.9915664549970045,
          -0.6397343935683023,
          0.3180139455896008,
          -0.35297824713507286,
          0.6286073348907657,
          -1.6798064798568504,
          -0.4133960959978084,
          1.5336438528557266,
          1.342908308677851,
          -1.995429266989642,
          -2.0367965458065433,
          0.9181910529018176,
          0.14209313446350563,
          2.4097474856859527,
          -0.6500226963721444,
          -0.8030245972209434,
          0.4116989497641564,
          -1.6143766990106465,
          -1.3296246735863992,
          0.9626011835038869,
          -0.3121778998549928,
          1.2895010214892222,
          -1.0644429806679216,
          -0.43004607122671684,
          0.31809623885438454,
          0.20556538045975117,
          0.04770613444546337,
          -0.13348555070784276,
          0.6252789967721484,
          -0.9167494564573351,
          -0.5693928827515384,
          1.6882142715481718,
          -0.6760197956265165,
          0.5898625141551448,
          -0.3019476665041306,
          0.8194331535066512,
          -0.7596131374449068,
          -0.8442062612221812,
          0.854585534391039,
          0.7623074263995253,
          0.10715856200218632,
          0.15854307897790754,
          0.057867767618876104,
          -1.4590132144587633,
          -0.48774141554444655,
          -0.3489465166930348,
          -0.06395183331789477,
          -0.7910192977047932,
          1.1702435224480037,
          0.5174062815181917,
          1.7966086539091877
         ]
        }
       ],
       "layout": {
        "barmode": "overlay",
        "legend": {
         "bgcolor": "#F5F6F9",
         "font": {
          "color": "#4D5663"
         }
        },
        "paper_bgcolor": "#F5F6F9",
        "plot_bgcolor": "#F5F6F9",
        "template": {
         "data": {
          "bar": [
           {
            "error_x": {
             "color": "#2a3f5f"
            },
            "error_y": {
             "color": "#2a3f5f"
            },
            "marker": {
             "line": {
              "color": "#E5ECF6",
              "width": 0.5
             },
             "pattern": {
              "fillmode": "overlay",
              "size": 10,
              "solidity": 0.2
             }
            },
            "type": "bar"
           }
          ],
          "barpolar": [
           {
            "marker": {
             "line": {
              "color": "#E5ECF6",
              "width": 0.5
             },
             "pattern": {
              "fillmode": "overlay",
              "size": 10,
              "solidity": 0.2
             }
            },
            "type": "barpolar"
           }
          ],
          "carpet": [
           {
            "aaxis": {
             "endlinecolor": "#2a3f5f",
             "gridcolor": "white",
             "linecolor": "white",
             "minorgridcolor": "white",
             "startlinecolor": "#2a3f5f"
            },
            "baxis": {
             "endlinecolor": "#2a3f5f",
             "gridcolor": "white",
             "linecolor": "white",
             "minorgridcolor": "white",
             "startlinecolor": "#2a3f5f"
            },
            "type": "carpet"
           }
          ],
          "choropleth": [
           {
            "colorbar": {
             "outlinewidth": 0,
             "ticks": ""
            },
            "type": "choropleth"
           }
          ],
          "contour": [
           {
            "colorbar": {
             "outlinewidth": 0,
             "ticks": ""
            },
            "colorscale": [
             [
              0,
              "#0d0887"
             ],
             [
              0.1111111111111111,
              "#46039f"
             ],
             [
              0.2222222222222222,
              "#7201a8"
             ],
             [
              0.3333333333333333,
              "#9c179e"
             ],
             [
              0.4444444444444444,
              "#bd3786"
             ],
             [
              0.5555555555555556,
              "#d8576b"
             ],
             [
              0.6666666666666666,
              "#ed7953"
             ],
             [
              0.7777777777777778,
              "#fb9f3a"
             ],
             [
              0.8888888888888888,
              "#fdca26"
             ],
             [
              1,
              "#f0f921"
             ]
            ],
            "type": "contour"
           }
          ],
          "contourcarpet": [
           {
            "colorbar": {
             "outlinewidth": 0,
             "ticks": ""
            },
            "type": "contourcarpet"
           }
          ],
          "heatmap": [
           {
            "colorbar": {
             "outlinewidth": 0,
             "ticks": ""
            },
            "colorscale": [
             [
              0,
              "#0d0887"
             ],
             [
              0.1111111111111111,
              "#46039f"
             ],
             [
              0.2222222222222222,
              "#7201a8"
             ],
             [
              0.3333333333333333,
              "#9c179e"
             ],
             [
              0.4444444444444444,
              "#bd3786"
             ],
             [
              0.5555555555555556,
              "#d8576b"
             ],
             [
              0.6666666666666666,
              "#ed7953"
             ],
             [
              0.7777777777777778,
              "#fb9f3a"
             ],
             [
              0.8888888888888888,
              "#fdca26"
             ],
             [
              1,
              "#f0f921"
             ]
            ],
            "type": "heatmap"
           }
          ],
          "heatmapgl": [
           {
            "colorbar": {
             "outlinewidth": 0,
             "ticks": ""
            },
            "colorscale": [
             [
              0,
              "#0d0887"
             ],
             [
              0.1111111111111111,
              "#46039f"
             ],
             [
              0.2222222222222222,
              "#7201a8"
             ],
             [
              0.3333333333333333,
              "#9c179e"
             ],
             [
              0.4444444444444444,
              "#bd3786"
             ],
             [
              0.5555555555555556,
              "#d8576b"
             ],
             [
              0.6666666666666666,
              "#ed7953"
             ],
             [
              0.7777777777777778,
              "#fb9f3a"
             ],
             [
              0.8888888888888888,
              "#fdca26"
             ],
             [
              1,
              "#f0f921"
             ]
            ],
            "type": "heatmapgl"
           }
          ],
          "histogram": [
           {
            "marker": {
             "pattern": {
              "fillmode": "overlay",
              "size": 10,
              "solidity": 0.2
             }
            },
            "type": "histogram"
           }
          ],
          "histogram2d": [
           {
            "colorbar": {
             "outlinewidth": 0,
             "ticks": ""
            },
            "colorscale": [
             [
              0,
              "#0d0887"
             ],
             [
              0.1111111111111111,
              "#46039f"
             ],
             [
              0.2222222222222222,
              "#7201a8"
             ],
             [
              0.3333333333333333,
              "#9c179e"
             ],
             [
              0.4444444444444444,
              "#bd3786"
             ],
             [
              0.5555555555555556,
              "#d8576b"
             ],
             [
              0.6666666666666666,
              "#ed7953"
             ],
             [
              0.7777777777777778,
              "#fb9f3a"
             ],
             [
              0.8888888888888888,
              "#fdca26"
             ],
             [
              1,
              "#f0f921"
             ]
            ],
            "type": "histogram2d"
           }
          ],
          "histogram2dcontour": [
           {
            "colorbar": {
             "outlinewidth": 0,
             "ticks": ""
            },
            "colorscale": [
             [
              0,
              "#0d0887"
             ],
             [
              0.1111111111111111,
              "#46039f"
             ],
             [
              0.2222222222222222,
              "#7201a8"
             ],
             [
              0.3333333333333333,
              "#9c179e"
             ],
             [
              0.4444444444444444,
              "#bd3786"
             ],
             [
              0.5555555555555556,
              "#d8576b"
             ],
             [
              0.6666666666666666,
              "#ed7953"
             ],
             [
              0.7777777777777778,
              "#fb9f3a"
             ],
             [
              0.8888888888888888,
              "#fdca26"
             ],
             [
              1,
              "#f0f921"
             ]
            ],
            "type": "histogram2dcontour"
           }
          ],
          "mesh3d": [
           {
            "colorbar": {
             "outlinewidth": 0,
             "ticks": ""
            },
            "type": "mesh3d"
           }
          ],
          "parcoords": [
           {
            "line": {
             "colorbar": {
              "outlinewidth": 0,
              "ticks": ""
             }
            },
            "type": "parcoords"
           }
          ],
          "pie": [
           {
            "automargin": true,
            "type": "pie"
           }
          ],
          "scatter": [
           {
            "fillpattern": {
             "fillmode": "overlay",
             "size": 10,
             "solidity": 0.2
            },
            "type": "scatter"
           }
          ],
          "scatter3d": [
           {
            "line": {
             "colorbar": {
              "outlinewidth": 0,
              "ticks": ""
             }
            },
            "marker": {
             "colorbar": {
              "outlinewidth": 0,
              "ticks": ""
             }
            },
            "type": "scatter3d"
           }
          ],
          "scattercarpet": [
           {
            "marker": {
             "colorbar": {
              "outlinewidth": 0,
              "ticks": ""
             }
            },
            "type": "scattercarpet"
           }
          ],
          "scattergeo": [
           {
            "marker": {
             "colorbar": {
              "outlinewidth": 0,
              "ticks": ""
             }
            },
            "type": "scattergeo"
           }
          ],
          "scattergl": [
           {
            "marker": {
             "colorbar": {
              "outlinewidth": 0,
              "ticks": ""
             }
            },
            "type": "scattergl"
           }
          ],
          "scattermapbox": [
           {
            "marker": {
             "colorbar": {
              "outlinewidth": 0,
              "ticks": ""
             }
            },
            "type": "scattermapbox"
           }
          ],
          "scatterpolar": [
           {
            "marker": {
             "colorbar": {
              "outlinewidth": 0,
              "ticks": ""
             }
            },
            "type": "scatterpolar"
           }
          ],
          "scatterpolargl": [
           {
            "marker": {
             "colorbar": {
              "outlinewidth": 0,
              "ticks": ""
             }
            },
            "type": "scatterpolargl"
           }
          ],
          "scatterternary": [
           {
            "marker": {
             "colorbar": {
              "outlinewidth": 0,
              "ticks": ""
             }
            },
            "type": "scatterternary"
           }
          ],
          "surface": [
           {
            "colorbar": {
             "outlinewidth": 0,
             "ticks": ""
            },
            "colorscale": [
             [
              0,
              "#0d0887"
             ],
             [
              0.1111111111111111,
              "#46039f"
             ],
             [
              0.2222222222222222,
              "#7201a8"
             ],
             [
              0.3333333333333333,
              "#9c179e"
             ],
             [
              0.4444444444444444,
              "#bd3786"
             ],
             [
              0.5555555555555556,
              "#d8576b"
             ],
             [
              0.6666666666666666,
              "#ed7953"
             ],
             [
              0.7777777777777778,
              "#fb9f3a"
             ],
             [
              0.8888888888888888,
              "#fdca26"
             ],
             [
              1,
              "#f0f921"
             ]
            ],
            "type": "surface"
           }
          ],
          "table": [
           {
            "cells": {
             "fill": {
              "color": "#EBF0F8"
             },
             "line": {
              "color": "white"
             }
            },
            "header": {
             "fill": {
              "color": "#C8D4E3"
             },
             "line": {
              "color": "white"
             }
            },
            "type": "table"
           }
          ]
         },
         "layout": {
          "annotationdefaults": {
           "arrowcolor": "#2a3f5f",
           "arrowhead": 0,
           "arrowwidth": 1
          },
          "autotypenumbers": "strict",
          "coloraxis": {
           "colorbar": {
            "outlinewidth": 0,
            "ticks": ""
           }
          },
          "colorscale": {
           "diverging": [
            [
             0,
             "#8e0152"
            ],
            [
             0.1,
             "#c51b7d"
            ],
            [
             0.2,
             "#de77ae"
            ],
            [
             0.3,
             "#f1b6da"
            ],
            [
             0.4,
             "#fde0ef"
            ],
            [
             0.5,
             "#f7f7f7"
            ],
            [
             0.6,
             "#e6f5d0"
            ],
            [
             0.7,
             "#b8e186"
            ],
            [
             0.8,
             "#7fbc41"
            ],
            [
             0.9,
             "#4d9221"
            ],
            [
             1,
             "#276419"
            ]
           ],
           "sequential": [
            [
             0,
             "#0d0887"
            ],
            [
             0.1111111111111111,
             "#46039f"
            ],
            [
             0.2222222222222222,
             "#7201a8"
            ],
            [
             0.3333333333333333,
             "#9c179e"
            ],
            [
             0.4444444444444444,
             "#bd3786"
            ],
            [
             0.5555555555555556,
             "#d8576b"
            ],
            [
             0.6666666666666666,
             "#ed7953"
            ],
            [
             0.7777777777777778,
             "#fb9f3a"
            ],
            [
             0.8888888888888888,
             "#fdca26"
            ],
            [
             1,
             "#f0f921"
            ]
           ],
           "sequentialminus": [
            [
             0,
             "#0d0887"
            ],
            [
             0.1111111111111111,
             "#46039f"
            ],
            [
             0.2222222222222222,
             "#7201a8"
            ],
            [
             0.3333333333333333,
             "#9c179e"
            ],
            [
             0.4444444444444444,
             "#bd3786"
            ],
            [
             0.5555555555555556,
             "#d8576b"
            ],
            [
             0.6666666666666666,
             "#ed7953"
            ],
            [
             0.7777777777777778,
             "#fb9f3a"
            ],
            [
             0.8888888888888888,
             "#fdca26"
            ],
            [
             1,
             "#f0f921"
            ]
           ]
          },
          "colorway": [
           "#636efa",
           "#EF553B",
           "#00cc96",
           "#ab63fa",
           "#FFA15A",
           "#19d3f3",
           "#FF6692",
           "#B6E880",
           "#FF97FF",
           "#FECB52"
          ],
          "font": {
           "color": "#2a3f5f"
          },
          "geo": {
           "bgcolor": "white",
           "lakecolor": "white",
           "landcolor": "#E5ECF6",
           "showlakes": true,
           "showland": true,
           "subunitcolor": "white"
          },
          "hoverlabel": {
           "align": "left"
          },
          "hovermode": "closest",
          "mapbox": {
           "style": "light"
          },
          "paper_bgcolor": "white",
          "plot_bgcolor": "#E5ECF6",
          "polar": {
           "angularaxis": {
            "gridcolor": "white",
            "linecolor": "white",
            "ticks": ""
           },
           "bgcolor": "#E5ECF6",
           "radialaxis": {
            "gridcolor": "white",
            "linecolor": "white",
            "ticks": ""
           }
          },
          "scene": {
           "xaxis": {
            "backgroundcolor": "#E5ECF6",
            "gridcolor": "white",
            "gridwidth": 2,
            "linecolor": "white",
            "showbackground": true,
            "ticks": "",
            "zerolinecolor": "white"
           },
           "yaxis": {
            "backgroundcolor": "#E5ECF6",
            "gridcolor": "white",
            "gridwidth": 2,
            "linecolor": "white",
            "showbackground": true,
            "ticks": "",
            "zerolinecolor": "white"
           },
           "zaxis": {
            "backgroundcolor": "#E5ECF6",
            "gridcolor": "white",
            "gridwidth": 2,
            "linecolor": "white",
            "showbackground": true,
            "ticks": "",
            "zerolinecolor": "white"
           }
          },
          "shapedefaults": {
           "line": {
            "color": "#2a3f5f"
           }
          },
          "ternary": {
           "aaxis": {
            "gridcolor": "white",
            "linecolor": "white",
            "ticks": ""
           },
           "baxis": {
            "gridcolor": "white",
            "linecolor": "white",
            "ticks": ""
           },
           "bgcolor": "#E5ECF6",
           "caxis": {
            "gridcolor": "white",
            "linecolor": "white",
            "ticks": ""
           }
          },
          "title": {
           "x": 0.05
          },
          "xaxis": {
           "automargin": true,
           "gridcolor": "white",
           "linecolor": "white",
           "ticks": "",
           "title": {
            "standoff": 15
           },
           "zerolinecolor": "white",
           "zerolinewidth": 2
          },
          "yaxis": {
           "automargin": true,
           "gridcolor": "white",
           "linecolor": "white",
           "ticks": "",
           "title": {
            "standoff": 15
           },
           "zerolinecolor": "white",
           "zerolinewidth": 2
          }
         }
        },
        "title": {
         "font": {
          "color": "#4D5663"
         }
        },
        "xaxis": {
         "gridcolor": "#E1E5ED",
         "showgrid": true,
         "tickfont": {
          "color": "#4D5663"
         },
         "title": {
          "font": {
           "color": "#4D5663"
          },
          "text": ""
         },
         "zerolinecolor": "#E1E5ED"
        },
        "yaxis": {
         "gridcolor": "#E1E5ED",
         "showgrid": true,
         "tickfont": {
          "color": "#4D5663"
         },
         "title": {
          "font": {
           "color": "#4D5663"
          },
          "text": ""
         },
         "zerolinecolor": "#E1E5ED"
        }
       }
      },
      "text/html": [
       "<div>                            <div id=\"7dd9ce67-3e0f-48dd-b407-6b48dc1c220c\" class=\"plotly-graph-div\" style=\"height:525px; width:100%;\"></div>            <script type=\"text/javascript\">                require([\"plotly\"], function(Plotly) {                    window.PLOTLYENV=window.PLOTLYENV || {};\n",
       "                    window.PLOTLYENV.BASE_URL='https://plot.ly';                                    if (document.getElementById(\"7dd9ce67-3e0f-48dd-b407-6b48dc1c220c\")) {                    Plotly.newPlot(                        \"7dd9ce67-3e0f-48dd-b407-6b48dc1c220c\",                        [{\"histfunc\":\"count\",\"histnorm\":\"\",\"marker\":{\"color\":\"rgba(255, 153, 51, 1.0)\",\"line\":{\"color\":\"#4D5663\",\"width\":1.3}},\"name\":\"A\",\"nbinsx\":25,\"opacity\":0.8,\"orientation\":\"v\",\"x\":[-1.01612056617424,-0.7350362729323395,-0.6122344159390835,-1.0027127217759482,0.6411615685148131,0.47054386141649224,-0.3547328503486203,0.5313897386555986,0.04005341849319595,0.4423853922330872,1.3453508268296637,0.46001510288976716,-1.0939154713762969,-0.9852507089728771,1.1842337940231193,0.035400627751505785,-0.8882653234232453,-1.5314639222981914,-0.5498478145222545,-1.1084877212359212,0.3566775880042968,-1.7659823693479608,0.6590213829373882,0.5101739140474232,1.0131382954891477,0.46360951537076245,-2.2895716540127333,0.922733121512306,-2.557030031114763,1.128622390956555,1.1549251499099884,2.01391053886995,-0.2611627431791524,-0.5147868612849658,-2.431060922279289,-0.7672583181291373,-2.298902785100592,-0.8083345255784181,0.2687189200294319,-2.4985563849216605,-1.2763984060165428,0.14579832380677238,2.315288436192335,-0.3540222252792673,0.29763132128657227,-1.1886877350578477,0.017012621121949425,-0.6808860648653475,0.757493784133554,0.9915664549970045,-0.6397343935683023,0.3180139455896008,-0.35297824713507286,0.6286073348907657,-1.6798064798568504,-0.4133960959978084,1.5336438528557266,1.342908308677851,-1.995429266989642,-2.0367965458065433,0.9181910529018176,0.14209313446350563,2.4097474856859527,-0.6500226963721444,-0.8030245972209434,0.4116989497641564,-1.6143766990106465,-1.3296246735863992,0.9626011835038869,-0.3121778998549928,1.2895010214892222,-1.0644429806679216,-0.43004607122671684,0.31809623885438454,0.20556538045975117,0.04770613444546337,-0.13348555070784276,0.6252789967721484,-0.9167494564573351,-0.5693928827515384,1.6882142715481718,-0.6760197956265165,0.5898625141551448,-0.3019476665041306,0.8194331535066512,-0.7596131374449068,-0.8442062612221812,0.854585534391039,0.7623074263995253,0.10715856200218632,0.15854307897790754,0.057867767618876104,-1.4590132144587633,-0.48774141554444655,-0.3489465166930348,-0.06395183331789477,-0.7910192977047932,1.1702435224480037,0.5174062815181917,1.7966086539091877],\"type\":\"histogram\"}],                        {\"barmode\":\"overlay\",\"legend\":{\"bgcolor\":\"#F5F6F9\",\"font\":{\"color\":\"#4D5663\"}},\"paper_bgcolor\":\"#F5F6F9\",\"plot_bgcolor\":\"#F5F6F9\",\"template\":{\"data\":{\"barpolar\":[{\"marker\":{\"line\":{\"color\":\"#E5ECF6\",\"width\":0.5},\"pattern\":{\"fillmode\":\"overlay\",\"size\":10,\"solidity\":0.2}},\"type\":\"barpolar\"}],\"bar\":[{\"error_x\":{\"color\":\"#2a3f5f\"},\"error_y\":{\"color\":\"#2a3f5f\"},\"marker\":{\"line\":{\"color\":\"#E5ECF6\",\"width\":0.5},\"pattern\":{\"fillmode\":\"overlay\",\"size\":10,\"solidity\":0.2}},\"type\":\"bar\"}],\"carpet\":[{\"aaxis\":{\"endlinecolor\":\"#2a3f5f\",\"gridcolor\":\"white\",\"linecolor\":\"white\",\"minorgridcolor\":\"white\",\"startlinecolor\":\"#2a3f5f\"},\"baxis\":{\"endlinecolor\":\"#2a3f5f\",\"gridcolor\":\"white\",\"linecolor\":\"white\",\"minorgridcolor\":\"white\",\"startlinecolor\":\"#2a3f5f\"},\"type\":\"carpet\"}],\"choropleth\":[{\"colorbar\":{\"outlinewidth\":0,\"ticks\":\"\"},\"type\":\"choropleth\"}],\"contourcarpet\":[{\"colorbar\":{\"outlinewidth\":0,\"ticks\":\"\"},\"type\":\"contourcarpet\"}],\"contour\":[{\"colorbar\":{\"outlinewidth\":0,\"ticks\":\"\"},\"colorscale\":[[0.0,\"#0d0887\"],[0.1111111111111111,\"#46039f\"],[0.2222222222222222,\"#7201a8\"],[0.3333333333333333,\"#9c179e\"],[0.4444444444444444,\"#bd3786\"],[0.5555555555555556,\"#d8576b\"],[0.6666666666666666,\"#ed7953\"],[0.7777777777777778,\"#fb9f3a\"],[0.8888888888888888,\"#fdca26\"],[1.0,\"#f0f921\"]],\"type\":\"contour\"}],\"heatmapgl\":[{\"colorbar\":{\"outlinewidth\":0,\"ticks\":\"\"},\"colorscale\":[[0.0,\"#0d0887\"],[0.1111111111111111,\"#46039f\"],[0.2222222222222222,\"#7201a8\"],[0.3333333333333333,\"#9c179e\"],[0.4444444444444444,\"#bd3786\"],[0.5555555555555556,\"#d8576b\"],[0.6666666666666666,\"#ed7953\"],[0.7777777777777778,\"#fb9f3a\"],[0.8888888888888888,\"#fdca26\"],[1.0,\"#f0f921\"]],\"type\":\"heatmapgl\"}],\"heatmap\":[{\"colorbar\":{\"outlinewidth\":0,\"ticks\":\"\"},\"colorscale\":[[0.0,\"#0d0887\"],[0.1111111111111111,\"#46039f\"],[0.2222222222222222,\"#7201a8\"],[0.3333333333333333,\"#9c179e\"],[0.4444444444444444,\"#bd3786\"],[0.5555555555555556,\"#d8576b\"],[0.6666666666666666,\"#ed7953\"],[0.7777777777777778,\"#fb9f3a\"],[0.8888888888888888,\"#fdca26\"],[1.0,\"#f0f921\"]],\"type\":\"heatmap\"}],\"histogram2dcontour\":[{\"colorbar\":{\"outlinewidth\":0,\"ticks\":\"\"},\"colorscale\":[[0.0,\"#0d0887\"],[0.1111111111111111,\"#46039f\"],[0.2222222222222222,\"#7201a8\"],[0.3333333333333333,\"#9c179e\"],[0.4444444444444444,\"#bd3786\"],[0.5555555555555556,\"#d8576b\"],[0.6666666666666666,\"#ed7953\"],[0.7777777777777778,\"#fb9f3a\"],[0.8888888888888888,\"#fdca26\"],[1.0,\"#f0f921\"]],\"type\":\"histogram2dcontour\"}],\"histogram2d\":[{\"colorbar\":{\"outlinewidth\":0,\"ticks\":\"\"},\"colorscale\":[[0.0,\"#0d0887\"],[0.1111111111111111,\"#46039f\"],[0.2222222222222222,\"#7201a8\"],[0.3333333333333333,\"#9c179e\"],[0.4444444444444444,\"#bd3786\"],[0.5555555555555556,\"#d8576b\"],[0.6666666666666666,\"#ed7953\"],[0.7777777777777778,\"#fb9f3a\"],[0.8888888888888888,\"#fdca26\"],[1.0,\"#f0f921\"]],\"type\":\"histogram2d\"}],\"histogram\":[{\"marker\":{\"pattern\":{\"fillmode\":\"overlay\",\"size\":10,\"solidity\":0.2}},\"type\":\"histogram\"}],\"mesh3d\":[{\"colorbar\":{\"outlinewidth\":0,\"ticks\":\"\"},\"type\":\"mesh3d\"}],\"parcoords\":[{\"line\":{\"colorbar\":{\"outlinewidth\":0,\"ticks\":\"\"}},\"type\":\"parcoords\"}],\"pie\":[{\"automargin\":true,\"type\":\"pie\"}],\"scatter3d\":[{\"line\":{\"colorbar\":{\"outlinewidth\":0,\"ticks\":\"\"}},\"marker\":{\"colorbar\":{\"outlinewidth\":0,\"ticks\":\"\"}},\"type\":\"scatter3d\"}],\"scattercarpet\":[{\"marker\":{\"colorbar\":{\"outlinewidth\":0,\"ticks\":\"\"}},\"type\":\"scattercarpet\"}],\"scattergeo\":[{\"marker\":{\"colorbar\":{\"outlinewidth\":0,\"ticks\":\"\"}},\"type\":\"scattergeo\"}],\"scattergl\":[{\"marker\":{\"colorbar\":{\"outlinewidth\":0,\"ticks\":\"\"}},\"type\":\"scattergl\"}],\"scattermapbox\":[{\"marker\":{\"colorbar\":{\"outlinewidth\":0,\"ticks\":\"\"}},\"type\":\"scattermapbox\"}],\"scatterpolargl\":[{\"marker\":{\"colorbar\":{\"outlinewidth\":0,\"ticks\":\"\"}},\"type\":\"scatterpolargl\"}],\"scatterpolar\":[{\"marker\":{\"colorbar\":{\"outlinewidth\":0,\"ticks\":\"\"}},\"type\":\"scatterpolar\"}],\"scatter\":[{\"fillpattern\":{\"fillmode\":\"overlay\",\"size\":10,\"solidity\":0.2},\"type\":\"scatter\"}],\"scatterternary\":[{\"marker\":{\"colorbar\":{\"outlinewidth\":0,\"ticks\":\"\"}},\"type\":\"scatterternary\"}],\"surface\":[{\"colorbar\":{\"outlinewidth\":0,\"ticks\":\"\"},\"colorscale\":[[0.0,\"#0d0887\"],[0.1111111111111111,\"#46039f\"],[0.2222222222222222,\"#7201a8\"],[0.3333333333333333,\"#9c179e\"],[0.4444444444444444,\"#bd3786\"],[0.5555555555555556,\"#d8576b\"],[0.6666666666666666,\"#ed7953\"],[0.7777777777777778,\"#fb9f3a\"],[0.8888888888888888,\"#fdca26\"],[1.0,\"#f0f921\"]],\"type\":\"surface\"}],\"table\":[{\"cells\":{\"fill\":{\"color\":\"#EBF0F8\"},\"line\":{\"color\":\"white\"}},\"header\":{\"fill\":{\"color\":\"#C8D4E3\"},\"line\":{\"color\":\"white\"}},\"type\":\"table\"}]},\"layout\":{\"annotationdefaults\":{\"arrowcolor\":\"#2a3f5f\",\"arrowhead\":0,\"arrowwidth\":1},\"autotypenumbers\":\"strict\",\"coloraxis\":{\"colorbar\":{\"outlinewidth\":0,\"ticks\":\"\"}},\"colorscale\":{\"diverging\":[[0,\"#8e0152\"],[0.1,\"#c51b7d\"],[0.2,\"#de77ae\"],[0.3,\"#f1b6da\"],[0.4,\"#fde0ef\"],[0.5,\"#f7f7f7\"],[0.6,\"#e6f5d0\"],[0.7,\"#b8e186\"],[0.8,\"#7fbc41\"],[0.9,\"#4d9221\"],[1,\"#276419\"]],\"sequential\":[[0.0,\"#0d0887\"],[0.1111111111111111,\"#46039f\"],[0.2222222222222222,\"#7201a8\"],[0.3333333333333333,\"#9c179e\"],[0.4444444444444444,\"#bd3786\"],[0.5555555555555556,\"#d8576b\"],[0.6666666666666666,\"#ed7953\"],[0.7777777777777778,\"#fb9f3a\"],[0.8888888888888888,\"#fdca26\"],[1.0,\"#f0f921\"]],\"sequentialminus\":[[0.0,\"#0d0887\"],[0.1111111111111111,\"#46039f\"],[0.2222222222222222,\"#7201a8\"],[0.3333333333333333,\"#9c179e\"],[0.4444444444444444,\"#bd3786\"],[0.5555555555555556,\"#d8576b\"],[0.6666666666666666,\"#ed7953\"],[0.7777777777777778,\"#fb9f3a\"],[0.8888888888888888,\"#fdca26\"],[1.0,\"#f0f921\"]]},\"colorway\":[\"#636efa\",\"#EF553B\",\"#00cc96\",\"#ab63fa\",\"#FFA15A\",\"#19d3f3\",\"#FF6692\",\"#B6E880\",\"#FF97FF\",\"#FECB52\"],\"font\":{\"color\":\"#2a3f5f\"},\"geo\":{\"bgcolor\":\"white\",\"lakecolor\":\"white\",\"landcolor\":\"#E5ECF6\",\"showlakes\":true,\"showland\":true,\"subunitcolor\":\"white\"},\"hoverlabel\":{\"align\":\"left\"},\"hovermode\":\"closest\",\"mapbox\":{\"style\":\"light\"},\"paper_bgcolor\":\"white\",\"plot_bgcolor\":\"#E5ECF6\",\"polar\":{\"angularaxis\":{\"gridcolor\":\"white\",\"linecolor\":\"white\",\"ticks\":\"\"},\"bgcolor\":\"#E5ECF6\",\"radialaxis\":{\"gridcolor\":\"white\",\"linecolor\":\"white\",\"ticks\":\"\"}},\"scene\":{\"xaxis\":{\"backgroundcolor\":\"#E5ECF6\",\"gridcolor\":\"white\",\"gridwidth\":2,\"linecolor\":\"white\",\"showbackground\":true,\"ticks\":\"\",\"zerolinecolor\":\"white\"},\"yaxis\":{\"backgroundcolor\":\"#E5ECF6\",\"gridcolor\":\"white\",\"gridwidth\":2,\"linecolor\":\"white\",\"showbackground\":true,\"ticks\":\"\",\"zerolinecolor\":\"white\"},\"zaxis\":{\"backgroundcolor\":\"#E5ECF6\",\"gridcolor\":\"white\",\"gridwidth\":2,\"linecolor\":\"white\",\"showbackground\":true,\"ticks\":\"\",\"zerolinecolor\":\"white\"}},\"shapedefaults\":{\"line\":{\"color\":\"#2a3f5f\"}},\"ternary\":{\"aaxis\":{\"gridcolor\":\"white\",\"linecolor\":\"white\",\"ticks\":\"\"},\"baxis\":{\"gridcolor\":\"white\",\"linecolor\":\"white\",\"ticks\":\"\"},\"bgcolor\":\"#E5ECF6\",\"caxis\":{\"gridcolor\":\"white\",\"linecolor\":\"white\",\"ticks\":\"\"}},\"title\":{\"x\":0.05},\"xaxis\":{\"automargin\":true,\"gridcolor\":\"white\",\"linecolor\":\"white\",\"ticks\":\"\",\"title\":{\"standoff\":15},\"zerolinecolor\":\"white\",\"zerolinewidth\":2},\"yaxis\":{\"automargin\":true,\"gridcolor\":\"white\",\"linecolor\":\"white\",\"ticks\":\"\",\"title\":{\"standoff\":15},\"zerolinecolor\":\"white\",\"zerolinewidth\":2}}},\"title\":{\"font\":{\"color\":\"#4D5663\"}},\"xaxis\":{\"gridcolor\":\"#E1E5ED\",\"showgrid\":true,\"tickfont\":{\"color\":\"#4D5663\"},\"title\":{\"font\":{\"color\":\"#4D5663\"},\"text\":\"\"},\"zerolinecolor\":\"#E1E5ED\"},\"yaxis\":{\"gridcolor\":\"#E1E5ED\",\"showgrid\":true,\"tickfont\":{\"color\":\"#4D5663\"},\"title\":{\"font\":{\"color\":\"#4D5663\"},\"text\":\"\"},\"zerolinecolor\":\"#E1E5ED\"}},                        {\"showLink\": true, \"linkText\": \"Export to plot.ly\", \"plotlyServerURL\": \"https://plot.ly\", \"responsive\": true}                    ).then(function(){\n",
       "                            \n",
       "var gd = document.getElementById('7dd9ce67-3e0f-48dd-b407-6b48dc1c220c');\n",
       "var x = new MutationObserver(function (mutations, observer) {{\n",
       "        var display = window.getComputedStyle(gd).display;\n",
       "        if (!display || display === 'none') {{\n",
       "            console.log([gd, 'removed!']);\n",
       "            Plotly.purge(gd);\n",
       "            observer.disconnect();\n",
       "        }}\n",
       "}});\n",
       "\n",
       "// Listen for the removal of the full notebook cells\n",
       "var notebookContainer = gd.closest('#notebook-container');\n",
       "if (notebookContainer) {{\n",
       "    x.observe(notebookContainer, {childList: true});\n",
       "}}\n",
       "\n",
       "// Listen for the clearing of the current output cell\n",
       "var outputEl = gd.closest('.output');\n",
       "if (outputEl) {{\n",
       "    x.observe(outputEl, {childList: true});\n",
       "}}\n",
       "\n",
       "                        })                };                });            </script>        </div>"
      ]
     },
     "metadata": {},
     "output_type": "display_data"
    }
   ],
   "source": [
    "df['A'].iplot(kind='hist',bins=25)"
   ]
  },
  {
   "cell_type": "code",
   "execution_count": 60,
   "metadata": {},
   "outputs": [
    {
     "data": {
      "text/html": [
       "<div id=\"e508143e-bcba-4c40-9488-bfdc4040e078\" style=\"height: 525px; width: 100%;\" class=\"plotly-graph-div\"></div><script type=\"text/javascript\">require([\"plotly\"], function(Plotly) { window.PLOTLYENV=window.PLOTLYENV || {};window.PLOTLYENV.BASE_URL=\"https://plot.ly\";Plotly.newPlot(\"e508143e-bcba-4c40-9488-bfdc4040e078\", [{\"mode\": \"markers\", \"text\": \"\", \"y\": [0.6887194376286498, 0.1040535242504629, 0.38792642015276635, 1.3934230260395444, -0.5375976688704683, -1.1493608786796612, 0.01342890849383506, -0.47231861415738574, 0.24793169472844812, -0.6232083144122951, -1.2121596694710122, -2.4542371001007464, 0.29855785553142483, 1.2997620162676498, 0.9168047366909585, -0.41040614900130634, 1.3147531456519106, -0.12455263569370086, 0.9366143523054554, 0.23573463729990726, -0.8244746170540388, -0.32685668230128845, 1.501781503113865, 0.9830012153240587, 0.6020112305361386, 0.3688304138086671, 1.0090827131320237, -0.5811720111587422, 0.0512884505619472, -1.6917643070157176, -0.25322144257612356, -0.2937357494665306, 0.7368726362448421, 0.5763424997076779, 0.16472110066593693, -0.374254076023172, 1.1280304809680426, 0.6455371548668151, -0.18000225503004413, -0.9128911232313937, -0.5670695205365133, 0.16138491502455474, 1.2118733837294762, 0.4444506280024997, 0.6834767601409083, 1.8020727241195935, 2.4230878273709062, 0.27701889696287213, 1.4067122280705426, -0.33728919328412016, 0.5154870435338148, 0.7751019637809062, 1.400130435077449, 0.8276591566099151, 1.1268119555303864, 0.7016118169589718, 0.476169530704683, -0.5261125753709399, -1.2129692872143456, 0.6126338497954396, 1.5825905557818922, -0.8173630045970658, 0.1075602248072928, 1.2716988894407462, -0.15615948990467535, -0.2968566839654392, 1.7204934641303604, -0.869876624137026, 0.28935077735906545, -1.2052876742800458, -0.263979336251353, -0.02815365780209253, -0.04062347728476395, 0.943760296027789, -1.7797735906553165, 0.4485755919087686, 0.14778332986993048, 0.5305019463041807, 1.6359913516932165, -0.3437427119285297, 1.9109783094330681, 0.6818924480193401, -0.42214824562337705, 0.8935317581184008, 1.2587495288352297, -0.5992845246668753, 2.7851237345776405, -1.5158096238899554, 0.04177421570103183, 0.48980398157362903, 1.063643861677667, -0.8486329162129157, -1.86936339853131, 0.24761777046722996, 1.290606988097702, 0.17046338292604407, 0.14181179559597848, 0.6505415244850333, -2.5850581533594545, -0.30813091794721653], \"x\": [1.8787246669561561, 0.028733616663923985, -0.1587931161277573, -1.2219723462024636, 1.2531523973363488, 0.8312132082951045, 1.1740170898586173, -0.24393002059589958, -0.296966543277261, 0.7621695759158762, 0.04210347865555278, -0.7791970481917073, 0.3943032396655093, -1.0146190736152443, -0.4841710096782867, 0.5522466668361006, -2.77187556758784, -0.5181226698708166, -0.49722040792422156, -1.6534757596659548, -0.06027439377033132, 1.4769243769038323, 1.1796346669498379, -0.7816898015019265, 0.8630132212967984, 0.6590246731638996, -1.1013906677685679, -0.9446804895542242, -1.788022470413331, 0.8775002821729455, 0.3546715768521251, -0.16532125735222183, 1.8914747239632839, -1.1251772915449791, 0.8888981026894395, -0.6066117727706714, 0.8314777742724779, 0.3830457069359529, -0.937459527593053, -0.844561047334305, 1.1280232245052606, -1.640427972598561, 0.8971269652786067, 0.4848047458342485, 0.19373507090654035, -0.7387091317560727, -0.3566733282792827, -0.43158335134818315, -0.4899640124314907, 0.5488715658495908, 0.2821768987731658, -0.8832439438038343, 1.271863067044618, 0.10680856505919414, 0.8269478103679717, -0.03266751467505833, -0.34021520002722894, -0.6769186069469743, 0.7126188256918854, 1.8871150025438166, -0.06742662656190869, -1.4789736197389265, 0.346978601690099, -0.3757389938313092, 0.715285859520045, 1.5994858611908638, -0.3692558358591885, 0.13827360227735647, -0.40690530542342296, 0.636973800943974, 0.14658752987818605, -0.3949906255692418, 1.5076392623927681, -0.15486042602397807, 0.22159940179664614, -1.0878244818277978, -0.03354417910293162, 1.2258839316932069, -0.048951028800266715, -1.1089870994157809, 0.021452684803338333, 1.2548854256528554, -1.0913797662237141, -0.539059741192553, 0.6901269187662552, -1.4810451728120602, -0.8468654201203714, 0.3763927872506507, 0.8120568488462931, 0.0031767062628090745, 0.697742291538818, -0.7429703118062226, -0.842231117346612, -0.0666718362166121, 1.8829720647783421, 1.320112956074407, 0.42394324402947475, 0.466299928509142, 0.9415282138953815, -0.7707938096473991], \"type\": \"scatter\", \"marker\": {\"size\": [90, 70, 57, 64, 75, 45, 79, 60, 101, 50, 41, 59, 68, 84, 87, 12, 62, 71, 75, 47, 64, 96, 63, 84, 80, 61, 54, 67, 83, 52, 81, 66, 72, 68, 86, 86, 74, 46, 88, 88, 74, 51, 66, 62, 79, 60, 27, 109, 80, 90, 64, 72, 50, 112, 67, 77, 84, 56, 54, 74, 94, 88, 64, 61, 44, 87, 109, 74, 86, 77, 75, 88, 77, 90, 96, 66, 52, 75, 77, 52, 37, 69, 49, 60, 77, 71, 55, 66, 78, 32, 40, 85, 69, 80, 61, 67, 67, 67, 56, 64], \"line\": {\"width\": 1.3}, \"color\": [\"rgb(226, 74, 51)\", \"rgb(226, 74, 51)\", \"rgb(226, 74, 51)\", \"rgb(226, 74, 51)\", \"rgb(226, 74, 51)\", \"rgb(226, 74, 51)\", \"rgb(226, 74, 51)\", \"rgb(226, 74, 51)\", \"rgb(226, 74, 51)\", \"rgb(226, 74, 51)\", \"rgb(226, 74, 51)\", \"rgb(226, 74, 51)\", \"rgb(226, 74, 51)\", \"rgb(226, 74, 51)\", \"rgb(226, 74, 51)\", \"rgb(226, 74, 51)\", \"rgb(226, 74, 51)\", \"rgb(226, 74, 51)\", \"rgb(226, 74, 51)\", \"rgb(226, 74, 51)\", \"rgb(226, 74, 51)\", \"rgb(226, 74, 51)\", \"rgb(226, 74, 51)\", \"rgb(226, 74, 51)\", \"rgb(226, 74, 51)\", \"rgb(226, 74, 51)\", \"rgb(226, 74, 51)\", \"rgb(226, 74, 51)\", \"rgb(226, 74, 51)\", \"rgb(226, 74, 51)\", \"rgb(226, 74, 51)\", \"rgb(226, 74, 51)\", \"rgb(226, 74, 51)\", \"rgb(226, 74, 51)\", \"rgb(226, 74, 51)\", \"rgb(226, 74, 51)\", \"rgb(226, 74, 51)\", \"rgb(226, 74, 51)\", \"rgb(226, 74, 51)\", \"rgb(226, 74, 51)\", \"rgb(226, 74, 51)\", \"rgb(226, 74, 51)\", \"rgb(226, 74, 51)\", \"rgb(226, 74, 51)\", \"rgb(226, 74, 51)\", \"rgb(226, 74, 51)\", \"rgb(226, 74, 51)\", \"rgb(226, 74, 51)\", \"rgb(226, 74, 51)\", \"rgb(226, 74, 51)\", \"rgb(226, 74, 51)\", \"rgb(226, 74, 51)\", \"rgb(226, 74, 51)\", \"rgb(226, 74, 51)\", \"rgb(226, 74, 51)\", \"rgb(226, 74, 51)\", \"rgb(226, 74, 51)\", \"rgb(226, 74, 51)\", \"rgb(226, 74, 51)\", \"rgb(226, 74, 51)\", \"rgb(226, 74, 51)\", \"rgb(226, 74, 51)\", \"rgb(226, 74, 51)\", \"rgb(226, 74, 51)\", \"rgb(226, 74, 51)\", \"rgb(226, 74, 51)\", \"rgb(226, 74, 51)\", \"rgb(226, 74, 51)\", \"rgb(226, 74, 51)\", \"rgb(226, 74, 51)\", \"rgb(226, 74, 51)\", \"rgb(226, 74, 51)\", \"rgb(226, 74, 51)\", \"rgb(226, 74, 51)\", \"rgb(226, 74, 51)\", \"rgb(226, 74, 51)\", \"rgb(226, 74, 51)\", \"rgb(226, 74, 51)\", \"rgb(226, 74, 51)\", \"rgb(226, 74, 51)\", \"rgb(226, 74, 51)\", \"rgb(226, 74, 51)\", \"rgb(226, 74, 51)\", \"rgb(226, 74, 51)\", \"rgb(226, 74, 51)\", \"rgb(226, 74, 51)\", \"rgb(226, 74, 51)\", \"rgb(226, 74, 51)\", \"rgb(226, 74, 51)\", \"rgb(226, 74, 51)\", \"rgb(226, 74, 51)\", \"rgb(226, 74, 51)\", \"rgb(226, 74, 51)\", \"rgb(226, 74, 51)\", \"rgb(226, 74, 51)\", \"rgb(226, 74, 51)\", \"rgb(226, 74, 51)\", \"rgb(226, 74, 51)\", \"rgb(226, 74, 51)\", \"rgb(226, 74, 51)\"], \"symbol\": \"dot\"}}], {\"legend\": {\"font\": {\"color\": \"#666666\"}, \"bgcolor\": \"#FFFFFF\"}, \"titlefont\": {\"color\": \"#151516\"}, \"xaxis1\": {\"titlefont\": {\"color\": \"#666666\"}, \"zerolinecolor\": \"#F6F6F6\", \"title\": \"\", \"tickfont\": {\"color\": \"#666666\"}, \"showgrid\": true, \"gridcolor\": \"#F6F6F6\"}, \"paper_bgcolor\": \"#FFFFFF\", \"plot_bgcolor\": \"#E5E5E5\", \"yaxis1\": {\"titlefont\": {\"color\": \"#666666\"}, \"zerolinecolor\": \"#F6F6F6\", \"title\": \"\", \"tickfont\": {\"color\": \"#666666\"}, \"showgrid\": true, \"gridcolor\": \"#F6F6F6\"}}, {\"showLink\": true, \"linkText\": \"Export to plot.ly\"})});</script>"
      ],
      "text/plain": [
       "<IPython.core.display.HTML object>"
      ]
     },
     "metadata": {},
     "output_type": "display_data"
    }
   ],
   "source": [
    "df.iplot(kind='bubble',x='A',y='B',size='C')"
   ]
  },
  {
   "cell_type": "markdown",
   "metadata": {},
   "source": [
    "## scatter_matrix()\n",
    "\n",
    "Similar to sns.pairplot()"
   ]
  },
  {
   "cell_type": "code",
   "execution_count": 19,
   "metadata": {},
   "outputs": [
    {
     "data": {
      "application/vnd.plotly.v1+json": {
       "config": {
        "linkText": "Export to plot.ly",
        "plotlyServerURL": "https://plot.ly",
        "showLink": true
       },
       "data": [
        {
         "histfunc": "count",
         "histnorm": "",
         "marker": {
          "color": "rgba(255, 153, 51, 1.0)",
          "line": {
           "color": "#4D5663",
           "width": 1.3
          }
         },
         "name": "A",
         "nbinsx": 10,
         "opacity": 0.8,
         "orientation": "v",
         "type": "histogram",
         "x": [
          -1.01612056617424,
          -0.7350362729323395,
          -0.6122344159390835,
          -1.0027127217759482,
          0.6411615685148131,
          0.47054386141649224,
          -0.3547328503486203,
          0.5313897386555986,
          0.04005341849319595,
          0.4423853922330872,
          1.3453508268296637,
          0.46001510288976716,
          -1.0939154713762969,
          -0.9852507089728771,
          1.1842337940231193,
          0.035400627751505785,
          -0.8882653234232453,
          -1.5314639222981914,
          -0.5498478145222545,
          -1.1084877212359212,
          0.3566775880042968,
          -1.7659823693479608,
          0.6590213829373882,
          0.5101739140474232,
          1.0131382954891477,
          0.46360951537076245,
          -2.2895716540127333,
          0.922733121512306,
          -2.557030031114763,
          1.128622390956555,
          1.1549251499099884,
          2.01391053886995,
          -0.2611627431791524,
          -0.5147868612849658,
          -2.431060922279289,
          -0.7672583181291373,
          -2.298902785100592,
          -0.8083345255784181,
          0.2687189200294319,
          -2.4985563849216605,
          -1.2763984060165428,
          0.14579832380677238,
          2.315288436192335,
          -0.3540222252792673,
          0.29763132128657227,
          -1.1886877350578477,
          0.017012621121949425,
          -0.6808860648653475,
          0.757493784133554,
          0.9915664549970045,
          -0.6397343935683023,
          0.3180139455896008,
          -0.35297824713507286,
          0.6286073348907657,
          -1.6798064798568504,
          -0.4133960959978084,
          1.5336438528557266,
          1.342908308677851,
          -1.995429266989642,
          -2.0367965458065433,
          0.9181910529018176,
          0.14209313446350563,
          2.4097474856859527,
          -0.6500226963721444,
          -0.8030245972209434,
          0.4116989497641564,
          -1.6143766990106465,
          -1.3296246735863992,
          0.9626011835038869,
          -0.3121778998549928,
          1.2895010214892222,
          -1.0644429806679216,
          -0.43004607122671684,
          0.31809623885438454,
          0.20556538045975117,
          0.04770613444546337,
          -0.13348555070784276,
          0.6252789967721484,
          -0.9167494564573351,
          -0.5693928827515384,
          1.6882142715481718,
          -0.6760197956265165,
          0.5898625141551448,
          -0.3019476665041306,
          0.8194331535066512,
          -0.7596131374449068,
          -0.8442062612221812,
          0.854585534391039,
          0.7623074263995253,
          0.10715856200218632,
          0.15854307897790754,
          0.057867767618876104,
          -1.4590132144587633,
          -0.48774141554444655,
          -0.3489465166930348,
          -0.06395183331789477,
          -0.7910192977047932,
          1.1702435224480037,
          0.5174062815181917,
          1.7966086539091877
         ],
         "xaxis": "x",
         "yaxis": "y"
        },
        {
         "line": {
          "color": "rgba(128, 128, 128, 1.0)",
          "dash": "solid",
          "shape": "linear",
          "width": 1.3
         },
         "marker": {
          "size": 2,
          "symbol": "circle"
         },
         "mode": "markers",
         "name": "A",
         "text": "",
         "type": "scatter",
         "x": [
          0.04946243330921958,
          -0.21132604191476,
          0.6315648277657439,
          -0.2584149395608338,
          -0.7523781847700044,
          1.2036525985939475,
          1.5495270140700883,
          0.09388496280413158,
          0.6997786499037146,
          -0.3630767395314691,
          1.8035882864392776,
          -0.6165594656592737,
          -0.9133420425190572,
          -0.07494822915660578,
          1.6863632081187285,
          -0.8135841746988001,
          -2.2015339463447927,
          -0.5210705046298467,
          0.9931310157868933,
          -1.1788053040677775,
          0.4226878840678489,
          0.7620650913636373,
          0.4989719487748791,
          -0.29798089927771654,
          0.2771439125581732,
          -0.5030937366783972,
          0.7034719713030996,
          -0.20973141098206116,
          -0.4412309369018713,
          -0.7485023553513923,
          0.19238228302486748,
          -0.3708395873401066,
          -0.25058735661040316,
          1.036202159912558,
          0.8898810118851016,
          -1.7452658734895148,
          -1.4235741391628185,
          -0.09207445941181541,
          0.05841692620138342,
          0.46591123520293437,
          -0.1524612274278734,
          0.7233984671915831,
          -0.357923332044167,
          -1.1153763934433358,
          -0.2223040125890945,
          0.6595987896207895,
          0.5275433167892178,
          0.6584811824382639,
          2.2224229570487117,
          -1.3022257562225927,
          0.6056946733996742,
          0.24738080469115548,
          1.0835798935157153,
          -0.34865061041761286,
          -0.14303663912040115,
          -0.5147841826477608,
          -1.5812753045414707,
          -0.9095389887382777,
          1.5473046018191206,
          0.08122797413360627,
          0.47490406799778706,
          -0.0774872345388296,
          0.4187426230132602,
          -0.44390492481183186,
          0.14871712550684457,
          0.17021161666783424,
          -0.9966266046835445,
          0.46425669947797965,
          -0.5295787352175079,
          -0.10922776874770161,
          0.05944356627727255,
          -0.9970150259075684,
          0.016713690916964615,
          -0.05186881568918861,
          -0.14750481876005553,
          1.1531289175785948,
          0.12147888548895808,
          1.4102170667598528,
          0.6486462127483743,
          2.4073582123624764,
          0.0050238434293378475,
          2.2466453680516745,
          1.3731646950215053,
          0.0481656177837051,
          0.4885989141516805,
          -1.1003903195942977,
          0.9872266674469901,
          -1.306625795959791,
          -0.9450950182267314,
          1.3020625393122665,
          1.1061683763695591,
          -1.3645015526517559,
          -0.19503219559189425,
          0.08502098989088742,
          -1.3047539944220343,
          -1.1268790001891036,
          0.05680571626761626,
          -0.2607909597711796,
          0.4579837458629166,
          0.8708816973815268
         ],
         "xaxis": "x2",
         "y": [
          -1.01612056617424,
          -0.7350362729323395,
          -0.6122344159390835,
          -1.0027127217759482,
          0.6411615685148131,
          0.47054386141649224,
          -0.3547328503486203,
          0.5313897386555986,
          0.04005341849319595,
          0.4423853922330872,
          1.3453508268296637,
          0.46001510288976716,
          -1.0939154713762969,
          -0.9852507089728771,
          1.1842337940231193,
          0.035400627751505785,
          -0.8882653234232453,
          -1.5314639222981914,
          -0.5498478145222545,
          -1.1084877212359212,
          0.3566775880042968,
          -1.7659823693479608,
          0.6590213829373882,
          0.5101739140474232,
          1.0131382954891477,
          0.46360951537076245,
          -2.2895716540127333,
          0.922733121512306,
          -2.557030031114763,
          1.128622390956555,
          1.1549251499099884,
          2.01391053886995,
          -0.2611627431791524,
          -0.5147868612849658,
          -2.431060922279289,
          -0.7672583181291373,
          -2.298902785100592,
          -0.8083345255784181,
          0.2687189200294319,
          -2.4985563849216605,
          -1.2763984060165428,
          0.14579832380677238,
          2.315288436192335,
          -0.3540222252792673,
          0.29763132128657227,
          -1.1886877350578477,
          0.017012621121949425,
          -0.6808860648653475,
          0.757493784133554,
          0.9915664549970045,
          -0.6397343935683023,
          0.3180139455896008,
          -0.35297824713507286,
          0.6286073348907657,
          -1.6798064798568504,
          -0.4133960959978084,
          1.5336438528557266,
          1.342908308677851,
          -1.995429266989642,
          -2.0367965458065433,
          0.9181910529018176,
          0.14209313446350563,
          2.4097474856859527,
          -0.6500226963721444,
          -0.8030245972209434,
          0.4116989497641564,
          -1.6143766990106465,
          -1.3296246735863992,
          0.9626011835038869,
          -0.3121778998549928,
          1.2895010214892222,
          -1.0644429806679216,
          -0.43004607122671684,
          0.31809623885438454,
          0.20556538045975117,
          0.04770613444546337,
          -0.13348555070784276,
          0.6252789967721484,
          -0.9167494564573351,
          -0.5693928827515384,
          1.6882142715481718,
          -0.6760197956265165,
          0.5898625141551448,
          -0.3019476665041306,
          0.8194331535066512,
          -0.7596131374449068,
          -0.8442062612221812,
          0.854585534391039,
          0.7623074263995253,
          0.10715856200218632,
          0.15854307897790754,
          0.057867767618876104,
          -1.4590132144587633,
          -0.48774141554444655,
          -0.3489465166930348,
          -0.06395183331789477,
          -0.7910192977047932,
          1.1702435224480037,
          0.5174062815181917,
          1.7966086539091877
         ],
         "yaxis": "y2"
        },
        {
         "line": {
          "color": "rgba(128, 128, 128, 1.0)",
          "dash": "solid",
          "shape": "linear",
          "width": 1.3
         },
         "marker": {
          "size": 2,
          "symbol": "circle"
         },
         "mode": "markers",
         "name": "A",
         "text": "",
         "type": "scatter",
         "x": [
          0.29128822060452075,
          -0.34675246124588593,
          -0.8239520856994764,
          0.9325908474482736,
          0.04555954830030968,
          0.7296617965758313,
          1.9452925775967864,
          -0.44979560274384567,
          1.008882987184342,
          1.1068767786815568,
          -2.687867334175248,
          -0.4240605690659418,
          -0.22477582306298607,
          -0.5617342698364136,
          1.2598779948999075,
          -0.3289610254365226,
          0.17183415578157693,
          1.0797994676045914,
          1.6350539781526663,
          0.5294717657829981,
          -0.820409246327209,
          -1.8287884762751394,
          -1.1100744065193182,
          -0.21049619059000046,
          -2.0575160867358857,
          0.10145437357003513,
          0.05565368786865495,
          0.01710904885611498,
          0.6308164755755504,
          0.5038133183077029,
          0.1413174796487205,
          0.13615057090573615,
          -1.0112097798958992,
          1.169123418868459,
          0.7139556974163471,
          -1.3804201857307676,
          1.223035901499533,
          -0.9623966082082231,
          0.28367800203932203,
          -0.007209513035779408,
          -1.6946197646560544,
          -2.275170583470957,
          0.3926444206345502,
          0.5101032570146573,
          -0.3058516542416622,
          -1.5051744118713253,
          0.452631293245817,
          -1.141875420604568,
          0.7335530967114621,
          0.5032010541817685,
          0.8705550767119008,
          1.2754244107993455,
          -0.2260814936353175,
          -1.3522628323630903,
          -1.6106082001816482,
          0.24514242585806761,
          -0.9995733520311209,
          -0.9904918403778555,
          1.543743138688734,
          1.1754047929978448,
          -0.648748526535667,
          0.09616125983872748,
          -0.4070432567585623,
          -0.7801898622000515,
          2.6529950694333433,
          -0.09569159378482524,
          0.866207445204174,
          -0.7650679535314233,
          0.9322263672311765,
          0.8794587318446175,
          0.10394529740374533,
          -1.0239749774939972,
          0.4215258414130003,
          1.2538161699945727,
          0.7874060019265796,
          -1.7003209126037822,
          -1.1521457199490857,
          0.5733378288528491,
          0.16972737314337139,
          -1.7493956973479874,
          1.3650550327369093,
          -2.079401643863644,
          -1.0307419731250669,
          1.5053197479933909,
          -0.3771638020019979,
          0.9895389453563214,
          0.8849704575908484,
          -1.2089136368090514,
          0.5118937303698903,
          0.19790675326615592,
          -1.320409366001389,
          0.07693516060071948,
          -0.48002931456839454,
          0.5750147878958962,
          0.8493867148750148,
          0.2672032953593373,
          0.19818787052487022,
          1.1499576573610855,
          -0.7584269268215001,
          1.0566219249360704
         ],
         "xaxis": "x3",
         "y": [
          -1.01612056617424,
          -0.7350362729323395,
          -0.6122344159390835,
          -1.0027127217759482,
          0.6411615685148131,
          0.47054386141649224,
          -0.3547328503486203,
          0.5313897386555986,
          0.04005341849319595,
          0.4423853922330872,
          1.3453508268296637,
          0.46001510288976716,
          -1.0939154713762969,
          -0.9852507089728771,
          1.1842337940231193,
          0.035400627751505785,
          -0.8882653234232453,
          -1.5314639222981914,
          -0.5498478145222545,
          -1.1084877212359212,
          0.3566775880042968,
          -1.7659823693479608,
          0.6590213829373882,
          0.5101739140474232,
          1.0131382954891477,
          0.46360951537076245,
          -2.2895716540127333,
          0.922733121512306,
          -2.557030031114763,
          1.128622390956555,
          1.1549251499099884,
          2.01391053886995,
          -0.2611627431791524,
          -0.5147868612849658,
          -2.431060922279289,
          -0.7672583181291373,
          -2.298902785100592,
          -0.8083345255784181,
          0.2687189200294319,
          -2.4985563849216605,
          -1.2763984060165428,
          0.14579832380677238,
          2.315288436192335,
          -0.3540222252792673,
          0.29763132128657227,
          -1.1886877350578477,
          0.017012621121949425,
          -0.6808860648653475,
          0.757493784133554,
          0.9915664549970045,
          -0.6397343935683023,
          0.3180139455896008,
          -0.35297824713507286,
          0.6286073348907657,
          -1.6798064798568504,
          -0.4133960959978084,
          1.5336438528557266,
          1.342908308677851,
          -1.995429266989642,
          -2.0367965458065433,
          0.9181910529018176,
          0.14209313446350563,
          2.4097474856859527,
          -0.6500226963721444,
          -0.8030245972209434,
          0.4116989497641564,
          -1.6143766990106465,
          -1.3296246735863992,
          0.9626011835038869,
          -0.3121778998549928,
          1.2895010214892222,
          -1.0644429806679216,
          -0.43004607122671684,
          0.31809623885438454,
          0.20556538045975117,
          0.04770613444546337,
          -0.13348555070784276,
          0.6252789967721484,
          -0.9167494564573351,
          -0.5693928827515384,
          1.6882142715481718,
          -0.6760197956265165,
          0.5898625141551448,
          -0.3019476665041306,
          0.8194331535066512,
          -0.7596131374449068,
          -0.8442062612221812,
          0.854585534391039,
          0.7623074263995253,
          0.10715856200218632,
          0.15854307897790754,
          0.057867767618876104,
          -1.4590132144587633,
          -0.48774141554444655,
          -0.3489465166930348,
          -0.06395183331789477,
          -0.7910192977047932,
          1.1702435224480037,
          0.5174062815181917,
          1.7966086539091877
         ],
         "yaxis": "y3"
        },
        {
         "line": {
          "color": "rgba(128, 128, 128, 1.0)",
          "dash": "solid",
          "shape": "linear",
          "width": 1.3
         },
         "marker": {
          "size": 2,
          "symbol": "circle"
         },
         "mode": "markers",
         "name": "A",
         "text": "",
         "type": "scatter",
         "x": [
          2.5085403575952228,
          1.3620525578462024,
          1.2037944813268016,
          0.5390699124479531,
          -0.48937548762433014,
          -0.8085551762154972,
          -0.06912080017363299,
          0.91496595824098,
          1.9362899010014867,
          0.36151561946920985,
          -0.4890599241366745,
          -1.377459762090564,
          1.7179326174823142,
          0.292595917759522,
          -0.5068577680930758,
          -0.2863126669185321,
          -1.2947136281281906,
          0.11623638635477869,
          -0.3764161859870284,
          -0.291462375122428,
          -0.5334869385761226,
          0.3080562525145197,
          0.9254807389966953,
          1.324175154006813,
          -0.048959228135124475,
          -0.16561653439761878,
          -1.016191371305794,
          -0.023648518005337543,
          1.3126746233713864,
          0.14494538846889726,
          0.4138684801016723,
          0.8063544358353624,
          -0.36621987762882846,
          -1.1003803112890878,
          0.14198463730413938,
          -0.6770454194249176,
          -0.5251163741355072,
          -0.3441676404532498,
          -0.7590394756347026,
          -0.7920676431770391,
          -1.7661355672118861,
          -0.8753043924015457,
          1.2511336586412578,
          0.7105421381602662,
          -0.6305835837627869,
          1.1632875994340515,
          1.8445282537945673,
          0.19842151309913506,
          1.2555356113643752,
          -0.29657610826010455,
          0.5971114838292324,
          0.48249024719443,
          -1.1275553659577418,
          0.7419582445360282,
          -0.9635630316645241,
          0.5300457865852393,
          -0.8560947423402251,
          -0.43546469666016036,
          2.0726883359946893,
          0.2588538153108212,
          1.5522085216563497,
          -0.16529277787715754,
          0.32910365142865333,
          -0.43679916523903967,
          -2.496342135705281,
          0.26855794249261566,
          0.02926256377050376,
          0.781913658043812,
          2.043825007111145,
          -0.3843954721203642,
          0.8221845657096681,
          -0.379881433361661,
          -1.891194289844845,
          1.277395964920159,
          1.5895913561398598,
          -0.4540455974758202,
          -1.2173971625051407,
          0.03653505781905163,
          0.3633780546671515,
          0.7609551657460955,
          -1.639179864710315,
          1.2252574610550706,
          0.6519954613010057,
          1.4725903172278783,
          -0.2622688439279781,
          0.6096536719811665,
          -0.422575490770398,
          -0.09854588779515547,
          -1.0424776450648656,
          0.16069570932375873,
          -0.5374263914376675,
          -1.6426817857852867,
          0.48747103924875623,
          0.8425979111413715,
          -1.3642014387321486,
          -0.3175126650784575,
          1.3405864248043484,
          -0.2995049665427331,
          -0.1939858961705063,
          0.8011866677814314
         ],
         "xaxis": "x4",
         "y": [
          -1.01612056617424,
          -0.7350362729323395,
          -0.6122344159390835,
          -1.0027127217759482,
          0.6411615685148131,
          0.47054386141649224,
          -0.3547328503486203,
          0.5313897386555986,
          0.04005341849319595,
          0.4423853922330872,
          1.3453508268296637,
          0.46001510288976716,
          -1.0939154713762969,
          -0.9852507089728771,
          1.1842337940231193,
          0.035400627751505785,
          -0.8882653234232453,
          -1.5314639222981914,
          -0.5498478145222545,
          -1.1084877212359212,
          0.3566775880042968,
          -1.7659823693479608,
          0.6590213829373882,
          0.5101739140474232,
          1.0131382954891477,
          0.46360951537076245,
          -2.2895716540127333,
          0.922733121512306,
          -2.557030031114763,
          1.128622390956555,
          1.1549251499099884,
          2.01391053886995,
          -0.2611627431791524,
          -0.5147868612849658,
          -2.431060922279289,
          -0.7672583181291373,
          -2.298902785100592,
          -0.8083345255784181,
          0.2687189200294319,
          -2.4985563849216605,
          -1.2763984060165428,
          0.14579832380677238,
          2.315288436192335,
          -0.3540222252792673,
          0.29763132128657227,
          -1.1886877350578477,
          0.017012621121949425,
          -0.6808860648653475,
          0.757493784133554,
          0.9915664549970045,
          -0.6397343935683023,
          0.3180139455896008,
          -0.35297824713507286,
          0.6286073348907657,
          -1.6798064798568504,
          -0.4133960959978084,
          1.5336438528557266,
          1.342908308677851,
          -1.995429266989642,
          -2.0367965458065433,
          0.9181910529018176,
          0.14209313446350563,
          2.4097474856859527,
          -0.6500226963721444,
          -0.8030245972209434,
          0.4116989497641564,
          -1.6143766990106465,
          -1.3296246735863992,
          0.9626011835038869,
          -0.3121778998549928,
          1.2895010214892222,
          -1.0644429806679216,
          -0.43004607122671684,
          0.31809623885438454,
          0.20556538045975117,
          0.04770613444546337,
          -0.13348555070784276,
          0.6252789967721484,
          -0.9167494564573351,
          -0.5693928827515384,
          1.6882142715481718,
          -0.6760197956265165,
          0.5898625141551448,
          -0.3019476665041306,
          0.8194331535066512,
          -0.7596131374449068,
          -0.8442062612221812,
          0.854585534391039,
          0.7623074263995253,
          0.10715856200218632,
          0.15854307897790754,
          0.057867767618876104,
          -1.4590132144587633,
          -0.48774141554444655,
          -0.3489465166930348,
          -0.06395183331789477,
          -0.7910192977047932,
          1.1702435224480037,
          0.5174062815181917,
          1.7966086539091877
         ],
         "yaxis": "y4"
        },
        {
         "line": {
          "color": "rgba(128, 128, 128, 1.0)",
          "dash": "solid",
          "shape": "linear",
          "width": 1.3
         },
         "marker": {
          "size": 2,
          "symbol": "circle"
         },
         "mode": "markers",
         "name": "B",
         "text": "",
         "type": "scatter",
         "x": [
          -1.01612056617424,
          -0.7350362729323395,
          -0.6122344159390835,
          -1.0027127217759482,
          0.6411615685148131,
          0.47054386141649224,
          -0.3547328503486203,
          0.5313897386555986,
          0.04005341849319595,
          0.4423853922330872,
          1.3453508268296637,
          0.46001510288976716,
          -1.0939154713762969,
          -0.9852507089728771,
          1.1842337940231193,
          0.035400627751505785,
          -0.8882653234232453,
          -1.5314639222981914,
          -0.5498478145222545,
          -1.1084877212359212,
          0.3566775880042968,
          -1.7659823693479608,
          0.6590213829373882,
          0.5101739140474232,
          1.0131382954891477,
          0.46360951537076245,
          -2.2895716540127333,
          0.922733121512306,
          -2.557030031114763,
          1.128622390956555,
          1.1549251499099884,
          2.01391053886995,
          -0.2611627431791524,
          -0.5147868612849658,
          -2.431060922279289,
          -0.7672583181291373,
          -2.298902785100592,
          -0.8083345255784181,
          0.2687189200294319,
          -2.4985563849216605,
          -1.2763984060165428,
          0.14579832380677238,
          2.315288436192335,
          -0.3540222252792673,
          0.29763132128657227,
          -1.1886877350578477,
          0.017012621121949425,
          -0.6808860648653475,
          0.757493784133554,
          0.9915664549970045,
          -0.6397343935683023,
          0.3180139455896008,
          -0.35297824713507286,
          0.6286073348907657,
          -1.6798064798568504,
          -0.4133960959978084,
          1.5336438528557266,
          1.342908308677851,
          -1.995429266989642,
          -2.0367965458065433,
          0.9181910529018176,
          0.14209313446350563,
          2.4097474856859527,
          -0.6500226963721444,
          -0.8030245972209434,
          0.4116989497641564,
          -1.6143766990106465,
          -1.3296246735863992,
          0.9626011835038869,
          -0.3121778998549928,
          1.2895010214892222,
          -1.0644429806679216,
          -0.43004607122671684,
          0.31809623885438454,
          0.20556538045975117,
          0.04770613444546337,
          -0.13348555070784276,
          0.6252789967721484,
          -0.9167494564573351,
          -0.5693928827515384,
          1.6882142715481718,
          -0.6760197956265165,
          0.5898625141551448,
          -0.3019476665041306,
          0.8194331535066512,
          -0.7596131374449068,
          -0.8442062612221812,
          0.854585534391039,
          0.7623074263995253,
          0.10715856200218632,
          0.15854307897790754,
          0.057867767618876104,
          -1.4590132144587633,
          -0.48774141554444655,
          -0.3489465166930348,
          -0.06395183331789477,
          -0.7910192977047932,
          1.1702435224480037,
          0.5174062815181917,
          1.7966086539091877
         ],
         "xaxis": "x5",
         "y": [
          0.04946243330921958,
          -0.21132604191476,
          0.6315648277657439,
          -0.2584149395608338,
          -0.7523781847700044,
          1.2036525985939475,
          1.5495270140700883,
          0.09388496280413158,
          0.6997786499037146,
          -0.3630767395314691,
          1.8035882864392776,
          -0.6165594656592737,
          -0.9133420425190572,
          -0.07494822915660578,
          1.6863632081187285,
          -0.8135841746988001,
          -2.2015339463447927,
          -0.5210705046298467,
          0.9931310157868933,
          -1.1788053040677775,
          0.4226878840678489,
          0.7620650913636373,
          0.4989719487748791,
          -0.29798089927771654,
          0.2771439125581732,
          -0.5030937366783972,
          0.7034719713030996,
          -0.20973141098206116,
          -0.4412309369018713,
          -0.7485023553513923,
          0.19238228302486748,
          -0.3708395873401066,
          -0.25058735661040316,
          1.036202159912558,
          0.8898810118851016,
          -1.7452658734895148,
          -1.4235741391628185,
          -0.09207445941181541,
          0.05841692620138342,
          0.46591123520293437,
          -0.1524612274278734,
          0.7233984671915831,
          -0.357923332044167,
          -1.1153763934433358,
          -0.2223040125890945,
          0.6595987896207895,
          0.5275433167892178,
          0.6584811824382639,
          2.2224229570487117,
          -1.3022257562225927,
          0.6056946733996742,
          0.24738080469115548,
          1.0835798935157153,
          -0.34865061041761286,
          -0.14303663912040115,
          -0.5147841826477608,
          -1.5812753045414707,
          -0.9095389887382777,
          1.5473046018191206,
          0.08122797413360627,
          0.47490406799778706,
          -0.0774872345388296,
          0.4187426230132602,
          -0.44390492481183186,
          0.14871712550684457,
          0.17021161666783424,
          -0.9966266046835445,
          0.46425669947797965,
          -0.5295787352175079,
          -0.10922776874770161,
          0.05944356627727255,
          -0.9970150259075684,
          0.016713690916964615,
          -0.05186881568918861,
          -0.14750481876005553,
          1.1531289175785948,
          0.12147888548895808,
          1.4102170667598528,
          0.6486462127483743,
          2.4073582123624764,
          0.0050238434293378475,
          2.2466453680516745,
          1.3731646950215053,
          0.0481656177837051,
          0.4885989141516805,
          -1.1003903195942977,
          0.9872266674469901,
          -1.306625795959791,
          -0.9450950182267314,
          1.3020625393122665,
          1.1061683763695591,
          -1.3645015526517559,
          -0.19503219559189425,
          0.08502098989088742,
          -1.3047539944220343,
          -1.1268790001891036,
          0.05680571626761626,
          -0.2607909597711796,
          0.4579837458629166,
          0.8708816973815268
         ],
         "yaxis": "y5"
        },
        {
         "histfunc": "count",
         "histnorm": "",
         "marker": {
          "color": "rgba(55, 128, 191, 1.0)",
          "line": {
           "color": "#4D5663",
           "width": 1.3
          }
         },
         "name": "B",
         "nbinsx": 10,
         "opacity": 0.8,
         "orientation": "v",
         "type": "histogram",
         "x": [
          0.04946243330921958,
          -0.21132604191476,
          0.6315648277657439,
          -0.2584149395608338,
          -0.7523781847700044,
          1.2036525985939475,
          1.5495270140700883,
          0.09388496280413158,
          0.6997786499037146,
          -0.3630767395314691,
          1.8035882864392776,
          -0.6165594656592737,
          -0.9133420425190572,
          -0.07494822915660578,
          1.6863632081187285,
          -0.8135841746988001,
          -2.2015339463447927,
          -0.5210705046298467,
          0.9931310157868933,
          -1.1788053040677775,
          0.4226878840678489,
          0.7620650913636373,
          0.4989719487748791,
          -0.29798089927771654,
          0.2771439125581732,
          -0.5030937366783972,
          0.7034719713030996,
          -0.20973141098206116,
          -0.4412309369018713,
          -0.7485023553513923,
          0.19238228302486748,
          -0.3708395873401066,
          -0.25058735661040316,
          1.036202159912558,
          0.8898810118851016,
          -1.7452658734895148,
          -1.4235741391628185,
          -0.09207445941181541,
          0.05841692620138342,
          0.46591123520293437,
          -0.1524612274278734,
          0.7233984671915831,
          -0.357923332044167,
          -1.1153763934433358,
          -0.2223040125890945,
          0.6595987896207895,
          0.5275433167892178,
          0.6584811824382639,
          2.2224229570487117,
          -1.3022257562225927,
          0.6056946733996742,
          0.24738080469115548,
          1.0835798935157153,
          -0.34865061041761286,
          -0.14303663912040115,
          -0.5147841826477608,
          -1.5812753045414707,
          -0.9095389887382777,
          1.5473046018191206,
          0.08122797413360627,
          0.47490406799778706,
          -0.0774872345388296,
          0.4187426230132602,
          -0.44390492481183186,
          0.14871712550684457,
          0.17021161666783424,
          -0.9966266046835445,
          0.46425669947797965,
          -0.5295787352175079,
          -0.10922776874770161,
          0.05944356627727255,
          -0.9970150259075684,
          0.016713690916964615,
          -0.05186881568918861,
          -0.14750481876005553,
          1.1531289175785948,
          0.12147888548895808,
          1.4102170667598528,
          0.6486462127483743,
          2.4073582123624764,
          0.0050238434293378475,
          2.2466453680516745,
          1.3731646950215053,
          0.0481656177837051,
          0.4885989141516805,
          -1.1003903195942977,
          0.9872266674469901,
          -1.306625795959791,
          -0.9450950182267314,
          1.3020625393122665,
          1.1061683763695591,
          -1.3645015526517559,
          -0.19503219559189425,
          0.08502098989088742,
          -1.3047539944220343,
          -1.1268790001891036,
          0.05680571626761626,
          -0.2607909597711796,
          0.4579837458629166,
          0.8708816973815268
         ],
         "xaxis": "x6",
         "yaxis": "y6"
        },
        {
         "line": {
          "color": "rgba(128, 128, 128, 1.0)",
          "dash": "solid",
          "shape": "linear",
          "width": 1.3
         },
         "marker": {
          "size": 2,
          "symbol": "circle"
         },
         "mode": "markers",
         "name": "B",
         "text": "",
         "type": "scatter",
         "x": [
          0.29128822060452075,
          -0.34675246124588593,
          -0.8239520856994764,
          0.9325908474482736,
          0.04555954830030968,
          0.7296617965758313,
          1.9452925775967864,
          -0.44979560274384567,
          1.008882987184342,
          1.1068767786815568,
          -2.687867334175248,
          -0.4240605690659418,
          -0.22477582306298607,
          -0.5617342698364136,
          1.2598779948999075,
          -0.3289610254365226,
          0.17183415578157693,
          1.0797994676045914,
          1.6350539781526663,
          0.5294717657829981,
          -0.820409246327209,
          -1.8287884762751394,
          -1.1100744065193182,
          -0.21049619059000046,
          -2.0575160867358857,
          0.10145437357003513,
          0.05565368786865495,
          0.01710904885611498,
          0.6308164755755504,
          0.5038133183077029,
          0.1413174796487205,
          0.13615057090573615,
          -1.0112097798958992,
          1.169123418868459,
          0.7139556974163471,
          -1.3804201857307676,
          1.223035901499533,
          -0.9623966082082231,
          0.28367800203932203,
          -0.007209513035779408,
          -1.6946197646560544,
          -2.275170583470957,
          0.3926444206345502,
          0.5101032570146573,
          -0.3058516542416622,
          -1.5051744118713253,
          0.452631293245817,
          -1.141875420604568,
          0.7335530967114621,
          0.5032010541817685,
          0.8705550767119008,
          1.2754244107993455,
          -0.2260814936353175,
          -1.3522628323630903,
          -1.6106082001816482,
          0.24514242585806761,
          -0.9995733520311209,
          -0.9904918403778555,
          1.543743138688734,
          1.1754047929978448,
          -0.648748526535667,
          0.09616125983872748,
          -0.4070432567585623,
          -0.7801898622000515,
          2.6529950694333433,
          -0.09569159378482524,
          0.866207445204174,
          -0.7650679535314233,
          0.9322263672311765,
          0.8794587318446175,
          0.10394529740374533,
          -1.0239749774939972,
          0.4215258414130003,
          1.2538161699945727,
          0.7874060019265796,
          -1.7003209126037822,
          -1.1521457199490857,
          0.5733378288528491,
          0.16972737314337139,
          -1.7493956973479874,
          1.3650550327369093,
          -2.079401643863644,
          -1.0307419731250669,
          1.5053197479933909,
          -0.3771638020019979,
          0.9895389453563214,
          0.8849704575908484,
          -1.2089136368090514,
          0.5118937303698903,
          0.19790675326615592,
          -1.320409366001389,
          0.07693516060071948,
          -0.48002931456839454,
          0.5750147878958962,
          0.8493867148750148,
          0.2672032953593373,
          0.19818787052487022,
          1.1499576573610855,
          -0.7584269268215001,
          1.0566219249360704
         ],
         "xaxis": "x7",
         "y": [
          0.04946243330921958,
          -0.21132604191476,
          0.6315648277657439,
          -0.2584149395608338,
          -0.7523781847700044,
          1.2036525985939475,
          1.5495270140700883,
          0.09388496280413158,
          0.6997786499037146,
          -0.3630767395314691,
          1.8035882864392776,
          -0.6165594656592737,
          -0.9133420425190572,
          -0.07494822915660578,
          1.6863632081187285,
          -0.8135841746988001,
          -2.2015339463447927,
          -0.5210705046298467,
          0.9931310157868933,
          -1.1788053040677775,
          0.4226878840678489,
          0.7620650913636373,
          0.4989719487748791,
          -0.29798089927771654,
          0.2771439125581732,
          -0.5030937366783972,
          0.7034719713030996,
          -0.20973141098206116,
          -0.4412309369018713,
          -0.7485023553513923,
          0.19238228302486748,
          -0.3708395873401066,
          -0.25058735661040316,
          1.036202159912558,
          0.8898810118851016,
          -1.7452658734895148,
          -1.4235741391628185,
          -0.09207445941181541,
          0.05841692620138342,
          0.46591123520293437,
          -0.1524612274278734,
          0.7233984671915831,
          -0.357923332044167,
          -1.1153763934433358,
          -0.2223040125890945,
          0.6595987896207895,
          0.5275433167892178,
          0.6584811824382639,
          2.2224229570487117,
          -1.3022257562225927,
          0.6056946733996742,
          0.24738080469115548,
          1.0835798935157153,
          -0.34865061041761286,
          -0.14303663912040115,
          -0.5147841826477608,
          -1.5812753045414707,
          -0.9095389887382777,
          1.5473046018191206,
          0.08122797413360627,
          0.47490406799778706,
          -0.0774872345388296,
          0.4187426230132602,
          -0.44390492481183186,
          0.14871712550684457,
          0.17021161666783424,
          -0.9966266046835445,
          0.46425669947797965,
          -0.5295787352175079,
          -0.10922776874770161,
          0.05944356627727255,
          -0.9970150259075684,
          0.016713690916964615,
          -0.05186881568918861,
          -0.14750481876005553,
          1.1531289175785948,
          0.12147888548895808,
          1.4102170667598528,
          0.6486462127483743,
          2.4073582123624764,
          0.0050238434293378475,
          2.2466453680516745,
          1.3731646950215053,
          0.0481656177837051,
          0.4885989141516805,
          -1.1003903195942977,
          0.9872266674469901,
          -1.306625795959791,
          -0.9450950182267314,
          1.3020625393122665,
          1.1061683763695591,
          -1.3645015526517559,
          -0.19503219559189425,
          0.08502098989088742,
          -1.3047539944220343,
          -1.1268790001891036,
          0.05680571626761626,
          -0.2607909597711796,
          0.4579837458629166,
          0.8708816973815268
         ],
         "yaxis": "y7"
        },
        {
         "line": {
          "color": "rgba(128, 128, 128, 1.0)",
          "dash": "solid",
          "shape": "linear",
          "width": 1.3
         },
         "marker": {
          "size": 2,
          "symbol": "circle"
         },
         "mode": "markers",
         "name": "B",
         "text": "",
         "type": "scatter",
         "x": [
          2.5085403575952228,
          1.3620525578462024,
          1.2037944813268016,
          0.5390699124479531,
          -0.48937548762433014,
          -0.8085551762154972,
          -0.06912080017363299,
          0.91496595824098,
          1.9362899010014867,
          0.36151561946920985,
          -0.4890599241366745,
          -1.377459762090564,
          1.7179326174823142,
          0.292595917759522,
          -0.5068577680930758,
          -0.2863126669185321,
          -1.2947136281281906,
          0.11623638635477869,
          -0.3764161859870284,
          -0.291462375122428,
          -0.5334869385761226,
          0.3080562525145197,
          0.9254807389966953,
          1.324175154006813,
          -0.048959228135124475,
          -0.16561653439761878,
          -1.016191371305794,
          -0.023648518005337543,
          1.3126746233713864,
          0.14494538846889726,
          0.4138684801016723,
          0.8063544358353624,
          -0.36621987762882846,
          -1.1003803112890878,
          0.14198463730413938,
          -0.6770454194249176,
          -0.5251163741355072,
          -0.3441676404532498,
          -0.7590394756347026,
          -0.7920676431770391,
          -1.7661355672118861,
          -0.8753043924015457,
          1.2511336586412578,
          0.7105421381602662,
          -0.6305835837627869,
          1.1632875994340515,
          1.8445282537945673,
          0.19842151309913506,
          1.2555356113643752,
          -0.29657610826010455,
          0.5971114838292324,
          0.48249024719443,
          -1.1275553659577418,
          0.7419582445360282,
          -0.9635630316645241,
          0.5300457865852393,
          -0.8560947423402251,
          -0.43546469666016036,
          2.0726883359946893,
          0.2588538153108212,
          1.5522085216563497,
          -0.16529277787715754,
          0.32910365142865333,
          -0.43679916523903967,
          -2.496342135705281,
          0.26855794249261566,
          0.02926256377050376,
          0.781913658043812,
          2.043825007111145,
          -0.3843954721203642,
          0.8221845657096681,
          -0.379881433361661,
          -1.891194289844845,
          1.277395964920159,
          1.5895913561398598,
          -0.4540455974758202,
          -1.2173971625051407,
          0.03653505781905163,
          0.3633780546671515,
          0.7609551657460955,
          -1.639179864710315,
          1.2252574610550706,
          0.6519954613010057,
          1.4725903172278783,
          -0.2622688439279781,
          0.6096536719811665,
          -0.422575490770398,
          -0.09854588779515547,
          -1.0424776450648656,
          0.16069570932375873,
          -0.5374263914376675,
          -1.6426817857852867,
          0.48747103924875623,
          0.8425979111413715,
          -1.3642014387321486,
          -0.3175126650784575,
          1.3405864248043484,
          -0.2995049665427331,
          -0.1939858961705063,
          0.8011866677814314
         ],
         "xaxis": "x8",
         "y": [
          0.04946243330921958,
          -0.21132604191476,
          0.6315648277657439,
          -0.2584149395608338,
          -0.7523781847700044,
          1.2036525985939475,
          1.5495270140700883,
          0.09388496280413158,
          0.6997786499037146,
          -0.3630767395314691,
          1.8035882864392776,
          -0.6165594656592737,
          -0.9133420425190572,
          -0.07494822915660578,
          1.6863632081187285,
          -0.8135841746988001,
          -2.2015339463447927,
          -0.5210705046298467,
          0.9931310157868933,
          -1.1788053040677775,
          0.4226878840678489,
          0.7620650913636373,
          0.4989719487748791,
          -0.29798089927771654,
          0.2771439125581732,
          -0.5030937366783972,
          0.7034719713030996,
          -0.20973141098206116,
          -0.4412309369018713,
          -0.7485023553513923,
          0.19238228302486748,
          -0.3708395873401066,
          -0.25058735661040316,
          1.036202159912558,
          0.8898810118851016,
          -1.7452658734895148,
          -1.4235741391628185,
          -0.09207445941181541,
          0.05841692620138342,
          0.46591123520293437,
          -0.1524612274278734,
          0.7233984671915831,
          -0.357923332044167,
          -1.1153763934433358,
          -0.2223040125890945,
          0.6595987896207895,
          0.5275433167892178,
          0.6584811824382639,
          2.2224229570487117,
          -1.3022257562225927,
          0.6056946733996742,
          0.24738080469115548,
          1.0835798935157153,
          -0.34865061041761286,
          -0.14303663912040115,
          -0.5147841826477608,
          -1.5812753045414707,
          -0.9095389887382777,
          1.5473046018191206,
          0.08122797413360627,
          0.47490406799778706,
          -0.0774872345388296,
          0.4187426230132602,
          -0.44390492481183186,
          0.14871712550684457,
          0.17021161666783424,
          -0.9966266046835445,
          0.46425669947797965,
          -0.5295787352175079,
          -0.10922776874770161,
          0.05944356627727255,
          -0.9970150259075684,
          0.016713690916964615,
          -0.05186881568918861,
          -0.14750481876005553,
          1.1531289175785948,
          0.12147888548895808,
          1.4102170667598528,
          0.6486462127483743,
          2.4073582123624764,
          0.0050238434293378475,
          2.2466453680516745,
          1.3731646950215053,
          0.0481656177837051,
          0.4885989141516805,
          -1.1003903195942977,
          0.9872266674469901,
          -1.306625795959791,
          -0.9450950182267314,
          1.3020625393122665,
          1.1061683763695591,
          -1.3645015526517559,
          -0.19503219559189425,
          0.08502098989088742,
          -1.3047539944220343,
          -1.1268790001891036,
          0.05680571626761626,
          -0.2607909597711796,
          0.4579837458629166,
          0.8708816973815268
         ],
         "yaxis": "y8"
        },
        {
         "line": {
          "color": "rgba(128, 128, 128, 1.0)",
          "dash": "solid",
          "shape": "linear",
          "width": 1.3
         },
         "marker": {
          "size": 2,
          "symbol": "circle"
         },
         "mode": "markers",
         "name": "C",
         "text": "",
         "type": "scatter",
         "x": [
          -1.01612056617424,
          -0.7350362729323395,
          -0.6122344159390835,
          -1.0027127217759482,
          0.6411615685148131,
          0.47054386141649224,
          -0.3547328503486203,
          0.5313897386555986,
          0.04005341849319595,
          0.4423853922330872,
          1.3453508268296637,
          0.46001510288976716,
          -1.0939154713762969,
          -0.9852507089728771,
          1.1842337940231193,
          0.035400627751505785,
          -0.8882653234232453,
          -1.5314639222981914,
          -0.5498478145222545,
          -1.1084877212359212,
          0.3566775880042968,
          -1.7659823693479608,
          0.6590213829373882,
          0.5101739140474232,
          1.0131382954891477,
          0.46360951537076245,
          -2.2895716540127333,
          0.922733121512306,
          -2.557030031114763,
          1.128622390956555,
          1.1549251499099884,
          2.01391053886995,
          -0.2611627431791524,
          -0.5147868612849658,
          -2.431060922279289,
          -0.7672583181291373,
          -2.298902785100592,
          -0.8083345255784181,
          0.2687189200294319,
          -2.4985563849216605,
          -1.2763984060165428,
          0.14579832380677238,
          2.315288436192335,
          -0.3540222252792673,
          0.29763132128657227,
          -1.1886877350578477,
          0.017012621121949425,
          -0.6808860648653475,
          0.757493784133554,
          0.9915664549970045,
          -0.6397343935683023,
          0.3180139455896008,
          -0.35297824713507286,
          0.6286073348907657,
          -1.6798064798568504,
          -0.4133960959978084,
          1.5336438528557266,
          1.342908308677851,
          -1.995429266989642,
          -2.0367965458065433,
          0.9181910529018176,
          0.14209313446350563,
          2.4097474856859527,
          -0.6500226963721444,
          -0.8030245972209434,
          0.4116989497641564,
          -1.6143766990106465,
          -1.3296246735863992,
          0.9626011835038869,
          -0.3121778998549928,
          1.2895010214892222,
          -1.0644429806679216,
          -0.43004607122671684,
          0.31809623885438454,
          0.20556538045975117,
          0.04770613444546337,
          -0.13348555070784276,
          0.6252789967721484,
          -0.9167494564573351,
          -0.5693928827515384,
          1.6882142715481718,
          -0.6760197956265165,
          0.5898625141551448,
          -0.3019476665041306,
          0.8194331535066512,
          -0.7596131374449068,
          -0.8442062612221812,
          0.854585534391039,
          0.7623074263995253,
          0.10715856200218632,
          0.15854307897790754,
          0.057867767618876104,
          -1.4590132144587633,
          -0.48774141554444655,
          -0.3489465166930348,
          -0.06395183331789477,
          -0.7910192977047932,
          1.1702435224480037,
          0.5174062815181917,
          1.7966086539091877
         ],
         "xaxis": "x9",
         "y": [
          0.29128822060452075,
          -0.34675246124588593,
          -0.8239520856994764,
          0.9325908474482736,
          0.04555954830030968,
          0.7296617965758313,
          1.9452925775967864,
          -0.44979560274384567,
          1.008882987184342,
          1.1068767786815568,
          -2.687867334175248,
          -0.4240605690659418,
          -0.22477582306298607,
          -0.5617342698364136,
          1.2598779948999075,
          -0.3289610254365226,
          0.17183415578157693,
          1.0797994676045914,
          1.6350539781526663,
          0.5294717657829981,
          -0.820409246327209,
          -1.8287884762751394,
          -1.1100744065193182,
          -0.21049619059000046,
          -2.0575160867358857,
          0.10145437357003513,
          0.05565368786865495,
          0.01710904885611498,
          0.6308164755755504,
          0.5038133183077029,
          0.1413174796487205,
          0.13615057090573615,
          -1.0112097798958992,
          1.169123418868459,
          0.7139556974163471,
          -1.3804201857307676,
          1.223035901499533,
          -0.9623966082082231,
          0.28367800203932203,
          -0.007209513035779408,
          -1.6946197646560544,
          -2.275170583470957,
          0.3926444206345502,
          0.5101032570146573,
          -0.3058516542416622,
          -1.5051744118713253,
          0.452631293245817,
          -1.141875420604568,
          0.7335530967114621,
          0.5032010541817685,
          0.8705550767119008,
          1.2754244107993455,
          -0.2260814936353175,
          -1.3522628323630903,
          -1.6106082001816482,
          0.24514242585806761,
          -0.9995733520311209,
          -0.9904918403778555,
          1.543743138688734,
          1.1754047929978448,
          -0.648748526535667,
          0.09616125983872748,
          -0.4070432567585623,
          -0.7801898622000515,
          2.6529950694333433,
          -0.09569159378482524,
          0.866207445204174,
          -0.7650679535314233,
          0.9322263672311765,
          0.8794587318446175,
          0.10394529740374533,
          -1.0239749774939972,
          0.4215258414130003,
          1.2538161699945727,
          0.7874060019265796,
          -1.7003209126037822,
          -1.1521457199490857,
          0.5733378288528491,
          0.16972737314337139,
          -1.7493956973479874,
          1.3650550327369093,
          -2.079401643863644,
          -1.0307419731250669,
          1.5053197479933909,
          -0.3771638020019979,
          0.9895389453563214,
          0.8849704575908484,
          -1.2089136368090514,
          0.5118937303698903,
          0.19790675326615592,
          -1.320409366001389,
          0.07693516060071948,
          -0.48002931456839454,
          0.5750147878958962,
          0.8493867148750148,
          0.2672032953593373,
          0.19818787052487022,
          1.1499576573610855,
          -0.7584269268215001,
          1.0566219249360704
         ],
         "yaxis": "y9"
        },
        {
         "line": {
          "color": "rgba(128, 128, 128, 1.0)",
          "dash": "solid",
          "shape": "linear",
          "width": 1.3
         },
         "marker": {
          "size": 2,
          "symbol": "circle"
         },
         "mode": "markers",
         "name": "C",
         "text": "",
         "type": "scatter",
         "x": [
          0.04946243330921958,
          -0.21132604191476,
          0.6315648277657439,
          -0.2584149395608338,
          -0.7523781847700044,
          1.2036525985939475,
          1.5495270140700883,
          0.09388496280413158,
          0.6997786499037146,
          -0.3630767395314691,
          1.8035882864392776,
          -0.6165594656592737,
          -0.9133420425190572,
          -0.07494822915660578,
          1.6863632081187285,
          -0.8135841746988001,
          -2.2015339463447927,
          -0.5210705046298467,
          0.9931310157868933,
          -1.1788053040677775,
          0.4226878840678489,
          0.7620650913636373,
          0.4989719487748791,
          -0.29798089927771654,
          0.2771439125581732,
          -0.5030937366783972,
          0.7034719713030996,
          -0.20973141098206116,
          -0.4412309369018713,
          -0.7485023553513923,
          0.19238228302486748,
          -0.3708395873401066,
          -0.25058735661040316,
          1.036202159912558,
          0.8898810118851016,
          -1.7452658734895148,
          -1.4235741391628185,
          -0.09207445941181541,
          0.05841692620138342,
          0.46591123520293437,
          -0.1524612274278734,
          0.7233984671915831,
          -0.357923332044167,
          -1.1153763934433358,
          -0.2223040125890945,
          0.6595987896207895,
          0.5275433167892178,
          0.6584811824382639,
          2.2224229570487117,
          -1.3022257562225927,
          0.6056946733996742,
          0.24738080469115548,
          1.0835798935157153,
          -0.34865061041761286,
          -0.14303663912040115,
          -0.5147841826477608,
          -1.5812753045414707,
          -0.9095389887382777,
          1.5473046018191206,
          0.08122797413360627,
          0.47490406799778706,
          -0.0774872345388296,
          0.4187426230132602,
          -0.44390492481183186,
          0.14871712550684457,
          0.17021161666783424,
          -0.9966266046835445,
          0.46425669947797965,
          -0.5295787352175079,
          -0.10922776874770161,
          0.05944356627727255,
          -0.9970150259075684,
          0.016713690916964615,
          -0.05186881568918861,
          -0.14750481876005553,
          1.1531289175785948,
          0.12147888548895808,
          1.4102170667598528,
          0.6486462127483743,
          2.4073582123624764,
          0.0050238434293378475,
          2.2466453680516745,
          1.3731646950215053,
          0.0481656177837051,
          0.4885989141516805,
          -1.1003903195942977,
          0.9872266674469901,
          -1.306625795959791,
          -0.9450950182267314,
          1.3020625393122665,
          1.1061683763695591,
          -1.3645015526517559,
          -0.19503219559189425,
          0.08502098989088742,
          -1.3047539944220343,
          -1.1268790001891036,
          0.05680571626761626,
          -0.2607909597711796,
          0.4579837458629166,
          0.8708816973815268
         ],
         "xaxis": "x10",
         "y": [
          0.29128822060452075,
          -0.34675246124588593,
          -0.8239520856994764,
          0.9325908474482736,
          0.04555954830030968,
          0.7296617965758313,
          1.9452925775967864,
          -0.44979560274384567,
          1.008882987184342,
          1.1068767786815568,
          -2.687867334175248,
          -0.4240605690659418,
          -0.22477582306298607,
          -0.5617342698364136,
          1.2598779948999075,
          -0.3289610254365226,
          0.17183415578157693,
          1.0797994676045914,
          1.6350539781526663,
          0.5294717657829981,
          -0.820409246327209,
          -1.8287884762751394,
          -1.1100744065193182,
          -0.21049619059000046,
          -2.0575160867358857,
          0.10145437357003513,
          0.05565368786865495,
          0.01710904885611498,
          0.6308164755755504,
          0.5038133183077029,
          0.1413174796487205,
          0.13615057090573615,
          -1.0112097798958992,
          1.169123418868459,
          0.7139556974163471,
          -1.3804201857307676,
          1.223035901499533,
          -0.9623966082082231,
          0.28367800203932203,
          -0.007209513035779408,
          -1.6946197646560544,
          -2.275170583470957,
          0.3926444206345502,
          0.5101032570146573,
          -0.3058516542416622,
          -1.5051744118713253,
          0.452631293245817,
          -1.141875420604568,
          0.7335530967114621,
          0.5032010541817685,
          0.8705550767119008,
          1.2754244107993455,
          -0.2260814936353175,
          -1.3522628323630903,
          -1.6106082001816482,
          0.24514242585806761,
          -0.9995733520311209,
          -0.9904918403778555,
          1.543743138688734,
          1.1754047929978448,
          -0.648748526535667,
          0.09616125983872748,
          -0.4070432567585623,
          -0.7801898622000515,
          2.6529950694333433,
          -0.09569159378482524,
          0.866207445204174,
          -0.7650679535314233,
          0.9322263672311765,
          0.8794587318446175,
          0.10394529740374533,
          -1.0239749774939972,
          0.4215258414130003,
          1.2538161699945727,
          0.7874060019265796,
          -1.7003209126037822,
          -1.1521457199490857,
          0.5733378288528491,
          0.16972737314337139,
          -1.7493956973479874,
          1.3650550327369093,
          -2.079401643863644,
          -1.0307419731250669,
          1.5053197479933909,
          -0.3771638020019979,
          0.9895389453563214,
          0.8849704575908484,
          -1.2089136368090514,
          0.5118937303698903,
          0.19790675326615592,
          -1.320409366001389,
          0.07693516060071948,
          -0.48002931456839454,
          0.5750147878958962,
          0.8493867148750148,
          0.2672032953593373,
          0.19818787052487022,
          1.1499576573610855,
          -0.7584269268215001,
          1.0566219249360704
         ],
         "yaxis": "y10"
        },
        {
         "histfunc": "count",
         "histnorm": "",
         "marker": {
          "color": "rgba(50, 171, 96, 1.0)",
          "line": {
           "color": "#4D5663",
           "width": 1.3
          }
         },
         "name": "C",
         "nbinsx": 10,
         "opacity": 0.8,
         "orientation": "v",
         "type": "histogram",
         "x": [
          0.29128822060452075,
          -0.34675246124588593,
          -0.8239520856994764,
          0.9325908474482736,
          0.04555954830030968,
          0.7296617965758313,
          1.9452925775967864,
          -0.44979560274384567,
          1.008882987184342,
          1.1068767786815568,
          -2.687867334175248,
          -0.4240605690659418,
          -0.22477582306298607,
          -0.5617342698364136,
          1.2598779948999075,
          -0.3289610254365226,
          0.17183415578157693,
          1.0797994676045914,
          1.6350539781526663,
          0.5294717657829981,
          -0.820409246327209,
          -1.8287884762751394,
          -1.1100744065193182,
          -0.21049619059000046,
          -2.0575160867358857,
          0.10145437357003513,
          0.05565368786865495,
          0.01710904885611498,
          0.6308164755755504,
          0.5038133183077029,
          0.1413174796487205,
          0.13615057090573615,
          -1.0112097798958992,
          1.169123418868459,
          0.7139556974163471,
          -1.3804201857307676,
          1.223035901499533,
          -0.9623966082082231,
          0.28367800203932203,
          -0.007209513035779408,
          -1.6946197646560544,
          -2.275170583470957,
          0.3926444206345502,
          0.5101032570146573,
          -0.3058516542416622,
          -1.5051744118713253,
          0.452631293245817,
          -1.141875420604568,
          0.7335530967114621,
          0.5032010541817685,
          0.8705550767119008,
          1.2754244107993455,
          -0.2260814936353175,
          -1.3522628323630903,
          -1.6106082001816482,
          0.24514242585806761,
          -0.9995733520311209,
          -0.9904918403778555,
          1.543743138688734,
          1.1754047929978448,
          -0.648748526535667,
          0.09616125983872748,
          -0.4070432567585623,
          -0.7801898622000515,
          2.6529950694333433,
          -0.09569159378482524,
          0.866207445204174,
          -0.7650679535314233,
          0.9322263672311765,
          0.8794587318446175,
          0.10394529740374533,
          -1.0239749774939972,
          0.4215258414130003,
          1.2538161699945727,
          0.7874060019265796,
          -1.7003209126037822,
          -1.1521457199490857,
          0.5733378288528491,
          0.16972737314337139,
          -1.7493956973479874,
          1.3650550327369093,
          -2.079401643863644,
          -1.0307419731250669,
          1.5053197479933909,
          -0.3771638020019979,
          0.9895389453563214,
          0.8849704575908484,
          -1.2089136368090514,
          0.5118937303698903,
          0.19790675326615592,
          -1.320409366001389,
          0.07693516060071948,
          -0.48002931456839454,
          0.5750147878958962,
          0.8493867148750148,
          0.2672032953593373,
          0.19818787052487022,
          1.1499576573610855,
          -0.7584269268215001,
          1.0566219249360704
         ],
         "xaxis": "x11",
         "yaxis": "y11"
        },
        {
         "line": {
          "color": "rgba(128, 128, 128, 1.0)",
          "dash": "solid",
          "shape": "linear",
          "width": 1.3
         },
         "marker": {
          "size": 2,
          "symbol": "circle"
         },
         "mode": "markers",
         "name": "C",
         "text": "",
         "type": "scatter",
         "x": [
          2.5085403575952228,
          1.3620525578462024,
          1.2037944813268016,
          0.5390699124479531,
          -0.48937548762433014,
          -0.8085551762154972,
          -0.06912080017363299,
          0.91496595824098,
          1.9362899010014867,
          0.36151561946920985,
          -0.4890599241366745,
          -1.377459762090564,
          1.7179326174823142,
          0.292595917759522,
          -0.5068577680930758,
          -0.2863126669185321,
          -1.2947136281281906,
          0.11623638635477869,
          -0.3764161859870284,
          -0.291462375122428,
          -0.5334869385761226,
          0.3080562525145197,
          0.9254807389966953,
          1.324175154006813,
          -0.048959228135124475,
          -0.16561653439761878,
          -1.016191371305794,
          -0.023648518005337543,
          1.3126746233713864,
          0.14494538846889726,
          0.4138684801016723,
          0.8063544358353624,
          -0.36621987762882846,
          -1.1003803112890878,
          0.14198463730413938,
          -0.6770454194249176,
          -0.5251163741355072,
          -0.3441676404532498,
          -0.7590394756347026,
          -0.7920676431770391,
          -1.7661355672118861,
          -0.8753043924015457,
          1.2511336586412578,
          0.7105421381602662,
          -0.6305835837627869,
          1.1632875994340515,
          1.8445282537945673,
          0.19842151309913506,
          1.2555356113643752,
          -0.29657610826010455,
          0.5971114838292324,
          0.48249024719443,
          -1.1275553659577418,
          0.7419582445360282,
          -0.9635630316645241,
          0.5300457865852393,
          -0.8560947423402251,
          -0.43546469666016036,
          2.0726883359946893,
          0.2588538153108212,
          1.5522085216563497,
          -0.16529277787715754,
          0.32910365142865333,
          -0.43679916523903967,
          -2.496342135705281,
          0.26855794249261566,
          0.02926256377050376,
          0.781913658043812,
          2.043825007111145,
          -0.3843954721203642,
          0.8221845657096681,
          -0.379881433361661,
          -1.891194289844845,
          1.277395964920159,
          1.5895913561398598,
          -0.4540455974758202,
          -1.2173971625051407,
          0.03653505781905163,
          0.3633780546671515,
          0.7609551657460955,
          -1.639179864710315,
          1.2252574610550706,
          0.6519954613010057,
          1.4725903172278783,
          -0.2622688439279781,
          0.6096536719811665,
          -0.422575490770398,
          -0.09854588779515547,
          -1.0424776450648656,
          0.16069570932375873,
          -0.5374263914376675,
          -1.6426817857852867,
          0.48747103924875623,
          0.8425979111413715,
          -1.3642014387321486,
          -0.3175126650784575,
          1.3405864248043484,
          -0.2995049665427331,
          -0.1939858961705063,
          0.8011866677814314
         ],
         "xaxis": "x12",
         "y": [
          0.29128822060452075,
          -0.34675246124588593,
          -0.8239520856994764,
          0.9325908474482736,
          0.04555954830030968,
          0.7296617965758313,
          1.9452925775967864,
          -0.44979560274384567,
          1.008882987184342,
          1.1068767786815568,
          -2.687867334175248,
          -0.4240605690659418,
          -0.22477582306298607,
          -0.5617342698364136,
          1.2598779948999075,
          -0.3289610254365226,
          0.17183415578157693,
          1.0797994676045914,
          1.6350539781526663,
          0.5294717657829981,
          -0.820409246327209,
          -1.8287884762751394,
          -1.1100744065193182,
          -0.21049619059000046,
          -2.0575160867358857,
          0.10145437357003513,
          0.05565368786865495,
          0.01710904885611498,
          0.6308164755755504,
          0.5038133183077029,
          0.1413174796487205,
          0.13615057090573615,
          -1.0112097798958992,
          1.169123418868459,
          0.7139556974163471,
          -1.3804201857307676,
          1.223035901499533,
          -0.9623966082082231,
          0.28367800203932203,
          -0.007209513035779408,
          -1.6946197646560544,
          -2.275170583470957,
          0.3926444206345502,
          0.5101032570146573,
          -0.3058516542416622,
          -1.5051744118713253,
          0.452631293245817,
          -1.141875420604568,
          0.7335530967114621,
          0.5032010541817685,
          0.8705550767119008,
          1.2754244107993455,
          -0.2260814936353175,
          -1.3522628323630903,
          -1.6106082001816482,
          0.24514242585806761,
          -0.9995733520311209,
          -0.9904918403778555,
          1.543743138688734,
          1.1754047929978448,
          -0.648748526535667,
          0.09616125983872748,
          -0.4070432567585623,
          -0.7801898622000515,
          2.6529950694333433,
          -0.09569159378482524,
          0.866207445204174,
          -0.7650679535314233,
          0.9322263672311765,
          0.8794587318446175,
          0.10394529740374533,
          -1.0239749774939972,
          0.4215258414130003,
          1.2538161699945727,
          0.7874060019265796,
          -1.7003209126037822,
          -1.1521457199490857,
          0.5733378288528491,
          0.16972737314337139,
          -1.7493956973479874,
          1.3650550327369093,
          -2.079401643863644,
          -1.0307419731250669,
          1.5053197479933909,
          -0.3771638020019979,
          0.9895389453563214,
          0.8849704575908484,
          -1.2089136368090514,
          0.5118937303698903,
          0.19790675326615592,
          -1.320409366001389,
          0.07693516060071948,
          -0.48002931456839454,
          0.5750147878958962,
          0.8493867148750148,
          0.2672032953593373,
          0.19818787052487022,
          1.1499576573610855,
          -0.7584269268215001,
          1.0566219249360704
         ],
         "yaxis": "y12"
        },
        {
         "line": {
          "color": "rgba(128, 128, 128, 1.0)",
          "dash": "solid",
          "shape": "linear",
          "width": 1.3
         },
         "marker": {
          "size": 2,
          "symbol": "circle"
         },
         "mode": "markers",
         "name": "D",
         "text": "",
         "type": "scatter",
         "x": [
          -1.01612056617424,
          -0.7350362729323395,
          -0.6122344159390835,
          -1.0027127217759482,
          0.6411615685148131,
          0.47054386141649224,
          -0.3547328503486203,
          0.5313897386555986,
          0.04005341849319595,
          0.4423853922330872,
          1.3453508268296637,
          0.46001510288976716,
          -1.0939154713762969,
          -0.9852507089728771,
          1.1842337940231193,
          0.035400627751505785,
          -0.8882653234232453,
          -1.5314639222981914,
          -0.5498478145222545,
          -1.1084877212359212,
          0.3566775880042968,
          -1.7659823693479608,
          0.6590213829373882,
          0.5101739140474232,
          1.0131382954891477,
          0.46360951537076245,
          -2.2895716540127333,
          0.922733121512306,
          -2.557030031114763,
          1.128622390956555,
          1.1549251499099884,
          2.01391053886995,
          -0.2611627431791524,
          -0.5147868612849658,
          -2.431060922279289,
          -0.7672583181291373,
          -2.298902785100592,
          -0.8083345255784181,
          0.2687189200294319,
          -2.4985563849216605,
          -1.2763984060165428,
          0.14579832380677238,
          2.315288436192335,
          -0.3540222252792673,
          0.29763132128657227,
          -1.1886877350578477,
          0.017012621121949425,
          -0.6808860648653475,
          0.757493784133554,
          0.9915664549970045,
          -0.6397343935683023,
          0.3180139455896008,
          -0.35297824713507286,
          0.6286073348907657,
          -1.6798064798568504,
          -0.4133960959978084,
          1.5336438528557266,
          1.342908308677851,
          -1.995429266989642,
          -2.0367965458065433,
          0.9181910529018176,
          0.14209313446350563,
          2.4097474856859527,
          -0.6500226963721444,
          -0.8030245972209434,
          0.4116989497641564,
          -1.6143766990106465,
          -1.3296246735863992,
          0.9626011835038869,
          -0.3121778998549928,
          1.2895010214892222,
          -1.0644429806679216,
          -0.43004607122671684,
          0.31809623885438454,
          0.20556538045975117,
          0.04770613444546337,
          -0.13348555070784276,
          0.6252789967721484,
          -0.9167494564573351,
          -0.5693928827515384,
          1.6882142715481718,
          -0.6760197956265165,
          0.5898625141551448,
          -0.3019476665041306,
          0.8194331535066512,
          -0.7596131374449068,
          -0.8442062612221812,
          0.854585534391039,
          0.7623074263995253,
          0.10715856200218632,
          0.15854307897790754,
          0.057867767618876104,
          -1.4590132144587633,
          -0.48774141554444655,
          -0.3489465166930348,
          -0.06395183331789477,
          -0.7910192977047932,
          1.1702435224480037,
          0.5174062815181917,
          1.7966086539091877
         ],
         "xaxis": "x13",
         "y": [
          2.5085403575952228,
          1.3620525578462024,
          1.2037944813268016,
          0.5390699124479531,
          -0.48937548762433014,
          -0.8085551762154972,
          -0.06912080017363299,
          0.91496595824098,
          1.9362899010014867,
          0.36151561946920985,
          -0.4890599241366745,
          -1.377459762090564,
          1.7179326174823142,
          0.292595917759522,
          -0.5068577680930758,
          -0.2863126669185321,
          -1.2947136281281906,
          0.11623638635477869,
          -0.3764161859870284,
          -0.291462375122428,
          -0.5334869385761226,
          0.3080562525145197,
          0.9254807389966953,
          1.324175154006813,
          -0.048959228135124475,
          -0.16561653439761878,
          -1.016191371305794,
          -0.023648518005337543,
          1.3126746233713864,
          0.14494538846889726,
          0.4138684801016723,
          0.8063544358353624,
          -0.36621987762882846,
          -1.1003803112890878,
          0.14198463730413938,
          -0.6770454194249176,
          -0.5251163741355072,
          -0.3441676404532498,
          -0.7590394756347026,
          -0.7920676431770391,
          -1.7661355672118861,
          -0.8753043924015457,
          1.2511336586412578,
          0.7105421381602662,
          -0.6305835837627869,
          1.1632875994340515,
          1.8445282537945673,
          0.19842151309913506,
          1.2555356113643752,
          -0.29657610826010455,
          0.5971114838292324,
          0.48249024719443,
          -1.1275553659577418,
          0.7419582445360282,
          -0.9635630316645241,
          0.5300457865852393,
          -0.8560947423402251,
          -0.43546469666016036,
          2.0726883359946893,
          0.2588538153108212,
          1.5522085216563497,
          -0.16529277787715754,
          0.32910365142865333,
          -0.43679916523903967,
          -2.496342135705281,
          0.26855794249261566,
          0.02926256377050376,
          0.781913658043812,
          2.043825007111145,
          -0.3843954721203642,
          0.8221845657096681,
          -0.379881433361661,
          -1.891194289844845,
          1.277395964920159,
          1.5895913561398598,
          -0.4540455974758202,
          -1.2173971625051407,
          0.03653505781905163,
          0.3633780546671515,
          0.7609551657460955,
          -1.639179864710315,
          1.2252574610550706,
          0.6519954613010057,
          1.4725903172278783,
          -0.2622688439279781,
          0.6096536719811665,
          -0.422575490770398,
          -0.09854588779515547,
          -1.0424776450648656,
          0.16069570932375873,
          -0.5374263914376675,
          -1.6426817857852867,
          0.48747103924875623,
          0.8425979111413715,
          -1.3642014387321486,
          -0.3175126650784575,
          1.3405864248043484,
          -0.2995049665427331,
          -0.1939858961705063,
          0.8011866677814314
         ],
         "yaxis": "y13"
        },
        {
         "line": {
          "color": "rgba(128, 128, 128, 1.0)",
          "dash": "solid",
          "shape": "linear",
          "width": 1.3
         },
         "marker": {
          "size": 2,
          "symbol": "circle"
         },
         "mode": "markers",
         "name": "D",
         "text": "",
         "type": "scatter",
         "x": [
          0.04946243330921958,
          -0.21132604191476,
          0.6315648277657439,
          -0.2584149395608338,
          -0.7523781847700044,
          1.2036525985939475,
          1.5495270140700883,
          0.09388496280413158,
          0.6997786499037146,
          -0.3630767395314691,
          1.8035882864392776,
          -0.6165594656592737,
          -0.9133420425190572,
          -0.07494822915660578,
          1.6863632081187285,
          -0.8135841746988001,
          -2.2015339463447927,
          -0.5210705046298467,
          0.9931310157868933,
          -1.1788053040677775,
          0.4226878840678489,
          0.7620650913636373,
          0.4989719487748791,
          -0.29798089927771654,
          0.2771439125581732,
          -0.5030937366783972,
          0.7034719713030996,
          -0.20973141098206116,
          -0.4412309369018713,
          -0.7485023553513923,
          0.19238228302486748,
          -0.3708395873401066,
          -0.25058735661040316,
          1.036202159912558,
          0.8898810118851016,
          -1.7452658734895148,
          -1.4235741391628185,
          -0.09207445941181541,
          0.05841692620138342,
          0.46591123520293437,
          -0.1524612274278734,
          0.7233984671915831,
          -0.357923332044167,
          -1.1153763934433358,
          -0.2223040125890945,
          0.6595987896207895,
          0.5275433167892178,
          0.6584811824382639,
          2.2224229570487117,
          -1.3022257562225927,
          0.6056946733996742,
          0.24738080469115548,
          1.0835798935157153,
          -0.34865061041761286,
          -0.14303663912040115,
          -0.5147841826477608,
          -1.5812753045414707,
          -0.9095389887382777,
          1.5473046018191206,
          0.08122797413360627,
          0.47490406799778706,
          -0.0774872345388296,
          0.4187426230132602,
          -0.44390492481183186,
          0.14871712550684457,
          0.17021161666783424,
          -0.9966266046835445,
          0.46425669947797965,
          -0.5295787352175079,
          -0.10922776874770161,
          0.05944356627727255,
          -0.9970150259075684,
          0.016713690916964615,
          -0.05186881568918861,
          -0.14750481876005553,
          1.1531289175785948,
          0.12147888548895808,
          1.4102170667598528,
          0.6486462127483743,
          2.4073582123624764,
          0.0050238434293378475,
          2.2466453680516745,
          1.3731646950215053,
          0.0481656177837051,
          0.4885989141516805,
          -1.1003903195942977,
          0.9872266674469901,
          -1.306625795959791,
          -0.9450950182267314,
          1.3020625393122665,
          1.1061683763695591,
          -1.3645015526517559,
          -0.19503219559189425,
          0.08502098989088742,
          -1.3047539944220343,
          -1.1268790001891036,
          0.05680571626761626,
          -0.2607909597711796,
          0.4579837458629166,
          0.8708816973815268
         ],
         "xaxis": "x14",
         "y": [
          2.5085403575952228,
          1.3620525578462024,
          1.2037944813268016,
          0.5390699124479531,
          -0.48937548762433014,
          -0.8085551762154972,
          -0.06912080017363299,
          0.91496595824098,
          1.9362899010014867,
          0.36151561946920985,
          -0.4890599241366745,
          -1.377459762090564,
          1.7179326174823142,
          0.292595917759522,
          -0.5068577680930758,
          -0.2863126669185321,
          -1.2947136281281906,
          0.11623638635477869,
          -0.3764161859870284,
          -0.291462375122428,
          -0.5334869385761226,
          0.3080562525145197,
          0.9254807389966953,
          1.324175154006813,
          -0.048959228135124475,
          -0.16561653439761878,
          -1.016191371305794,
          -0.023648518005337543,
          1.3126746233713864,
          0.14494538846889726,
          0.4138684801016723,
          0.8063544358353624,
          -0.36621987762882846,
          -1.1003803112890878,
          0.14198463730413938,
          -0.6770454194249176,
          -0.5251163741355072,
          -0.3441676404532498,
          -0.7590394756347026,
          -0.7920676431770391,
          -1.7661355672118861,
          -0.8753043924015457,
          1.2511336586412578,
          0.7105421381602662,
          -0.6305835837627869,
          1.1632875994340515,
          1.8445282537945673,
          0.19842151309913506,
          1.2555356113643752,
          -0.29657610826010455,
          0.5971114838292324,
          0.48249024719443,
          -1.1275553659577418,
          0.7419582445360282,
          -0.9635630316645241,
          0.5300457865852393,
          -0.8560947423402251,
          -0.43546469666016036,
          2.0726883359946893,
          0.2588538153108212,
          1.5522085216563497,
          -0.16529277787715754,
          0.32910365142865333,
          -0.43679916523903967,
          -2.496342135705281,
          0.26855794249261566,
          0.02926256377050376,
          0.781913658043812,
          2.043825007111145,
          -0.3843954721203642,
          0.8221845657096681,
          -0.379881433361661,
          -1.891194289844845,
          1.277395964920159,
          1.5895913561398598,
          -0.4540455974758202,
          -1.2173971625051407,
          0.03653505781905163,
          0.3633780546671515,
          0.7609551657460955,
          -1.639179864710315,
          1.2252574610550706,
          0.6519954613010057,
          1.4725903172278783,
          -0.2622688439279781,
          0.6096536719811665,
          -0.422575490770398,
          -0.09854588779515547,
          -1.0424776450648656,
          0.16069570932375873,
          -0.5374263914376675,
          -1.6426817857852867,
          0.48747103924875623,
          0.8425979111413715,
          -1.3642014387321486,
          -0.3175126650784575,
          1.3405864248043484,
          -0.2995049665427331,
          -0.1939858961705063,
          0.8011866677814314
         ],
         "yaxis": "y14"
        },
        {
         "line": {
          "color": "rgba(128, 128, 128, 1.0)",
          "dash": "solid",
          "shape": "linear",
          "width": 1.3
         },
         "marker": {
          "size": 2,
          "symbol": "circle"
         },
         "mode": "markers",
         "name": "D",
         "text": "",
         "type": "scatter",
         "x": [
          0.29128822060452075,
          -0.34675246124588593,
          -0.8239520856994764,
          0.9325908474482736,
          0.04555954830030968,
          0.7296617965758313,
          1.9452925775967864,
          -0.44979560274384567,
          1.008882987184342,
          1.1068767786815568,
          -2.687867334175248,
          -0.4240605690659418,
          -0.22477582306298607,
          -0.5617342698364136,
          1.2598779948999075,
          -0.3289610254365226,
          0.17183415578157693,
          1.0797994676045914,
          1.6350539781526663,
          0.5294717657829981,
          -0.820409246327209,
          -1.8287884762751394,
          -1.1100744065193182,
          -0.21049619059000046,
          -2.0575160867358857,
          0.10145437357003513,
          0.05565368786865495,
          0.01710904885611498,
          0.6308164755755504,
          0.5038133183077029,
          0.1413174796487205,
          0.13615057090573615,
          -1.0112097798958992,
          1.169123418868459,
          0.7139556974163471,
          -1.3804201857307676,
          1.223035901499533,
          -0.9623966082082231,
          0.28367800203932203,
          -0.007209513035779408,
          -1.6946197646560544,
          -2.275170583470957,
          0.3926444206345502,
          0.5101032570146573,
          -0.3058516542416622,
          -1.5051744118713253,
          0.452631293245817,
          -1.141875420604568,
          0.7335530967114621,
          0.5032010541817685,
          0.8705550767119008,
          1.2754244107993455,
          -0.2260814936353175,
          -1.3522628323630903,
          -1.6106082001816482,
          0.24514242585806761,
          -0.9995733520311209,
          -0.9904918403778555,
          1.543743138688734,
          1.1754047929978448,
          -0.648748526535667,
          0.09616125983872748,
          -0.4070432567585623,
          -0.7801898622000515,
          2.6529950694333433,
          -0.09569159378482524,
          0.866207445204174,
          -0.7650679535314233,
          0.9322263672311765,
          0.8794587318446175,
          0.10394529740374533,
          -1.0239749774939972,
          0.4215258414130003,
          1.2538161699945727,
          0.7874060019265796,
          -1.7003209126037822,
          -1.1521457199490857,
          0.5733378288528491,
          0.16972737314337139,
          -1.7493956973479874,
          1.3650550327369093,
          -2.079401643863644,
          -1.0307419731250669,
          1.5053197479933909,
          -0.3771638020019979,
          0.9895389453563214,
          0.8849704575908484,
          -1.2089136368090514,
          0.5118937303698903,
          0.19790675326615592,
          -1.320409366001389,
          0.07693516060071948,
          -0.48002931456839454,
          0.5750147878958962,
          0.8493867148750148,
          0.2672032953593373,
          0.19818787052487022,
          1.1499576573610855,
          -0.7584269268215001,
          1.0566219249360704
         ],
         "xaxis": "x15",
         "y": [
          2.5085403575952228,
          1.3620525578462024,
          1.2037944813268016,
          0.5390699124479531,
          -0.48937548762433014,
          -0.8085551762154972,
          -0.06912080017363299,
          0.91496595824098,
          1.9362899010014867,
          0.36151561946920985,
          -0.4890599241366745,
          -1.377459762090564,
          1.7179326174823142,
          0.292595917759522,
          -0.5068577680930758,
          -0.2863126669185321,
          -1.2947136281281906,
          0.11623638635477869,
          -0.3764161859870284,
          -0.291462375122428,
          -0.5334869385761226,
          0.3080562525145197,
          0.9254807389966953,
          1.324175154006813,
          -0.048959228135124475,
          -0.16561653439761878,
          -1.016191371305794,
          -0.023648518005337543,
          1.3126746233713864,
          0.14494538846889726,
          0.4138684801016723,
          0.8063544358353624,
          -0.36621987762882846,
          -1.1003803112890878,
          0.14198463730413938,
          -0.6770454194249176,
          -0.5251163741355072,
          -0.3441676404532498,
          -0.7590394756347026,
          -0.7920676431770391,
          -1.7661355672118861,
          -0.8753043924015457,
          1.2511336586412578,
          0.7105421381602662,
          -0.6305835837627869,
          1.1632875994340515,
          1.8445282537945673,
          0.19842151309913506,
          1.2555356113643752,
          -0.29657610826010455,
          0.5971114838292324,
          0.48249024719443,
          -1.1275553659577418,
          0.7419582445360282,
          -0.9635630316645241,
          0.5300457865852393,
          -0.8560947423402251,
          -0.43546469666016036,
          2.0726883359946893,
          0.2588538153108212,
          1.5522085216563497,
          -0.16529277787715754,
          0.32910365142865333,
          -0.43679916523903967,
          -2.496342135705281,
          0.26855794249261566,
          0.02926256377050376,
          0.781913658043812,
          2.043825007111145,
          -0.3843954721203642,
          0.8221845657096681,
          -0.379881433361661,
          -1.891194289844845,
          1.277395964920159,
          1.5895913561398598,
          -0.4540455974758202,
          -1.2173971625051407,
          0.03653505781905163,
          0.3633780546671515,
          0.7609551657460955,
          -1.639179864710315,
          1.2252574610550706,
          0.6519954613010057,
          1.4725903172278783,
          -0.2622688439279781,
          0.6096536719811665,
          -0.422575490770398,
          -0.09854588779515547,
          -1.0424776450648656,
          0.16069570932375873,
          -0.5374263914376675,
          -1.6426817857852867,
          0.48747103924875623,
          0.8425979111413715,
          -1.3642014387321486,
          -0.3175126650784575,
          1.3405864248043484,
          -0.2995049665427331,
          -0.1939858961705063,
          0.8011866677814314
         ],
         "yaxis": "y15"
        },
        {
         "histfunc": "count",
         "histnorm": "",
         "marker": {
          "color": "rgba(128, 0, 128, 1.0)",
          "line": {
           "color": "#4D5663",
           "width": 1.3
          }
         },
         "name": "D",
         "nbinsx": 10,
         "opacity": 0.8,
         "orientation": "v",
         "type": "histogram",
         "x": [
          2.5085403575952228,
          1.3620525578462024,
          1.2037944813268016,
          0.5390699124479531,
          -0.48937548762433014,
          -0.8085551762154972,
          -0.06912080017363299,
          0.91496595824098,
          1.9362899010014867,
          0.36151561946920985,
          -0.4890599241366745,
          -1.377459762090564,
          1.7179326174823142,
          0.292595917759522,
          -0.5068577680930758,
          -0.2863126669185321,
          -1.2947136281281906,
          0.11623638635477869,
          -0.3764161859870284,
          -0.291462375122428,
          -0.5334869385761226,
          0.3080562525145197,
          0.9254807389966953,
          1.324175154006813,
          -0.048959228135124475,
          -0.16561653439761878,
          -1.016191371305794,
          -0.023648518005337543,
          1.3126746233713864,
          0.14494538846889726,
          0.4138684801016723,
          0.8063544358353624,
          -0.36621987762882846,
          -1.1003803112890878,
          0.14198463730413938,
          -0.6770454194249176,
          -0.5251163741355072,
          -0.3441676404532498,
          -0.7590394756347026,
          -0.7920676431770391,
          -1.7661355672118861,
          -0.8753043924015457,
          1.2511336586412578,
          0.7105421381602662,
          -0.6305835837627869,
          1.1632875994340515,
          1.8445282537945673,
          0.19842151309913506,
          1.2555356113643752,
          -0.29657610826010455,
          0.5971114838292324,
          0.48249024719443,
          -1.1275553659577418,
          0.7419582445360282,
          -0.9635630316645241,
          0.5300457865852393,
          -0.8560947423402251,
          -0.43546469666016036,
          2.0726883359946893,
          0.2588538153108212,
          1.5522085216563497,
          -0.16529277787715754,
          0.32910365142865333,
          -0.43679916523903967,
          -2.496342135705281,
          0.26855794249261566,
          0.02926256377050376,
          0.781913658043812,
          2.043825007111145,
          -0.3843954721203642,
          0.8221845657096681,
          -0.379881433361661,
          -1.891194289844845,
          1.277395964920159,
          1.5895913561398598,
          -0.4540455974758202,
          -1.2173971625051407,
          0.03653505781905163,
          0.3633780546671515,
          0.7609551657460955,
          -1.639179864710315,
          1.2252574610550706,
          0.6519954613010057,
          1.4725903172278783,
          -0.2622688439279781,
          0.6096536719811665,
          -0.422575490770398,
          -0.09854588779515547,
          -1.0424776450648656,
          0.16069570932375873,
          -0.5374263914376675,
          -1.6426817857852867,
          0.48747103924875623,
          0.8425979111413715,
          -1.3642014387321486,
          -0.3175126650784575,
          1.3405864248043484,
          -0.2995049665427331,
          -0.1939858961705063,
          0.8011866677814314
         ],
         "xaxis": "x16",
         "yaxis": "y16"
        }
       ],
       "layout": {
        "bargap": 0.02,
        "legend": {
         "bgcolor": "#F5F6F9",
         "font": {
          "color": "#4D5663"
         }
        },
        "paper_bgcolor": "#F5F6F9",
        "plot_bgcolor": "#F5F6F9",
        "showlegend": false,
        "template": {
         "data": {
          "bar": [
           {
            "error_x": {
             "color": "#2a3f5f"
            },
            "error_y": {
             "color": "#2a3f5f"
            },
            "marker": {
             "line": {
              "color": "#E5ECF6",
              "width": 0.5
             },
             "pattern": {
              "fillmode": "overlay",
              "size": 10,
              "solidity": 0.2
             }
            },
            "type": "bar"
           }
          ],
          "barpolar": [
           {
            "marker": {
             "line": {
              "color": "#E5ECF6",
              "width": 0.5
             },
             "pattern": {
              "fillmode": "overlay",
              "size": 10,
              "solidity": 0.2
             }
            },
            "type": "barpolar"
           }
          ],
          "carpet": [
           {
            "aaxis": {
             "endlinecolor": "#2a3f5f",
             "gridcolor": "white",
             "linecolor": "white",
             "minorgridcolor": "white",
             "startlinecolor": "#2a3f5f"
            },
            "baxis": {
             "endlinecolor": "#2a3f5f",
             "gridcolor": "white",
             "linecolor": "white",
             "minorgridcolor": "white",
             "startlinecolor": "#2a3f5f"
            },
            "type": "carpet"
           }
          ],
          "choropleth": [
           {
            "colorbar": {
             "outlinewidth": 0,
             "ticks": ""
            },
            "type": "choropleth"
           }
          ],
          "contour": [
           {
            "colorbar": {
             "outlinewidth": 0,
             "ticks": ""
            },
            "colorscale": [
             [
              0,
              "#0d0887"
             ],
             [
              0.1111111111111111,
              "#46039f"
             ],
             [
              0.2222222222222222,
              "#7201a8"
             ],
             [
              0.3333333333333333,
              "#9c179e"
             ],
             [
              0.4444444444444444,
              "#bd3786"
             ],
             [
              0.5555555555555556,
              "#d8576b"
             ],
             [
              0.6666666666666666,
              "#ed7953"
             ],
             [
              0.7777777777777778,
              "#fb9f3a"
             ],
             [
              0.8888888888888888,
              "#fdca26"
             ],
             [
              1,
              "#f0f921"
             ]
            ],
            "type": "contour"
           }
          ],
          "contourcarpet": [
           {
            "colorbar": {
             "outlinewidth": 0,
             "ticks": ""
            },
            "type": "contourcarpet"
           }
          ],
          "heatmap": [
           {
            "colorbar": {
             "outlinewidth": 0,
             "ticks": ""
            },
            "colorscale": [
             [
              0,
              "#0d0887"
             ],
             [
              0.1111111111111111,
              "#46039f"
             ],
             [
              0.2222222222222222,
              "#7201a8"
             ],
             [
              0.3333333333333333,
              "#9c179e"
             ],
             [
              0.4444444444444444,
              "#bd3786"
             ],
             [
              0.5555555555555556,
              "#d8576b"
             ],
             [
              0.6666666666666666,
              "#ed7953"
             ],
             [
              0.7777777777777778,
              "#fb9f3a"
             ],
             [
              0.8888888888888888,
              "#fdca26"
             ],
             [
              1,
              "#f0f921"
             ]
            ],
            "type": "heatmap"
           }
          ],
          "heatmapgl": [
           {
            "colorbar": {
             "outlinewidth": 0,
             "ticks": ""
            },
            "colorscale": [
             [
              0,
              "#0d0887"
             ],
             [
              0.1111111111111111,
              "#46039f"
             ],
             [
              0.2222222222222222,
              "#7201a8"
             ],
             [
              0.3333333333333333,
              "#9c179e"
             ],
             [
              0.4444444444444444,
              "#bd3786"
             ],
             [
              0.5555555555555556,
              "#d8576b"
             ],
             [
              0.6666666666666666,
              "#ed7953"
             ],
             [
              0.7777777777777778,
              "#fb9f3a"
             ],
             [
              0.8888888888888888,
              "#fdca26"
             ],
             [
              1,
              "#f0f921"
             ]
            ],
            "type": "heatmapgl"
           }
          ],
          "histogram": [
           {
            "marker": {
             "pattern": {
              "fillmode": "overlay",
              "size": 10,
              "solidity": 0.2
             }
            },
            "type": "histogram"
           }
          ],
          "histogram2d": [
           {
            "colorbar": {
             "outlinewidth": 0,
             "ticks": ""
            },
            "colorscale": [
             [
              0,
              "#0d0887"
             ],
             [
              0.1111111111111111,
              "#46039f"
             ],
             [
              0.2222222222222222,
              "#7201a8"
             ],
             [
              0.3333333333333333,
              "#9c179e"
             ],
             [
              0.4444444444444444,
              "#bd3786"
             ],
             [
              0.5555555555555556,
              "#d8576b"
             ],
             [
              0.6666666666666666,
              "#ed7953"
             ],
             [
              0.7777777777777778,
              "#fb9f3a"
             ],
             [
              0.8888888888888888,
              "#fdca26"
             ],
             [
              1,
              "#f0f921"
             ]
            ],
            "type": "histogram2d"
           }
          ],
          "histogram2dcontour": [
           {
            "colorbar": {
             "outlinewidth": 0,
             "ticks": ""
            },
            "colorscale": [
             [
              0,
              "#0d0887"
             ],
             [
              0.1111111111111111,
              "#46039f"
             ],
             [
              0.2222222222222222,
              "#7201a8"
             ],
             [
              0.3333333333333333,
              "#9c179e"
             ],
             [
              0.4444444444444444,
              "#bd3786"
             ],
             [
              0.5555555555555556,
              "#d8576b"
             ],
             [
              0.6666666666666666,
              "#ed7953"
             ],
             [
              0.7777777777777778,
              "#fb9f3a"
             ],
             [
              0.8888888888888888,
              "#fdca26"
             ],
             [
              1,
              "#f0f921"
             ]
            ],
            "type": "histogram2dcontour"
           }
          ],
          "mesh3d": [
           {
            "colorbar": {
             "outlinewidth": 0,
             "ticks": ""
            },
            "type": "mesh3d"
           }
          ],
          "parcoords": [
           {
            "line": {
             "colorbar": {
              "outlinewidth": 0,
              "ticks": ""
             }
            },
            "type": "parcoords"
           }
          ],
          "pie": [
           {
            "automargin": true,
            "type": "pie"
           }
          ],
          "scatter": [
           {
            "fillpattern": {
             "fillmode": "overlay",
             "size": 10,
             "solidity": 0.2
            },
            "type": "scatter"
           }
          ],
          "scatter3d": [
           {
            "line": {
             "colorbar": {
              "outlinewidth": 0,
              "ticks": ""
             }
            },
            "marker": {
             "colorbar": {
              "outlinewidth": 0,
              "ticks": ""
             }
            },
            "type": "scatter3d"
           }
          ],
          "scattercarpet": [
           {
            "marker": {
             "colorbar": {
              "outlinewidth": 0,
              "ticks": ""
             }
            },
            "type": "scattercarpet"
           }
          ],
          "scattergeo": [
           {
            "marker": {
             "colorbar": {
              "outlinewidth": 0,
              "ticks": ""
             }
            },
            "type": "scattergeo"
           }
          ],
          "scattergl": [
           {
            "marker": {
             "colorbar": {
              "outlinewidth": 0,
              "ticks": ""
             }
            },
            "type": "scattergl"
           }
          ],
          "scattermapbox": [
           {
            "marker": {
             "colorbar": {
              "outlinewidth": 0,
              "ticks": ""
             }
            },
            "type": "scattermapbox"
           }
          ],
          "scatterpolar": [
           {
            "marker": {
             "colorbar": {
              "outlinewidth": 0,
              "ticks": ""
             }
            },
            "type": "scatterpolar"
           }
          ],
          "scatterpolargl": [
           {
            "marker": {
             "colorbar": {
              "outlinewidth": 0,
              "ticks": ""
             }
            },
            "type": "scatterpolargl"
           }
          ],
          "scatterternary": [
           {
            "marker": {
             "colorbar": {
              "outlinewidth": 0,
              "ticks": ""
             }
            },
            "type": "scatterternary"
           }
          ],
          "surface": [
           {
            "colorbar": {
             "outlinewidth": 0,
             "ticks": ""
            },
            "colorscale": [
             [
              0,
              "#0d0887"
             ],
             [
              0.1111111111111111,
              "#46039f"
             ],
             [
              0.2222222222222222,
              "#7201a8"
             ],
             [
              0.3333333333333333,
              "#9c179e"
             ],
             [
              0.4444444444444444,
              "#bd3786"
             ],
             [
              0.5555555555555556,
              "#d8576b"
             ],
             [
              0.6666666666666666,
              "#ed7953"
             ],
             [
              0.7777777777777778,
              "#fb9f3a"
             ],
             [
              0.8888888888888888,
              "#fdca26"
             ],
             [
              1,
              "#f0f921"
             ]
            ],
            "type": "surface"
           }
          ],
          "table": [
           {
            "cells": {
             "fill": {
              "color": "#EBF0F8"
             },
             "line": {
              "color": "white"
             }
            },
            "header": {
             "fill": {
              "color": "#C8D4E3"
             },
             "line": {
              "color": "white"
             }
            },
            "type": "table"
           }
          ]
         },
         "layout": {
          "annotationdefaults": {
           "arrowcolor": "#2a3f5f",
           "arrowhead": 0,
           "arrowwidth": 1
          },
          "autotypenumbers": "strict",
          "coloraxis": {
           "colorbar": {
            "outlinewidth": 0,
            "ticks": ""
           }
          },
          "colorscale": {
           "diverging": [
            [
             0,
             "#8e0152"
            ],
            [
             0.1,
             "#c51b7d"
            ],
            [
             0.2,
             "#de77ae"
            ],
            [
             0.3,
             "#f1b6da"
            ],
            [
             0.4,
             "#fde0ef"
            ],
            [
             0.5,
             "#f7f7f7"
            ],
            [
             0.6,
             "#e6f5d0"
            ],
            [
             0.7,
             "#b8e186"
            ],
            [
             0.8,
             "#7fbc41"
            ],
            [
             0.9,
             "#4d9221"
            ],
            [
             1,
             "#276419"
            ]
           ],
           "sequential": [
            [
             0,
             "#0d0887"
            ],
            [
             0.1111111111111111,
             "#46039f"
            ],
            [
             0.2222222222222222,
             "#7201a8"
            ],
            [
             0.3333333333333333,
             "#9c179e"
            ],
            [
             0.4444444444444444,
             "#bd3786"
            ],
            [
             0.5555555555555556,
             "#d8576b"
            ],
            [
             0.6666666666666666,
             "#ed7953"
            ],
            [
             0.7777777777777778,
             "#fb9f3a"
            ],
            [
             0.8888888888888888,
             "#fdca26"
            ],
            [
             1,
             "#f0f921"
            ]
           ],
           "sequentialminus": [
            [
             0,
             "#0d0887"
            ],
            [
             0.1111111111111111,
             "#46039f"
            ],
            [
             0.2222222222222222,
             "#7201a8"
            ],
            [
             0.3333333333333333,
             "#9c179e"
            ],
            [
             0.4444444444444444,
             "#bd3786"
            ],
            [
             0.5555555555555556,
             "#d8576b"
            ],
            [
             0.6666666666666666,
             "#ed7953"
            ],
            [
             0.7777777777777778,
             "#fb9f3a"
            ],
            [
             0.8888888888888888,
             "#fdca26"
            ],
            [
             1,
             "#f0f921"
            ]
           ]
          },
          "colorway": [
           "#636efa",
           "#EF553B",
           "#00cc96",
           "#ab63fa",
           "#FFA15A",
           "#19d3f3",
           "#FF6692",
           "#B6E880",
           "#FF97FF",
           "#FECB52"
          ],
          "font": {
           "color": "#2a3f5f"
          },
          "geo": {
           "bgcolor": "white",
           "lakecolor": "white",
           "landcolor": "#E5ECF6",
           "showlakes": true,
           "showland": true,
           "subunitcolor": "white"
          },
          "hoverlabel": {
           "align": "left"
          },
          "hovermode": "closest",
          "mapbox": {
           "style": "light"
          },
          "paper_bgcolor": "white",
          "plot_bgcolor": "#E5ECF6",
          "polar": {
           "angularaxis": {
            "gridcolor": "white",
            "linecolor": "white",
            "ticks": ""
           },
           "bgcolor": "#E5ECF6",
           "radialaxis": {
            "gridcolor": "white",
            "linecolor": "white",
            "ticks": ""
           }
          },
          "scene": {
           "xaxis": {
            "backgroundcolor": "#E5ECF6",
            "gridcolor": "white",
            "gridwidth": 2,
            "linecolor": "white",
            "showbackground": true,
            "ticks": "",
            "zerolinecolor": "white"
           },
           "yaxis": {
            "backgroundcolor": "#E5ECF6",
            "gridcolor": "white",
            "gridwidth": 2,
            "linecolor": "white",
            "showbackground": true,
            "ticks": "",
            "zerolinecolor": "white"
           },
           "zaxis": {
            "backgroundcolor": "#E5ECF6",
            "gridcolor": "white",
            "gridwidth": 2,
            "linecolor": "white",
            "showbackground": true,
            "ticks": "",
            "zerolinecolor": "white"
           }
          },
          "shapedefaults": {
           "line": {
            "color": "#2a3f5f"
           }
          },
          "ternary": {
           "aaxis": {
            "gridcolor": "white",
            "linecolor": "white",
            "ticks": ""
           },
           "baxis": {
            "gridcolor": "white",
            "linecolor": "white",
            "ticks": ""
           },
           "bgcolor": "#E5ECF6",
           "caxis": {
            "gridcolor": "white",
            "linecolor": "white",
            "ticks": ""
           }
          },
          "title": {
           "x": 0.05
          },
          "xaxis": {
           "automargin": true,
           "gridcolor": "white",
           "linecolor": "white",
           "ticks": "",
           "title": {
            "standoff": 15
           },
           "zerolinecolor": "white",
           "zerolinewidth": 2
          },
          "yaxis": {
           "automargin": true,
           "gridcolor": "white",
           "linecolor": "white",
           "ticks": "",
           "title": {
            "standoff": 15
           },
           "zerolinecolor": "white",
           "zerolinewidth": 2
          }
         }
        },
        "title": {
         "font": {
          "color": "#4D5663"
         }
        },
        "xaxis": {
         "anchor": "y",
         "domain": [
          0,
          0.2125
         ],
         "gridcolor": "#E1E5ED",
         "showgrid": false,
         "tickfont": {
          "color": "#4D5663"
         },
         "title": {
          "font": {
           "color": "#4D5663"
          },
          "text": ""
         },
         "zerolinecolor": "#E1E5ED"
        },
        "xaxis10": {
         "anchor": "y10",
         "domain": [
          0.2625,
          0.475
         ],
         "gridcolor": "#E1E5ED",
         "showgrid": false,
         "tickfont": {
          "color": "#4D5663"
         },
         "title": {
          "font": {
           "color": "#4D5663"
          },
          "text": ""
         },
         "zerolinecolor": "#E1E5ED"
        },
        "xaxis11": {
         "anchor": "y11",
         "domain": [
          0.525,
          0.7375
         ],
         "gridcolor": "#E1E5ED",
         "showgrid": false,
         "tickfont": {
          "color": "#4D5663"
         },
         "title": {
          "font": {
           "color": "#4D5663"
          },
          "text": ""
         },
         "zerolinecolor": "#E1E5ED"
        },
        "xaxis12": {
         "anchor": "y12",
         "domain": [
          0.7875,
          1
         ],
         "gridcolor": "#E1E5ED",
         "showgrid": false,
         "tickfont": {
          "color": "#4D5663"
         },
         "title": {
          "font": {
           "color": "#4D5663"
          },
          "text": ""
         },
         "zerolinecolor": "#E1E5ED"
        },
        "xaxis13": {
         "anchor": "y13",
         "domain": [
          0,
          0.2125
         ],
         "gridcolor": "#E1E5ED",
         "showgrid": false,
         "tickfont": {
          "color": "#4D5663"
         },
         "title": {
          "font": {
           "color": "#4D5663"
          },
          "text": ""
         },
         "zerolinecolor": "#E1E5ED"
        },
        "xaxis14": {
         "anchor": "y14",
         "domain": [
          0.2625,
          0.475
         ],
         "gridcolor": "#E1E5ED",
         "showgrid": false,
         "tickfont": {
          "color": "#4D5663"
         },
         "title": {
          "font": {
           "color": "#4D5663"
          },
          "text": ""
         },
         "zerolinecolor": "#E1E5ED"
        },
        "xaxis15": {
         "anchor": "y15",
         "domain": [
          0.525,
          0.7375
         ],
         "gridcolor": "#E1E5ED",
         "showgrid": false,
         "tickfont": {
          "color": "#4D5663"
         },
         "title": {
          "font": {
           "color": "#4D5663"
          },
          "text": ""
         },
         "zerolinecolor": "#E1E5ED"
        },
        "xaxis16": {
         "anchor": "y16",
         "domain": [
          0.7875,
          1
         ],
         "gridcolor": "#E1E5ED",
         "showgrid": false,
         "tickfont": {
          "color": "#4D5663"
         },
         "title": {
          "font": {
           "color": "#4D5663"
          },
          "text": ""
         },
         "zerolinecolor": "#E1E5ED"
        },
        "xaxis2": {
         "anchor": "y2",
         "domain": [
          0.2625,
          0.475
         ],
         "gridcolor": "#E1E5ED",
         "showgrid": false,
         "tickfont": {
          "color": "#4D5663"
         },
         "title": {
          "font": {
           "color": "#4D5663"
          },
          "text": ""
         },
         "zerolinecolor": "#E1E5ED"
        },
        "xaxis3": {
         "anchor": "y3",
         "domain": [
          0.525,
          0.7375
         ],
         "gridcolor": "#E1E5ED",
         "showgrid": false,
         "tickfont": {
          "color": "#4D5663"
         },
         "title": {
          "font": {
           "color": "#4D5663"
          },
          "text": ""
         },
         "zerolinecolor": "#E1E5ED"
        },
        "xaxis4": {
         "anchor": "y4",
         "domain": [
          0.7875,
          1
         ],
         "gridcolor": "#E1E5ED",
         "showgrid": false,
         "tickfont": {
          "color": "#4D5663"
         },
         "title": {
          "font": {
           "color": "#4D5663"
          },
          "text": ""
         },
         "zerolinecolor": "#E1E5ED"
        },
        "xaxis5": {
         "anchor": "y5",
         "domain": [
          0,
          0.2125
         ],
         "gridcolor": "#E1E5ED",
         "showgrid": false,
         "tickfont": {
          "color": "#4D5663"
         },
         "title": {
          "font": {
           "color": "#4D5663"
          },
          "text": ""
         },
         "zerolinecolor": "#E1E5ED"
        },
        "xaxis6": {
         "anchor": "y6",
         "domain": [
          0.2625,
          0.475
         ],
         "gridcolor": "#E1E5ED",
         "showgrid": false,
         "tickfont": {
          "color": "#4D5663"
         },
         "title": {
          "font": {
           "color": "#4D5663"
          },
          "text": ""
         },
         "zerolinecolor": "#E1E5ED"
        },
        "xaxis7": {
         "anchor": "y7",
         "domain": [
          0.525,
          0.7375
         ],
         "gridcolor": "#E1E5ED",
         "showgrid": false,
         "tickfont": {
          "color": "#4D5663"
         },
         "title": {
          "font": {
           "color": "#4D5663"
          },
          "text": ""
         },
         "zerolinecolor": "#E1E5ED"
        },
        "xaxis8": {
         "anchor": "y8",
         "domain": [
          0.7875,
          1
         ],
         "gridcolor": "#E1E5ED",
         "showgrid": false,
         "tickfont": {
          "color": "#4D5663"
         },
         "title": {
          "font": {
           "color": "#4D5663"
          },
          "text": ""
         },
         "zerolinecolor": "#E1E5ED"
        },
        "xaxis9": {
         "anchor": "y9",
         "domain": [
          0,
          0.2125
         ],
         "gridcolor": "#E1E5ED",
         "showgrid": false,
         "tickfont": {
          "color": "#4D5663"
         },
         "title": {
          "font": {
           "color": "#4D5663"
          },
          "text": ""
         },
         "zerolinecolor": "#E1E5ED"
        },
        "yaxis": {
         "anchor": "x",
         "domain": [
          0.8025,
          1
         ],
         "gridcolor": "#E1E5ED",
         "showgrid": false,
         "tickfont": {
          "color": "#4D5663"
         },
         "title": {
          "font": {
           "color": "#4D5663"
          },
          "text": ""
         },
         "zerolinecolor": "#E1E5ED"
        },
        "yaxis10": {
         "anchor": "x10",
         "domain": [
          0.2675,
          0.465
         ],
         "gridcolor": "#E1E5ED",
         "showgrid": false,
         "tickfont": {
          "color": "#4D5663"
         },
         "title": {
          "font": {
           "color": "#4D5663"
          },
          "text": ""
         },
         "zerolinecolor": "#E1E5ED"
        },
        "yaxis11": {
         "anchor": "x11",
         "domain": [
          0.2675,
          0.465
         ],
         "gridcolor": "#E1E5ED",
         "showgrid": false,
         "tickfont": {
          "color": "#4D5663"
         },
         "title": {
          "font": {
           "color": "#4D5663"
          },
          "text": ""
         },
         "zerolinecolor": "#E1E5ED"
        },
        "yaxis12": {
         "anchor": "x12",
         "domain": [
          0.2675,
          0.465
         ],
         "gridcolor": "#E1E5ED",
         "showgrid": false,
         "tickfont": {
          "color": "#4D5663"
         },
         "title": {
          "font": {
           "color": "#4D5663"
          },
          "text": ""
         },
         "zerolinecolor": "#E1E5ED"
        },
        "yaxis13": {
         "anchor": "x13",
         "domain": [
          0,
          0.1975
         ],
         "gridcolor": "#E1E5ED",
         "showgrid": false,
         "tickfont": {
          "color": "#4D5663"
         },
         "title": {
          "font": {
           "color": "#4D5663"
          },
          "text": ""
         },
         "zerolinecolor": "#E1E5ED"
        },
        "yaxis14": {
         "anchor": "x14",
         "domain": [
          0,
          0.1975
         ],
         "gridcolor": "#E1E5ED",
         "showgrid": false,
         "tickfont": {
          "color": "#4D5663"
         },
         "title": {
          "font": {
           "color": "#4D5663"
          },
          "text": ""
         },
         "zerolinecolor": "#E1E5ED"
        },
        "yaxis15": {
         "anchor": "x15",
         "domain": [
          0,
          0.1975
         ],
         "gridcolor": "#E1E5ED",
         "showgrid": false,
         "tickfont": {
          "color": "#4D5663"
         },
         "title": {
          "font": {
           "color": "#4D5663"
          },
          "text": ""
         },
         "zerolinecolor": "#E1E5ED"
        },
        "yaxis16": {
         "anchor": "x16",
         "domain": [
          0,
          0.1975
         ],
         "gridcolor": "#E1E5ED",
         "showgrid": false,
         "tickfont": {
          "color": "#4D5663"
         },
         "title": {
          "font": {
           "color": "#4D5663"
          },
          "text": ""
         },
         "zerolinecolor": "#E1E5ED"
        },
        "yaxis2": {
         "anchor": "x2",
         "domain": [
          0.8025,
          1
         ],
         "gridcolor": "#E1E5ED",
         "showgrid": false,
         "tickfont": {
          "color": "#4D5663"
         },
         "title": {
          "font": {
           "color": "#4D5663"
          },
          "text": ""
         },
         "zerolinecolor": "#E1E5ED"
        },
        "yaxis3": {
         "anchor": "x3",
         "domain": [
          0.8025,
          1
         ],
         "gridcolor": "#E1E5ED",
         "showgrid": false,
         "tickfont": {
          "color": "#4D5663"
         },
         "title": {
          "font": {
           "color": "#4D5663"
          },
          "text": ""
         },
         "zerolinecolor": "#E1E5ED"
        },
        "yaxis4": {
         "anchor": "x4",
         "domain": [
          0.8025,
          1
         ],
         "gridcolor": "#E1E5ED",
         "showgrid": false,
         "tickfont": {
          "color": "#4D5663"
         },
         "title": {
          "font": {
           "color": "#4D5663"
          },
          "text": ""
         },
         "zerolinecolor": "#E1E5ED"
        },
        "yaxis5": {
         "anchor": "x5",
         "domain": [
          0.535,
          0.7325
         ],
         "gridcolor": "#E1E5ED",
         "showgrid": false,
         "tickfont": {
          "color": "#4D5663"
         },
         "title": {
          "font": {
           "color": "#4D5663"
          },
          "text": ""
         },
         "zerolinecolor": "#E1E5ED"
        },
        "yaxis6": {
         "anchor": "x6",
         "domain": [
          0.535,
          0.7325
         ],
         "gridcolor": "#E1E5ED",
         "showgrid": false,
         "tickfont": {
          "color": "#4D5663"
         },
         "title": {
          "font": {
           "color": "#4D5663"
          },
          "text": ""
         },
         "zerolinecolor": "#E1E5ED"
        },
        "yaxis7": {
         "anchor": "x7",
         "domain": [
          0.535,
          0.7325
         ],
         "gridcolor": "#E1E5ED",
         "showgrid": false,
         "tickfont": {
          "color": "#4D5663"
         },
         "title": {
          "font": {
           "color": "#4D5663"
          },
          "text": ""
         },
         "zerolinecolor": "#E1E5ED"
        },
        "yaxis8": {
         "anchor": "x8",
         "domain": [
          0.535,
          0.7325
         ],
         "gridcolor": "#E1E5ED",
         "showgrid": false,
         "tickfont": {
          "color": "#4D5663"
         },
         "title": {
          "font": {
           "color": "#4D5663"
          },
          "text": ""
         },
         "zerolinecolor": "#E1E5ED"
        },
        "yaxis9": {
         "anchor": "x9",
         "domain": [
          0.2675,
          0.465
         ],
         "gridcolor": "#E1E5ED",
         "showgrid": false,
         "tickfont": {
          "color": "#4D5663"
         },
         "title": {
          "font": {
           "color": "#4D5663"
          },
          "text": ""
         },
         "zerolinecolor": "#E1E5ED"
        }
       }
      },
      "text/html": [
       "<div>                            <div id=\"dcced903-7ba9-41a8-852d-aac959495f0c\" class=\"plotly-graph-div\" style=\"height:525px; width:100%;\"></div>            <script type=\"text/javascript\">                require([\"plotly\"], function(Plotly) {                    window.PLOTLYENV=window.PLOTLYENV || {};\n",
       "                    window.PLOTLYENV.BASE_URL='https://plot.ly';                                    if (document.getElementById(\"dcced903-7ba9-41a8-852d-aac959495f0c\")) {                    Plotly.newPlot(                        \"dcced903-7ba9-41a8-852d-aac959495f0c\",                        [{\"histfunc\":\"count\",\"histnorm\":\"\",\"marker\":{\"color\":\"rgba(255, 153, 51, 1.0)\",\"line\":{\"color\":\"#4D5663\",\"width\":1.3}},\"name\":\"A\",\"nbinsx\":10,\"opacity\":0.8,\"orientation\":\"v\",\"x\":[-1.01612056617424,-0.7350362729323395,-0.6122344159390835,-1.0027127217759482,0.6411615685148131,0.47054386141649224,-0.3547328503486203,0.5313897386555986,0.04005341849319595,0.4423853922330872,1.3453508268296637,0.46001510288976716,-1.0939154713762969,-0.9852507089728771,1.1842337940231193,0.035400627751505785,-0.8882653234232453,-1.5314639222981914,-0.5498478145222545,-1.1084877212359212,0.3566775880042968,-1.7659823693479608,0.6590213829373882,0.5101739140474232,1.0131382954891477,0.46360951537076245,-2.2895716540127333,0.922733121512306,-2.557030031114763,1.128622390956555,1.1549251499099884,2.01391053886995,-0.2611627431791524,-0.5147868612849658,-2.431060922279289,-0.7672583181291373,-2.298902785100592,-0.8083345255784181,0.2687189200294319,-2.4985563849216605,-1.2763984060165428,0.14579832380677238,2.315288436192335,-0.3540222252792673,0.29763132128657227,-1.1886877350578477,0.017012621121949425,-0.6808860648653475,0.757493784133554,0.9915664549970045,-0.6397343935683023,0.3180139455896008,-0.35297824713507286,0.6286073348907657,-1.6798064798568504,-0.4133960959978084,1.5336438528557266,1.342908308677851,-1.995429266989642,-2.0367965458065433,0.9181910529018176,0.14209313446350563,2.4097474856859527,-0.6500226963721444,-0.8030245972209434,0.4116989497641564,-1.6143766990106465,-1.3296246735863992,0.9626011835038869,-0.3121778998549928,1.2895010214892222,-1.0644429806679216,-0.43004607122671684,0.31809623885438454,0.20556538045975117,0.04770613444546337,-0.13348555070784276,0.6252789967721484,-0.9167494564573351,-0.5693928827515384,1.6882142715481718,-0.6760197956265165,0.5898625141551448,-0.3019476665041306,0.8194331535066512,-0.7596131374449068,-0.8442062612221812,0.854585534391039,0.7623074263995253,0.10715856200218632,0.15854307897790754,0.057867767618876104,-1.4590132144587633,-0.48774141554444655,-0.3489465166930348,-0.06395183331789477,-0.7910192977047932,1.1702435224480037,0.5174062815181917,1.7966086539091877],\"xaxis\":\"x\",\"yaxis\":\"y\",\"type\":\"histogram\"},{\"line\":{\"color\":\"rgba(128, 128, 128, 1.0)\",\"dash\":\"solid\",\"shape\":\"linear\",\"width\":1.3},\"marker\":{\"size\":2,\"symbol\":\"circle\"},\"mode\":\"markers\",\"name\":\"A\",\"text\":\"\",\"x\":[0.04946243330921958,-0.21132604191476,0.6315648277657439,-0.2584149395608338,-0.7523781847700044,1.2036525985939475,1.5495270140700883,0.09388496280413158,0.6997786499037146,-0.3630767395314691,1.8035882864392776,-0.6165594656592737,-0.9133420425190572,-0.07494822915660578,1.6863632081187285,-0.8135841746988001,-2.2015339463447927,-0.5210705046298467,0.9931310157868933,-1.1788053040677775,0.4226878840678489,0.7620650913636373,0.4989719487748791,-0.29798089927771654,0.2771439125581732,-0.5030937366783972,0.7034719713030996,-0.20973141098206116,-0.4412309369018713,-0.7485023553513923,0.19238228302486748,-0.3708395873401066,-0.25058735661040316,1.036202159912558,0.8898810118851016,-1.7452658734895148,-1.4235741391628185,-0.09207445941181541,0.05841692620138342,0.46591123520293437,-0.1524612274278734,0.7233984671915831,-0.357923332044167,-1.1153763934433358,-0.2223040125890945,0.6595987896207895,0.5275433167892178,0.6584811824382639,2.2224229570487117,-1.3022257562225927,0.6056946733996742,0.24738080469115548,1.0835798935157153,-0.34865061041761286,-0.14303663912040115,-0.5147841826477608,-1.5812753045414707,-0.9095389887382777,1.5473046018191206,0.08122797413360627,0.47490406799778706,-0.0774872345388296,0.4187426230132602,-0.44390492481183186,0.14871712550684457,0.17021161666783424,-0.9966266046835445,0.46425669947797965,-0.5295787352175079,-0.10922776874770161,0.05944356627727255,-0.9970150259075684,0.016713690916964615,-0.05186881568918861,-0.14750481876005553,1.1531289175785948,0.12147888548895808,1.4102170667598528,0.6486462127483743,2.4073582123624764,0.0050238434293378475,2.2466453680516745,1.3731646950215053,0.0481656177837051,0.4885989141516805,-1.1003903195942977,0.9872266674469901,-1.306625795959791,-0.9450950182267314,1.3020625393122665,1.1061683763695591,-1.3645015526517559,-0.19503219559189425,0.08502098989088742,-1.3047539944220343,-1.1268790001891036,0.05680571626761626,-0.2607909597711796,0.4579837458629166,0.8708816973815268],\"xaxis\":\"x2\",\"y\":[-1.01612056617424,-0.7350362729323395,-0.6122344159390835,-1.0027127217759482,0.6411615685148131,0.47054386141649224,-0.3547328503486203,0.5313897386555986,0.04005341849319595,0.4423853922330872,1.3453508268296637,0.46001510288976716,-1.0939154713762969,-0.9852507089728771,1.1842337940231193,0.035400627751505785,-0.8882653234232453,-1.5314639222981914,-0.5498478145222545,-1.1084877212359212,0.3566775880042968,-1.7659823693479608,0.6590213829373882,0.5101739140474232,1.0131382954891477,0.46360951537076245,-2.2895716540127333,0.922733121512306,-2.557030031114763,1.128622390956555,1.1549251499099884,2.01391053886995,-0.2611627431791524,-0.5147868612849658,-2.431060922279289,-0.7672583181291373,-2.298902785100592,-0.8083345255784181,0.2687189200294319,-2.4985563849216605,-1.2763984060165428,0.14579832380677238,2.315288436192335,-0.3540222252792673,0.29763132128657227,-1.1886877350578477,0.017012621121949425,-0.6808860648653475,0.757493784133554,0.9915664549970045,-0.6397343935683023,0.3180139455896008,-0.35297824713507286,0.6286073348907657,-1.6798064798568504,-0.4133960959978084,1.5336438528557266,1.342908308677851,-1.995429266989642,-2.0367965458065433,0.9181910529018176,0.14209313446350563,2.4097474856859527,-0.6500226963721444,-0.8030245972209434,0.4116989497641564,-1.6143766990106465,-1.3296246735863992,0.9626011835038869,-0.3121778998549928,1.2895010214892222,-1.0644429806679216,-0.43004607122671684,0.31809623885438454,0.20556538045975117,0.04770613444546337,-0.13348555070784276,0.6252789967721484,-0.9167494564573351,-0.5693928827515384,1.6882142715481718,-0.6760197956265165,0.5898625141551448,-0.3019476665041306,0.8194331535066512,-0.7596131374449068,-0.8442062612221812,0.854585534391039,0.7623074263995253,0.10715856200218632,0.15854307897790754,0.057867767618876104,-1.4590132144587633,-0.48774141554444655,-0.3489465166930348,-0.06395183331789477,-0.7910192977047932,1.1702435224480037,0.5174062815181917,1.7966086539091877],\"yaxis\":\"y2\",\"type\":\"scatter\"},{\"line\":{\"color\":\"rgba(128, 128, 128, 1.0)\",\"dash\":\"solid\",\"shape\":\"linear\",\"width\":1.3},\"marker\":{\"size\":2,\"symbol\":\"circle\"},\"mode\":\"markers\",\"name\":\"A\",\"text\":\"\",\"x\":[0.29128822060452075,-0.34675246124588593,-0.8239520856994764,0.9325908474482736,0.04555954830030968,0.7296617965758313,1.9452925775967864,-0.44979560274384567,1.008882987184342,1.1068767786815568,-2.687867334175248,-0.4240605690659418,-0.22477582306298607,-0.5617342698364136,1.2598779948999075,-0.3289610254365226,0.17183415578157693,1.0797994676045914,1.6350539781526663,0.5294717657829981,-0.820409246327209,-1.8287884762751394,-1.1100744065193182,-0.21049619059000046,-2.0575160867358857,0.10145437357003513,0.05565368786865495,0.01710904885611498,0.6308164755755504,0.5038133183077029,0.1413174796487205,0.13615057090573615,-1.0112097798958992,1.169123418868459,0.7139556974163471,-1.3804201857307676,1.223035901499533,-0.9623966082082231,0.28367800203932203,-0.007209513035779408,-1.6946197646560544,-2.275170583470957,0.3926444206345502,0.5101032570146573,-0.3058516542416622,-1.5051744118713253,0.452631293245817,-1.141875420604568,0.7335530967114621,0.5032010541817685,0.8705550767119008,1.2754244107993455,-0.2260814936353175,-1.3522628323630903,-1.6106082001816482,0.24514242585806761,-0.9995733520311209,-0.9904918403778555,1.543743138688734,1.1754047929978448,-0.648748526535667,0.09616125983872748,-0.4070432567585623,-0.7801898622000515,2.6529950694333433,-0.09569159378482524,0.866207445204174,-0.7650679535314233,0.9322263672311765,0.8794587318446175,0.10394529740374533,-1.0239749774939972,0.4215258414130003,1.2538161699945727,0.7874060019265796,-1.7003209126037822,-1.1521457199490857,0.5733378288528491,0.16972737314337139,-1.7493956973479874,1.3650550327369093,-2.079401643863644,-1.0307419731250669,1.5053197479933909,-0.3771638020019979,0.9895389453563214,0.8849704575908484,-1.2089136368090514,0.5118937303698903,0.19790675326615592,-1.320409366001389,0.07693516060071948,-0.48002931456839454,0.5750147878958962,0.8493867148750148,0.2672032953593373,0.19818787052487022,1.1499576573610855,-0.7584269268215001,1.0566219249360704],\"xaxis\":\"x3\",\"y\":[-1.01612056617424,-0.7350362729323395,-0.6122344159390835,-1.0027127217759482,0.6411615685148131,0.47054386141649224,-0.3547328503486203,0.5313897386555986,0.04005341849319595,0.4423853922330872,1.3453508268296637,0.46001510288976716,-1.0939154713762969,-0.9852507089728771,1.1842337940231193,0.035400627751505785,-0.8882653234232453,-1.5314639222981914,-0.5498478145222545,-1.1084877212359212,0.3566775880042968,-1.7659823693479608,0.6590213829373882,0.5101739140474232,1.0131382954891477,0.46360951537076245,-2.2895716540127333,0.922733121512306,-2.557030031114763,1.128622390956555,1.1549251499099884,2.01391053886995,-0.2611627431791524,-0.5147868612849658,-2.431060922279289,-0.7672583181291373,-2.298902785100592,-0.8083345255784181,0.2687189200294319,-2.4985563849216605,-1.2763984060165428,0.14579832380677238,2.315288436192335,-0.3540222252792673,0.29763132128657227,-1.1886877350578477,0.017012621121949425,-0.6808860648653475,0.757493784133554,0.9915664549970045,-0.6397343935683023,0.3180139455896008,-0.35297824713507286,0.6286073348907657,-1.6798064798568504,-0.4133960959978084,1.5336438528557266,1.342908308677851,-1.995429266989642,-2.0367965458065433,0.9181910529018176,0.14209313446350563,2.4097474856859527,-0.6500226963721444,-0.8030245972209434,0.4116989497641564,-1.6143766990106465,-1.3296246735863992,0.9626011835038869,-0.3121778998549928,1.2895010214892222,-1.0644429806679216,-0.43004607122671684,0.31809623885438454,0.20556538045975117,0.04770613444546337,-0.13348555070784276,0.6252789967721484,-0.9167494564573351,-0.5693928827515384,1.6882142715481718,-0.6760197956265165,0.5898625141551448,-0.3019476665041306,0.8194331535066512,-0.7596131374449068,-0.8442062612221812,0.854585534391039,0.7623074263995253,0.10715856200218632,0.15854307897790754,0.057867767618876104,-1.4590132144587633,-0.48774141554444655,-0.3489465166930348,-0.06395183331789477,-0.7910192977047932,1.1702435224480037,0.5174062815181917,1.7966086539091877],\"yaxis\":\"y3\",\"type\":\"scatter\"},{\"line\":{\"color\":\"rgba(128, 128, 128, 1.0)\",\"dash\":\"solid\",\"shape\":\"linear\",\"width\":1.3},\"marker\":{\"size\":2,\"symbol\":\"circle\"},\"mode\":\"markers\",\"name\":\"A\",\"text\":\"\",\"x\":[2.5085403575952228,1.3620525578462024,1.2037944813268016,0.5390699124479531,-0.48937548762433014,-0.8085551762154972,-0.06912080017363299,0.91496595824098,1.9362899010014867,0.36151561946920985,-0.4890599241366745,-1.377459762090564,1.7179326174823142,0.292595917759522,-0.5068577680930758,-0.2863126669185321,-1.2947136281281906,0.11623638635477869,-0.3764161859870284,-0.291462375122428,-0.5334869385761226,0.3080562525145197,0.9254807389966953,1.324175154006813,-0.048959228135124475,-0.16561653439761878,-1.016191371305794,-0.023648518005337543,1.3126746233713864,0.14494538846889726,0.4138684801016723,0.8063544358353624,-0.36621987762882846,-1.1003803112890878,0.14198463730413938,-0.6770454194249176,-0.5251163741355072,-0.3441676404532498,-0.7590394756347026,-0.7920676431770391,-1.7661355672118861,-0.8753043924015457,1.2511336586412578,0.7105421381602662,-0.6305835837627869,1.1632875994340515,1.8445282537945673,0.19842151309913506,1.2555356113643752,-0.29657610826010455,0.5971114838292324,0.48249024719443,-1.1275553659577418,0.7419582445360282,-0.9635630316645241,0.5300457865852393,-0.8560947423402251,-0.43546469666016036,2.0726883359946893,0.2588538153108212,1.5522085216563497,-0.16529277787715754,0.32910365142865333,-0.43679916523903967,-2.496342135705281,0.26855794249261566,0.02926256377050376,0.781913658043812,2.043825007111145,-0.3843954721203642,0.8221845657096681,-0.379881433361661,-1.891194289844845,1.277395964920159,1.5895913561398598,-0.4540455974758202,-1.2173971625051407,0.03653505781905163,0.3633780546671515,0.7609551657460955,-1.639179864710315,1.2252574610550706,0.6519954613010057,1.4725903172278783,-0.2622688439279781,0.6096536719811665,-0.422575490770398,-0.09854588779515547,-1.0424776450648656,0.16069570932375873,-0.5374263914376675,-1.6426817857852867,0.48747103924875623,0.8425979111413715,-1.3642014387321486,-0.3175126650784575,1.3405864248043484,-0.2995049665427331,-0.1939858961705063,0.8011866677814314],\"xaxis\":\"x4\",\"y\":[-1.01612056617424,-0.7350362729323395,-0.6122344159390835,-1.0027127217759482,0.6411615685148131,0.47054386141649224,-0.3547328503486203,0.5313897386555986,0.04005341849319595,0.4423853922330872,1.3453508268296637,0.46001510288976716,-1.0939154713762969,-0.9852507089728771,1.1842337940231193,0.035400627751505785,-0.8882653234232453,-1.5314639222981914,-0.5498478145222545,-1.1084877212359212,0.3566775880042968,-1.7659823693479608,0.6590213829373882,0.5101739140474232,1.0131382954891477,0.46360951537076245,-2.2895716540127333,0.922733121512306,-2.557030031114763,1.128622390956555,1.1549251499099884,2.01391053886995,-0.2611627431791524,-0.5147868612849658,-2.431060922279289,-0.7672583181291373,-2.298902785100592,-0.8083345255784181,0.2687189200294319,-2.4985563849216605,-1.2763984060165428,0.14579832380677238,2.315288436192335,-0.3540222252792673,0.29763132128657227,-1.1886877350578477,0.017012621121949425,-0.6808860648653475,0.757493784133554,0.9915664549970045,-0.6397343935683023,0.3180139455896008,-0.35297824713507286,0.6286073348907657,-1.6798064798568504,-0.4133960959978084,1.5336438528557266,1.342908308677851,-1.995429266989642,-2.0367965458065433,0.9181910529018176,0.14209313446350563,2.4097474856859527,-0.6500226963721444,-0.8030245972209434,0.4116989497641564,-1.6143766990106465,-1.3296246735863992,0.9626011835038869,-0.3121778998549928,1.2895010214892222,-1.0644429806679216,-0.43004607122671684,0.31809623885438454,0.20556538045975117,0.04770613444546337,-0.13348555070784276,0.6252789967721484,-0.9167494564573351,-0.5693928827515384,1.6882142715481718,-0.6760197956265165,0.5898625141551448,-0.3019476665041306,0.8194331535066512,-0.7596131374449068,-0.8442062612221812,0.854585534391039,0.7623074263995253,0.10715856200218632,0.15854307897790754,0.057867767618876104,-1.4590132144587633,-0.48774141554444655,-0.3489465166930348,-0.06395183331789477,-0.7910192977047932,1.1702435224480037,0.5174062815181917,1.7966086539091877],\"yaxis\":\"y4\",\"type\":\"scatter\"},{\"line\":{\"color\":\"rgba(128, 128, 128, 1.0)\",\"dash\":\"solid\",\"shape\":\"linear\",\"width\":1.3},\"marker\":{\"size\":2,\"symbol\":\"circle\"},\"mode\":\"markers\",\"name\":\"B\",\"text\":\"\",\"x\":[-1.01612056617424,-0.7350362729323395,-0.6122344159390835,-1.0027127217759482,0.6411615685148131,0.47054386141649224,-0.3547328503486203,0.5313897386555986,0.04005341849319595,0.4423853922330872,1.3453508268296637,0.46001510288976716,-1.0939154713762969,-0.9852507089728771,1.1842337940231193,0.035400627751505785,-0.8882653234232453,-1.5314639222981914,-0.5498478145222545,-1.1084877212359212,0.3566775880042968,-1.7659823693479608,0.6590213829373882,0.5101739140474232,1.0131382954891477,0.46360951537076245,-2.2895716540127333,0.922733121512306,-2.557030031114763,1.128622390956555,1.1549251499099884,2.01391053886995,-0.2611627431791524,-0.5147868612849658,-2.431060922279289,-0.7672583181291373,-2.298902785100592,-0.8083345255784181,0.2687189200294319,-2.4985563849216605,-1.2763984060165428,0.14579832380677238,2.315288436192335,-0.3540222252792673,0.29763132128657227,-1.1886877350578477,0.017012621121949425,-0.6808860648653475,0.757493784133554,0.9915664549970045,-0.6397343935683023,0.3180139455896008,-0.35297824713507286,0.6286073348907657,-1.6798064798568504,-0.4133960959978084,1.5336438528557266,1.342908308677851,-1.995429266989642,-2.0367965458065433,0.9181910529018176,0.14209313446350563,2.4097474856859527,-0.6500226963721444,-0.8030245972209434,0.4116989497641564,-1.6143766990106465,-1.3296246735863992,0.9626011835038869,-0.3121778998549928,1.2895010214892222,-1.0644429806679216,-0.43004607122671684,0.31809623885438454,0.20556538045975117,0.04770613444546337,-0.13348555070784276,0.6252789967721484,-0.9167494564573351,-0.5693928827515384,1.6882142715481718,-0.6760197956265165,0.5898625141551448,-0.3019476665041306,0.8194331535066512,-0.7596131374449068,-0.8442062612221812,0.854585534391039,0.7623074263995253,0.10715856200218632,0.15854307897790754,0.057867767618876104,-1.4590132144587633,-0.48774141554444655,-0.3489465166930348,-0.06395183331789477,-0.7910192977047932,1.1702435224480037,0.5174062815181917,1.7966086539091877],\"xaxis\":\"x5\",\"y\":[0.04946243330921958,-0.21132604191476,0.6315648277657439,-0.2584149395608338,-0.7523781847700044,1.2036525985939475,1.5495270140700883,0.09388496280413158,0.6997786499037146,-0.3630767395314691,1.8035882864392776,-0.6165594656592737,-0.9133420425190572,-0.07494822915660578,1.6863632081187285,-0.8135841746988001,-2.2015339463447927,-0.5210705046298467,0.9931310157868933,-1.1788053040677775,0.4226878840678489,0.7620650913636373,0.4989719487748791,-0.29798089927771654,0.2771439125581732,-0.5030937366783972,0.7034719713030996,-0.20973141098206116,-0.4412309369018713,-0.7485023553513923,0.19238228302486748,-0.3708395873401066,-0.25058735661040316,1.036202159912558,0.8898810118851016,-1.7452658734895148,-1.4235741391628185,-0.09207445941181541,0.05841692620138342,0.46591123520293437,-0.1524612274278734,0.7233984671915831,-0.357923332044167,-1.1153763934433358,-0.2223040125890945,0.6595987896207895,0.5275433167892178,0.6584811824382639,2.2224229570487117,-1.3022257562225927,0.6056946733996742,0.24738080469115548,1.0835798935157153,-0.34865061041761286,-0.14303663912040115,-0.5147841826477608,-1.5812753045414707,-0.9095389887382777,1.5473046018191206,0.08122797413360627,0.47490406799778706,-0.0774872345388296,0.4187426230132602,-0.44390492481183186,0.14871712550684457,0.17021161666783424,-0.9966266046835445,0.46425669947797965,-0.5295787352175079,-0.10922776874770161,0.05944356627727255,-0.9970150259075684,0.016713690916964615,-0.05186881568918861,-0.14750481876005553,1.1531289175785948,0.12147888548895808,1.4102170667598528,0.6486462127483743,2.4073582123624764,0.0050238434293378475,2.2466453680516745,1.3731646950215053,0.0481656177837051,0.4885989141516805,-1.1003903195942977,0.9872266674469901,-1.306625795959791,-0.9450950182267314,1.3020625393122665,1.1061683763695591,-1.3645015526517559,-0.19503219559189425,0.08502098989088742,-1.3047539944220343,-1.1268790001891036,0.05680571626761626,-0.2607909597711796,0.4579837458629166,0.8708816973815268],\"yaxis\":\"y5\",\"type\":\"scatter\"},{\"histfunc\":\"count\",\"histnorm\":\"\",\"marker\":{\"color\":\"rgba(55, 128, 191, 1.0)\",\"line\":{\"color\":\"#4D5663\",\"width\":1.3}},\"name\":\"B\",\"nbinsx\":10,\"opacity\":0.8,\"orientation\":\"v\",\"x\":[0.04946243330921958,-0.21132604191476,0.6315648277657439,-0.2584149395608338,-0.7523781847700044,1.2036525985939475,1.5495270140700883,0.09388496280413158,0.6997786499037146,-0.3630767395314691,1.8035882864392776,-0.6165594656592737,-0.9133420425190572,-0.07494822915660578,1.6863632081187285,-0.8135841746988001,-2.2015339463447927,-0.5210705046298467,0.9931310157868933,-1.1788053040677775,0.4226878840678489,0.7620650913636373,0.4989719487748791,-0.29798089927771654,0.2771439125581732,-0.5030937366783972,0.7034719713030996,-0.20973141098206116,-0.4412309369018713,-0.7485023553513923,0.19238228302486748,-0.3708395873401066,-0.25058735661040316,1.036202159912558,0.8898810118851016,-1.7452658734895148,-1.4235741391628185,-0.09207445941181541,0.05841692620138342,0.46591123520293437,-0.1524612274278734,0.7233984671915831,-0.357923332044167,-1.1153763934433358,-0.2223040125890945,0.6595987896207895,0.5275433167892178,0.6584811824382639,2.2224229570487117,-1.3022257562225927,0.6056946733996742,0.24738080469115548,1.0835798935157153,-0.34865061041761286,-0.14303663912040115,-0.5147841826477608,-1.5812753045414707,-0.9095389887382777,1.5473046018191206,0.08122797413360627,0.47490406799778706,-0.0774872345388296,0.4187426230132602,-0.44390492481183186,0.14871712550684457,0.17021161666783424,-0.9966266046835445,0.46425669947797965,-0.5295787352175079,-0.10922776874770161,0.05944356627727255,-0.9970150259075684,0.016713690916964615,-0.05186881568918861,-0.14750481876005553,1.1531289175785948,0.12147888548895808,1.4102170667598528,0.6486462127483743,2.4073582123624764,0.0050238434293378475,2.2466453680516745,1.3731646950215053,0.0481656177837051,0.4885989141516805,-1.1003903195942977,0.9872266674469901,-1.306625795959791,-0.9450950182267314,1.3020625393122665,1.1061683763695591,-1.3645015526517559,-0.19503219559189425,0.08502098989088742,-1.3047539944220343,-1.1268790001891036,0.05680571626761626,-0.2607909597711796,0.4579837458629166,0.8708816973815268],\"xaxis\":\"x6\",\"yaxis\":\"y6\",\"type\":\"histogram\"},{\"line\":{\"color\":\"rgba(128, 128, 128, 1.0)\",\"dash\":\"solid\",\"shape\":\"linear\",\"width\":1.3},\"marker\":{\"size\":2,\"symbol\":\"circle\"},\"mode\":\"markers\",\"name\":\"B\",\"text\":\"\",\"x\":[0.29128822060452075,-0.34675246124588593,-0.8239520856994764,0.9325908474482736,0.04555954830030968,0.7296617965758313,1.9452925775967864,-0.44979560274384567,1.008882987184342,1.1068767786815568,-2.687867334175248,-0.4240605690659418,-0.22477582306298607,-0.5617342698364136,1.2598779948999075,-0.3289610254365226,0.17183415578157693,1.0797994676045914,1.6350539781526663,0.5294717657829981,-0.820409246327209,-1.8287884762751394,-1.1100744065193182,-0.21049619059000046,-2.0575160867358857,0.10145437357003513,0.05565368786865495,0.01710904885611498,0.6308164755755504,0.5038133183077029,0.1413174796487205,0.13615057090573615,-1.0112097798958992,1.169123418868459,0.7139556974163471,-1.3804201857307676,1.223035901499533,-0.9623966082082231,0.28367800203932203,-0.007209513035779408,-1.6946197646560544,-2.275170583470957,0.3926444206345502,0.5101032570146573,-0.3058516542416622,-1.5051744118713253,0.452631293245817,-1.141875420604568,0.7335530967114621,0.5032010541817685,0.8705550767119008,1.2754244107993455,-0.2260814936353175,-1.3522628323630903,-1.6106082001816482,0.24514242585806761,-0.9995733520311209,-0.9904918403778555,1.543743138688734,1.1754047929978448,-0.648748526535667,0.09616125983872748,-0.4070432567585623,-0.7801898622000515,2.6529950694333433,-0.09569159378482524,0.866207445204174,-0.7650679535314233,0.9322263672311765,0.8794587318446175,0.10394529740374533,-1.0239749774939972,0.4215258414130003,1.2538161699945727,0.7874060019265796,-1.7003209126037822,-1.1521457199490857,0.5733378288528491,0.16972737314337139,-1.7493956973479874,1.3650550327369093,-2.079401643863644,-1.0307419731250669,1.5053197479933909,-0.3771638020019979,0.9895389453563214,0.8849704575908484,-1.2089136368090514,0.5118937303698903,0.19790675326615592,-1.320409366001389,0.07693516060071948,-0.48002931456839454,0.5750147878958962,0.8493867148750148,0.2672032953593373,0.19818787052487022,1.1499576573610855,-0.7584269268215001,1.0566219249360704],\"xaxis\":\"x7\",\"y\":[0.04946243330921958,-0.21132604191476,0.6315648277657439,-0.2584149395608338,-0.7523781847700044,1.2036525985939475,1.5495270140700883,0.09388496280413158,0.6997786499037146,-0.3630767395314691,1.8035882864392776,-0.6165594656592737,-0.9133420425190572,-0.07494822915660578,1.6863632081187285,-0.8135841746988001,-2.2015339463447927,-0.5210705046298467,0.9931310157868933,-1.1788053040677775,0.4226878840678489,0.7620650913636373,0.4989719487748791,-0.29798089927771654,0.2771439125581732,-0.5030937366783972,0.7034719713030996,-0.20973141098206116,-0.4412309369018713,-0.7485023553513923,0.19238228302486748,-0.3708395873401066,-0.25058735661040316,1.036202159912558,0.8898810118851016,-1.7452658734895148,-1.4235741391628185,-0.09207445941181541,0.05841692620138342,0.46591123520293437,-0.1524612274278734,0.7233984671915831,-0.357923332044167,-1.1153763934433358,-0.2223040125890945,0.6595987896207895,0.5275433167892178,0.6584811824382639,2.2224229570487117,-1.3022257562225927,0.6056946733996742,0.24738080469115548,1.0835798935157153,-0.34865061041761286,-0.14303663912040115,-0.5147841826477608,-1.5812753045414707,-0.9095389887382777,1.5473046018191206,0.08122797413360627,0.47490406799778706,-0.0774872345388296,0.4187426230132602,-0.44390492481183186,0.14871712550684457,0.17021161666783424,-0.9966266046835445,0.46425669947797965,-0.5295787352175079,-0.10922776874770161,0.05944356627727255,-0.9970150259075684,0.016713690916964615,-0.05186881568918861,-0.14750481876005553,1.1531289175785948,0.12147888548895808,1.4102170667598528,0.6486462127483743,2.4073582123624764,0.0050238434293378475,2.2466453680516745,1.3731646950215053,0.0481656177837051,0.4885989141516805,-1.1003903195942977,0.9872266674469901,-1.306625795959791,-0.9450950182267314,1.3020625393122665,1.1061683763695591,-1.3645015526517559,-0.19503219559189425,0.08502098989088742,-1.3047539944220343,-1.1268790001891036,0.05680571626761626,-0.2607909597711796,0.4579837458629166,0.8708816973815268],\"yaxis\":\"y7\",\"type\":\"scatter\"},{\"line\":{\"color\":\"rgba(128, 128, 128, 1.0)\",\"dash\":\"solid\",\"shape\":\"linear\",\"width\":1.3},\"marker\":{\"size\":2,\"symbol\":\"circle\"},\"mode\":\"markers\",\"name\":\"B\",\"text\":\"\",\"x\":[2.5085403575952228,1.3620525578462024,1.2037944813268016,0.5390699124479531,-0.48937548762433014,-0.8085551762154972,-0.06912080017363299,0.91496595824098,1.9362899010014867,0.36151561946920985,-0.4890599241366745,-1.377459762090564,1.7179326174823142,0.292595917759522,-0.5068577680930758,-0.2863126669185321,-1.2947136281281906,0.11623638635477869,-0.3764161859870284,-0.291462375122428,-0.5334869385761226,0.3080562525145197,0.9254807389966953,1.324175154006813,-0.048959228135124475,-0.16561653439761878,-1.016191371305794,-0.023648518005337543,1.3126746233713864,0.14494538846889726,0.4138684801016723,0.8063544358353624,-0.36621987762882846,-1.1003803112890878,0.14198463730413938,-0.6770454194249176,-0.5251163741355072,-0.3441676404532498,-0.7590394756347026,-0.7920676431770391,-1.7661355672118861,-0.8753043924015457,1.2511336586412578,0.7105421381602662,-0.6305835837627869,1.1632875994340515,1.8445282537945673,0.19842151309913506,1.2555356113643752,-0.29657610826010455,0.5971114838292324,0.48249024719443,-1.1275553659577418,0.7419582445360282,-0.9635630316645241,0.5300457865852393,-0.8560947423402251,-0.43546469666016036,2.0726883359946893,0.2588538153108212,1.5522085216563497,-0.16529277787715754,0.32910365142865333,-0.43679916523903967,-2.496342135705281,0.26855794249261566,0.02926256377050376,0.781913658043812,2.043825007111145,-0.3843954721203642,0.8221845657096681,-0.379881433361661,-1.891194289844845,1.277395964920159,1.5895913561398598,-0.4540455974758202,-1.2173971625051407,0.03653505781905163,0.3633780546671515,0.7609551657460955,-1.639179864710315,1.2252574610550706,0.6519954613010057,1.4725903172278783,-0.2622688439279781,0.6096536719811665,-0.422575490770398,-0.09854588779515547,-1.0424776450648656,0.16069570932375873,-0.5374263914376675,-1.6426817857852867,0.48747103924875623,0.8425979111413715,-1.3642014387321486,-0.3175126650784575,1.3405864248043484,-0.2995049665427331,-0.1939858961705063,0.8011866677814314],\"xaxis\":\"x8\",\"y\":[0.04946243330921958,-0.21132604191476,0.6315648277657439,-0.2584149395608338,-0.7523781847700044,1.2036525985939475,1.5495270140700883,0.09388496280413158,0.6997786499037146,-0.3630767395314691,1.8035882864392776,-0.6165594656592737,-0.9133420425190572,-0.07494822915660578,1.6863632081187285,-0.8135841746988001,-2.2015339463447927,-0.5210705046298467,0.9931310157868933,-1.1788053040677775,0.4226878840678489,0.7620650913636373,0.4989719487748791,-0.29798089927771654,0.2771439125581732,-0.5030937366783972,0.7034719713030996,-0.20973141098206116,-0.4412309369018713,-0.7485023553513923,0.19238228302486748,-0.3708395873401066,-0.25058735661040316,1.036202159912558,0.8898810118851016,-1.7452658734895148,-1.4235741391628185,-0.09207445941181541,0.05841692620138342,0.46591123520293437,-0.1524612274278734,0.7233984671915831,-0.357923332044167,-1.1153763934433358,-0.2223040125890945,0.6595987896207895,0.5275433167892178,0.6584811824382639,2.2224229570487117,-1.3022257562225927,0.6056946733996742,0.24738080469115548,1.0835798935157153,-0.34865061041761286,-0.14303663912040115,-0.5147841826477608,-1.5812753045414707,-0.9095389887382777,1.5473046018191206,0.08122797413360627,0.47490406799778706,-0.0774872345388296,0.4187426230132602,-0.44390492481183186,0.14871712550684457,0.17021161666783424,-0.9966266046835445,0.46425669947797965,-0.5295787352175079,-0.10922776874770161,0.05944356627727255,-0.9970150259075684,0.016713690916964615,-0.05186881568918861,-0.14750481876005553,1.1531289175785948,0.12147888548895808,1.4102170667598528,0.6486462127483743,2.4073582123624764,0.0050238434293378475,2.2466453680516745,1.3731646950215053,0.0481656177837051,0.4885989141516805,-1.1003903195942977,0.9872266674469901,-1.306625795959791,-0.9450950182267314,1.3020625393122665,1.1061683763695591,-1.3645015526517559,-0.19503219559189425,0.08502098989088742,-1.3047539944220343,-1.1268790001891036,0.05680571626761626,-0.2607909597711796,0.4579837458629166,0.8708816973815268],\"yaxis\":\"y8\",\"type\":\"scatter\"},{\"line\":{\"color\":\"rgba(128, 128, 128, 1.0)\",\"dash\":\"solid\",\"shape\":\"linear\",\"width\":1.3},\"marker\":{\"size\":2,\"symbol\":\"circle\"},\"mode\":\"markers\",\"name\":\"C\",\"text\":\"\",\"x\":[-1.01612056617424,-0.7350362729323395,-0.6122344159390835,-1.0027127217759482,0.6411615685148131,0.47054386141649224,-0.3547328503486203,0.5313897386555986,0.04005341849319595,0.4423853922330872,1.3453508268296637,0.46001510288976716,-1.0939154713762969,-0.9852507089728771,1.1842337940231193,0.035400627751505785,-0.8882653234232453,-1.5314639222981914,-0.5498478145222545,-1.1084877212359212,0.3566775880042968,-1.7659823693479608,0.6590213829373882,0.5101739140474232,1.0131382954891477,0.46360951537076245,-2.2895716540127333,0.922733121512306,-2.557030031114763,1.128622390956555,1.1549251499099884,2.01391053886995,-0.2611627431791524,-0.5147868612849658,-2.431060922279289,-0.7672583181291373,-2.298902785100592,-0.8083345255784181,0.2687189200294319,-2.4985563849216605,-1.2763984060165428,0.14579832380677238,2.315288436192335,-0.3540222252792673,0.29763132128657227,-1.1886877350578477,0.017012621121949425,-0.6808860648653475,0.757493784133554,0.9915664549970045,-0.6397343935683023,0.3180139455896008,-0.35297824713507286,0.6286073348907657,-1.6798064798568504,-0.4133960959978084,1.5336438528557266,1.342908308677851,-1.995429266989642,-2.0367965458065433,0.9181910529018176,0.14209313446350563,2.4097474856859527,-0.6500226963721444,-0.8030245972209434,0.4116989497641564,-1.6143766990106465,-1.3296246735863992,0.9626011835038869,-0.3121778998549928,1.2895010214892222,-1.0644429806679216,-0.43004607122671684,0.31809623885438454,0.20556538045975117,0.04770613444546337,-0.13348555070784276,0.6252789967721484,-0.9167494564573351,-0.5693928827515384,1.6882142715481718,-0.6760197956265165,0.5898625141551448,-0.3019476665041306,0.8194331535066512,-0.7596131374449068,-0.8442062612221812,0.854585534391039,0.7623074263995253,0.10715856200218632,0.15854307897790754,0.057867767618876104,-1.4590132144587633,-0.48774141554444655,-0.3489465166930348,-0.06395183331789477,-0.7910192977047932,1.1702435224480037,0.5174062815181917,1.7966086539091877],\"xaxis\":\"x9\",\"y\":[0.29128822060452075,-0.34675246124588593,-0.8239520856994764,0.9325908474482736,0.04555954830030968,0.7296617965758313,1.9452925775967864,-0.44979560274384567,1.008882987184342,1.1068767786815568,-2.687867334175248,-0.4240605690659418,-0.22477582306298607,-0.5617342698364136,1.2598779948999075,-0.3289610254365226,0.17183415578157693,1.0797994676045914,1.6350539781526663,0.5294717657829981,-0.820409246327209,-1.8287884762751394,-1.1100744065193182,-0.21049619059000046,-2.0575160867358857,0.10145437357003513,0.05565368786865495,0.01710904885611498,0.6308164755755504,0.5038133183077029,0.1413174796487205,0.13615057090573615,-1.0112097798958992,1.169123418868459,0.7139556974163471,-1.3804201857307676,1.223035901499533,-0.9623966082082231,0.28367800203932203,-0.007209513035779408,-1.6946197646560544,-2.275170583470957,0.3926444206345502,0.5101032570146573,-0.3058516542416622,-1.5051744118713253,0.452631293245817,-1.141875420604568,0.7335530967114621,0.5032010541817685,0.8705550767119008,1.2754244107993455,-0.2260814936353175,-1.3522628323630903,-1.6106082001816482,0.24514242585806761,-0.9995733520311209,-0.9904918403778555,1.543743138688734,1.1754047929978448,-0.648748526535667,0.09616125983872748,-0.4070432567585623,-0.7801898622000515,2.6529950694333433,-0.09569159378482524,0.866207445204174,-0.7650679535314233,0.9322263672311765,0.8794587318446175,0.10394529740374533,-1.0239749774939972,0.4215258414130003,1.2538161699945727,0.7874060019265796,-1.7003209126037822,-1.1521457199490857,0.5733378288528491,0.16972737314337139,-1.7493956973479874,1.3650550327369093,-2.079401643863644,-1.0307419731250669,1.5053197479933909,-0.3771638020019979,0.9895389453563214,0.8849704575908484,-1.2089136368090514,0.5118937303698903,0.19790675326615592,-1.320409366001389,0.07693516060071948,-0.48002931456839454,0.5750147878958962,0.8493867148750148,0.2672032953593373,0.19818787052487022,1.1499576573610855,-0.7584269268215001,1.0566219249360704],\"yaxis\":\"y9\",\"type\":\"scatter\"},{\"line\":{\"color\":\"rgba(128, 128, 128, 1.0)\",\"dash\":\"solid\",\"shape\":\"linear\",\"width\":1.3},\"marker\":{\"size\":2,\"symbol\":\"circle\"},\"mode\":\"markers\",\"name\":\"C\",\"text\":\"\",\"x\":[0.04946243330921958,-0.21132604191476,0.6315648277657439,-0.2584149395608338,-0.7523781847700044,1.2036525985939475,1.5495270140700883,0.09388496280413158,0.6997786499037146,-0.3630767395314691,1.8035882864392776,-0.6165594656592737,-0.9133420425190572,-0.07494822915660578,1.6863632081187285,-0.8135841746988001,-2.2015339463447927,-0.5210705046298467,0.9931310157868933,-1.1788053040677775,0.4226878840678489,0.7620650913636373,0.4989719487748791,-0.29798089927771654,0.2771439125581732,-0.5030937366783972,0.7034719713030996,-0.20973141098206116,-0.4412309369018713,-0.7485023553513923,0.19238228302486748,-0.3708395873401066,-0.25058735661040316,1.036202159912558,0.8898810118851016,-1.7452658734895148,-1.4235741391628185,-0.09207445941181541,0.05841692620138342,0.46591123520293437,-0.1524612274278734,0.7233984671915831,-0.357923332044167,-1.1153763934433358,-0.2223040125890945,0.6595987896207895,0.5275433167892178,0.6584811824382639,2.2224229570487117,-1.3022257562225927,0.6056946733996742,0.24738080469115548,1.0835798935157153,-0.34865061041761286,-0.14303663912040115,-0.5147841826477608,-1.5812753045414707,-0.9095389887382777,1.5473046018191206,0.08122797413360627,0.47490406799778706,-0.0774872345388296,0.4187426230132602,-0.44390492481183186,0.14871712550684457,0.17021161666783424,-0.9966266046835445,0.46425669947797965,-0.5295787352175079,-0.10922776874770161,0.05944356627727255,-0.9970150259075684,0.016713690916964615,-0.05186881568918861,-0.14750481876005553,1.1531289175785948,0.12147888548895808,1.4102170667598528,0.6486462127483743,2.4073582123624764,0.0050238434293378475,2.2466453680516745,1.3731646950215053,0.0481656177837051,0.4885989141516805,-1.1003903195942977,0.9872266674469901,-1.306625795959791,-0.9450950182267314,1.3020625393122665,1.1061683763695591,-1.3645015526517559,-0.19503219559189425,0.08502098989088742,-1.3047539944220343,-1.1268790001891036,0.05680571626761626,-0.2607909597711796,0.4579837458629166,0.8708816973815268],\"xaxis\":\"x10\",\"y\":[0.29128822060452075,-0.34675246124588593,-0.8239520856994764,0.9325908474482736,0.04555954830030968,0.7296617965758313,1.9452925775967864,-0.44979560274384567,1.008882987184342,1.1068767786815568,-2.687867334175248,-0.4240605690659418,-0.22477582306298607,-0.5617342698364136,1.2598779948999075,-0.3289610254365226,0.17183415578157693,1.0797994676045914,1.6350539781526663,0.5294717657829981,-0.820409246327209,-1.8287884762751394,-1.1100744065193182,-0.21049619059000046,-2.0575160867358857,0.10145437357003513,0.05565368786865495,0.01710904885611498,0.6308164755755504,0.5038133183077029,0.1413174796487205,0.13615057090573615,-1.0112097798958992,1.169123418868459,0.7139556974163471,-1.3804201857307676,1.223035901499533,-0.9623966082082231,0.28367800203932203,-0.007209513035779408,-1.6946197646560544,-2.275170583470957,0.3926444206345502,0.5101032570146573,-0.3058516542416622,-1.5051744118713253,0.452631293245817,-1.141875420604568,0.7335530967114621,0.5032010541817685,0.8705550767119008,1.2754244107993455,-0.2260814936353175,-1.3522628323630903,-1.6106082001816482,0.24514242585806761,-0.9995733520311209,-0.9904918403778555,1.543743138688734,1.1754047929978448,-0.648748526535667,0.09616125983872748,-0.4070432567585623,-0.7801898622000515,2.6529950694333433,-0.09569159378482524,0.866207445204174,-0.7650679535314233,0.9322263672311765,0.8794587318446175,0.10394529740374533,-1.0239749774939972,0.4215258414130003,1.2538161699945727,0.7874060019265796,-1.7003209126037822,-1.1521457199490857,0.5733378288528491,0.16972737314337139,-1.7493956973479874,1.3650550327369093,-2.079401643863644,-1.0307419731250669,1.5053197479933909,-0.3771638020019979,0.9895389453563214,0.8849704575908484,-1.2089136368090514,0.5118937303698903,0.19790675326615592,-1.320409366001389,0.07693516060071948,-0.48002931456839454,0.5750147878958962,0.8493867148750148,0.2672032953593373,0.19818787052487022,1.1499576573610855,-0.7584269268215001,1.0566219249360704],\"yaxis\":\"y10\",\"type\":\"scatter\"},{\"histfunc\":\"count\",\"histnorm\":\"\",\"marker\":{\"color\":\"rgba(50, 171, 96, 1.0)\",\"line\":{\"color\":\"#4D5663\",\"width\":1.3}},\"name\":\"C\",\"nbinsx\":10,\"opacity\":0.8,\"orientation\":\"v\",\"x\":[0.29128822060452075,-0.34675246124588593,-0.8239520856994764,0.9325908474482736,0.04555954830030968,0.7296617965758313,1.9452925775967864,-0.44979560274384567,1.008882987184342,1.1068767786815568,-2.687867334175248,-0.4240605690659418,-0.22477582306298607,-0.5617342698364136,1.2598779948999075,-0.3289610254365226,0.17183415578157693,1.0797994676045914,1.6350539781526663,0.5294717657829981,-0.820409246327209,-1.8287884762751394,-1.1100744065193182,-0.21049619059000046,-2.0575160867358857,0.10145437357003513,0.05565368786865495,0.01710904885611498,0.6308164755755504,0.5038133183077029,0.1413174796487205,0.13615057090573615,-1.0112097798958992,1.169123418868459,0.7139556974163471,-1.3804201857307676,1.223035901499533,-0.9623966082082231,0.28367800203932203,-0.007209513035779408,-1.6946197646560544,-2.275170583470957,0.3926444206345502,0.5101032570146573,-0.3058516542416622,-1.5051744118713253,0.452631293245817,-1.141875420604568,0.7335530967114621,0.5032010541817685,0.8705550767119008,1.2754244107993455,-0.2260814936353175,-1.3522628323630903,-1.6106082001816482,0.24514242585806761,-0.9995733520311209,-0.9904918403778555,1.543743138688734,1.1754047929978448,-0.648748526535667,0.09616125983872748,-0.4070432567585623,-0.7801898622000515,2.6529950694333433,-0.09569159378482524,0.866207445204174,-0.7650679535314233,0.9322263672311765,0.8794587318446175,0.10394529740374533,-1.0239749774939972,0.4215258414130003,1.2538161699945727,0.7874060019265796,-1.7003209126037822,-1.1521457199490857,0.5733378288528491,0.16972737314337139,-1.7493956973479874,1.3650550327369093,-2.079401643863644,-1.0307419731250669,1.5053197479933909,-0.3771638020019979,0.9895389453563214,0.8849704575908484,-1.2089136368090514,0.5118937303698903,0.19790675326615592,-1.320409366001389,0.07693516060071948,-0.48002931456839454,0.5750147878958962,0.8493867148750148,0.2672032953593373,0.19818787052487022,1.1499576573610855,-0.7584269268215001,1.0566219249360704],\"xaxis\":\"x11\",\"yaxis\":\"y11\",\"type\":\"histogram\"},{\"line\":{\"color\":\"rgba(128, 128, 128, 1.0)\",\"dash\":\"solid\",\"shape\":\"linear\",\"width\":1.3},\"marker\":{\"size\":2,\"symbol\":\"circle\"},\"mode\":\"markers\",\"name\":\"C\",\"text\":\"\",\"x\":[2.5085403575952228,1.3620525578462024,1.2037944813268016,0.5390699124479531,-0.48937548762433014,-0.8085551762154972,-0.06912080017363299,0.91496595824098,1.9362899010014867,0.36151561946920985,-0.4890599241366745,-1.377459762090564,1.7179326174823142,0.292595917759522,-0.5068577680930758,-0.2863126669185321,-1.2947136281281906,0.11623638635477869,-0.3764161859870284,-0.291462375122428,-0.5334869385761226,0.3080562525145197,0.9254807389966953,1.324175154006813,-0.048959228135124475,-0.16561653439761878,-1.016191371305794,-0.023648518005337543,1.3126746233713864,0.14494538846889726,0.4138684801016723,0.8063544358353624,-0.36621987762882846,-1.1003803112890878,0.14198463730413938,-0.6770454194249176,-0.5251163741355072,-0.3441676404532498,-0.7590394756347026,-0.7920676431770391,-1.7661355672118861,-0.8753043924015457,1.2511336586412578,0.7105421381602662,-0.6305835837627869,1.1632875994340515,1.8445282537945673,0.19842151309913506,1.2555356113643752,-0.29657610826010455,0.5971114838292324,0.48249024719443,-1.1275553659577418,0.7419582445360282,-0.9635630316645241,0.5300457865852393,-0.8560947423402251,-0.43546469666016036,2.0726883359946893,0.2588538153108212,1.5522085216563497,-0.16529277787715754,0.32910365142865333,-0.43679916523903967,-2.496342135705281,0.26855794249261566,0.02926256377050376,0.781913658043812,2.043825007111145,-0.3843954721203642,0.8221845657096681,-0.379881433361661,-1.891194289844845,1.277395964920159,1.5895913561398598,-0.4540455974758202,-1.2173971625051407,0.03653505781905163,0.3633780546671515,0.7609551657460955,-1.639179864710315,1.2252574610550706,0.6519954613010057,1.4725903172278783,-0.2622688439279781,0.6096536719811665,-0.422575490770398,-0.09854588779515547,-1.0424776450648656,0.16069570932375873,-0.5374263914376675,-1.6426817857852867,0.48747103924875623,0.8425979111413715,-1.3642014387321486,-0.3175126650784575,1.3405864248043484,-0.2995049665427331,-0.1939858961705063,0.8011866677814314],\"xaxis\":\"x12\",\"y\":[0.29128822060452075,-0.34675246124588593,-0.8239520856994764,0.9325908474482736,0.04555954830030968,0.7296617965758313,1.9452925775967864,-0.44979560274384567,1.008882987184342,1.1068767786815568,-2.687867334175248,-0.4240605690659418,-0.22477582306298607,-0.5617342698364136,1.2598779948999075,-0.3289610254365226,0.17183415578157693,1.0797994676045914,1.6350539781526663,0.5294717657829981,-0.820409246327209,-1.8287884762751394,-1.1100744065193182,-0.21049619059000046,-2.0575160867358857,0.10145437357003513,0.05565368786865495,0.01710904885611498,0.6308164755755504,0.5038133183077029,0.1413174796487205,0.13615057090573615,-1.0112097798958992,1.169123418868459,0.7139556974163471,-1.3804201857307676,1.223035901499533,-0.9623966082082231,0.28367800203932203,-0.007209513035779408,-1.6946197646560544,-2.275170583470957,0.3926444206345502,0.5101032570146573,-0.3058516542416622,-1.5051744118713253,0.452631293245817,-1.141875420604568,0.7335530967114621,0.5032010541817685,0.8705550767119008,1.2754244107993455,-0.2260814936353175,-1.3522628323630903,-1.6106082001816482,0.24514242585806761,-0.9995733520311209,-0.9904918403778555,1.543743138688734,1.1754047929978448,-0.648748526535667,0.09616125983872748,-0.4070432567585623,-0.7801898622000515,2.6529950694333433,-0.09569159378482524,0.866207445204174,-0.7650679535314233,0.9322263672311765,0.8794587318446175,0.10394529740374533,-1.0239749774939972,0.4215258414130003,1.2538161699945727,0.7874060019265796,-1.7003209126037822,-1.1521457199490857,0.5733378288528491,0.16972737314337139,-1.7493956973479874,1.3650550327369093,-2.079401643863644,-1.0307419731250669,1.5053197479933909,-0.3771638020019979,0.9895389453563214,0.8849704575908484,-1.2089136368090514,0.5118937303698903,0.19790675326615592,-1.320409366001389,0.07693516060071948,-0.48002931456839454,0.5750147878958962,0.8493867148750148,0.2672032953593373,0.19818787052487022,1.1499576573610855,-0.7584269268215001,1.0566219249360704],\"yaxis\":\"y12\",\"type\":\"scatter\"},{\"line\":{\"color\":\"rgba(128, 128, 128, 1.0)\",\"dash\":\"solid\",\"shape\":\"linear\",\"width\":1.3},\"marker\":{\"size\":2,\"symbol\":\"circle\"},\"mode\":\"markers\",\"name\":\"D\",\"text\":\"\",\"x\":[-1.01612056617424,-0.7350362729323395,-0.6122344159390835,-1.0027127217759482,0.6411615685148131,0.47054386141649224,-0.3547328503486203,0.5313897386555986,0.04005341849319595,0.4423853922330872,1.3453508268296637,0.46001510288976716,-1.0939154713762969,-0.9852507089728771,1.1842337940231193,0.035400627751505785,-0.8882653234232453,-1.5314639222981914,-0.5498478145222545,-1.1084877212359212,0.3566775880042968,-1.7659823693479608,0.6590213829373882,0.5101739140474232,1.0131382954891477,0.46360951537076245,-2.2895716540127333,0.922733121512306,-2.557030031114763,1.128622390956555,1.1549251499099884,2.01391053886995,-0.2611627431791524,-0.5147868612849658,-2.431060922279289,-0.7672583181291373,-2.298902785100592,-0.8083345255784181,0.2687189200294319,-2.4985563849216605,-1.2763984060165428,0.14579832380677238,2.315288436192335,-0.3540222252792673,0.29763132128657227,-1.1886877350578477,0.017012621121949425,-0.6808860648653475,0.757493784133554,0.9915664549970045,-0.6397343935683023,0.3180139455896008,-0.35297824713507286,0.6286073348907657,-1.6798064798568504,-0.4133960959978084,1.5336438528557266,1.342908308677851,-1.995429266989642,-2.0367965458065433,0.9181910529018176,0.14209313446350563,2.4097474856859527,-0.6500226963721444,-0.8030245972209434,0.4116989497641564,-1.6143766990106465,-1.3296246735863992,0.9626011835038869,-0.3121778998549928,1.2895010214892222,-1.0644429806679216,-0.43004607122671684,0.31809623885438454,0.20556538045975117,0.04770613444546337,-0.13348555070784276,0.6252789967721484,-0.9167494564573351,-0.5693928827515384,1.6882142715481718,-0.6760197956265165,0.5898625141551448,-0.3019476665041306,0.8194331535066512,-0.7596131374449068,-0.8442062612221812,0.854585534391039,0.7623074263995253,0.10715856200218632,0.15854307897790754,0.057867767618876104,-1.4590132144587633,-0.48774141554444655,-0.3489465166930348,-0.06395183331789477,-0.7910192977047932,1.1702435224480037,0.5174062815181917,1.7966086539091877],\"xaxis\":\"x13\",\"y\":[2.5085403575952228,1.3620525578462024,1.2037944813268016,0.5390699124479531,-0.48937548762433014,-0.8085551762154972,-0.06912080017363299,0.91496595824098,1.9362899010014867,0.36151561946920985,-0.4890599241366745,-1.377459762090564,1.7179326174823142,0.292595917759522,-0.5068577680930758,-0.2863126669185321,-1.2947136281281906,0.11623638635477869,-0.3764161859870284,-0.291462375122428,-0.5334869385761226,0.3080562525145197,0.9254807389966953,1.324175154006813,-0.048959228135124475,-0.16561653439761878,-1.016191371305794,-0.023648518005337543,1.3126746233713864,0.14494538846889726,0.4138684801016723,0.8063544358353624,-0.36621987762882846,-1.1003803112890878,0.14198463730413938,-0.6770454194249176,-0.5251163741355072,-0.3441676404532498,-0.7590394756347026,-0.7920676431770391,-1.7661355672118861,-0.8753043924015457,1.2511336586412578,0.7105421381602662,-0.6305835837627869,1.1632875994340515,1.8445282537945673,0.19842151309913506,1.2555356113643752,-0.29657610826010455,0.5971114838292324,0.48249024719443,-1.1275553659577418,0.7419582445360282,-0.9635630316645241,0.5300457865852393,-0.8560947423402251,-0.43546469666016036,2.0726883359946893,0.2588538153108212,1.5522085216563497,-0.16529277787715754,0.32910365142865333,-0.43679916523903967,-2.496342135705281,0.26855794249261566,0.02926256377050376,0.781913658043812,2.043825007111145,-0.3843954721203642,0.8221845657096681,-0.379881433361661,-1.891194289844845,1.277395964920159,1.5895913561398598,-0.4540455974758202,-1.2173971625051407,0.03653505781905163,0.3633780546671515,0.7609551657460955,-1.639179864710315,1.2252574610550706,0.6519954613010057,1.4725903172278783,-0.2622688439279781,0.6096536719811665,-0.422575490770398,-0.09854588779515547,-1.0424776450648656,0.16069570932375873,-0.5374263914376675,-1.6426817857852867,0.48747103924875623,0.8425979111413715,-1.3642014387321486,-0.3175126650784575,1.3405864248043484,-0.2995049665427331,-0.1939858961705063,0.8011866677814314],\"yaxis\":\"y13\",\"type\":\"scatter\"},{\"line\":{\"color\":\"rgba(128, 128, 128, 1.0)\",\"dash\":\"solid\",\"shape\":\"linear\",\"width\":1.3},\"marker\":{\"size\":2,\"symbol\":\"circle\"},\"mode\":\"markers\",\"name\":\"D\",\"text\":\"\",\"x\":[0.04946243330921958,-0.21132604191476,0.6315648277657439,-0.2584149395608338,-0.7523781847700044,1.2036525985939475,1.5495270140700883,0.09388496280413158,0.6997786499037146,-0.3630767395314691,1.8035882864392776,-0.6165594656592737,-0.9133420425190572,-0.07494822915660578,1.6863632081187285,-0.8135841746988001,-2.2015339463447927,-0.5210705046298467,0.9931310157868933,-1.1788053040677775,0.4226878840678489,0.7620650913636373,0.4989719487748791,-0.29798089927771654,0.2771439125581732,-0.5030937366783972,0.7034719713030996,-0.20973141098206116,-0.4412309369018713,-0.7485023553513923,0.19238228302486748,-0.3708395873401066,-0.25058735661040316,1.036202159912558,0.8898810118851016,-1.7452658734895148,-1.4235741391628185,-0.09207445941181541,0.05841692620138342,0.46591123520293437,-0.1524612274278734,0.7233984671915831,-0.357923332044167,-1.1153763934433358,-0.2223040125890945,0.6595987896207895,0.5275433167892178,0.6584811824382639,2.2224229570487117,-1.3022257562225927,0.6056946733996742,0.24738080469115548,1.0835798935157153,-0.34865061041761286,-0.14303663912040115,-0.5147841826477608,-1.5812753045414707,-0.9095389887382777,1.5473046018191206,0.08122797413360627,0.47490406799778706,-0.0774872345388296,0.4187426230132602,-0.44390492481183186,0.14871712550684457,0.17021161666783424,-0.9966266046835445,0.46425669947797965,-0.5295787352175079,-0.10922776874770161,0.05944356627727255,-0.9970150259075684,0.016713690916964615,-0.05186881568918861,-0.14750481876005553,1.1531289175785948,0.12147888548895808,1.4102170667598528,0.6486462127483743,2.4073582123624764,0.0050238434293378475,2.2466453680516745,1.3731646950215053,0.0481656177837051,0.4885989141516805,-1.1003903195942977,0.9872266674469901,-1.306625795959791,-0.9450950182267314,1.3020625393122665,1.1061683763695591,-1.3645015526517559,-0.19503219559189425,0.08502098989088742,-1.3047539944220343,-1.1268790001891036,0.05680571626761626,-0.2607909597711796,0.4579837458629166,0.8708816973815268],\"xaxis\":\"x14\",\"y\":[2.5085403575952228,1.3620525578462024,1.2037944813268016,0.5390699124479531,-0.48937548762433014,-0.8085551762154972,-0.06912080017363299,0.91496595824098,1.9362899010014867,0.36151561946920985,-0.4890599241366745,-1.377459762090564,1.7179326174823142,0.292595917759522,-0.5068577680930758,-0.2863126669185321,-1.2947136281281906,0.11623638635477869,-0.3764161859870284,-0.291462375122428,-0.5334869385761226,0.3080562525145197,0.9254807389966953,1.324175154006813,-0.048959228135124475,-0.16561653439761878,-1.016191371305794,-0.023648518005337543,1.3126746233713864,0.14494538846889726,0.4138684801016723,0.8063544358353624,-0.36621987762882846,-1.1003803112890878,0.14198463730413938,-0.6770454194249176,-0.5251163741355072,-0.3441676404532498,-0.7590394756347026,-0.7920676431770391,-1.7661355672118861,-0.8753043924015457,1.2511336586412578,0.7105421381602662,-0.6305835837627869,1.1632875994340515,1.8445282537945673,0.19842151309913506,1.2555356113643752,-0.29657610826010455,0.5971114838292324,0.48249024719443,-1.1275553659577418,0.7419582445360282,-0.9635630316645241,0.5300457865852393,-0.8560947423402251,-0.43546469666016036,2.0726883359946893,0.2588538153108212,1.5522085216563497,-0.16529277787715754,0.32910365142865333,-0.43679916523903967,-2.496342135705281,0.26855794249261566,0.02926256377050376,0.781913658043812,2.043825007111145,-0.3843954721203642,0.8221845657096681,-0.379881433361661,-1.891194289844845,1.277395964920159,1.5895913561398598,-0.4540455974758202,-1.2173971625051407,0.03653505781905163,0.3633780546671515,0.7609551657460955,-1.639179864710315,1.2252574610550706,0.6519954613010057,1.4725903172278783,-0.2622688439279781,0.6096536719811665,-0.422575490770398,-0.09854588779515547,-1.0424776450648656,0.16069570932375873,-0.5374263914376675,-1.6426817857852867,0.48747103924875623,0.8425979111413715,-1.3642014387321486,-0.3175126650784575,1.3405864248043484,-0.2995049665427331,-0.1939858961705063,0.8011866677814314],\"yaxis\":\"y14\",\"type\":\"scatter\"},{\"line\":{\"color\":\"rgba(128, 128, 128, 1.0)\",\"dash\":\"solid\",\"shape\":\"linear\",\"width\":1.3},\"marker\":{\"size\":2,\"symbol\":\"circle\"},\"mode\":\"markers\",\"name\":\"D\",\"text\":\"\",\"x\":[0.29128822060452075,-0.34675246124588593,-0.8239520856994764,0.9325908474482736,0.04555954830030968,0.7296617965758313,1.9452925775967864,-0.44979560274384567,1.008882987184342,1.1068767786815568,-2.687867334175248,-0.4240605690659418,-0.22477582306298607,-0.5617342698364136,1.2598779948999075,-0.3289610254365226,0.17183415578157693,1.0797994676045914,1.6350539781526663,0.5294717657829981,-0.820409246327209,-1.8287884762751394,-1.1100744065193182,-0.21049619059000046,-2.0575160867358857,0.10145437357003513,0.05565368786865495,0.01710904885611498,0.6308164755755504,0.5038133183077029,0.1413174796487205,0.13615057090573615,-1.0112097798958992,1.169123418868459,0.7139556974163471,-1.3804201857307676,1.223035901499533,-0.9623966082082231,0.28367800203932203,-0.007209513035779408,-1.6946197646560544,-2.275170583470957,0.3926444206345502,0.5101032570146573,-0.3058516542416622,-1.5051744118713253,0.452631293245817,-1.141875420604568,0.7335530967114621,0.5032010541817685,0.8705550767119008,1.2754244107993455,-0.2260814936353175,-1.3522628323630903,-1.6106082001816482,0.24514242585806761,-0.9995733520311209,-0.9904918403778555,1.543743138688734,1.1754047929978448,-0.648748526535667,0.09616125983872748,-0.4070432567585623,-0.7801898622000515,2.6529950694333433,-0.09569159378482524,0.866207445204174,-0.7650679535314233,0.9322263672311765,0.8794587318446175,0.10394529740374533,-1.0239749774939972,0.4215258414130003,1.2538161699945727,0.7874060019265796,-1.7003209126037822,-1.1521457199490857,0.5733378288528491,0.16972737314337139,-1.7493956973479874,1.3650550327369093,-2.079401643863644,-1.0307419731250669,1.5053197479933909,-0.3771638020019979,0.9895389453563214,0.8849704575908484,-1.2089136368090514,0.5118937303698903,0.19790675326615592,-1.320409366001389,0.07693516060071948,-0.48002931456839454,0.5750147878958962,0.8493867148750148,0.2672032953593373,0.19818787052487022,1.1499576573610855,-0.7584269268215001,1.0566219249360704],\"xaxis\":\"x15\",\"y\":[2.5085403575952228,1.3620525578462024,1.2037944813268016,0.5390699124479531,-0.48937548762433014,-0.8085551762154972,-0.06912080017363299,0.91496595824098,1.9362899010014867,0.36151561946920985,-0.4890599241366745,-1.377459762090564,1.7179326174823142,0.292595917759522,-0.5068577680930758,-0.2863126669185321,-1.2947136281281906,0.11623638635477869,-0.3764161859870284,-0.291462375122428,-0.5334869385761226,0.3080562525145197,0.9254807389966953,1.324175154006813,-0.048959228135124475,-0.16561653439761878,-1.016191371305794,-0.023648518005337543,1.3126746233713864,0.14494538846889726,0.4138684801016723,0.8063544358353624,-0.36621987762882846,-1.1003803112890878,0.14198463730413938,-0.6770454194249176,-0.5251163741355072,-0.3441676404532498,-0.7590394756347026,-0.7920676431770391,-1.7661355672118861,-0.8753043924015457,1.2511336586412578,0.7105421381602662,-0.6305835837627869,1.1632875994340515,1.8445282537945673,0.19842151309913506,1.2555356113643752,-0.29657610826010455,0.5971114838292324,0.48249024719443,-1.1275553659577418,0.7419582445360282,-0.9635630316645241,0.5300457865852393,-0.8560947423402251,-0.43546469666016036,2.0726883359946893,0.2588538153108212,1.5522085216563497,-0.16529277787715754,0.32910365142865333,-0.43679916523903967,-2.496342135705281,0.26855794249261566,0.02926256377050376,0.781913658043812,2.043825007111145,-0.3843954721203642,0.8221845657096681,-0.379881433361661,-1.891194289844845,1.277395964920159,1.5895913561398598,-0.4540455974758202,-1.2173971625051407,0.03653505781905163,0.3633780546671515,0.7609551657460955,-1.639179864710315,1.2252574610550706,0.6519954613010057,1.4725903172278783,-0.2622688439279781,0.6096536719811665,-0.422575490770398,-0.09854588779515547,-1.0424776450648656,0.16069570932375873,-0.5374263914376675,-1.6426817857852867,0.48747103924875623,0.8425979111413715,-1.3642014387321486,-0.3175126650784575,1.3405864248043484,-0.2995049665427331,-0.1939858961705063,0.8011866677814314],\"yaxis\":\"y15\",\"type\":\"scatter\"},{\"histfunc\":\"count\",\"histnorm\":\"\",\"marker\":{\"color\":\"rgba(128, 0, 128, 1.0)\",\"line\":{\"color\":\"#4D5663\",\"width\":1.3}},\"name\":\"D\",\"nbinsx\":10,\"opacity\":0.8,\"orientation\":\"v\",\"x\":[2.5085403575952228,1.3620525578462024,1.2037944813268016,0.5390699124479531,-0.48937548762433014,-0.8085551762154972,-0.06912080017363299,0.91496595824098,1.9362899010014867,0.36151561946920985,-0.4890599241366745,-1.377459762090564,1.7179326174823142,0.292595917759522,-0.5068577680930758,-0.2863126669185321,-1.2947136281281906,0.11623638635477869,-0.3764161859870284,-0.291462375122428,-0.5334869385761226,0.3080562525145197,0.9254807389966953,1.324175154006813,-0.048959228135124475,-0.16561653439761878,-1.016191371305794,-0.023648518005337543,1.3126746233713864,0.14494538846889726,0.4138684801016723,0.8063544358353624,-0.36621987762882846,-1.1003803112890878,0.14198463730413938,-0.6770454194249176,-0.5251163741355072,-0.3441676404532498,-0.7590394756347026,-0.7920676431770391,-1.7661355672118861,-0.8753043924015457,1.2511336586412578,0.7105421381602662,-0.6305835837627869,1.1632875994340515,1.8445282537945673,0.19842151309913506,1.2555356113643752,-0.29657610826010455,0.5971114838292324,0.48249024719443,-1.1275553659577418,0.7419582445360282,-0.9635630316645241,0.5300457865852393,-0.8560947423402251,-0.43546469666016036,2.0726883359946893,0.2588538153108212,1.5522085216563497,-0.16529277787715754,0.32910365142865333,-0.43679916523903967,-2.496342135705281,0.26855794249261566,0.02926256377050376,0.781913658043812,2.043825007111145,-0.3843954721203642,0.8221845657096681,-0.379881433361661,-1.891194289844845,1.277395964920159,1.5895913561398598,-0.4540455974758202,-1.2173971625051407,0.03653505781905163,0.3633780546671515,0.7609551657460955,-1.639179864710315,1.2252574610550706,0.6519954613010057,1.4725903172278783,-0.2622688439279781,0.6096536719811665,-0.422575490770398,-0.09854588779515547,-1.0424776450648656,0.16069570932375873,-0.5374263914376675,-1.6426817857852867,0.48747103924875623,0.8425979111413715,-1.3642014387321486,-0.3175126650784575,1.3405864248043484,-0.2995049665427331,-0.1939858961705063,0.8011866677814314],\"xaxis\":\"x16\",\"yaxis\":\"y16\",\"type\":\"histogram\"}],                        {\"bargap\":0.02,\"legend\":{\"bgcolor\":\"#F5F6F9\",\"font\":{\"color\":\"#4D5663\"}},\"paper_bgcolor\":\"#F5F6F9\",\"plot_bgcolor\":\"#F5F6F9\",\"showlegend\":false,\"template\":{\"data\":{\"barpolar\":[{\"marker\":{\"line\":{\"color\":\"#E5ECF6\",\"width\":0.5},\"pattern\":{\"fillmode\":\"overlay\",\"size\":10,\"solidity\":0.2}},\"type\":\"barpolar\"}],\"bar\":[{\"error_x\":{\"color\":\"#2a3f5f\"},\"error_y\":{\"color\":\"#2a3f5f\"},\"marker\":{\"line\":{\"color\":\"#E5ECF6\",\"width\":0.5},\"pattern\":{\"fillmode\":\"overlay\",\"size\":10,\"solidity\":0.2}},\"type\":\"bar\"}],\"carpet\":[{\"aaxis\":{\"endlinecolor\":\"#2a3f5f\",\"gridcolor\":\"white\",\"linecolor\":\"white\",\"minorgridcolor\":\"white\",\"startlinecolor\":\"#2a3f5f\"},\"baxis\":{\"endlinecolor\":\"#2a3f5f\",\"gridcolor\":\"white\",\"linecolor\":\"white\",\"minorgridcolor\":\"white\",\"startlinecolor\":\"#2a3f5f\"},\"type\":\"carpet\"}],\"choropleth\":[{\"colorbar\":{\"outlinewidth\":0,\"ticks\":\"\"},\"type\":\"choropleth\"}],\"contourcarpet\":[{\"colorbar\":{\"outlinewidth\":0,\"ticks\":\"\"},\"type\":\"contourcarpet\"}],\"contour\":[{\"colorbar\":{\"outlinewidth\":0,\"ticks\":\"\"},\"colorscale\":[[0.0,\"#0d0887\"],[0.1111111111111111,\"#46039f\"],[0.2222222222222222,\"#7201a8\"],[0.3333333333333333,\"#9c179e\"],[0.4444444444444444,\"#bd3786\"],[0.5555555555555556,\"#d8576b\"],[0.6666666666666666,\"#ed7953\"],[0.7777777777777778,\"#fb9f3a\"],[0.8888888888888888,\"#fdca26\"],[1.0,\"#f0f921\"]],\"type\":\"contour\"}],\"heatmapgl\":[{\"colorbar\":{\"outlinewidth\":0,\"ticks\":\"\"},\"colorscale\":[[0.0,\"#0d0887\"],[0.1111111111111111,\"#46039f\"],[0.2222222222222222,\"#7201a8\"],[0.3333333333333333,\"#9c179e\"],[0.4444444444444444,\"#bd3786\"],[0.5555555555555556,\"#d8576b\"],[0.6666666666666666,\"#ed7953\"],[0.7777777777777778,\"#fb9f3a\"],[0.8888888888888888,\"#fdca26\"],[1.0,\"#f0f921\"]],\"type\":\"heatmapgl\"}],\"heatmap\":[{\"colorbar\":{\"outlinewidth\":0,\"ticks\":\"\"},\"colorscale\":[[0.0,\"#0d0887\"],[0.1111111111111111,\"#46039f\"],[0.2222222222222222,\"#7201a8\"],[0.3333333333333333,\"#9c179e\"],[0.4444444444444444,\"#bd3786\"],[0.5555555555555556,\"#d8576b\"],[0.6666666666666666,\"#ed7953\"],[0.7777777777777778,\"#fb9f3a\"],[0.8888888888888888,\"#fdca26\"],[1.0,\"#f0f921\"]],\"type\":\"heatmap\"}],\"histogram2dcontour\":[{\"colorbar\":{\"outlinewidth\":0,\"ticks\":\"\"},\"colorscale\":[[0.0,\"#0d0887\"],[0.1111111111111111,\"#46039f\"],[0.2222222222222222,\"#7201a8\"],[0.3333333333333333,\"#9c179e\"],[0.4444444444444444,\"#bd3786\"],[0.5555555555555556,\"#d8576b\"],[0.6666666666666666,\"#ed7953\"],[0.7777777777777778,\"#fb9f3a\"],[0.8888888888888888,\"#fdca26\"],[1.0,\"#f0f921\"]],\"type\":\"histogram2dcontour\"}],\"histogram2d\":[{\"colorbar\":{\"outlinewidth\":0,\"ticks\":\"\"},\"colorscale\":[[0.0,\"#0d0887\"],[0.1111111111111111,\"#46039f\"],[0.2222222222222222,\"#7201a8\"],[0.3333333333333333,\"#9c179e\"],[0.4444444444444444,\"#bd3786\"],[0.5555555555555556,\"#d8576b\"],[0.6666666666666666,\"#ed7953\"],[0.7777777777777778,\"#fb9f3a\"],[0.8888888888888888,\"#fdca26\"],[1.0,\"#f0f921\"]],\"type\":\"histogram2d\"}],\"histogram\":[{\"marker\":{\"pattern\":{\"fillmode\":\"overlay\",\"size\":10,\"solidity\":0.2}},\"type\":\"histogram\"}],\"mesh3d\":[{\"colorbar\":{\"outlinewidth\":0,\"ticks\":\"\"},\"type\":\"mesh3d\"}],\"parcoords\":[{\"line\":{\"colorbar\":{\"outlinewidth\":0,\"ticks\":\"\"}},\"type\":\"parcoords\"}],\"pie\":[{\"automargin\":true,\"type\":\"pie\"}],\"scatter3d\":[{\"line\":{\"colorbar\":{\"outlinewidth\":0,\"ticks\":\"\"}},\"marker\":{\"colorbar\":{\"outlinewidth\":0,\"ticks\":\"\"}},\"type\":\"scatter3d\"}],\"scattercarpet\":[{\"marker\":{\"colorbar\":{\"outlinewidth\":0,\"ticks\":\"\"}},\"type\":\"scattercarpet\"}],\"scattergeo\":[{\"marker\":{\"colorbar\":{\"outlinewidth\":0,\"ticks\":\"\"}},\"type\":\"scattergeo\"}],\"scattergl\":[{\"marker\":{\"colorbar\":{\"outlinewidth\":0,\"ticks\":\"\"}},\"type\":\"scattergl\"}],\"scattermapbox\":[{\"marker\":{\"colorbar\":{\"outlinewidth\":0,\"ticks\":\"\"}},\"type\":\"scattermapbox\"}],\"scatterpolargl\":[{\"marker\":{\"colorbar\":{\"outlinewidth\":0,\"ticks\":\"\"}},\"type\":\"scatterpolargl\"}],\"scatterpolar\":[{\"marker\":{\"colorbar\":{\"outlinewidth\":0,\"ticks\":\"\"}},\"type\":\"scatterpolar\"}],\"scatter\":[{\"fillpattern\":{\"fillmode\":\"overlay\",\"size\":10,\"solidity\":0.2},\"type\":\"scatter\"}],\"scatterternary\":[{\"marker\":{\"colorbar\":{\"outlinewidth\":0,\"ticks\":\"\"}},\"type\":\"scatterternary\"}],\"surface\":[{\"colorbar\":{\"outlinewidth\":0,\"ticks\":\"\"},\"colorscale\":[[0.0,\"#0d0887\"],[0.1111111111111111,\"#46039f\"],[0.2222222222222222,\"#7201a8\"],[0.3333333333333333,\"#9c179e\"],[0.4444444444444444,\"#bd3786\"],[0.5555555555555556,\"#d8576b\"],[0.6666666666666666,\"#ed7953\"],[0.7777777777777778,\"#fb9f3a\"],[0.8888888888888888,\"#fdca26\"],[1.0,\"#f0f921\"]],\"type\":\"surface\"}],\"table\":[{\"cells\":{\"fill\":{\"color\":\"#EBF0F8\"},\"line\":{\"color\":\"white\"}},\"header\":{\"fill\":{\"color\":\"#C8D4E3\"},\"line\":{\"color\":\"white\"}},\"type\":\"table\"}]},\"layout\":{\"annotationdefaults\":{\"arrowcolor\":\"#2a3f5f\",\"arrowhead\":0,\"arrowwidth\":1},\"autotypenumbers\":\"strict\",\"coloraxis\":{\"colorbar\":{\"outlinewidth\":0,\"ticks\":\"\"}},\"colorscale\":{\"diverging\":[[0,\"#8e0152\"],[0.1,\"#c51b7d\"],[0.2,\"#de77ae\"],[0.3,\"#f1b6da\"],[0.4,\"#fde0ef\"],[0.5,\"#f7f7f7\"],[0.6,\"#e6f5d0\"],[0.7,\"#b8e186\"],[0.8,\"#7fbc41\"],[0.9,\"#4d9221\"],[1,\"#276419\"]],\"sequential\":[[0.0,\"#0d0887\"],[0.1111111111111111,\"#46039f\"],[0.2222222222222222,\"#7201a8\"],[0.3333333333333333,\"#9c179e\"],[0.4444444444444444,\"#bd3786\"],[0.5555555555555556,\"#d8576b\"],[0.6666666666666666,\"#ed7953\"],[0.7777777777777778,\"#fb9f3a\"],[0.8888888888888888,\"#fdca26\"],[1.0,\"#f0f921\"]],\"sequentialminus\":[[0.0,\"#0d0887\"],[0.1111111111111111,\"#46039f\"],[0.2222222222222222,\"#7201a8\"],[0.3333333333333333,\"#9c179e\"],[0.4444444444444444,\"#bd3786\"],[0.5555555555555556,\"#d8576b\"],[0.6666666666666666,\"#ed7953\"],[0.7777777777777778,\"#fb9f3a\"],[0.8888888888888888,\"#fdca26\"],[1.0,\"#f0f921\"]]},\"colorway\":[\"#636efa\",\"#EF553B\",\"#00cc96\",\"#ab63fa\",\"#FFA15A\",\"#19d3f3\",\"#FF6692\",\"#B6E880\",\"#FF97FF\",\"#FECB52\"],\"font\":{\"color\":\"#2a3f5f\"},\"geo\":{\"bgcolor\":\"white\",\"lakecolor\":\"white\",\"landcolor\":\"#E5ECF6\",\"showlakes\":true,\"showland\":true,\"subunitcolor\":\"white\"},\"hoverlabel\":{\"align\":\"left\"},\"hovermode\":\"closest\",\"mapbox\":{\"style\":\"light\"},\"paper_bgcolor\":\"white\",\"plot_bgcolor\":\"#E5ECF6\",\"polar\":{\"angularaxis\":{\"gridcolor\":\"white\",\"linecolor\":\"white\",\"ticks\":\"\"},\"bgcolor\":\"#E5ECF6\",\"radialaxis\":{\"gridcolor\":\"white\",\"linecolor\":\"white\",\"ticks\":\"\"}},\"scene\":{\"xaxis\":{\"backgroundcolor\":\"#E5ECF6\",\"gridcolor\":\"white\",\"gridwidth\":2,\"linecolor\":\"white\",\"showbackground\":true,\"ticks\":\"\",\"zerolinecolor\":\"white\"},\"yaxis\":{\"backgroundcolor\":\"#E5ECF6\",\"gridcolor\":\"white\",\"gridwidth\":2,\"linecolor\":\"white\",\"showbackground\":true,\"ticks\":\"\",\"zerolinecolor\":\"white\"},\"zaxis\":{\"backgroundcolor\":\"#E5ECF6\",\"gridcolor\":\"white\",\"gridwidth\":2,\"linecolor\":\"white\",\"showbackground\":true,\"ticks\":\"\",\"zerolinecolor\":\"white\"}},\"shapedefaults\":{\"line\":{\"color\":\"#2a3f5f\"}},\"ternary\":{\"aaxis\":{\"gridcolor\":\"white\",\"linecolor\":\"white\",\"ticks\":\"\"},\"baxis\":{\"gridcolor\":\"white\",\"linecolor\":\"white\",\"ticks\":\"\"},\"bgcolor\":\"#E5ECF6\",\"caxis\":{\"gridcolor\":\"white\",\"linecolor\":\"white\",\"ticks\":\"\"}},\"title\":{\"x\":0.05},\"xaxis\":{\"automargin\":true,\"gridcolor\":\"white\",\"linecolor\":\"white\",\"ticks\":\"\",\"title\":{\"standoff\":15},\"zerolinecolor\":\"white\",\"zerolinewidth\":2},\"yaxis\":{\"automargin\":true,\"gridcolor\":\"white\",\"linecolor\":\"white\",\"ticks\":\"\",\"title\":{\"standoff\":15},\"zerolinecolor\":\"white\",\"zerolinewidth\":2}}},\"title\":{\"font\":{\"color\":\"#4D5663\"}},\"xaxis\":{\"anchor\":\"y\",\"domain\":[0.0,0.2125],\"gridcolor\":\"#E1E5ED\",\"showgrid\":false,\"tickfont\":{\"color\":\"#4D5663\"},\"title\":{\"font\":{\"color\":\"#4D5663\"},\"text\":\"\"},\"zerolinecolor\":\"#E1E5ED\"},\"yaxis\":{\"anchor\":\"x\",\"domain\":[0.8025,1.0],\"gridcolor\":\"#E1E5ED\",\"showgrid\":false,\"tickfont\":{\"color\":\"#4D5663\"},\"title\":{\"font\":{\"color\":\"#4D5663\"},\"text\":\"\"},\"zerolinecolor\":\"#E1E5ED\"},\"xaxis2\":{\"anchor\":\"y2\",\"domain\":[0.2625,0.475],\"gridcolor\":\"#E1E5ED\",\"showgrid\":false,\"tickfont\":{\"color\":\"#4D5663\"},\"title\":{\"font\":{\"color\":\"#4D5663\"},\"text\":\"\"},\"zerolinecolor\":\"#E1E5ED\"},\"yaxis2\":{\"anchor\":\"x2\",\"domain\":[0.8025,1.0],\"gridcolor\":\"#E1E5ED\",\"showgrid\":false,\"tickfont\":{\"color\":\"#4D5663\"},\"title\":{\"font\":{\"color\":\"#4D5663\"},\"text\":\"\"},\"zerolinecolor\":\"#E1E5ED\"},\"xaxis3\":{\"anchor\":\"y3\",\"domain\":[0.525,0.7375],\"gridcolor\":\"#E1E5ED\",\"showgrid\":false,\"tickfont\":{\"color\":\"#4D5663\"},\"title\":{\"font\":{\"color\":\"#4D5663\"},\"text\":\"\"},\"zerolinecolor\":\"#E1E5ED\"},\"yaxis3\":{\"anchor\":\"x3\",\"domain\":[0.8025,1.0],\"gridcolor\":\"#E1E5ED\",\"showgrid\":false,\"tickfont\":{\"color\":\"#4D5663\"},\"title\":{\"font\":{\"color\":\"#4D5663\"},\"text\":\"\"},\"zerolinecolor\":\"#E1E5ED\"},\"xaxis4\":{\"anchor\":\"y4\",\"domain\":[0.7875,1.0],\"gridcolor\":\"#E1E5ED\",\"showgrid\":false,\"tickfont\":{\"color\":\"#4D5663\"},\"title\":{\"font\":{\"color\":\"#4D5663\"},\"text\":\"\"},\"zerolinecolor\":\"#E1E5ED\"},\"yaxis4\":{\"anchor\":\"x4\",\"domain\":[0.8025,1.0],\"gridcolor\":\"#E1E5ED\",\"showgrid\":false,\"tickfont\":{\"color\":\"#4D5663\"},\"title\":{\"font\":{\"color\":\"#4D5663\"},\"text\":\"\"},\"zerolinecolor\":\"#E1E5ED\"},\"xaxis5\":{\"anchor\":\"y5\",\"domain\":[0.0,0.2125],\"gridcolor\":\"#E1E5ED\",\"showgrid\":false,\"tickfont\":{\"color\":\"#4D5663\"},\"title\":{\"font\":{\"color\":\"#4D5663\"},\"text\":\"\"},\"zerolinecolor\":\"#E1E5ED\"},\"yaxis5\":{\"anchor\":\"x5\",\"domain\":[0.535,0.7325],\"gridcolor\":\"#E1E5ED\",\"showgrid\":false,\"tickfont\":{\"color\":\"#4D5663\"},\"title\":{\"font\":{\"color\":\"#4D5663\"},\"text\":\"\"},\"zerolinecolor\":\"#E1E5ED\"},\"xaxis6\":{\"anchor\":\"y6\",\"domain\":[0.2625,0.475],\"gridcolor\":\"#E1E5ED\",\"showgrid\":false,\"tickfont\":{\"color\":\"#4D5663\"},\"title\":{\"font\":{\"color\":\"#4D5663\"},\"text\":\"\"},\"zerolinecolor\":\"#E1E5ED\"},\"yaxis6\":{\"anchor\":\"x6\",\"domain\":[0.535,0.7325],\"gridcolor\":\"#E1E5ED\",\"showgrid\":false,\"tickfont\":{\"color\":\"#4D5663\"},\"title\":{\"font\":{\"color\":\"#4D5663\"},\"text\":\"\"},\"zerolinecolor\":\"#E1E5ED\"},\"xaxis7\":{\"anchor\":\"y7\",\"domain\":[0.525,0.7375],\"gridcolor\":\"#E1E5ED\",\"showgrid\":false,\"tickfont\":{\"color\":\"#4D5663\"},\"title\":{\"font\":{\"color\":\"#4D5663\"},\"text\":\"\"},\"zerolinecolor\":\"#E1E5ED\"},\"yaxis7\":{\"anchor\":\"x7\",\"domain\":[0.535,0.7325],\"gridcolor\":\"#E1E5ED\",\"showgrid\":false,\"tickfont\":{\"color\":\"#4D5663\"},\"title\":{\"font\":{\"color\":\"#4D5663\"},\"text\":\"\"},\"zerolinecolor\":\"#E1E5ED\"},\"xaxis8\":{\"anchor\":\"y8\",\"domain\":[0.7875,1.0],\"gridcolor\":\"#E1E5ED\",\"showgrid\":false,\"tickfont\":{\"color\":\"#4D5663\"},\"title\":{\"font\":{\"color\":\"#4D5663\"},\"text\":\"\"},\"zerolinecolor\":\"#E1E5ED\"},\"yaxis8\":{\"anchor\":\"x8\",\"domain\":[0.535,0.7325],\"gridcolor\":\"#E1E5ED\",\"showgrid\":false,\"tickfont\":{\"color\":\"#4D5663\"},\"title\":{\"font\":{\"color\":\"#4D5663\"},\"text\":\"\"},\"zerolinecolor\":\"#E1E5ED\"},\"xaxis9\":{\"anchor\":\"y9\",\"domain\":[0.0,0.2125],\"gridcolor\":\"#E1E5ED\",\"showgrid\":false,\"tickfont\":{\"color\":\"#4D5663\"},\"title\":{\"font\":{\"color\":\"#4D5663\"},\"text\":\"\"},\"zerolinecolor\":\"#E1E5ED\"},\"yaxis9\":{\"anchor\":\"x9\",\"domain\":[0.2675,0.465],\"gridcolor\":\"#E1E5ED\",\"showgrid\":false,\"tickfont\":{\"color\":\"#4D5663\"},\"title\":{\"font\":{\"color\":\"#4D5663\"},\"text\":\"\"},\"zerolinecolor\":\"#E1E5ED\"},\"xaxis10\":{\"anchor\":\"y10\",\"domain\":[0.2625,0.475],\"gridcolor\":\"#E1E5ED\",\"showgrid\":false,\"tickfont\":{\"color\":\"#4D5663\"},\"title\":{\"font\":{\"color\":\"#4D5663\"},\"text\":\"\"},\"zerolinecolor\":\"#E1E5ED\"},\"yaxis10\":{\"anchor\":\"x10\",\"domain\":[0.2675,0.465],\"gridcolor\":\"#E1E5ED\",\"showgrid\":false,\"tickfont\":{\"color\":\"#4D5663\"},\"title\":{\"font\":{\"color\":\"#4D5663\"},\"text\":\"\"},\"zerolinecolor\":\"#E1E5ED\"},\"xaxis11\":{\"anchor\":\"y11\",\"domain\":[0.525,0.7375],\"gridcolor\":\"#E1E5ED\",\"showgrid\":false,\"tickfont\":{\"color\":\"#4D5663\"},\"title\":{\"font\":{\"color\":\"#4D5663\"},\"text\":\"\"},\"zerolinecolor\":\"#E1E5ED\"},\"yaxis11\":{\"anchor\":\"x11\",\"domain\":[0.2675,0.465],\"gridcolor\":\"#E1E5ED\",\"showgrid\":false,\"tickfont\":{\"color\":\"#4D5663\"},\"title\":{\"font\":{\"color\":\"#4D5663\"},\"text\":\"\"},\"zerolinecolor\":\"#E1E5ED\"},\"xaxis12\":{\"anchor\":\"y12\",\"domain\":[0.7875,1.0],\"gridcolor\":\"#E1E5ED\",\"showgrid\":false,\"tickfont\":{\"color\":\"#4D5663\"},\"title\":{\"font\":{\"color\":\"#4D5663\"},\"text\":\"\"},\"zerolinecolor\":\"#E1E5ED\"},\"yaxis12\":{\"anchor\":\"x12\",\"domain\":[0.2675,0.465],\"gridcolor\":\"#E1E5ED\",\"showgrid\":false,\"tickfont\":{\"color\":\"#4D5663\"},\"title\":{\"font\":{\"color\":\"#4D5663\"},\"text\":\"\"},\"zerolinecolor\":\"#E1E5ED\"},\"xaxis13\":{\"anchor\":\"y13\",\"domain\":[0.0,0.2125],\"gridcolor\":\"#E1E5ED\",\"showgrid\":false,\"tickfont\":{\"color\":\"#4D5663\"},\"title\":{\"font\":{\"color\":\"#4D5663\"},\"text\":\"\"},\"zerolinecolor\":\"#E1E5ED\"},\"yaxis13\":{\"anchor\":\"x13\",\"domain\":[0.0,0.1975],\"gridcolor\":\"#E1E5ED\",\"showgrid\":false,\"tickfont\":{\"color\":\"#4D5663\"},\"title\":{\"font\":{\"color\":\"#4D5663\"},\"text\":\"\"},\"zerolinecolor\":\"#E1E5ED\"},\"xaxis14\":{\"anchor\":\"y14\",\"domain\":[0.2625,0.475],\"gridcolor\":\"#E1E5ED\",\"showgrid\":false,\"tickfont\":{\"color\":\"#4D5663\"},\"title\":{\"font\":{\"color\":\"#4D5663\"},\"text\":\"\"},\"zerolinecolor\":\"#E1E5ED\"},\"yaxis14\":{\"anchor\":\"x14\",\"domain\":[0.0,0.1975],\"gridcolor\":\"#E1E5ED\",\"showgrid\":false,\"tickfont\":{\"color\":\"#4D5663\"},\"title\":{\"font\":{\"color\":\"#4D5663\"},\"text\":\"\"},\"zerolinecolor\":\"#E1E5ED\"},\"xaxis15\":{\"anchor\":\"y15\",\"domain\":[0.525,0.7375],\"gridcolor\":\"#E1E5ED\",\"showgrid\":false,\"tickfont\":{\"color\":\"#4D5663\"},\"title\":{\"font\":{\"color\":\"#4D5663\"},\"text\":\"\"},\"zerolinecolor\":\"#E1E5ED\"},\"yaxis15\":{\"anchor\":\"x15\",\"domain\":[0.0,0.1975],\"gridcolor\":\"#E1E5ED\",\"showgrid\":false,\"tickfont\":{\"color\":\"#4D5663\"},\"title\":{\"font\":{\"color\":\"#4D5663\"},\"text\":\"\"},\"zerolinecolor\":\"#E1E5ED\"},\"xaxis16\":{\"anchor\":\"y16\",\"domain\":[0.7875,1.0],\"gridcolor\":\"#E1E5ED\",\"showgrid\":false,\"tickfont\":{\"color\":\"#4D5663\"},\"title\":{\"font\":{\"color\":\"#4D5663\"},\"text\":\"\"},\"zerolinecolor\":\"#E1E5ED\"},\"yaxis16\":{\"anchor\":\"x16\",\"domain\":[0.0,0.1975],\"gridcolor\":\"#E1E5ED\",\"showgrid\":false,\"tickfont\":{\"color\":\"#4D5663\"},\"title\":{\"font\":{\"color\":\"#4D5663\"},\"text\":\"\"},\"zerolinecolor\":\"#E1E5ED\"}},                        {\"showLink\": true, \"linkText\": \"Export to plot.ly\", \"plotlyServerURL\": \"https://plot.ly\", \"responsive\": true}                    ).then(function(){\n",
       "                            \n",
       "var gd = document.getElementById('dcced903-7ba9-41a8-852d-aac959495f0c');\n",
       "var x = new MutationObserver(function (mutations, observer) {{\n",
       "        var display = window.getComputedStyle(gd).display;\n",
       "        if (!display || display === 'none') {{\n",
       "            console.log([gd, 'removed!']);\n",
       "            Plotly.purge(gd);\n",
       "            observer.disconnect();\n",
       "        }}\n",
       "}});\n",
       "\n",
       "// Listen for the removal of the full notebook cells\n",
       "var notebookContainer = gd.closest('#notebook-container');\n",
       "if (notebookContainer) {{\n",
       "    x.observe(notebookContainer, {childList: true});\n",
       "}}\n",
       "\n",
       "// Listen for the clearing of the current output cell\n",
       "var outputEl = gd.closest('.output');\n",
       "if (outputEl) {{\n",
       "    x.observe(outputEl, {childList: true});\n",
       "}}\n",
       "\n",
       "                        })                };                });            </script>        </div>"
      ]
     },
     "metadata": {},
     "output_type": "display_data"
    }
   ],
   "source": [
    "df.scatter_matrix()"
   ]
  },
  {
   "cell_type": "markdown",
   "metadata": {
    "collapsed": true
   },
   "source": [
    "# Great Job!"
   ]
  }
 ],
 "metadata": {
  "kernelspec": {
   "display_name": "Python 3 (ipykernel)",
   "language": "python",
   "name": "python3"
  },
  "language_info": {
   "codemirror_mode": {
    "name": "ipython",
    "version": 3
   },
   "file_extension": ".py",
   "mimetype": "text/x-python",
   "name": "python",
   "nbconvert_exporter": "python",
   "pygments_lexer": "ipython3",
   "version": "3.9.7"
  }
 },
 "nbformat": 4,
 "nbformat_minor": 1
}
